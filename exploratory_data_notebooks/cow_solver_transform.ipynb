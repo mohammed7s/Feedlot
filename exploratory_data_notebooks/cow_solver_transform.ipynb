{
 "cells": [
  {
   "attachments": {},
   "cell_type": "markdown",
   "metadata": {},
   "source": [
    "Transform the cowv2_solvers csv file from the dune solver table by replacing \\ with 0."
   ]
  },
  {
   "cell_type": "code",
   "execution_count": 1,
   "metadata": {},
   "outputs": [],
   "source": [
    "import pandas as pd"
   ]
  },
  {
   "cell_type": "code",
   "execution_count": 2,
   "metadata": {},
   "outputs": [
    {
     "name": "stdout",
     "output_type": "stream",
     "text": [
      "/home/evan/Documents/github/Feedlot\n"
     ]
    }
   ],
   "source": [
    "cd .."
   ]
  },
  {
   "cell_type": "code",
   "execution_count": 3,
   "metadata": {},
   "outputs": [],
   "source": [
    "pd.set_option('display.max_columns', None)\n",
    "pd.set_option('display.expand_frame_repr', False)\n",
    "pd.set_option('max_colwidth', None)"
   ]
  },
  {
   "cell_type": "code",
   "execution_count": 5,
   "metadata": {},
   "outputs": [],
   "source": [
    "solvers = pd.read_csv('data/cowv2_solvers.csv')"
   ]
  },
  {
   "cell_type": "code",
   "execution_count": 7,
   "metadata": {},
   "outputs": [
    {
     "data": {
      "text/html": [
       "<div>\n",
       "<style scoped>\n",
       "    .dataframe tbody tr th:only-of-type {\n",
       "        vertical-align: middle;\n",
       "    }\n",
       "\n",
       "    .dataframe tbody tr th {\n",
       "        vertical-align: top;\n",
       "    }\n",
       "\n",
       "    .dataframe thead th {\n",
       "        text-align: right;\n",
       "    }\n",
       "</style>\n",
       "<table border=\"1\" class=\"dataframe\">\n",
       "  <thead>\n",
       "    <tr style=\"text-align: right;\">\n",
       "      <th></th>\n",
       "      <th>address</th>\n",
       "      <th>environment</th>\n",
       "      <th>name</th>\n",
       "      <th>active</th>\n",
       "    </tr>\n",
       "  </thead>\n",
       "  <tbody>\n",
       "    <tr>\n",
       "      <th>0</th>\n",
       "      <td>\\xf2d21ad3c88170d4ae52bbbeba80cb6078d276f4</td>\n",
       "      <td>prod</td>\n",
       "      <td>MIP</td>\n",
       "      <td>False</td>\n",
       "    </tr>\n",
       "    <tr>\n",
       "      <th>1</th>\n",
       "      <td>\\x15f4c337122ec23859ec73bec00ab38445e45304</td>\n",
       "      <td>prod</td>\n",
       "      <td>Gnosis_ParaSwap</td>\n",
       "      <td>False</td>\n",
       "    </tr>\n",
       "    <tr>\n",
       "      <th>2</th>\n",
       "      <td>\\xde1c59bc25d806ad9ddcbe246c4b5e5505645718</td>\n",
       "      <td>prod</td>\n",
       "      <td>Gnosis_1inch</td>\n",
       "      <td>False</td>\n",
       "    </tr>\n",
       "    <tr>\n",
       "      <th>3</th>\n",
       "      <td>\\x340185114f9d2617dc4c16088d0375d09fee9186</td>\n",
       "      <td>prod</td>\n",
       "      <td>Naive</td>\n",
       "      <td>False</td>\n",
       "    </tr>\n",
       "    <tr>\n",
       "      <th>4</th>\n",
       "      <td>\\x833f076d182123ca8dde2743045ea02957bd61ef</td>\n",
       "      <td>prod</td>\n",
       "      <td>Baseline</td>\n",
       "      <td>False</td>\n",
       "    </tr>\n",
       "  </tbody>\n",
       "</table>\n",
       "</div>"
      ],
      "text/plain": [
       "                                      address environment             name  active\n",
       "0  \\xf2d21ad3c88170d4ae52bbbeba80cb6078d276f4        prod              MIP   False\n",
       "1  \\x15f4c337122ec23859ec73bec00ab38445e45304        prod  Gnosis_ParaSwap   False\n",
       "2  \\xde1c59bc25d806ad9ddcbe246c4b5e5505645718        prod     Gnosis_1inch   False\n",
       "3  \\x340185114f9d2617dc4c16088d0375d09fee9186        prod            Naive   False\n",
       "4  \\x833f076d182123ca8dde2743045ea02957bd61ef        prod         Baseline   False"
      ]
     },
     "execution_count": 7,
     "metadata": {},
     "output_type": "execute_result"
    }
   ],
   "source": [
    "solvers.head(5)"
   ]
  },
  {
   "cell_type": "code",
   "execution_count": 23,
   "metadata": {},
   "outputs": [],
   "source": [
    "# in the address column, replace / with 0\n",
    "solvers['address'] = solvers['address'].str.replace('\\\\', '0', regex=False)"
   ]
  },
  {
   "cell_type": "code",
   "execution_count": 26,
   "metadata": {},
   "outputs": [
    {
     "data": {
      "text/html": [
       "<div>\n",
       "<style scoped>\n",
       "    .dataframe tbody tr th:only-of-type {\n",
       "        vertical-align: middle;\n",
       "    }\n",
       "\n",
       "    .dataframe tbody tr th {\n",
       "        vertical-align: top;\n",
       "    }\n",
       "\n",
       "    .dataframe thead th {\n",
       "        text-align: right;\n",
       "    }\n",
       "</style>\n",
       "<table border=\"1\" class=\"dataframe\">\n",
       "  <thead>\n",
       "    <tr style=\"text-align: right;\">\n",
       "      <th></th>\n",
       "      <th>address</th>\n",
       "      <th>environment</th>\n",
       "      <th>name</th>\n",
       "      <th>active</th>\n",
       "    </tr>\n",
       "  </thead>\n",
       "  <tbody>\n",
       "    <tr>\n",
       "      <th>0</th>\n",
       "      <td>0xf2d21ad3c88170d4ae52bbbeba80cb6078d276f4</td>\n",
       "      <td>prod</td>\n",
       "      <td>MIP</td>\n",
       "      <td>False</td>\n",
       "    </tr>\n",
       "    <tr>\n",
       "      <th>1</th>\n",
       "      <td>0x15f4c337122ec23859ec73bec00ab38445e45304</td>\n",
       "      <td>prod</td>\n",
       "      <td>Gnosis_ParaSwap</td>\n",
       "      <td>False</td>\n",
       "    </tr>\n",
       "    <tr>\n",
       "      <th>2</th>\n",
       "      <td>0xde1c59bc25d806ad9ddcbe246c4b5e5505645718</td>\n",
       "      <td>prod</td>\n",
       "      <td>Gnosis_1inch</td>\n",
       "      <td>False</td>\n",
       "    </tr>\n",
       "    <tr>\n",
       "      <th>3</th>\n",
       "      <td>0x340185114f9d2617dc4c16088d0375d09fee9186</td>\n",
       "      <td>prod</td>\n",
       "      <td>Naive</td>\n",
       "      <td>False</td>\n",
       "    </tr>\n",
       "    <tr>\n",
       "      <th>4</th>\n",
       "      <td>0x833f076d182123ca8dde2743045ea02957bd61ef</td>\n",
       "      <td>prod</td>\n",
       "      <td>Baseline</td>\n",
       "      <td>False</td>\n",
       "    </tr>\n",
       "  </tbody>\n",
       "</table>\n",
       "</div>"
      ],
      "text/plain": [
       "                                      address environment             name  active\n",
       "0  0xf2d21ad3c88170d4ae52bbbeba80cb6078d276f4        prod              MIP   False\n",
       "1  0x15f4c337122ec23859ec73bec00ab38445e45304        prod  Gnosis_ParaSwap   False\n",
       "2  0xde1c59bc25d806ad9ddcbe246c4b5e5505645718        prod     Gnosis_1inch   False\n",
       "3  0x340185114f9d2617dc4c16088d0375d09fee9186        prod            Naive   False\n",
       "4  0x833f076d182123ca8dde2743045ea02957bd61ef        prod         Baseline   False"
      ]
     },
     "execution_count": 26,
     "metadata": {},
     "output_type": "execute_result"
    }
   ],
   "source": [
    "solvers.head(5)"
   ]
  },
  {
   "cell_type": "code",
   "execution_count": 25,
   "metadata": {},
   "outputs": [],
   "source": [
    "# save new solvers to csv file in data/transformed\n",
    "solvers.to_csv('data/transformed/solvers.csv', index=False)"
   ]
  },
  {
   "cell_type": "code",
   "execution_count": null,
   "metadata": {},
   "outputs": [],
   "source": []
  }
 ],
 "metadata": {
  "kernelspec": {
   "display_name": "Python 3",
   "language": "python",
   "name": "python3"
  },
  "language_info": {
   "codemirror_mode": {
    "name": "ipython",
    "version": 3
   },
   "file_extension": ".py",
   "mimetype": "text/x-python",
   "name": "python",
   "nbconvert_exporter": "python",
   "pygments_lexer": "ipython3",
   "version": "3.10.6 (main, Nov 14 2022, 16:10:14) [GCC 11.3.0]"
  },
  "orig_nbformat": 4,
  "vscode": {
   "interpreter": {
    "hash": "e7370f93d1d0cde622a1f8e1c04877d8463912d04d973331ad4851f04de6915a"
   }
  }
 },
 "nbformat": 4,
 "nbformat_minor": 2
}
