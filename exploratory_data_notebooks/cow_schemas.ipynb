{
 "cells": [
  {
   "cell_type": "code",
   "execution_count": 1,
   "metadata": {},
   "outputs": [],
   "source": [
    "import numpy as np\n",
    "import pandas as pd\n",
    "\n",
    "from pandas_profiling import ProfileReport"
   ]
  },
  {
   "cell_type": "code",
   "execution_count": 2,
   "metadata": {},
   "outputs": [],
   "source": [
    "pd.set_option('display.max_columns', None)\n",
    "pd.set_option('display.expand_frame_repr', False)\n",
    "pd.set_option('max_colwidth', None)"
   ]
  },
  {
   "attachments": {},
   "cell_type": "markdown",
   "metadata": {},
   "source": [
    "### Schema Data\n",
    "\n",
    "In this notebook, we start exploring Cow subgraph data starting with the schema data from the Ethereums subgraph. We start with file size and row count"
   ]
  },
  {
   "cell_type": "code",
   "execution_count": 4,
   "metadata": {},
   "outputs": [
    {
     "name": "stdout",
     "output_type": "stream",
     "text": [
      "275M\tcow/trades.csv\n",
      "247M\tcow/tokenTradingEvents.csv\n",
      "101M\tcow/pairHourlies.csv\n",
      "80M\tcow/orders.csv\n",
      "69M\tcow/tokenHourlyTotals.csv\n",
      "59M\tcow/settlements.csv\n",
      "54M\tcow/pairDailies.csv\n",
      "21M\tcow/tokenDailyTotals.csv\n",
      "11M\tcow/users.csv\n",
      "5.5M\tcow/pairs.csv\n",
      "1.4M\tcow/hourlyTotals.csv\n",
      "456K\tcow/tokens.csv\n",
      "60K\tcow/dailyTotals.csv\n",
      "4.0K\tcow/totals.csv\n",
      "4.0K\tcow/bundles.csv\n"
     ]
    }
   ],
   "source": [
    "# what is the size of every csv file in cow folder? Order by largest size\n",
    "!du -h cow/*.csv | sort -hr"
   ]
  },
  {
   "cell_type": "code",
   "execution_count": 5,
   "metadata": {},
   "outputs": [
    {
     "name": "stdout",
     "output_type": "stream",
     "text": [
      "  2988088 total\n",
      "   786730 cow/tokenTradingEvents.csv\n",
      "   434856 cow/orders.csv\n",
      "   434476 cow/trades.csv\n",
      "   322268 cow/pairHourlies.csv\n",
      "   316536 cow/tokenHourlyTotals.csv\n",
      "   313905 cow/settlements.csv\n",
      "   169256 cow/pairDailies.csv\n",
      "    99610 cow/tokenDailyTotals.csv\n",
      "    76480 cow/users.csv\n",
      "    18630 cow/pairs.csv\n",
      "    12164 cow/hourlyTotals.csv\n",
      "     2660 cow/tokens.csv\n",
      "      513 cow/dailyTotals.csv\n",
      "        2 cow/totals.csv\n",
      "        2 cow/bundles.csv\n"
     ]
    }
   ],
   "source": [
    "# count rows in all cow csv files\n",
    "!wc -l cow/*.csv | sort -hr"
   ]
  },
  {
   "cell_type": "code",
   "execution_count": null,
   "metadata": {},
   "outputs": [],
   "source": []
  }
 ],
 "metadata": {
  "kernelspec": {
   "display_name": "Python 3",
   "language": "python",
   "name": "python3"
  },
  "language_info": {
   "codemirror_mode": {
    "name": "ipython",
    "version": 3
   },
   "file_extension": ".py",
   "mimetype": "text/x-python",
   "name": "python",
   "nbconvert_exporter": "python",
   "pygments_lexer": "ipython3",
   "version": "3.10.6 (main, Nov 14 2022, 16:10:14) [GCC 11.3.0]"
  },
  "orig_nbformat": 4,
  "vscode": {
   "interpreter": {
    "hash": "e7370f93d1d0cde622a1f8e1c04877d8463912d04d973331ad4851f04de6915a"
   }
  }
 },
 "nbformat": 4,
 "nbformat_minor": 2
}
