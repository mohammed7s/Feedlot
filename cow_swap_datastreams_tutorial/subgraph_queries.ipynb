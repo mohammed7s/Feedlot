{
 "cells": [
  {
   "attachments": {},
   "cell_type": "markdown",
   "metadata": {},
   "source": [
    "# Subgraph Queries with DataStreams"
   ]
  },
  {
   "attachments": {},
   "cell_type": "markdown",
   "metadata": {},
   "source": [
    "The goal of this notebook is to show and explain how to create a decentralized data pipeline powered by Cow Subgraphs with DataStreams. Right now DataStreams acts only as a GraphQL query manager. Should DataStreams implement any preprocessing or should that be done outside of the library? Currently I am leaning towards finishing it outside of the library but still in the jupyter notebook. \n",
    "\n",
    "2.4.23 What needs to happen to keep the preprocessing as simple as possible to fit in a single notebook? How would I describe my current preprocessing approach and what has been done thus far?\n",
    "\n",
    "Subgraph Link here - https://thegraph.com/hosted-service/subgraph/cowprotocol/cow\n",
    "Dune Query link - https://dune.com/queries/1941061"
   ]
  },
  {
   "attachments": {},
   "cell_type": "markdown",
   "metadata": {},
   "source": [
    "### TODO \n",
    "- Why does settlements.trades and trades queries return different values???"
   ]
  },
  {
   "attachments": {},
   "cell_type": "markdown",
   "metadata": {},
   "source": [
    "## Setup Jupyter Environment"
   ]
  },
  {
   "attachments": {},
   "cell_type": "markdown",
   "metadata": {},
   "source": [
    "First install DataStreams with `!pip install git+https://github.com/Evan-Kim2028/DataStreams.git` in jupyter or `pip install git+https://github.com/Evan-Kim2028/DataStreams.git` in a virtual environment. The primary DataStreams dependencies are Python 3.10, Subgrounds, and Pandas. "
   ]
  },
  {
   "cell_type": "code",
   "execution_count": null,
   "metadata": {},
   "outputs": [],
   "source": [
    "!pip install git+https://github.com/Evan-Kim2028/DataStreams.git"
   ]
  },
  {
   "cell_type": "code",
   "execution_count": null,
   "metadata": {},
   "outputs": [],
   "source": [
    "!pip install plotly"
   ]
  },
  {
   "cell_type": "code",
   "execution_count": 1,
   "metadata": {},
   "outputs": [],
   "source": [
    "from datastreams.datastream import Streamer\n",
    "\n",
    "import os\n",
    "import pandas as pd\n",
    "import polars as pl"
   ]
  },
  {
   "cell_type": "code",
   "execution_count": 2,
   "metadata": {},
   "outputs": [],
   "source": [
    "# These commands enlarge the column size of the dataframe so things like 0x... are not truncated\n",
    "pd.set_option('display.max_columns', None)\n",
    "pd.set_option('display.expand_frame_repr', False)\n",
    "pd.set_option('max_colwidth', None)"
   ]
  },
  {
   "cell_type": "code",
   "execution_count": 3,
   "metadata": {},
   "outputs": [],
   "source": [
    "# instantiate Streamer class. Note that we need two separate streamer classes, otherwise the queries will be overwritten. \n",
    "cow_ds1 = Streamer('https://api.thegraph.com/subgraphs/name/cowprotocol/cow')\n",
    "cow_ds2 = Streamer('https://api.thegraph.com/subgraphs/name/cowprotocol/cow')"
   ]
  },
  {
   "cell_type": "code",
   "execution_count": 4,
   "metadata": {},
   "outputs": [],
   "source": [
    "# DEFINE TIMESTAMP HERE. Timstamp is used for replication quality assurance purposes.\n",
    "timestamp = 1700000000\n",
    "\n",
    "# define ethereum token addresses here to be used in cowswap trades query filter\n",
    "weth_addr = \"0xc02aaa39b223fe8d0a0e5c4f27ead9083c756cc2\"\n",
    "usdc_addr = \"0xa0b86991c6218b36c1d19d4a2e9eb0ce3606eb48\"\n",
    "\n",
    "# we set a fixed query size number. The Cow settlements and Uniswap swaps query are multiples larger than this initial query size.\n",
    "query_size = 5000"
   ]
  },
  {
   "attachments": {},
   "cell_type": "markdown",
   "metadata": {},
   "source": [
    "### Cowswap Trades Schema"
   ]
  },
  {
   "cell_type": "code",
   "execution_count": 5,
   "metadata": {},
   "outputs": [
    {
     "name": "stdout",
     "output_type": "stream",
     "text": [
      "FIELD - trades\n",
      "FIELD - trades\n"
     ]
    }
   ],
   "source": [
    "# We need to make two queries to the cow schema to get all the trades that match weth/usdc and usdc/weth.\n",
    "trades_weth_usdc_fp = cow_ds1.queryDict.get('trades')\n",
    "trades_usdc_weth_fp = cow_ds2.queryDict.get('trades')\n",
    "\n",
    "# trades query path that gets weth -> usdc trades\n",
    "trades_weth_usdc_qp = trades_weth_usdc_fp(\n",
    "    first=query_size,\n",
    "    orderBy='timestamp',\n",
    "    orderDirection='desc',\n",
    "    where = {\n",
    "    'timestamp_lt': timestamp, \n",
    "    'buyAmountUsd_gt': 100, \n",
    "    'sellAmountUsd_gt': 100, \n",
    "    \"sellToken\": weth_addr, \n",
    "    \"buyToken\": usdc_addr\n",
    "    }\n",
    ")\n",
    "\n",
    "# trades query path that gets usdc -> weth trades\n",
    "trades_usdc_weth_qp = trades_usdc_weth_fp(\n",
    "    first=query_size,\n",
    "    orderBy='timestamp',\n",
    "    orderDirection='desc',\n",
    "    where = {\n",
    "    'timestamp_lt': timestamp, \n",
    "    'buyAmountUsd_gt': 100, \n",
    "    'sellAmountUsd_gt': 100, \n",
    "    \"sellToken\": usdc_addr, \n",
    "    \"buyToken\": weth_addr\n",
    "    }\n",
    ")\n",
    "\n",
    "# run query\n",
    "trades_weth_usdc_df = cow_ds1.runQuery(trades_weth_usdc_qp)\n",
    "trades_usdc_weth_df = cow_ds2.runQuery(trades_usdc_weth_qp)"
   ]
  },
  {
   "cell_type": "code",
   "execution_count": 6,
   "metadata": {},
   "outputs": [],
   "source": [
    "# combine the trades queries together\n",
    "trades_df = pd.concat([trades_weth_usdc_df, trades_usdc_weth_df])"
   ]
  },
  {
   "cell_type": "code",
   "execution_count": 7,
   "metadata": {},
   "outputs": [
    {
     "name": "stdout",
     "output_type": "stream",
     "text": [
      "query returned 10000 rows\n"
     ]
    }
   ],
   "source": [
    "print(f'query returned {len(trades_df)} rows')"
   ]
  },
  {
   "cell_type": "code",
   "execution_count": 8,
   "metadata": {},
   "outputs": [
    {
     "data": {
      "text/plain": [
       "array(['0xa0b86991c6218b36c1d19d4a2e9eb0ce3606eb48',\n",
       "       '0xc02aaa39b223fe8d0a0e5c4f27ead9083c756cc2'], dtype=object)"
      ]
     },
     "execution_count": 8,
     "metadata": {},
     "output_type": "execute_result"
    }
   ],
   "source": [
    "# get unique values in trades_df column to verify the query results.\n",
    "trades_df['trades_buyToken_id'].unique()"
   ]
  },
  {
   "cell_type": "code",
   "execution_count": 9,
   "metadata": {},
   "outputs": [],
   "source": [
    "# replace the above values with symbols\n",
    "trades_df['trades_buyToken_id'] = trades_df['trades_buyToken_id'].replace(weth_addr, 'WETH')\n",
    "trades_df['trades_buyToken_id'] = trades_df['trades_buyToken_id'].replace(usdc_addr, 'USDC')\n",
    "\n",
    "trades_df['trades_sellToken_id'] = trades_df['trades_sellToken_id'].replace(weth_addr, 'WETH')\n",
    "trades_df['trades_sellToken_id'] = trades_df['trades_sellToken_id'].replace(usdc_addr, 'USDC')"
   ]
  },
  {
   "attachments": {},
   "cell_type": "markdown",
   "metadata": {},
   "source": [
    "### Cowswap Trades-Settlement Merge"
   ]
  },
  {
   "cell_type": "code",
   "execution_count": 20,
   "metadata": {},
   "outputs": [
    {
     "name": "stdout",
     "output_type": "stream",
     "text": [
      "FIELD - settlements\n"
     ]
    }
   ],
   "source": [
    "# get a query field path from the query dictionary which is automatically populated in the Streamer object\n",
    "settlements_fp = cow_ds1.queryDict.get('settlements')\n",
    "\n",
    "# add parameters to the settlements_qp.\n",
    "settlements_qp = settlements_fp(\n",
    "    first=query_size * 5,\n",
    "    orderBy='firstTradeTimestamp',\n",
    "    orderDirection='desc',\n",
    "    where = {'firstTradeTimestamp_lt': timestamp} \n",
    "    )\n",
    "\n",
    "# run query\n",
    "settlements_df = cow_ds1.runQuery(settlements_qp)"
   ]
  },
  {
   "cell_type": "code",
   "execution_count": 21,
   "metadata": {},
   "outputs": [
    {
     "data": {
      "text/plain": [
       "125000"
      ]
     },
     "execution_count": 21,
     "metadata": {},
     "output_type": "execute_result"
    }
   ],
   "source": [
    "settlements_df.size"
   ]
  },
  {
   "cell_type": "code",
   "execution_count": 22,
   "metadata": {},
   "outputs": [
    {
     "data": {
      "text/plain": [
       "trades_id                object\n",
       "trades_timestamp          int64\n",
       "trades_gasPrice           int64\n",
       "trades_feeAmount          int64\n",
       "trades_txHash            object\n",
       "trades_settlement_id     object\n",
       "trades_buyAmount        float64\n",
       "trades_sellAmount       float64\n",
       "trades_sellToken_id      object\n",
       "trades_buyToken_id       object\n",
       "trades_order_id          object\n",
       "trades_buyAmountEth     float64\n",
       "trades_sellAmountEth    float64\n",
       "trades_buyAmountUsd     float64\n",
       "trades_sellAmountUsd    float64\n",
       "endpoint                 object\n",
       "dtype: object"
      ]
     },
     "execution_count": 22,
     "metadata": {},
     "output_type": "execute_result"
    }
   ],
   "source": [
    "trades_df.dtypes"
   ]
  },
  {
   "cell_type": "code",
   "execution_count": 23,
   "metadata": {},
   "outputs": [],
   "source": [
    "# enforce trades_df column types. This is necessary because the data types are not enforced by pandas dataframes. Types are enforced as a Polars dataframe because of the columnar storage method.\n",
    "trades_df['trades_buyAmount'] = trades_df['trades_buyAmount'].astype('float64')\n",
    "trades_df['trades_sellAmount'] = trades_df['trades_sellAmount'].astype('float64')\n",
    "trades_df['trades_buyAmountUsd'] = trades_df['trades_buyAmountUsd'].astype('float64')\n",
    "trades_df['trades_sellAmountUsd'] = trades_df['trades_sellAmountUsd'].astype('float64')\n",
    "trades_df['trades_timestamp'] = trades_df['trades_timestamp'].astype('int64')\n",
    "trades_df['trades_buyToken_id'] = trades_df['trades_buyToken_id'].astype('str')\n",
    "trades_df['trades_sellToken_id'] = trades_df['trades_sellToken_id'].astype('str')"
   ]
  },
  {
   "cell_type": "code",
   "execution_count": 24,
   "metadata": {},
   "outputs": [],
   "source": [
    "# convert dfs into a dictionaries\n",
    "settlement_dict = settlements_df.to_dict('records')\n",
    "trades_dict = trades_df.to_dict('records')"
   ]
  },
  {
   "cell_type": "code",
   "execution_count": 25,
   "metadata": {},
   "outputs": [],
   "source": [
    "# convert dictionaries into polars dataframes\n",
    "settlement_pl = pl.from_dicts(settlement_dict)\n",
    "trades_pl = pl.from_dicts(trades_dict)"
   ]
  },
  {
   "cell_type": "code",
   "execution_count": 26,
   "metadata": {},
   "outputs": [],
   "source": [
    "# merge trades and settlement dataframes on the settlement transaction hash\n",
    "cow_trades_pl = trades_pl.join(other=settlement_pl, left_on='trades_settlement_id', right_on='settlements_txHash', how='inner')"
   ]
  },
  {
   "cell_type": "code",
   "execution_count": 27,
   "metadata": {},
   "outputs": [
    {
     "data": {
      "text/plain": [
       "(1505, 20)"
      ]
     },
     "execution_count": 27,
     "metadata": {},
     "output_type": "execute_result"
    }
   ],
   "source": [
    "cow_trades_pl.shape"
   ]
  },
  {
   "cell_type": "code",
   "execution_count": 28,
   "metadata": {},
   "outputs": [
    {
     "data": {
      "text/html": [
       "<div>\n",
       "<style>\n",
       ".pl-dataframe > thead > tr > th {\n",
       "  text-align: right;\n",
       "}\n",
       "</style>\n",
       "\n",
       "<table border=\"1\" class=\"pl-dataframe\">\n",
       "<small>shape: (5, 20)</small>\n",
       "<thead>\n",
       "<tr>\n",
       "<th>\n",
       "trades_id\n",
       "</th>\n",
       "<th>\n",
       "trades_timestamp\n",
       "</th>\n",
       "<th>\n",
       "trades_gasPrice\n",
       "</th>\n",
       "<th>\n",
       "trades_feeAmount\n",
       "</th>\n",
       "<th>\n",
       "trades_txHash\n",
       "</th>\n",
       "<th>\n",
       "trades_settlement_id\n",
       "</th>\n",
       "<th>\n",
       "trades_buyAmount\n",
       "</th>\n",
       "<th>\n",
       "trades_sellAmount\n",
       "</th>\n",
       "<th>\n",
       "trades_sellToken_id\n",
       "</th>\n",
       "<th>\n",
       "trades_buyToken_id\n",
       "</th>\n",
       "<th>\n",
       "trades_order_id\n",
       "</th>\n",
       "<th>\n",
       "trades_buyAmountEth\n",
       "</th>\n",
       "<th>\n",
       "trades_sellAmountEth\n",
       "</th>\n",
       "<th>\n",
       "trades_buyAmountUsd\n",
       "</th>\n",
       "<th>\n",
       "trades_sellAmountUsd\n",
       "</th>\n",
       "<th>\n",
       "endpoint\n",
       "</th>\n",
       "<th>\n",
       "settlements_id\n",
       "</th>\n",
       "<th>\n",
       "settlements_firstTradeTimestamp\n",
       "</th>\n",
       "<th>\n",
       "settlements_solver_id\n",
       "</th>\n",
       "<th>\n",
       "endpoint_right\n",
       "</th>\n",
       "</tr>\n",
       "<tr>\n",
       "<td>\n",
       "str\n",
       "</td>\n",
       "<td>\n",
       "i64\n",
       "</td>\n",
       "<td>\n",
       "i64\n",
       "</td>\n",
       "<td>\n",
       "i64\n",
       "</td>\n",
       "<td>\n",
       "str\n",
       "</td>\n",
       "<td>\n",
       "str\n",
       "</td>\n",
       "<td>\n",
       "f64\n",
       "</td>\n",
       "<td>\n",
       "f64\n",
       "</td>\n",
       "<td>\n",
       "str\n",
       "</td>\n",
       "<td>\n",
       "str\n",
       "</td>\n",
       "<td>\n",
       "str\n",
       "</td>\n",
       "<td>\n",
       "f64\n",
       "</td>\n",
       "<td>\n",
       "f64\n",
       "</td>\n",
       "<td>\n",
       "f64\n",
       "</td>\n",
       "<td>\n",
       "f64\n",
       "</td>\n",
       "<td>\n",
       "str\n",
       "</td>\n",
       "<td>\n",
       "str\n",
       "</td>\n",
       "<td>\n",
       "i64\n",
       "</td>\n",
       "<td>\n",
       "str\n",
       "</td>\n",
       "<td>\n",
       "str\n",
       "</td>\n",
       "</tr>\n",
       "</thead>\n",
       "<tbody>\n",
       "<tr>\n",
       "<td>\n",
       "&quot;0xff4b9b71cf38...\n",
       "</td>\n",
       "<td>\n",
       "1676578631\n",
       "</td>\n",
       "<td>\n",
       "61410062773\n",
       "</td>\n",
       "<td>\n",
       "10036655057984458\n",
       "</td>\n",
       "<td>\n",
       "&quot;0xbddaeefac322...\n",
       "</td>\n",
       "<td>\n",
       "&quot;0xbddaeefac322...\n",
       "</td>\n",
       "<td>\n",
       "6.67193664e8\n",
       "</td>\n",
       "<td>\n",
       "4.0000e17\n",
       "</td>\n",
       "<td>\n",
       "&quot;WETH&quot;\n",
       "</td>\n",
       "<td>\n",
       "&quot;USDC&quot;\n",
       "</td>\n",
       "<td>\n",
       "&quot;0xff4b9b71cf38...\n",
       "</td>\n",
       "<td>\n",
       "0.391065\n",
       "</td>\n",
       "<td>\n",
       "0.4\n",
       "</td>\n",
       "<td>\n",
       "667.193664\n",
       "</td>\n",
       "<td>\n",
       "682.437643\n",
       "</td>\n",
       "<td>\n",
       "&quot;cow&quot;\n",
       "</td>\n",
       "<td>\n",
       "&quot;0xbddaeefac322...\n",
       "</td>\n",
       "<td>\n",
       "1676578631\n",
       "</td>\n",
       "<td>\n",
       "&quot;0x0a308697e1d3...\n",
       "</td>\n",
       "<td>\n",
       "&quot;cow&quot;\n",
       "</td>\n",
       "</tr>\n",
       "<tr>\n",
       "<td>\n",
       "&quot;0xe73f2b06961f...\n",
       "</td>\n",
       "<td>\n",
       "1676577599\n",
       "</td>\n",
       "<td>\n",
       "39833897263\n",
       "</td>\n",
       "<td>\n",
       "67102919\n",
       "</td>\n",
       "<td>\n",
       "&quot;0x748d001020e7...\n",
       "</td>\n",
       "<td>\n",
       "&quot;0x748d001020e7...\n",
       "</td>\n",
       "<td>\n",
       "1.8970e20\n",
       "</td>\n",
       "<td>\n",
       "3.2500e11\n",
       "</td>\n",
       "<td>\n",
       "&quot;USDC&quot;\n",
       "</td>\n",
       "<td>\n",
       "&quot;WETH&quot;\n",
       "</td>\n",
       "<td>\n",
       "&quot;0xe73f2b06961f...\n",
       "</td>\n",
       "<td>\n",
       "189.704146\n",
       "</td>\n",
       "<td>\n",
       "189.816638\n",
       "</td>\n",
       "<td>\n",
       "324807.393682\n",
       "</td>\n",
       "<td>\n",
       "325000.0\n",
       "</td>\n",
       "<td>\n",
       "&quot;cow&quot;\n",
       "</td>\n",
       "<td>\n",
       "&quot;0x748d001020e7...\n",
       "</td>\n",
       "<td>\n",
       "1676577599\n",
       "</td>\n",
       "<td>\n",
       "&quot;0xc9ec550bea1c...\n",
       "</td>\n",
       "<td>\n",
       "&quot;cow&quot;\n",
       "</td>\n",
       "</tr>\n",
       "<tr>\n",
       "<td>\n",
       "&quot;0x0ed62f629a61...\n",
       "</td>\n",
       "<td>\n",
       "1676577107\n",
       "</td>\n",
       "<td>\n",
       "41145580487\n",
       "</td>\n",
       "<td>\n",
       "8558829468340582\n",
       "</td>\n",
       "<td>\n",
       "&quot;0x697d31e54fa4...\n",
       "</td>\n",
       "<td>\n",
       "&quot;0x697d31e54fa4...\n",
       "</td>\n",
       "<td>\n",
       "3.1140e10\n",
       "</td>\n",
       "<td>\n",
       "1.8200e19\n",
       "</td>\n",
       "<td>\n",
       "&quot;WETH&quot;\n",
       "</td>\n",
       "<td>\n",
       "&quot;USDC&quot;\n",
       "</td>\n",
       "<td>\n",
       "&quot;0x0ed62f629a61...\n",
       "</td>\n",
       "<td>\n",
       "18.18091\n",
       "</td>\n",
       "<td>\n",
       "18.2\n",
       "</td>\n",
       "<td>\n",
       "31139.528596\n",
       "</td>\n",
       "<td>\n",
       "31172.224875\n",
       "</td>\n",
       "<td>\n",
       "&quot;cow&quot;\n",
       "</td>\n",
       "<td>\n",
       "&quot;0x697d31e54fa4...\n",
       "</td>\n",
       "<td>\n",
       "1676577107\n",
       "</td>\n",
       "<td>\n",
       "&quot;0x149d0f928233...\n",
       "</td>\n",
       "<td>\n",
       "&quot;cow&quot;\n",
       "</td>\n",
       "</tr>\n",
       "<tr>\n",
       "<td>\n",
       "&quot;0xa3fbb73e02ac...\n",
       "</td>\n",
       "<td>\n",
       "1676576375\n",
       "</td>\n",
       "<td>\n",
       "40322628262\n",
       "</td>\n",
       "<td>\n",
       "13413397075766624\n",
       "</td>\n",
       "<td>\n",
       "&quot;0xed291288089f...\n",
       "</td>\n",
       "<td>\n",
       "&quot;0xed291288089f...\n",
       "</td>\n",
       "<td>\n",
       "6.80956759e8\n",
       "</td>\n",
       "<td>\n",
       "4.1000e17\n",
       "</td>\n",
       "<td>\n",
       "&quot;WETH&quot;\n",
       "</td>\n",
       "<td>\n",
       "&quot;USDC&quot;\n",
       "</td>\n",
       "<td>\n",
       "&quot;0xa3fbb73e02ac...\n",
       "</td>\n",
       "<td>\n",
       "0.39757\n",
       "</td>\n",
       "<td>\n",
       "0.41\n",
       "</td>\n",
       "<td>\n",
       "680.956759\n",
       "</td>\n",
       "<td>\n",
       "702.246701\n",
       "</td>\n",
       "<td>\n",
       "&quot;cow&quot;\n",
       "</td>\n",
       "<td>\n",
       "&quot;0xed291288089f...\n",
       "</td>\n",
       "<td>\n",
       "1676576375\n",
       "</td>\n",
       "<td>\n",
       "&quot;0xc9ec550bea1c...\n",
       "</td>\n",
       "<td>\n",
       "&quot;cow&quot;\n",
       "</td>\n",
       "</tr>\n",
       "<tr>\n",
       "<td>\n",
       "&quot;0x532018cd94c9...\n",
       "</td>\n",
       "<td>\n",
       "1676576027\n",
       "</td>\n",
       "<td>\n",
       "38815959540\n",
       "</td>\n",
       "<td>\n",
       "10413085889647154\n",
       "</td>\n",
       "<td>\n",
       "&quot;0x2231f039b899...\n",
       "</td>\n",
       "<td>\n",
       "&quot;0x2231f039b899...\n",
       "</td>\n",
       "<td>\n",
       "4.1817e9\n",
       "</td>\n",
       "<td>\n",
       "2.4524e18\n",
       "</td>\n",
       "<td>\n",
       "&quot;WETH&quot;\n",
       "</td>\n",
       "<td>\n",
       "&quot;USDC&quot;\n",
       "</td>\n",
       "<td>\n",
       "&quot;0x532018cd94c9...\n",
       "</td>\n",
       "<td>\n",
       "2.441451\n",
       "</td>\n",
       "<td>\n",
       "2.452413\n",
       "</td>\n",
       "<td>\n",
       "4181.709518\n",
       "</td>\n",
       "<td>\n",
       "4200.48487\n",
       "</td>\n",
       "<td>\n",
       "&quot;cow&quot;\n",
       "</td>\n",
       "<td>\n",
       "&quot;0x2231f039b899...\n",
       "</td>\n",
       "<td>\n",
       "1676576027\n",
       "</td>\n",
       "<td>\n",
       "&quot;0xc9ec550bea1c...\n",
       "</td>\n",
       "<td>\n",
       "&quot;cow&quot;\n",
       "</td>\n",
       "</tr>\n",
       "</tbody>\n",
       "</table>\n",
       "</div>"
      ],
      "text/plain": [
       "shape: (5, 20)\n",
       "┌─────────┬────────────┬────────────┬────────────┬─────┬────────────┬────────────┬────────────┬────────────┐\n",
       "│ trades_ ┆ trades_tim ┆ trades_gas ┆ trades_fee ┆ ... ┆ settlement ┆ settlement ┆ settlement ┆ endpoint_r │\n",
       "│ id      ┆ estamp     ┆ Price      ┆ Amount     ┆     ┆ s_id       ┆ s_firstTra ┆ s_solver_i ┆ ight       │\n",
       "│ ---     ┆ ---        ┆ ---        ┆ ---        ┆     ┆ ---        ┆ deTimestam ┆ d          ┆ ---        │\n",
       "│ str     ┆ i64        ┆ i64        ┆ i64        ┆     ┆ str        ┆ p          ┆ ---        ┆ str        │\n",
       "│         ┆            ┆            ┆            ┆     ┆            ┆ ---        ┆ str        ┆            │\n",
       "│         ┆            ┆            ┆            ┆     ┆            ┆ i64        ┆            ┆            │\n",
       "╞═════════╪════════════╪════════════╪════════════╪═════╪════════════╪════════════╪════════════╪════════════╡\n",
       "│ 0xff4b9 ┆ 1676578631 ┆ 6141006277 ┆ 1003665505 ┆ ... ┆ 0xbddaeefa ┆ 1676578631 ┆ 0x0a308697 ┆ cow        │\n",
       "│ b71cf38 ┆            ┆ 3          ┆ 7984458    ┆     ┆ c322fd15f3 ┆            ┆ e1d3a91dcb ┆            │\n",
       "│ 546b599 ┆            ┆            ┆            ┆     ┆ a345318324 ┆            ┆ 1e915c51f8 ┆            │\n",
       "│ 8073e45 ┆            ┆            ┆            ┆     ┆ ac...      ┆            ┆ 94...      ┆            │\n",
       "│ b26d... ┆            ┆            ┆            ┆     ┆            ┆            ┆            ┆            │\n",
       "│ 0xe73f2 ┆ 1676577599 ┆ 3983389726 ┆ 67102919   ┆ ... ┆ 0x748d0010 ┆ 1676577599 ┆ 0xc9ec550b ┆ cow        │\n",
       "│ b06961f ┆            ┆ 3          ┆            ┆     ┆ 20e7bf2256 ┆            ┆ ea1c64d779 ┆            │\n",
       "│ 6e60842 ┆            ┆            ┆            ┆     ┆ 8d70b53434 ┆            ┆ 124b23a262 ┆            │\n",
       "│ 6c6d988 ┆            ┆            ┆            ┆     ┆ fe...      ┆            ┆ 92...      ┆            │\n",
       "│ 192e... ┆            ┆            ┆            ┆     ┆            ┆            ┆            ┆            │\n",
       "│ 0x0ed62 ┆ 1676577107 ┆ 4114558048 ┆ 8558829468 ┆ ... ┆ 0x697d31e5 ┆ 1676577107 ┆ 0x149d0f92 ┆ cow        │\n",
       "│ f629a61 ┆            ┆ 7          ┆ 340582     ┆     ┆ 4fa402cd17 ┆            ┆ 82333681ee ┆            │\n",
       "│ 0011e12 ┆            ┆            ┆            ┆     ┆ 55a6810d97 ┆            ┆ 41d3058982 ┆            │\n",
       "│ 9e3ddd4 ┆            ┆            ┆            ┆     ┆ 77...      ┆            ┆ 4b...      ┆            │\n",
       "│ 9432... ┆            ┆            ┆            ┆     ┆            ┆            ┆            ┆            │\n",
       "│ 0xa3fbb ┆ 1676576375 ┆ 4032262826 ┆ 1341339707 ┆ ... ┆ 0xed291288 ┆ 1676576375 ┆ 0xc9ec550b ┆ cow        │\n",
       "│ 73e02ac ┆            ┆ 2          ┆ 5766624    ┆     ┆ 089f4b8aaa ┆            ┆ ea1c64d779 ┆            │\n",
       "│ c9ab2ce ┆            ┆            ┆            ┆     ┆ b0c521c5cc ┆            ┆ 124b23a262 ┆            │\n",
       "│ 98028bf ┆            ┆            ┆            ┆     ┆ c1...      ┆            ┆ 92...      ┆            │\n",
       "│ c824... ┆            ┆            ┆            ┆     ┆            ┆            ┆            ┆            │\n",
       "│ 0x53201 ┆ 1676576027 ┆ 3881595954 ┆ 1041308588 ┆ ... ┆ 0x2231f039 ┆ 1676576027 ┆ 0xc9ec550b ┆ cow        │\n",
       "│ 8cd94c9 ┆            ┆ 0          ┆ 9647154    ┆     ┆ b899689eb6 ┆            ┆ ea1c64d779 ┆            │\n",
       "│ 4af177e ┆            ┆            ┆            ┆     ┆ e08ca073df ┆            ┆ 124b23a262 ┆            │\n",
       "│ e95d96b ┆            ┆            ┆            ┆     ┆ ae...      ┆            ┆ 92...      ┆            │\n",
       "│ 5f15... ┆            ┆            ┆            ┆     ┆            ┆            ┆            ┆            │\n",
       "└─────────┴────────────┴────────────┴────────────┴─────┴────────────┴────────────┴────────────┴────────────┘"
      ]
     },
     "execution_count": 28,
     "metadata": {},
     "output_type": "execute_result"
    }
   ],
   "source": [
    "cow_trades_pl.head(5)"
   ]
  },
  {
   "cell_type": "code",
   "execution_count": 29,
   "metadata": {},
   "outputs": [
    {
     "data": {
      "text/html": [
       "<div>\n",
       "<style>\n",
       ".pl-dataframe > thead > tr > th {\n",
       "  text-align: right;\n",
       "}\n",
       "</style>\n",
       "\n",
       "<table border=\"1\" class=\"pl-dataframe\">\n",
       "<small>shape: (2,)</small>\n",
       "<thead>\n",
       "<tr>\n",
       "<th>\n",
       "trades_sellToken_id\n",
       "</th>\n",
       "</tr>\n",
       "<tr>\n",
       "<td>\n",
       "str\n",
       "</td>\n",
       "</tr>\n",
       "</thead>\n",
       "<tbody>\n",
       "<tr>\n",
       "<td>\n",
       "&quot;USDC&quot;\n",
       "</td>\n",
       "</tr>\n",
       "<tr>\n",
       "<td>\n",
       "&quot;WETH&quot;\n",
       "</td>\n",
       "</tr>\n",
       "</tbody>\n",
       "</table>\n",
       "</div>"
      ],
      "text/plain": [
       "shape: (2,)\n",
       "Series: 'trades_sellToken_id' [str]\n",
       "[\n",
       "\t\"USDC\"\n",
       "\t\"WETH\"\n",
       "]"
      ]
     },
     "execution_count": 29,
     "metadata": {},
     "output_type": "execute_result"
    }
   ],
   "source": [
    "# get unique values in cow_trades_pl trades_sellToken_id column\n",
    "cow_trades_pl['trades_sellToken_id'].unique()"
   ]
  },
  {
   "attachments": {},
   "cell_type": "markdown",
   "metadata": {},
   "source": [
    "### Cowswap Trades-Solver Merge"
   ]
  },
  {
   "cell_type": "code",
   "execution_count": 30,
   "metadata": {},
   "outputs": [],
   "source": [
    "solvers = pd.read_csv('data/cowv2_solvers.csv') # load in pandas instead of polars. Having trouble replacing \\ symbol in polars"
   ]
  },
  {
   "cell_type": "code",
   "execution_count": 31,
   "metadata": {},
   "outputs": [],
   "source": [
    "# rename address to settlements_solver_id in pandas\n",
    "solvers = solvers.rename(columns={\"address\": \"settlements_solver_id\"})"
   ]
  },
  {
   "cell_type": "code",
   "execution_count": 32,
   "metadata": {},
   "outputs": [],
   "source": [
    "# NOTE - dune formats addresses as /x... need to convert '/' to '0'\n",
    "solvers['settlements_solver_id'] = solvers['settlements_solver_id'].str.replace('\\\\', '0', regex=False)"
   ]
  },
  {
   "cell_type": "code",
   "execution_count": 33,
   "metadata": {},
   "outputs": [],
   "source": [
    "# turn solvers into a dictionary\n",
    "solvers_dict = solvers.to_dict('records')\n",
    "\n",
    "# convert dict to polars\n",
    "solvers_pl = pl.from_dicts(solvers_dict)"
   ]
  },
  {
   "cell_type": "code",
   "execution_count": 34,
   "metadata": {},
   "outputs": [],
   "source": [
    "# inner join solvers_pl on total_settlement_tokens_pl\n",
    "cow_complete_pl = cow_trades_pl.join(solvers_pl, on=\"settlements_solver_id\", how=\"inner\")"
   ]
  },
  {
   "cell_type": "code",
   "execution_count": 35,
   "metadata": {},
   "outputs": [],
   "source": [
    "# drop endpoint_right column from total_settlement_tokens_solvers\n",
    "cow_complete_pl = cow_complete_pl.drop('endpoint_right')"
   ]
  },
  {
   "cell_type": "code",
   "execution_count": 36,
   "metadata": {},
   "outputs": [
    {
     "data": {
      "text/plain": [
       "(1456, 22)"
      ]
     },
     "execution_count": 36,
     "metadata": {},
     "output_type": "execute_result"
    }
   ],
   "source": [
    "cow_complete_pl.shape"
   ]
  },
  {
   "attachments": {},
   "cell_type": "markdown",
   "metadata": {},
   "source": [
    "#### Basic Agg"
   ]
  },
  {
   "cell_type": "code",
   "execution_count": 37,
   "metadata": {},
   "outputs": [],
   "source": [
    "# filter by \"prod\" environments\n",
    "filter_df = cow_complete_pl.filter(pl.col(\"environment\") == \"prod\")"
   ]
  },
  {
   "cell_type": "code",
   "execution_count": 38,
   "metadata": {},
   "outputs": [],
   "source": [
    "# filter by \"prod\" environments\n",
    "filter_df = cow_complete_pl.filter(pl.col(\"environment\") == \"prod\")"
   ]
  },
  {
   "cell_type": "code",
   "execution_count": 39,
   "metadata": {},
   "outputs": [
    {
     "data": {
      "text/plain": [
       "(1438, 22)"
      ]
     },
     "execution_count": 39,
     "metadata": {},
     "output_type": "execute_result"
    }
   ],
   "source": [
    "filter_df.shape"
   ]
  },
  {
   "cell_type": "code",
   "execution_count": 40,
   "metadata": {},
   "outputs": [],
   "source": [
    "# group filter_df by solver name polars\n",
    "grouped_df = filter_df.groupby(\"name\").agg(\n",
    "    pl.count(\"trades_id\").alias(\"total_trades\")).sort(\"total_trades\", reverse=True)\n"
   ]
  },
  {
   "cell_type": "code",
   "execution_count": 41,
   "metadata": {},
   "outputs": [
    {
     "data": {
      "text/html": [
       "<div>\n",
       "<style>\n",
       ".pl-dataframe > thead > tr > th {\n",
       "  text-align: right;\n",
       "}\n",
       "</style>\n",
       "\n",
       "<table border=\"1\" class=\"pl-dataframe\">\n",
       "<small>shape: (12, 2)</small>\n",
       "<thead>\n",
       "<tr>\n",
       "<th>\n",
       "name\n",
       "</th>\n",
       "<th>\n",
       "total_trades\n",
       "</th>\n",
       "</tr>\n",
       "<tr>\n",
       "<td>\n",
       "str\n",
       "</td>\n",
       "<td>\n",
       "u32\n",
       "</td>\n",
       "</tr>\n",
       "</thead>\n",
       "<tbody>\n",
       "<tr>\n",
       "<td>\n",
       "&quot;Otex&quot;\n",
       "</td>\n",
       "<td>\n",
       "514\n",
       "</td>\n",
       "</tr>\n",
       "<tr>\n",
       "<td>\n",
       "&quot;PLM&quot;\n",
       "</td>\n",
       "<td>\n",
       "420\n",
       "</td>\n",
       "</tr>\n",
       "<tr>\n",
       "<td>\n",
       "&quot;Laertes&quot;\n",
       "</td>\n",
       "<td>\n",
       "220\n",
       "</td>\n",
       "</tr>\n",
       "<tr>\n",
       "<td>\n",
       "&quot;Quasilabs&quot;\n",
       "</td>\n",
       "<td>\n",
       "162\n",
       "</td>\n",
       "</tr>\n",
       "<tr>\n",
       "<td>\n",
       "&quot;Gnosis_1inch&quot;\n",
       "</td>\n",
       "<td>\n",
       "63\n",
       "</td>\n",
       "</tr>\n",
       "<tr>\n",
       "<td>\n",
       "&quot;Gnosis_0x&quot;\n",
       "</td>\n",
       "<td>\n",
       "18\n",
       "</td>\n",
       "</tr>\n",
       "<tr>\n",
       "<td>\n",
       "&quot;Seasolver&quot;\n",
       "</td>\n",
       "<td>\n",
       "16\n",
       "</td>\n",
       "</tr>\n",
       "<tr>\n",
       "<td>\n",
       "&quot;Baseline&quot;\n",
       "</td>\n",
       "<td>\n",
       "10\n",
       "</td>\n",
       "</tr>\n",
       "<tr>\n",
       "<td>\n",
       "&quot;DexCowAgg&quot;\n",
       "</td>\n",
       "<td>\n",
       "7\n",
       "</td>\n",
       "</tr>\n",
       "<tr>\n",
       "<td>\n",
       "&quot;Gnosis_Balance...\n",
       "</td>\n",
       "<td>\n",
       "5\n",
       "</td>\n",
       "</tr>\n",
       "<tr>\n",
       "<td>\n",
       "&quot;Gnosis_ParaSwa...\n",
       "</td>\n",
       "<td>\n",
       "2\n",
       "</td>\n",
       "</tr>\n",
       "<tr>\n",
       "<td>\n",
       "&quot;Naive&quot;\n",
       "</td>\n",
       "<td>\n",
       "1\n",
       "</td>\n",
       "</tr>\n",
       "</tbody>\n",
       "</table>\n",
       "</div>"
      ],
      "text/plain": [
       "shape: (12, 2)\n",
       "┌────────────────────┬──────────────┐\n",
       "│ name               ┆ total_trades │\n",
       "│ ---                ┆ ---          │\n",
       "│ str                ┆ u32          │\n",
       "╞════════════════════╪══════════════╡\n",
       "│ Otex               ┆ 514          │\n",
       "│ PLM                ┆ 420          │\n",
       "│ Laertes            ┆ 220          │\n",
       "│ Quasilabs          ┆ 162          │\n",
       "│ ...                ┆ ...          │\n",
       "│ DexCowAgg          ┆ 7            │\n",
       "│ Gnosis_BalancerSOR ┆ 5            │\n",
       "│ Gnosis_ParaSwap    ┆ 2            │\n",
       "│ Naive              ┆ 1            │\n",
       "└────────────────────┴──────────────┘"
      ]
     },
     "execution_count": 41,
     "metadata": {},
     "output_type": "execute_result"
    }
   ],
   "source": [
    "grouped_df"
   ]
  },
  {
   "attachments": {},
   "cell_type": "markdown",
   "metadata": {},
   "source": [
    "### Uniswap v3"
   ]
  },
  {
   "cell_type": "code",
   "execution_count": 42,
   "metadata": {},
   "outputs": [],
   "source": [
    "# instantiate Streamer object. \n",
    "# Note - unlike the cow queries, univ3 does not require multiple streamer instantations because the swaps field path is reset each iteration. \n",
    "# If the Cow queries were updated to use the same method, we could use the same streamer object for all queries.\n",
    "univ3_ds = Streamer('https://api.thegraph.com/subgraphs/name/messari/uniswap-v3-ethereum')"
   ]
  },
  {
   "cell_type": "code",
   "execution_count": 43,
   "metadata": {},
   "outputs": [],
   "source": [
    "# get a query field path from the query dictionary which is automatically populated in the Streamer object\n",
    "swaps_fp = univ3_ds.queryDict.get('swaps')"
   ]
  },
  {
   "cell_type": "code",
   "execution_count": 44,
   "metadata": {},
   "outputs": [],
   "source": [
    "weth_usdc_list = [\n",
    "    \"0x88e6a0c2ddd26feeb64f039a2c41296fcb3f5640\", # usdc/weth .05%\n",
    "    \"0x8ad599c3a0ff1de082011efddc58f1908eb6e6d8\" #usdc/weth .3%\n",
    "]"
   ]
  },
  {
   "cell_type": "code",
   "execution_count": 45,
   "metadata": {},
   "outputs": [],
   "source": [
    "swaps_df_list = []"
   ]
  },
  {
   "cell_type": "code",
   "execution_count": 46,
   "metadata": {},
   "outputs": [
    {
     "name": "stdout",
     "output_type": "stream",
     "text": [
      "FIELD - swaps\n",
      "FIELD - swaps\n"
     ]
    }
   ],
   "source": [
    "for lp in weth_usdc_list:\n",
    "    # add parameters to the query_path\n",
    "    swaps_qp = swaps_fp(\n",
    "        first=query_size * 10,\n",
    "        orderBy='timestamp',\n",
    "        orderDirection='desc',\n",
    "        where = {'timestamp_lt': timestamp, 'amountInUSD_gt': 250, 'amountOutUSD_gt': 250, 'pool': lp} \n",
    "        )\n",
    "\n",
    "    # run query\n",
    "    swaps_df = univ3_ds.runQuery(swaps_qp)\n",
    "    swaps_df_list.append(swaps_df)"
   ]
  },
  {
   "cell_type": "code",
   "execution_count": 47,
   "metadata": {},
   "outputs": [],
   "source": [
    "# concat swaps_df_list\n",
    "swaps_df = pd.concat(swaps_df_list)"
   ]
  },
  {
   "cell_type": "code",
   "execution_count": 48,
   "metadata": {},
   "outputs": [],
   "source": [
    "# replace the pool addresses with LP pool names with fees\n",
    "swaps_df['swaps_pool_id'] = swaps_df['swaps_pool_id'].replace(weth_usdc_list[0], 'USDC_WETH .05%')\n",
    "swaps_df['swaps_pool_id'] = swaps_df['swaps_pool_id'].replace(weth_usdc_list[1], 'USDC_WETH .3%')\n",
    "\n",
    "# replace token addresses with symbols\n",
    "swaps_df['swaps_tokenIn_id'] = swaps_df['swaps_tokenIn_id'].replace(usdc_addr, 'USDC')\n",
    "swaps_df['swaps_tokenIn_id'] = swaps_df['swaps_tokenIn_id'].replace(weth_addr, 'WETH')\n",
    "swaps_df['swaps_tokenOut_id'] = swaps_df['swaps_tokenOut_id'].replace(usdc_addr, 'USDC')\n",
    "swaps_df['swaps_tokenOut_id'] = swaps_df['swaps_tokenOut_id'].replace(weth_addr, 'WETH')"
   ]
  },
  {
   "cell_type": "code",
   "execution_count": 49,
   "metadata": {},
   "outputs": [
    {
     "name": "stdout",
     "output_type": "stream",
     "text": [
      "query returned 100000 rows\n",
      " swaps_df columns are Index(['swaps_id', 'swaps_hash', 'swaps_logIndex', 'swaps_protocol_id',\n",
      "       'swaps_to', 'swaps_from', 'swaps_blockNumber', 'swaps_timestamp',\n",
      "       'swaps_tokenIn_id', 'swaps_amountIn', 'swaps_amountInUSD',\n",
      "       'swaps_tokenOut_id', 'swaps_amountOut', 'swaps_amountOutUSD',\n",
      "       'swaps_pool_id', 'endpoint'],\n",
      "      dtype='object')\n"
     ]
    }
   ],
   "source": [
    "print(f'query returned {len(swaps_df)} rows\\n swaps_df columns are {swaps_df.columns}')"
   ]
  },
  {
   "cell_type": "code",
   "execution_count": 50,
   "metadata": {},
   "outputs": [],
   "source": [
    "# convert swaps_df to pl\n",
    "swaps_dict = swaps_df.to_dict('records')\n",
    "swaps_pl = pl.from_dicts(swaps_dict)"
   ]
  },
  {
   "cell_type": "code",
   "execution_count": 52,
   "metadata": {},
   "outputs": [
    {
     "data": {
      "text/plain": [
       "['trades_id',\n",
       " 'trades_timestamp',\n",
       " 'trades_gasPrice',\n",
       " 'trades_feeAmount',\n",
       " 'trades_txHash',\n",
       " 'trades_settlement_id',\n",
       " 'trades_buyAmount',\n",
       " 'trades_sellAmount',\n",
       " 'trades_sellToken_id',\n",
       " 'trades_buyToken_id',\n",
       " 'trades_order_id',\n",
       " 'trades_buyAmountEth',\n",
       " 'trades_sellAmountEth',\n",
       " 'trades_buyAmountUsd',\n",
       " 'trades_sellAmountUsd',\n",
       " 'endpoint',\n",
       " 'settlements_id',\n",
       " 'settlements_firstTradeTimestamp',\n",
       " 'settlements_solver_id',\n",
       " 'environment',\n",
       " 'name',\n",
       " 'active']"
      ]
     },
     "execution_count": 52,
     "metadata": {},
     "output_type": "execute_result"
    }
   ],
   "source": [
    "cow_complete_pl.columns"
   ]
  },
  {
   "attachments": {},
   "cell_type": "markdown",
   "metadata": {},
   "source": [
    "### Merge Cow and Univ3 (is this neccessary or is it better to keep the dataframes separate?)"
   ]
  },
  {
   "cell_type": "code",
   "execution_count": 67,
   "metadata": {},
   "outputs": [],
   "source": [
    "# merge trades and swaps on timestamp value. We use outer join because we want to keep all trades and swaps data and backfill swap values\n",
    "cow_uni_outer_pl = cow_complete_pl.join(other=swaps_pl, left_on='trades_timestamp', right_on='swaps_timestamp', how='outer')"
   ]
  },
  {
   "cell_type": "code",
   "execution_count": 68,
   "metadata": {},
   "outputs": [],
   "source": [
    "# not sure if the merge between uni and cow is completely neccessary at this point\n",
    "cow_uni_trunc_pl = cow_uni_outer_pl[[\n",
    "    'trades_timestamp', \n",
    "    'trades_sellToken_id', \n",
    "    'trades_buyToken_id', \n",
    "    'trades_sellAmountUsd', \n",
    "    'trades_buyAmountUsd', \n",
    "    'name',\n",
    "    'swaps_pool_id', \n",
    "    'swaps_tokenIn_id', \n",
    "    'swaps_tokenOut_id',  \n",
    "    'swaps_amountInUSD',\n",
    "    'swaps_amountOutUSD',\n",
    "    'swaps_blockNumber'\n",
    "    ]]"
   ]
  },
  {
   "cell_type": "code",
   "execution_count": 69,
   "metadata": {},
   "outputs": [
    {
     "data": {
      "text/plain": [
       "(101104, 37)"
      ]
     },
     "execution_count": 69,
     "metadata": {},
     "output_type": "execute_result"
    }
   ],
   "source": [
    "#check pl dataframe size\n",
    "cow_uni_outer_pl.shape"
   ]
  },
  {
   "cell_type": "code",
   "execution_count": 70,
   "metadata": {},
   "outputs": [],
   "source": [
    "# get the rows that have 0 null values. This leaves us with the cow/univ3 trades that were executed on the same timestamp.\n",
    "cow_uni_trunc_no_nulls_pl = cow_uni_trunc_pl.drop_nulls()"
   ]
  },
  {
   "cell_type": "code",
   "execution_count": 71,
   "metadata": {},
   "outputs": [
    {
     "data": {
      "text/plain": [
       "(664, 12)"
      ]
     },
     "execution_count": 71,
     "metadata": {},
     "output_type": "execute_result"
    }
   ],
   "source": [
    "#check pl dataframe size after dropping nulls\n",
    "cow_uni_trunc_no_nulls_pl.shape"
   ]
  },
  {
   "cell_type": "code",
   "execution_count": 72,
   "metadata": {},
   "outputs": [
    {
     "data": {
      "text/html": [
       "<div>\n",
       "<style>\n",
       ".pl-dataframe > thead > tr > th {\n",
       "  text-align: right;\n",
       "}\n",
       "</style>\n",
       "\n",
       "<table border=\"1\" class=\"pl-dataframe\">\n",
       "<small>shape: (10, 12)</small>\n",
       "<thead>\n",
       "<tr>\n",
       "<th>\n",
       "trades_timestamp\n",
       "</th>\n",
       "<th>\n",
       "trades_sellToken_id\n",
       "</th>\n",
       "<th>\n",
       "trades_buyToken_id\n",
       "</th>\n",
       "<th>\n",
       "trades_sellAmountUsd\n",
       "</th>\n",
       "<th>\n",
       "trades_buyAmountUsd\n",
       "</th>\n",
       "<th>\n",
       "name\n",
       "</th>\n",
       "<th>\n",
       "swaps_pool_id\n",
       "</th>\n",
       "<th>\n",
       "swaps_tokenIn_id\n",
       "</th>\n",
       "<th>\n",
       "swaps_tokenOut_id\n",
       "</th>\n",
       "<th>\n",
       "swaps_amountInUSD\n",
       "</th>\n",
       "<th>\n",
       "swaps_amountOutUSD\n",
       "</th>\n",
       "<th>\n",
       "swaps_blockNumber\n",
       "</th>\n",
       "</tr>\n",
       "<tr>\n",
       "<td>\n",
       "i64\n",
       "</td>\n",
       "<td>\n",
       "str\n",
       "</td>\n",
       "<td>\n",
       "str\n",
       "</td>\n",
       "<td>\n",
       "f64\n",
       "</td>\n",
       "<td>\n",
       "f64\n",
       "</td>\n",
       "<td>\n",
       "str\n",
       "</td>\n",
       "<td>\n",
       "str\n",
       "</td>\n",
       "<td>\n",
       "str\n",
       "</td>\n",
       "<td>\n",
       "str\n",
       "</td>\n",
       "<td>\n",
       "f64\n",
       "</td>\n",
       "<td>\n",
       "f64\n",
       "</td>\n",
       "<td>\n",
       "i64\n",
       "</td>\n",
       "</tr>\n",
       "</thead>\n",
       "<tbody>\n",
       "<tr>\n",
       "<td>\n",
       "1676578631\n",
       "</td>\n",
       "<td>\n",
       "&quot;WETH&quot;\n",
       "</td>\n",
       "<td>\n",
       "&quot;USDC&quot;\n",
       "</td>\n",
       "<td>\n",
       "682.437643\n",
       "</td>\n",
       "<td>\n",
       "667.193664\n",
       "</td>\n",
       "<td>\n",
       "&quot;Laertes&quot;\n",
       "</td>\n",
       "<td>\n",
       "&quot;USDC_WETH .05%...\n",
       "</td>\n",
       "<td>\n",
       "&quot;WETH&quot;\n",
       "</td>\n",
       "<td>\n",
       "&quot;USDC&quot;\n",
       "</td>\n",
       "<td>\n",
       "197797.02241\n",
       "</td>\n",
       "<td>\n",
       "197157.273795\n",
       "</td>\n",
       "<td>\n",
       "16643623\n",
       "</td>\n",
       "</tr>\n",
       "<tr>\n",
       "<td>\n",
       "1676578631\n",
       "</td>\n",
       "<td>\n",
       "&quot;WETH&quot;\n",
       "</td>\n",
       "<td>\n",
       "&quot;USDC&quot;\n",
       "</td>\n",
       "<td>\n",
       "682.437643\n",
       "</td>\n",
       "<td>\n",
       "667.193664\n",
       "</td>\n",
       "<td>\n",
       "&quot;Laertes&quot;\n",
       "</td>\n",
       "<td>\n",
       "&quot;USDC_WETH .05%...\n",
       "</td>\n",
       "<td>\n",
       "&quot;WETH&quot;\n",
       "</td>\n",
       "<td>\n",
       "&quot;USDC&quot;\n",
       "</td>\n",
       "<td>\n",
       "42485.488674\n",
       "</td>\n",
       "<td>\n",
       "42339.410681\n",
       "</td>\n",
       "<td>\n",
       "16643623\n",
       "</td>\n",
       "</tr>\n",
       "<tr>\n",
       "<td>\n",
       "1676577599\n",
       "</td>\n",
       "<td>\n",
       "&quot;USDC&quot;\n",
       "</td>\n",
       "<td>\n",
       "&quot;WETH&quot;\n",
       "</td>\n",
       "<td>\n",
       "325000.0\n",
       "</td>\n",
       "<td>\n",
       "324807.393682\n",
       "</td>\n",
       "<td>\n",
       "&quot;Otex&quot;\n",
       "</td>\n",
       "<td>\n",
       "&quot;USDC_WETH .05%...\n",
       "</td>\n",
       "<td>\n",
       "&quot;WETH&quot;\n",
       "</td>\n",
       "<td>\n",
       "&quot;USDC&quot;\n",
       "</td>\n",
       "<td>\n",
       "173978.803809\n",
       "</td>\n",
       "<td>\n",
       "173873.399827\n",
       "</td>\n",
       "<td>\n",
       "16643538\n",
       "</td>\n",
       "</tr>\n",
       "<tr>\n",
       "<td>\n",
       "1676576375\n",
       "</td>\n",
       "<td>\n",
       "&quot;WETH&quot;\n",
       "</td>\n",
       "<td>\n",
       "&quot;USDC&quot;\n",
       "</td>\n",
       "<td>\n",
       "702.246701\n",
       "</td>\n",
       "<td>\n",
       "680.956759\n",
       "</td>\n",
       "<td>\n",
       "&quot;Otex&quot;\n",
       "</td>\n",
       "<td>\n",
       "&quot;USDC_WETH .05%...\n",
       "</td>\n",
       "<td>\n",
       "&quot;WETH&quot;\n",
       "</td>\n",
       "<td>\n",
       "&quot;USDC&quot;\n",
       "</td>\n",
       "<td>\n",
       "8365.833188\n",
       "</td>\n",
       "<td>\n",
       "8354.112665\n",
       "</td>\n",
       "<td>\n",
       "16643437\n",
       "</td>\n",
       "</tr>\n",
       "<tr>\n",
       "<td>\n",
       "1676576027\n",
       "</td>\n",
       "<td>\n",
       "&quot;WETH&quot;\n",
       "</td>\n",
       "<td>\n",
       "&quot;USDC&quot;\n",
       "</td>\n",
       "<td>\n",
       "4200.48487\n",
       "</td>\n",
       "<td>\n",
       "4181.709518\n",
       "</td>\n",
       "<td>\n",
       "&quot;Otex&quot;\n",
       "</td>\n",
       "<td>\n",
       "&quot;USDC_WETH .05%...\n",
       "</td>\n",
       "<td>\n",
       "&quot;USDC&quot;\n",
       "</td>\n",
       "<td>\n",
       "&quot;WETH&quot;\n",
       "</td>\n",
       "<td>\n",
       "240000.0\n",
       "</td>\n",
       "<td>\n",
       "239991.738835\n",
       "</td>\n",
       "<td>\n",
       "16643408\n",
       "</td>\n",
       "</tr>\n",
       "<tr>\n",
       "<td>\n",
       "1676576027\n",
       "</td>\n",
       "<td>\n",
       "&quot;WETH&quot;\n",
       "</td>\n",
       "<td>\n",
       "&quot;USDC&quot;\n",
       "</td>\n",
       "<td>\n",
       "4200.48487\n",
       "</td>\n",
       "<td>\n",
       "4181.709518\n",
       "</td>\n",
       "<td>\n",
       "&quot;Otex&quot;\n",
       "</td>\n",
       "<td>\n",
       "&quot;USDC_WETH .05%...\n",
       "</td>\n",
       "<td>\n",
       "&quot;USDC&quot;\n",
       "</td>\n",
       "<td>\n",
       "&quot;WETH&quot;\n",
       "</td>\n",
       "<td>\n",
       "494.63523\n",
       "</td>\n",
       "<td>\n",
       "494.521645\n",
       "</td>\n",
       "<td>\n",
       "16643408\n",
       "</td>\n",
       "</tr>\n",
       "<tr>\n",
       "<td>\n",
       "1676572271\n",
       "</td>\n",
       "<td>\n",
       "&quot;WETH&quot;\n",
       "</td>\n",
       "<td>\n",
       "&quot;USDC&quot;\n",
       "</td>\n",
       "<td>\n",
       "549378.154525\n",
       "</td>\n",
       "<td>\n",
       "547914.783158\n",
       "</td>\n",
       "<td>\n",
       "&quot;PLM&quot;\n",
       "</td>\n",
       "<td>\n",
       "&quot;USDC_WETH .05%...\n",
       "</td>\n",
       "<td>\n",
       "&quot;WETH&quot;\n",
       "</td>\n",
       "<td>\n",
       "&quot;USDC&quot;\n",
       "</td>\n",
       "<td>\n",
       "11267.52172\n",
       "</td>\n",
       "<td>\n",
       "11236.906127\n",
       "</td>\n",
       "<td>\n",
       "16643095\n",
       "</td>\n",
       "</tr>\n",
       "<tr>\n",
       "<td>\n",
       "1676572271\n",
       "</td>\n",
       "<td>\n",
       "&quot;WETH&quot;\n",
       "</td>\n",
       "<td>\n",
       "&quot;USDC&quot;\n",
       "</td>\n",
       "<td>\n",
       "549378.154525\n",
       "</td>\n",
       "<td>\n",
       "547914.783158\n",
       "</td>\n",
       "<td>\n",
       "&quot;PLM&quot;\n",
       "</td>\n",
       "<td>\n",
       "&quot;USDC_WETH .05%...\n",
       "</td>\n",
       "<td>\n",
       "&quot;WETH&quot;\n",
       "</td>\n",
       "<td>\n",
       "&quot;USDC&quot;\n",
       "</td>\n",
       "<td>\n",
       "2076.54522\n",
       "</td>\n",
       "<td>\n",
       "2070.94122\n",
       "</td>\n",
       "<td>\n",
       "16643095\n",
       "</td>\n",
       "</tr>\n",
       "<tr>\n",
       "<td>\n",
       "1676567687\n",
       "</td>\n",
       "<td>\n",
       "&quot;WETH&quot;\n",
       "</td>\n",
       "<td>\n",
       "&quot;USDC&quot;\n",
       "</td>\n",
       "<td>\n",
       "343.058645\n",
       "</td>\n",
       "<td>\n",
       "326.991679\n",
       "</td>\n",
       "<td>\n",
       "&quot;Quasilabs&quot;\n",
       "</td>\n",
       "<td>\n",
       "&quot;USDC_WETH .05%...\n",
       "</td>\n",
       "<td>\n",
       "&quot;WETH&quot;\n",
       "</td>\n",
       "<td>\n",
       "&quot;USDC&quot;\n",
       "</td>\n",
       "<td>\n",
       "422.589689\n",
       "</td>\n",
       "<td>\n",
       "422.472064\n",
       "</td>\n",
       "<td>\n",
       "16642714\n",
       "</td>\n",
       "</tr>\n",
       "<tr>\n",
       "<td>\n",
       "1676567687\n",
       "</td>\n",
       "<td>\n",
       "&quot;WETH&quot;\n",
       "</td>\n",
       "<td>\n",
       "&quot;USDC&quot;\n",
       "</td>\n",
       "<td>\n",
       "343.058645\n",
       "</td>\n",
       "<td>\n",
       "326.991679\n",
       "</td>\n",
       "<td>\n",
       "&quot;Quasilabs&quot;\n",
       "</td>\n",
       "<td>\n",
       "&quot;USDC_WETH .05%...\n",
       "</td>\n",
       "<td>\n",
       "&quot;WETH&quot;\n",
       "</td>\n",
       "<td>\n",
       "&quot;USDC&quot;\n",
       "</td>\n",
       "<td>\n",
       "2051.919521\n",
       "</td>\n",
       "<td>\n",
       "2051.339422\n",
       "</td>\n",
       "<td>\n",
       "16642714\n",
       "</td>\n",
       "</tr>\n",
       "</tbody>\n",
       "</table>\n",
       "</div>"
      ],
      "text/plain": [
       "shape: (10, 12)\n",
       "┌────────────┬────────────┬────────────┬────────────┬─────┬────────────┬────────────┬────────────┬────────────┐\n",
       "│ trades_tim ┆ trades_sel ┆ trades_buy ┆ trades_sel ┆ ... ┆ swaps_toke ┆ swaps_amou ┆ swaps_amou ┆ swaps_bloc │\n",
       "│ estamp     ┆ lToken_id  ┆ Token_id   ┆ lAmountUsd ┆     ┆ nOut_id    ┆ ntInUSD    ┆ ntOutUSD   ┆ kNumber    │\n",
       "│ ---        ┆ ---        ┆ ---        ┆ ---        ┆     ┆ ---        ┆ ---        ┆ ---        ┆ ---        │\n",
       "│ i64        ┆ str        ┆ str        ┆ f64        ┆     ┆ str        ┆ f64        ┆ f64        ┆ i64        │\n",
       "╞════════════╪════════════╪════════════╪════════════╪═════╪════════════╪════════════╪════════════╪════════════╡\n",
       "│ 1676578631 ┆ WETH       ┆ USDC       ┆ 682.437643 ┆ ... ┆ USDC       ┆ 197797.022 ┆ 197157.273 ┆ 16643623   │\n",
       "│            ┆            ┆            ┆            ┆     ┆            ┆ 41         ┆ 795        ┆            │\n",
       "│ 1676578631 ┆ WETH       ┆ USDC       ┆ 682.437643 ┆ ... ┆ USDC       ┆ 42485.4886 ┆ 42339.4106 ┆ 16643623   │\n",
       "│            ┆            ┆            ┆            ┆     ┆            ┆ 74         ┆ 81         ┆            │\n",
       "│ 1676577599 ┆ USDC       ┆ WETH       ┆ 325000.0   ┆ ... ┆ USDC       ┆ 173978.803 ┆ 173873.399 ┆ 16643538   │\n",
       "│            ┆            ┆            ┆            ┆     ┆            ┆ 809        ┆ 827        ┆            │\n",
       "│ 1676576375 ┆ WETH       ┆ USDC       ┆ 702.246701 ┆ ... ┆ USDC       ┆ 8365.83318 ┆ 8354.11266 ┆ 16643437   │\n",
       "│            ┆            ┆            ┆            ┆     ┆            ┆ 8          ┆ 5          ┆            │\n",
       "│ ...        ┆ ...        ┆ ...        ┆ ...        ┆ ... ┆ ...        ┆ ...        ┆ ...        ┆ ...        │\n",
       "│ 1676572271 ┆ WETH       ┆ USDC       ┆ 549378.154 ┆ ... ┆ USDC       ┆ 11267.5217 ┆ 11236.9061 ┆ 16643095   │\n",
       "│            ┆            ┆            ┆ 525        ┆     ┆            ┆ 2          ┆ 27         ┆            │\n",
       "│ 1676572271 ┆ WETH       ┆ USDC       ┆ 549378.154 ┆ ... ┆ USDC       ┆ 2076.54522 ┆ 2070.94122 ┆ 16643095   │\n",
       "│            ┆            ┆            ┆ 525        ┆     ┆            ┆            ┆            ┆            │\n",
       "│ 1676567687 ┆ WETH       ┆ USDC       ┆ 343.058645 ┆ ... ┆ USDC       ┆ 422.589689 ┆ 422.472064 ┆ 16642714   │\n",
       "│ 1676567687 ┆ WETH       ┆ USDC       ┆ 343.058645 ┆ ... ┆ USDC       ┆ 2051.91952 ┆ 2051.33942 ┆ 16642714   │\n",
       "│            ┆            ┆            ┆            ┆     ┆            ┆ 1          ┆ 2          ┆            │\n",
       "└────────────┴────────────┴────────────┴────────────┴─────┴────────────┴────────────┴────────────┴────────────┘"
      ]
     },
     "execution_count": 72,
     "metadata": {},
     "output_type": "execute_result"
    }
   ],
   "source": [
    "cow_uni_trunc_no_nulls_pl.head(10)"
   ]
  },
  {
   "attachments": {},
   "cell_type": "markdown",
   "metadata": {},
   "source": [
    "### We analyze all of the cow/univ3 trades that occur on the same timestamp/block of the trading direction:\n",
    "- COW - WETH(buy) -> USDC(sell)\n",
    "- UNIV3 - USDC(tokenOut) -> WETH(tokenIn)"
   ]
  },
  {
   "cell_type": "code",
   "execution_count": 59,
   "metadata": {},
   "outputs": [],
   "source": [
    "# get the rows where the trades_buyToken_id and swaps_tokenIn_id are both WETH\n",
    "cow_uni_weth = cow_uni_trunc_no_nulls_pl.filter((pl.col(\"trades_buyToken_id\") == \"WETH\") & (pl.col(\"swaps_tokenIn_id\") == \"WETH\"))"
   ]
  },
  {
   "cell_type": "code",
   "execution_count": 60,
   "metadata": {},
   "outputs": [],
   "source": [
    "diff_pl = cow_uni_weth.with_columns([\n",
    "    (pl.col(\"trades_buyAmountUsd\") - pl.col(\"trades_sellAmountUsd\")).alias('cow_diff'),\n",
    "    (pl.col(\"swaps_amountInUSD\") - pl.col(\"swaps_amountOutUSD\")).alias('uni_diff')\n",
    "])"
   ]
  },
  {
   "cell_type": "code",
   "execution_count": 61,
   "metadata": {},
   "outputs": [],
   "source": [
    "diff_pl = diff_pl.with_columns([\n",
    "    (pl.col('cow_diff').abs()).alias('cow_diff'),\n",
    "    (pl.col('uni_diff').abs()).alias('uni_diff')\n",
    "])    "
   ]
  },
  {
   "cell_type": "code",
   "execution_count": 62,
   "metadata": {},
   "outputs": [],
   "source": [
    "diff_pl = diff_pl.with_columns([\n",
    "    (pl.col(\"cow_diff\") / pl.col(\"trades_buyAmountUsd\")).alias('cow_pct_diff'),\n",
    "    (pl.col(\"uni_diff\") / pl.col(\"swaps_amountInUSD\")).alias('uni_pct_diff')\n",
    "])"
   ]
  },
  {
   "cell_type": "code",
   "execution_count": 66,
   "metadata": {},
   "outputs": [
    {
     "data": {
      "text/plain": [
       "(91, 16)"
      ]
     },
     "execution_count": 66,
     "metadata": {},
     "output_type": "execute_result"
    }
   ],
   "source": [
    "diff_pl.shape"
   ]
  },
  {
   "cell_type": "code",
   "execution_count": 65,
   "metadata": {},
   "outputs": [
    {
     "data": {
      "text/html": [
       "<div>\n",
       "<style>\n",
       ".pl-dataframe > thead > tr > th {\n",
       "  text-align: right;\n",
       "}\n",
       "</style>\n",
       "\n",
       "<table border=\"1\" class=\"pl-dataframe\">\n",
       "<small>shape: (10, 16)</small>\n",
       "<thead>\n",
       "<tr>\n",
       "<th>\n",
       "trades_timestamp\n",
       "</th>\n",
       "<th>\n",
       "trades_sellToken_id\n",
       "</th>\n",
       "<th>\n",
       "trades_buyToken_id\n",
       "</th>\n",
       "<th>\n",
       "trades_sellAmountUsd\n",
       "</th>\n",
       "<th>\n",
       "trades_buyAmountUsd\n",
       "</th>\n",
       "<th>\n",
       "name\n",
       "</th>\n",
       "<th>\n",
       "swaps_pool_id\n",
       "</th>\n",
       "<th>\n",
       "swaps_tokenIn_id\n",
       "</th>\n",
       "<th>\n",
       "swaps_tokenOut_id\n",
       "</th>\n",
       "<th>\n",
       "swaps_amountInUSD\n",
       "</th>\n",
       "<th>\n",
       "swaps_amountOutUSD\n",
       "</th>\n",
       "<th>\n",
       "swaps_blockNumber\n",
       "</th>\n",
       "<th>\n",
       "cow_diff\n",
       "</th>\n",
       "<th>\n",
       "uni_diff\n",
       "</th>\n",
       "<th>\n",
       "cow_pct_diff\n",
       "</th>\n",
       "<th>\n",
       "uni_pct_diff\n",
       "</th>\n",
       "</tr>\n",
       "<tr>\n",
       "<td>\n",
       "i64\n",
       "</td>\n",
       "<td>\n",
       "str\n",
       "</td>\n",
       "<td>\n",
       "str\n",
       "</td>\n",
       "<td>\n",
       "f64\n",
       "</td>\n",
       "<td>\n",
       "f64\n",
       "</td>\n",
       "<td>\n",
       "str\n",
       "</td>\n",
       "<td>\n",
       "str\n",
       "</td>\n",
       "<td>\n",
       "str\n",
       "</td>\n",
       "<td>\n",
       "str\n",
       "</td>\n",
       "<td>\n",
       "f64\n",
       "</td>\n",
       "<td>\n",
       "f64\n",
       "</td>\n",
       "<td>\n",
       "i64\n",
       "</td>\n",
       "<td>\n",
       "f64\n",
       "</td>\n",
       "<td>\n",
       "f64\n",
       "</td>\n",
       "<td>\n",
       "f64\n",
       "</td>\n",
       "<td>\n",
       "f64\n",
       "</td>\n",
       "</tr>\n",
       "</thead>\n",
       "<tbody>\n",
       "<tr>\n",
       "<td>\n",
       "1676577599\n",
       "</td>\n",
       "<td>\n",
       "&quot;USDC&quot;\n",
       "</td>\n",
       "<td>\n",
       "&quot;WETH&quot;\n",
       "</td>\n",
       "<td>\n",
       "325000.0\n",
       "</td>\n",
       "<td>\n",
       "324807.393682\n",
       "</td>\n",
       "<td>\n",
       "&quot;Otex&quot;\n",
       "</td>\n",
       "<td>\n",
       "&quot;USDC_WETH .05%...\n",
       "</td>\n",
       "<td>\n",
       "&quot;WETH&quot;\n",
       "</td>\n",
       "<td>\n",
       "&quot;USDC&quot;\n",
       "</td>\n",
       "<td>\n",
       "173978.803809\n",
       "</td>\n",
       "<td>\n",
       "173873.399827\n",
       "</td>\n",
       "<td>\n",
       "16643538\n",
       "</td>\n",
       "<td>\n",
       "192.606318\n",
       "</td>\n",
       "<td>\n",
       "105.403982\n",
       "</td>\n",
       "<td>\n",
       "0.000593\n",
       "</td>\n",
       "<td>\n",
       "0.000606\n",
       "</td>\n",
       "</tr>\n",
       "<tr>\n",
       "<td>\n",
       "1676567015\n",
       "</td>\n",
       "<td>\n",
       "&quot;USDC&quot;\n",
       "</td>\n",
       "<td>\n",
       "&quot;WETH&quot;\n",
       "</td>\n",
       "<td>\n",
       "110000.0\n",
       "</td>\n",
       "<td>\n",
       "110208.935716\n",
       "</td>\n",
       "<td>\n",
       "&quot;PLM&quot;\n",
       "</td>\n",
       "<td>\n",
       "&quot;USDC_WETH .05%...\n",
       "</td>\n",
       "<td>\n",
       "&quot;WETH&quot;\n",
       "</td>\n",
       "<td>\n",
       "&quot;USDC&quot;\n",
       "</td>\n",
       "<td>\n",
       "6363.072497\n",
       "</td>\n",
       "<td>\n",
       "6349.73263\n",
       "</td>\n",
       "<td>\n",
       "16642658\n",
       "</td>\n",
       "<td>\n",
       "208.935716\n",
       "</td>\n",
       "<td>\n",
       "13.339867\n",
       "</td>\n",
       "<td>\n",
       "0.001896\n",
       "</td>\n",
       "<td>\n",
       "0.002096\n",
       "</td>\n",
       "</tr>\n",
       "<tr>\n",
       "<td>\n",
       "1676567015\n",
       "</td>\n",
       "<td>\n",
       "&quot;USDC&quot;\n",
       "</td>\n",
       "<td>\n",
       "&quot;WETH&quot;\n",
       "</td>\n",
       "<td>\n",
       "110000.0\n",
       "</td>\n",
       "<td>\n",
       "110208.935716\n",
       "</td>\n",
       "<td>\n",
       "&quot;PLM&quot;\n",
       "</td>\n",
       "<td>\n",
       "&quot;USDC_WETH .05%...\n",
       "</td>\n",
       "<td>\n",
       "&quot;WETH&quot;\n",
       "</td>\n",
       "<td>\n",
       "&quot;USDC&quot;\n",
       "</td>\n",
       "<td>\n",
       "4562.271011\n",
       "</td>\n",
       "<td>\n",
       "4551.963473\n",
       "</td>\n",
       "<td>\n",
       "16642658\n",
       "</td>\n",
       "<td>\n",
       "208.935716\n",
       "</td>\n",
       "<td>\n",
       "10.307538\n",
       "</td>\n",
       "<td>\n",
       "0.001896\n",
       "</td>\n",
       "<td>\n",
       "0.002259\n",
       "</td>\n",
       "</tr>\n",
       "<tr>\n",
       "<td>\n",
       "1676567015\n",
       "</td>\n",
       "<td>\n",
       "&quot;USDC&quot;\n",
       "</td>\n",
       "<td>\n",
       "&quot;WETH&quot;\n",
       "</td>\n",
       "<td>\n",
       "110000.0\n",
       "</td>\n",
       "<td>\n",
       "110208.935716\n",
       "</td>\n",
       "<td>\n",
       "&quot;PLM&quot;\n",
       "</td>\n",
       "<td>\n",
       "&quot;USDC_WETH .05%...\n",
       "</td>\n",
       "<td>\n",
       "&quot;WETH&quot;\n",
       "</td>\n",
       "<td>\n",
       "&quot;USDC&quot;\n",
       "</td>\n",
       "<td>\n",
       "5159.24797\n",
       "</td>\n",
       "<td>\n",
       "5147.681646\n",
       "</td>\n",
       "<td>\n",
       "16642658\n",
       "</td>\n",
       "<td>\n",
       "208.935716\n",
       "</td>\n",
       "<td>\n",
       "11.566324\n",
       "</td>\n",
       "<td>\n",
       "0.001896\n",
       "</td>\n",
       "<td>\n",
       "0.002242\n",
       "</td>\n",
       "</tr>\n",
       "<tr>\n",
       "<td>\n",
       "1676563559\n",
       "</td>\n",
       "<td>\n",
       "&quot;USDC&quot;\n",
       "</td>\n",
       "<td>\n",
       "&quot;WETH&quot;\n",
       "</td>\n",
       "<td>\n",
       "17381.244451\n",
       "</td>\n",
       "<td>\n",
       "17360.138855\n",
       "</td>\n",
       "<td>\n",
       "&quot;PLM&quot;\n",
       "</td>\n",
       "<td>\n",
       "&quot;USDC_WETH .05%...\n",
       "</td>\n",
       "<td>\n",
       "&quot;WETH&quot;\n",
       "</td>\n",
       "<td>\n",
       "&quot;USDC&quot;\n",
       "</td>\n",
       "<td>\n",
       "69440.555418\n",
       "</td>\n",
       "<td>\n",
       "69362.862292\n",
       "</td>\n",
       "<td>\n",
       "16642371\n",
       "</td>\n",
       "<td>\n",
       "21.105596\n",
       "</td>\n",
       "<td>\n",
       "77.693126\n",
       "</td>\n",
       "<td>\n",
       "0.001216\n",
       "</td>\n",
       "<td>\n",
       "0.001119\n",
       "</td>\n",
       "</tr>\n",
       "<tr>\n",
       "<td>\n",
       "1676563559\n",
       "</td>\n",
       "<td>\n",
       "&quot;USDC&quot;\n",
       "</td>\n",
       "<td>\n",
       "&quot;WETH&quot;\n",
       "</td>\n",
       "<td>\n",
       "17381.244451\n",
       "</td>\n",
       "<td>\n",
       "17360.138855\n",
       "</td>\n",
       "<td>\n",
       "&quot;PLM&quot;\n",
       "</td>\n",
       "<td>\n",
       "&quot;USDC_WETH .05%...\n",
       "</td>\n",
       "<td>\n",
       "&quot;WETH&quot;\n",
       "</td>\n",
       "<td>\n",
       "&quot;USDC&quot;\n",
       "</td>\n",
       "<td>\n",
       "222776.709715\n",
       "</td>\n",
       "<td>\n",
       "222656.341637\n",
       "</td>\n",
       "<td>\n",
       "16642371\n",
       "</td>\n",
       "<td>\n",
       "21.105596\n",
       "</td>\n",
       "<td>\n",
       "120.368078\n",
       "</td>\n",
       "<td>\n",
       "0.001216\n",
       "</td>\n",
       "<td>\n",
       "0.00054\n",
       "</td>\n",
       "</tr>\n",
       "<tr>\n",
       "<td>\n",
       "1676563559\n",
       "</td>\n",
       "<td>\n",
       "&quot;USDC&quot;\n",
       "</td>\n",
       "<td>\n",
       "&quot;WETH&quot;\n",
       "</td>\n",
       "<td>\n",
       "17381.244451\n",
       "</td>\n",
       "<td>\n",
       "17360.138855\n",
       "</td>\n",
       "<td>\n",
       "&quot;PLM&quot;\n",
       "</td>\n",
       "<td>\n",
       "&quot;USDC_WETH .05%...\n",
       "</td>\n",
       "<td>\n",
       "&quot;WETH&quot;\n",
       "</td>\n",
       "<td>\n",
       "&quot;USDC&quot;\n",
       "</td>\n",
       "<td>\n",
       "10324.942584\n",
       "</td>\n",
       "<td>\n",
       "10311.76104\n",
       "</td>\n",
       "<td>\n",
       "16642371\n",
       "</td>\n",
       "<td>\n",
       "21.105596\n",
       "</td>\n",
       "<td>\n",
       "13.181544\n",
       "</td>\n",
       "<td>\n",
       "0.001216\n",
       "</td>\n",
       "<td>\n",
       "0.001277\n",
       "</td>\n",
       "</tr>\n",
       "<tr>\n",
       "<td>\n",
       "1676562515\n",
       "</td>\n",
       "<td>\n",
       "&quot;USDC&quot;\n",
       "</td>\n",
       "<td>\n",
       "&quot;WETH&quot;\n",
       "</td>\n",
       "<td>\n",
       "171768.513385\n",
       "</td>\n",
       "<td>\n",
       "171403.675813\n",
       "</td>\n",
       "<td>\n",
       "&quot;Quasilabs&quot;\n",
       "</td>\n",
       "<td>\n",
       "&quot;USDC_WETH .05%...\n",
       "</td>\n",
       "<td>\n",
       "&quot;WETH&quot;\n",
       "</td>\n",
       "<td>\n",
       "&quot;USDC&quot;\n",
       "</td>\n",
       "<td>\n",
       "17140.367581\n",
       "</td>\n",
       "<td>\n",
       "17152.556837\n",
       "</td>\n",
       "<td>\n",
       "16642286\n",
       "</td>\n",
       "<td>\n",
       "364.837572\n",
       "</td>\n",
       "<td>\n",
       "12.189256\n",
       "</td>\n",
       "<td>\n",
       "0.002129\n",
       "</td>\n",
       "<td>\n",
       "0.000711\n",
       "</td>\n",
       "</tr>\n",
       "<tr>\n",
       "<td>\n",
       "1676562515\n",
       "</td>\n",
       "<td>\n",
       "&quot;USDC&quot;\n",
       "</td>\n",
       "<td>\n",
       "&quot;WETH&quot;\n",
       "</td>\n",
       "<td>\n",
       "171768.513385\n",
       "</td>\n",
       "<td>\n",
       "171403.675813\n",
       "</td>\n",
       "<td>\n",
       "&quot;Quasilabs&quot;\n",
       "</td>\n",
       "<td>\n",
       "&quot;USDC_WETH .05%...\n",
       "</td>\n",
       "<td>\n",
       "&quot;WETH&quot;\n",
       "</td>\n",
       "<td>\n",
       "&quot;USDC&quot;\n",
       "</td>\n",
       "<td>\n",
       "1053.862124\n",
       "</td>\n",
       "<td>\n",
       "1055.46451\n",
       "</td>\n",
       "<td>\n",
       "16642286\n",
       "</td>\n",
       "<td>\n",
       "364.837572\n",
       "</td>\n",
       "<td>\n",
       "1.602386\n",
       "</td>\n",
       "<td>\n",
       "0.002129\n",
       "</td>\n",
       "<td>\n",
       "0.00152\n",
       "</td>\n",
       "</tr>\n",
       "<tr>\n",
       "<td>\n",
       "1676562515\n",
       "</td>\n",
       "<td>\n",
       "&quot;USDC&quot;\n",
       "</td>\n",
       "<td>\n",
       "&quot;WETH&quot;\n",
       "</td>\n",
       "<td>\n",
       "171768.513385\n",
       "</td>\n",
       "<td>\n",
       "171403.675813\n",
       "</td>\n",
       "<td>\n",
       "&quot;Quasilabs&quot;\n",
       "</td>\n",
       "<td>\n",
       "&quot;USDC_WETH .05%...\n",
       "</td>\n",
       "<td>\n",
       "&quot;WETH&quot;\n",
       "</td>\n",
       "<td>\n",
       "&quot;USDC&quot;\n",
       "</td>\n",
       "<td>\n",
       "2571.055137\n",
       "</td>\n",
       "<td>\n",
       "2574.945086\n",
       "</td>\n",
       "<td>\n",
       "16642286\n",
       "</td>\n",
       "<td>\n",
       "364.837572\n",
       "</td>\n",
       "<td>\n",
       "3.889949\n",
       "</td>\n",
       "<td>\n",
       "0.002129\n",
       "</td>\n",
       "<td>\n",
       "0.001513\n",
       "</td>\n",
       "</tr>\n",
       "</tbody>\n",
       "</table>\n",
       "</div>"
      ],
      "text/plain": [
       "shape: (10, 16)\n",
       "┌────────────┬────────────┬────────────┬────────────┬─────┬────────┬────────┬────────────┬────────────┐\n",
       "│ trades_tim ┆ trades_sel ┆ trades_buy ┆ trades_sel ┆ ... ┆ cow_di ┆ uni_di ┆ cow_pct_di ┆ uni_pct_di │\n",
       "│ estamp     ┆ lToken_id  ┆ Token_id   ┆ lAmountUsd ┆     ┆ ff     ┆ ff     ┆ ff         ┆ ff         │\n",
       "│ ---        ┆ ---        ┆ ---        ┆ ---        ┆     ┆ ---    ┆ ---    ┆ ---        ┆ ---        │\n",
       "│ i64        ┆ str        ┆ str        ┆ f64        ┆     ┆ f64    ┆ f64    ┆ f64        ┆ f64        │\n",
       "╞════════════╪════════════╪════════════╪════════════╪═════╪════════╪════════╪════════════╪════════════╡\n",
       "│ 1676577599 ┆ USDC       ┆ WETH       ┆ 325000.0   ┆ ... ┆ 192.60 ┆ 105.40 ┆ 0.000593   ┆ 0.000606   │\n",
       "│            ┆            ┆            ┆            ┆     ┆ 6318   ┆ 3982   ┆            ┆            │\n",
       "│ 1676567015 ┆ USDC       ┆ WETH       ┆ 110000.0   ┆ ... ┆ 208.93 ┆ 13.339 ┆ 0.001896   ┆ 0.002096   │\n",
       "│            ┆            ┆            ┆            ┆     ┆ 5716   ┆ 867    ┆            ┆            │\n",
       "│ 1676567015 ┆ USDC       ┆ WETH       ┆ 110000.0   ┆ ... ┆ 208.93 ┆ 10.307 ┆ 0.001896   ┆ 0.002259   │\n",
       "│            ┆            ┆            ┆            ┆     ┆ 5716   ┆ 538    ┆            ┆            │\n",
       "│ 1676567015 ┆ USDC       ┆ WETH       ┆ 110000.0   ┆ ... ┆ 208.93 ┆ 11.566 ┆ 0.001896   ┆ 0.002242   │\n",
       "│            ┆            ┆            ┆            ┆     ┆ 5716   ┆ 324    ┆            ┆            │\n",
       "│ ...        ┆ ...        ┆ ...        ┆ ...        ┆ ... ┆ ...    ┆ ...    ┆ ...        ┆ ...        │\n",
       "│ 1676563559 ┆ USDC       ┆ WETH       ┆ 17381.2444 ┆ ... ┆ 21.105 ┆ 13.181 ┆ 0.001216   ┆ 0.001277   │\n",
       "│            ┆            ┆            ┆ 51         ┆     ┆ 596    ┆ 544    ┆            ┆            │\n",
       "│ 1676562515 ┆ USDC       ┆ WETH       ┆ 171768.513 ┆ ... ┆ 364.83 ┆ 12.189 ┆ 0.002129   ┆ 0.000711   │\n",
       "│            ┆            ┆            ┆ 385        ┆     ┆ 7572   ┆ 256    ┆            ┆            │\n",
       "│ 1676562515 ┆ USDC       ┆ WETH       ┆ 171768.513 ┆ ... ┆ 364.83 ┆ 1.6023 ┆ 0.002129   ┆ 0.00152    │\n",
       "│            ┆            ┆            ┆ 385        ┆     ┆ 7572   ┆ 86     ┆            ┆            │\n",
       "│ 1676562515 ┆ USDC       ┆ WETH       ┆ 171768.513 ┆ ... ┆ 364.83 ┆ 3.8899 ┆ 0.002129   ┆ 0.001513   │\n",
       "│            ┆            ┆            ┆ 385        ┆     ┆ 7572   ┆ 49     ┆            ┆            │\n",
       "└────────────┴────────────┴────────────┴────────────┴─────┴────────┴────────┴────────────┴────────────┘"
      ]
     },
     "execution_count": 65,
     "metadata": {},
     "output_type": "execute_result"
    }
   ],
   "source": [
    "diff_pl.head(10)"
   ]
  },
  {
   "cell_type": "code",
   "execution_count": 63,
   "metadata": {},
   "outputs": [],
   "source": [
    "# plot polar dataframe with matplotlib\n",
    "import plotly.express as px"
   ]
  },
  {
   "cell_type": "code",
   "execution_count": 64,
   "metadata": {},
   "outputs": [
    {
     "name": "stderr",
     "output_type": "stream",
     "text": [
      "/home/evan/.local/lib/python3.10/site-packages/plotly/io/_renderers.py:7: DeprecationWarning:\n",
      "\n",
      "The distutils package is deprecated and slated for removal in Python 3.12. Use setuptools or check PEP 632 for potential alternatives\n",
      "\n"
     ]
    },
    {
     "data": {
      "application/vnd.plotly.v1+json": {
       "config": {
        "plotlyServerURL": "https://plot.ly"
       },
       "data": [
        {
         "hovertemplate": "x=%{x}<br>y=%{y}<extra></extra>",
         "legendgroup": "",
         "marker": {
          "color": "#636efa",
          "symbol": "circle"
         },
         "mode": "markers",
         "name": "",
         "orientation": "v",
         "showlegend": false,
         "type": "scatter",
         "x": [
          0.0005929862480626017,
          0.001895814663928969,
          0.001895814663928969,
          0.001895814663928969,
          0.0012157504412092875,
          0.0012157504412092875,
          0.0012157504412092875,
          0.002128528285222902,
          0.002128528285222902,
          0.002128528285222902,
          0.00014674832284616968,
          0.0016964808144921144,
          0.0016964808144921144,
          0.0035680129711634094,
          0.003324460514302619,
          0.0004189521472441911,
          0.0019004940504344053,
          0.0028212064863689444,
          0.004041880782311099,
          0.0017202212664461842,
          0.0017202212664461842,
          0.0010631507225048456,
          0.007245754424042284,
          0.0026310713864131394,
          0.002092541802362521,
          0.003148832836045912,
          0.004561988375107908,
          0.004561988375107908,
          0.0018899585976833505,
          0.0018899585976833505,
          0.000998886280426806,
          0.0019235775265084509,
          0.0026591635630517944,
          0.0026591635630517944,
          0.00038938667424831037,
          0.0018936269730714889,
          0.0018936269730714889,
          0.0018936269730714889,
          0.0018936269730714889,
          0.0018936269730714889,
          0.0031780334807051105,
          0.0001520189557151853,
          0.0001520189557151853,
          0.0008631244435491499,
          0.0012688889930694244,
          0.0007911704655540664,
          0.00456394551360992,
          0.00020050881893168842,
          0.00020050881893168842,
          0.0015250637473024663,
          0.0015250637473024663,
          0.0015250637473024663,
          0.00146500348885693,
          0.002155840544714738,
          0.002155840544714738,
          0.0013152313318823055,
          0.0021137484517304867,
          0.0005305756071376866,
          0.0014577726875906884,
          0.0014577726875906884,
          0.014383878678696898,
          0.0011704247833116334,
          0.0021861939157688864,
          0.0017720512647094679,
          0.0025963656551245846,
          0.0019674548939467356,
          0.0019674548939467356,
          0.0017982912859396633,
          0.0021455225222428024,
          0.0006853039374755325,
          0.0030931976430464904,
          0.0015774816647693393,
          0.002247940276688354,
          0.004561988375107908,
          0.004561988375107908,
          0.0006316688145771549,
          0.00008571197897460344,
          0.0009672766568547347,
          0.0009672766568547347,
          0.0013371076568781156,
          0.005725501064198958,
          0.005725501064198958,
          0.00302344829053229,
          0.04419806572831714,
          0.025286569738710053,
          0.0021505464313265714,
          0.0019983038088815627,
          0.006381732145954725,
          0.007187715867490963,
          0.0037990196823192704,
          0.0005395460920400649
         ],
         "xaxis": "x",
         "y": [
          0.0006058438122847895,
          0.00209645053182495,
          0.0022592998159098347,
          0.0022418624535776523,
          0.0011188436734844915,
          0.0005403081796441165,
          0.0012766699304865114,
          0.0007111431921053362,
          0.001520488905049917,
          0.0015129775908227022,
          0.0009182937854468359,
          0.0004653569178132345,
          0.00047024038347802627,
          0.0017330395144812664,
          0.002136275798691943,
          0.00006794859061248097,
          0.002618153606381668,
          0.0013214577279102632,
          0.001119632445355006,
          0.0007358039341847136,
          0.0007258912996544495,
          0.002697813628768438,
          0.0005377265833312752,
          0.0012674441913507737,
          0.002507363701212437,
          0.0000642062063892454,
          0.0027736571893399475,
          0.0033998770852612516,
          0.0025781805941791874,
          0.0026266068097414515,
          0.00029993520109666014,
          0.002995288393122616,
          0.0011766626946351577,
          0.0011537697831131958,
          0.0010860184040480632,
          0.0018204127968758257,
          0.001866569734745179,
          0.0018403261168867485,
          0.0017513369391520318,
          0.001785423463726974,
          0.0017211652826629455,
          0.0008336996061650188,
          0.0008345105420980597,
          0.0004772738765070398,
          0.002092876941193913,
          0.0023387458436652906,
          0.00185190920649041,
          0.000972567778519866,
          0.0009627611394828653,
          0.0019211384400771067,
          0.002180558527207527,
          0.001812335372736544,
          0.00034652299431578356,
          0.0016607677232375077,
          0.0016604891862417896,
          0.0004391963542056154,
          0.0024208305183613587,
          0.0014982889371498356,
          0.0003158847281186075,
          0.0003122553540395596,
          0.0007663852557706327,
          0.00134210426477225,
          0.0027085492896369483,
          0.00042284887151726507,
          0.0029229916384455414,
          0.0028615542599205158,
          0.002870438840708132,
          0.0013595689180379703,
          0.002391139202236263,
          0.0003399996830109476,
          0.0020967712243560883,
          0.0007537480564897313,
          0.003112978478269408,
          0.0034393053462945123,
          0.0030283135791790918,
          0.004102212034588993,
          0.0038473158175164725,
          0.0030110148041767827,
          0.0032771668922066555,
          0.003000623614526009,
          0.003015978939195757,
          0.0030055472192967053,
          0.0033610118912642396,
          0.0030542373740476557,
          0.003174495095108767,
          0.0032925326473563186,
          0.0030714635610703507,
          0.00706770229957459,
          0.003002269783036825,
          0.00300913438743291,
          0.003186331102718971
         ],
         "yaxis": "y"
        }
       ],
       "layout": {
        "legend": {
         "tracegroupgap": 0
        },
        "template": {
         "data": {
          "bar": [
           {
            "error_x": {
             "color": "#2a3f5f"
            },
            "error_y": {
             "color": "#2a3f5f"
            },
            "marker": {
             "line": {
              "color": "#E5ECF6",
              "width": 0.5
             },
             "pattern": {
              "fillmode": "overlay",
              "size": 10,
              "solidity": 0.2
             }
            },
            "type": "bar"
           }
          ],
          "barpolar": [
           {
            "marker": {
             "line": {
              "color": "#E5ECF6",
              "width": 0.5
             },
             "pattern": {
              "fillmode": "overlay",
              "size": 10,
              "solidity": 0.2
             }
            },
            "type": "barpolar"
           }
          ],
          "carpet": [
           {
            "aaxis": {
             "endlinecolor": "#2a3f5f",
             "gridcolor": "white",
             "linecolor": "white",
             "minorgridcolor": "white",
             "startlinecolor": "#2a3f5f"
            },
            "baxis": {
             "endlinecolor": "#2a3f5f",
             "gridcolor": "white",
             "linecolor": "white",
             "minorgridcolor": "white",
             "startlinecolor": "#2a3f5f"
            },
            "type": "carpet"
           }
          ],
          "choropleth": [
           {
            "colorbar": {
             "outlinewidth": 0,
             "ticks": ""
            },
            "type": "choropleth"
           }
          ],
          "contour": [
           {
            "colorbar": {
             "outlinewidth": 0,
             "ticks": ""
            },
            "colorscale": [
             [
              0,
              "#0d0887"
             ],
             [
              0.1111111111111111,
              "#46039f"
             ],
             [
              0.2222222222222222,
              "#7201a8"
             ],
             [
              0.3333333333333333,
              "#9c179e"
             ],
             [
              0.4444444444444444,
              "#bd3786"
             ],
             [
              0.5555555555555556,
              "#d8576b"
             ],
             [
              0.6666666666666666,
              "#ed7953"
             ],
             [
              0.7777777777777778,
              "#fb9f3a"
             ],
             [
              0.8888888888888888,
              "#fdca26"
             ],
             [
              1,
              "#f0f921"
             ]
            ],
            "type": "contour"
           }
          ],
          "contourcarpet": [
           {
            "colorbar": {
             "outlinewidth": 0,
             "ticks": ""
            },
            "type": "contourcarpet"
           }
          ],
          "heatmap": [
           {
            "colorbar": {
             "outlinewidth": 0,
             "ticks": ""
            },
            "colorscale": [
             [
              0,
              "#0d0887"
             ],
             [
              0.1111111111111111,
              "#46039f"
             ],
             [
              0.2222222222222222,
              "#7201a8"
             ],
             [
              0.3333333333333333,
              "#9c179e"
             ],
             [
              0.4444444444444444,
              "#bd3786"
             ],
             [
              0.5555555555555556,
              "#d8576b"
             ],
             [
              0.6666666666666666,
              "#ed7953"
             ],
             [
              0.7777777777777778,
              "#fb9f3a"
             ],
             [
              0.8888888888888888,
              "#fdca26"
             ],
             [
              1,
              "#f0f921"
             ]
            ],
            "type": "heatmap"
           }
          ],
          "heatmapgl": [
           {
            "colorbar": {
             "outlinewidth": 0,
             "ticks": ""
            },
            "colorscale": [
             [
              0,
              "#0d0887"
             ],
             [
              0.1111111111111111,
              "#46039f"
             ],
             [
              0.2222222222222222,
              "#7201a8"
             ],
             [
              0.3333333333333333,
              "#9c179e"
             ],
             [
              0.4444444444444444,
              "#bd3786"
             ],
             [
              0.5555555555555556,
              "#d8576b"
             ],
             [
              0.6666666666666666,
              "#ed7953"
             ],
             [
              0.7777777777777778,
              "#fb9f3a"
             ],
             [
              0.8888888888888888,
              "#fdca26"
             ],
             [
              1,
              "#f0f921"
             ]
            ],
            "type": "heatmapgl"
           }
          ],
          "histogram": [
           {
            "marker": {
             "pattern": {
              "fillmode": "overlay",
              "size": 10,
              "solidity": 0.2
             }
            },
            "type": "histogram"
           }
          ],
          "histogram2d": [
           {
            "colorbar": {
             "outlinewidth": 0,
             "ticks": ""
            },
            "colorscale": [
             [
              0,
              "#0d0887"
             ],
             [
              0.1111111111111111,
              "#46039f"
             ],
             [
              0.2222222222222222,
              "#7201a8"
             ],
             [
              0.3333333333333333,
              "#9c179e"
             ],
             [
              0.4444444444444444,
              "#bd3786"
             ],
             [
              0.5555555555555556,
              "#d8576b"
             ],
             [
              0.6666666666666666,
              "#ed7953"
             ],
             [
              0.7777777777777778,
              "#fb9f3a"
             ],
             [
              0.8888888888888888,
              "#fdca26"
             ],
             [
              1,
              "#f0f921"
             ]
            ],
            "type": "histogram2d"
           }
          ],
          "histogram2dcontour": [
           {
            "colorbar": {
             "outlinewidth": 0,
             "ticks": ""
            },
            "colorscale": [
             [
              0,
              "#0d0887"
             ],
             [
              0.1111111111111111,
              "#46039f"
             ],
             [
              0.2222222222222222,
              "#7201a8"
             ],
             [
              0.3333333333333333,
              "#9c179e"
             ],
             [
              0.4444444444444444,
              "#bd3786"
             ],
             [
              0.5555555555555556,
              "#d8576b"
             ],
             [
              0.6666666666666666,
              "#ed7953"
             ],
             [
              0.7777777777777778,
              "#fb9f3a"
             ],
             [
              0.8888888888888888,
              "#fdca26"
             ],
             [
              1,
              "#f0f921"
             ]
            ],
            "type": "histogram2dcontour"
           }
          ],
          "mesh3d": [
           {
            "colorbar": {
             "outlinewidth": 0,
             "ticks": ""
            },
            "type": "mesh3d"
           }
          ],
          "parcoords": [
           {
            "line": {
             "colorbar": {
              "outlinewidth": 0,
              "ticks": ""
             }
            },
            "type": "parcoords"
           }
          ],
          "pie": [
           {
            "automargin": true,
            "type": "pie"
           }
          ],
          "scatter": [
           {
            "fillpattern": {
             "fillmode": "overlay",
             "size": 10,
             "solidity": 0.2
            },
            "type": "scatter"
           }
          ],
          "scatter3d": [
           {
            "line": {
             "colorbar": {
              "outlinewidth": 0,
              "ticks": ""
             }
            },
            "marker": {
             "colorbar": {
              "outlinewidth": 0,
              "ticks": ""
             }
            },
            "type": "scatter3d"
           }
          ],
          "scattercarpet": [
           {
            "marker": {
             "colorbar": {
              "outlinewidth": 0,
              "ticks": ""
             }
            },
            "type": "scattercarpet"
           }
          ],
          "scattergeo": [
           {
            "marker": {
             "colorbar": {
              "outlinewidth": 0,
              "ticks": ""
             }
            },
            "type": "scattergeo"
           }
          ],
          "scattergl": [
           {
            "marker": {
             "colorbar": {
              "outlinewidth": 0,
              "ticks": ""
             }
            },
            "type": "scattergl"
           }
          ],
          "scattermapbox": [
           {
            "marker": {
             "colorbar": {
              "outlinewidth": 0,
              "ticks": ""
             }
            },
            "type": "scattermapbox"
           }
          ],
          "scatterpolar": [
           {
            "marker": {
             "colorbar": {
              "outlinewidth": 0,
              "ticks": ""
             }
            },
            "type": "scatterpolar"
           }
          ],
          "scatterpolargl": [
           {
            "marker": {
             "colorbar": {
              "outlinewidth": 0,
              "ticks": ""
             }
            },
            "type": "scatterpolargl"
           }
          ],
          "scatterternary": [
           {
            "marker": {
             "colorbar": {
              "outlinewidth": 0,
              "ticks": ""
             }
            },
            "type": "scatterternary"
           }
          ],
          "surface": [
           {
            "colorbar": {
             "outlinewidth": 0,
             "ticks": ""
            },
            "colorscale": [
             [
              0,
              "#0d0887"
             ],
             [
              0.1111111111111111,
              "#46039f"
             ],
             [
              0.2222222222222222,
              "#7201a8"
             ],
             [
              0.3333333333333333,
              "#9c179e"
             ],
             [
              0.4444444444444444,
              "#bd3786"
             ],
             [
              0.5555555555555556,
              "#d8576b"
             ],
             [
              0.6666666666666666,
              "#ed7953"
             ],
             [
              0.7777777777777778,
              "#fb9f3a"
             ],
             [
              0.8888888888888888,
              "#fdca26"
             ],
             [
              1,
              "#f0f921"
             ]
            ],
            "type": "surface"
           }
          ],
          "table": [
           {
            "cells": {
             "fill": {
              "color": "#EBF0F8"
             },
             "line": {
              "color": "white"
             }
            },
            "header": {
             "fill": {
              "color": "#C8D4E3"
             },
             "line": {
              "color": "white"
             }
            },
            "type": "table"
           }
          ]
         },
         "layout": {
          "annotationdefaults": {
           "arrowcolor": "#2a3f5f",
           "arrowhead": 0,
           "arrowwidth": 1
          },
          "autotypenumbers": "strict",
          "coloraxis": {
           "colorbar": {
            "outlinewidth": 0,
            "ticks": ""
           }
          },
          "colorscale": {
           "diverging": [
            [
             0,
             "#8e0152"
            ],
            [
             0.1,
             "#c51b7d"
            ],
            [
             0.2,
             "#de77ae"
            ],
            [
             0.3,
             "#f1b6da"
            ],
            [
             0.4,
             "#fde0ef"
            ],
            [
             0.5,
             "#f7f7f7"
            ],
            [
             0.6,
             "#e6f5d0"
            ],
            [
             0.7,
             "#b8e186"
            ],
            [
             0.8,
             "#7fbc41"
            ],
            [
             0.9,
             "#4d9221"
            ],
            [
             1,
             "#276419"
            ]
           ],
           "sequential": [
            [
             0,
             "#0d0887"
            ],
            [
             0.1111111111111111,
             "#46039f"
            ],
            [
             0.2222222222222222,
             "#7201a8"
            ],
            [
             0.3333333333333333,
             "#9c179e"
            ],
            [
             0.4444444444444444,
             "#bd3786"
            ],
            [
             0.5555555555555556,
             "#d8576b"
            ],
            [
             0.6666666666666666,
             "#ed7953"
            ],
            [
             0.7777777777777778,
             "#fb9f3a"
            ],
            [
             0.8888888888888888,
             "#fdca26"
            ],
            [
             1,
             "#f0f921"
            ]
           ],
           "sequentialminus": [
            [
             0,
             "#0d0887"
            ],
            [
             0.1111111111111111,
             "#46039f"
            ],
            [
             0.2222222222222222,
             "#7201a8"
            ],
            [
             0.3333333333333333,
             "#9c179e"
            ],
            [
             0.4444444444444444,
             "#bd3786"
            ],
            [
             0.5555555555555556,
             "#d8576b"
            ],
            [
             0.6666666666666666,
             "#ed7953"
            ],
            [
             0.7777777777777778,
             "#fb9f3a"
            ],
            [
             0.8888888888888888,
             "#fdca26"
            ],
            [
             1,
             "#f0f921"
            ]
           ]
          },
          "colorway": [
           "#636efa",
           "#EF553B",
           "#00cc96",
           "#ab63fa",
           "#FFA15A",
           "#19d3f3",
           "#FF6692",
           "#B6E880",
           "#FF97FF",
           "#FECB52"
          ],
          "font": {
           "color": "#2a3f5f"
          },
          "geo": {
           "bgcolor": "white",
           "lakecolor": "white",
           "landcolor": "#E5ECF6",
           "showlakes": true,
           "showland": true,
           "subunitcolor": "white"
          },
          "hoverlabel": {
           "align": "left"
          },
          "hovermode": "closest",
          "mapbox": {
           "style": "light"
          },
          "paper_bgcolor": "white",
          "plot_bgcolor": "#E5ECF6",
          "polar": {
           "angularaxis": {
            "gridcolor": "white",
            "linecolor": "white",
            "ticks": ""
           },
           "bgcolor": "#E5ECF6",
           "radialaxis": {
            "gridcolor": "white",
            "linecolor": "white",
            "ticks": ""
           }
          },
          "scene": {
           "xaxis": {
            "backgroundcolor": "#E5ECF6",
            "gridcolor": "white",
            "gridwidth": 2,
            "linecolor": "white",
            "showbackground": true,
            "ticks": "",
            "zerolinecolor": "white"
           },
           "yaxis": {
            "backgroundcolor": "#E5ECF6",
            "gridcolor": "white",
            "gridwidth": 2,
            "linecolor": "white",
            "showbackground": true,
            "ticks": "",
            "zerolinecolor": "white"
           },
           "zaxis": {
            "backgroundcolor": "#E5ECF6",
            "gridcolor": "white",
            "gridwidth": 2,
            "linecolor": "white",
            "showbackground": true,
            "ticks": "",
            "zerolinecolor": "white"
           }
          },
          "shapedefaults": {
           "line": {
            "color": "#2a3f5f"
           }
          },
          "ternary": {
           "aaxis": {
            "gridcolor": "white",
            "linecolor": "white",
            "ticks": ""
           },
           "baxis": {
            "gridcolor": "white",
            "linecolor": "white",
            "ticks": ""
           },
           "bgcolor": "#E5ECF6",
           "caxis": {
            "gridcolor": "white",
            "linecolor": "white",
            "ticks": ""
           }
          },
          "title": {
           "x": 0.05
          },
          "xaxis": {
           "automargin": true,
           "gridcolor": "white",
           "linecolor": "white",
           "ticks": "",
           "title": {
            "standoff": 15
           },
           "zerolinecolor": "white",
           "zerolinewidth": 2
          },
          "yaxis": {
           "automargin": true,
           "gridcolor": "white",
           "linecolor": "white",
           "ticks": "",
           "title": {
            "standoff": 15
           },
           "zerolinecolor": "white",
           "zerolinewidth": 2
          }
         }
        },
        "title": {
         "text": "Uni vs Cow WETH -> USDC Execution Price Percent Difference"
        },
        "xaxis": {
         "anchor": "y",
         "domain": [
          0,
          1
         ],
         "title": {
          "text": "cow_pct_diff"
         }
        },
        "yaxis": {
         "anchor": "x",
         "domain": [
          0,
          1
         ],
         "title": {
          "text": "uni_pct_diff"
         }
        }
       }
      }
     },
     "metadata": {},
     "output_type": "display_data"
    }
   ],
   "source": [
    "px.scatter(diff_pl, x=list(diff_pl[\"cow_pct_diff\"]), y=list(diff_pl[\"uni_pct_diff\"]), title=\"Uni vs Cow WETH -> USDC Execution Price Percent Difference\").update_layout(\n",
    "    xaxis_title=\"cow_pct_diff\", yaxis_title=\"uni_pct_diff\"\n",
    ")"
   ]
  },
  {
   "attachments": {},
   "cell_type": "markdown",
   "metadata": {},
   "source": [
    "### Write final output to csv"
   ]
  },
  {
   "cell_type": "code",
   "execution_count": null,
   "metadata": {},
   "outputs": [],
   "source": [
    "# save cow_complete_pl to csv\n",
    "# cow_uni_pl.write_csv('data/cow_uni_pl.csv')"
   ]
  }
 ],
 "metadata": {
  "kernelspec": {
   "display_name": "Python 3",
   "language": "python",
   "name": "python3"
  },
  "language_info": {
   "codemirror_mode": {
    "name": "ipython",
    "version": 3
   },
   "file_extension": ".py",
   "mimetype": "text/x-python",
   "name": "python",
   "nbconvert_exporter": "python",
   "pygments_lexer": "ipython3",
   "version": "3.10.6"
  },
  "orig_nbformat": 4,
  "vscode": {
   "interpreter": {
    "hash": "e7370f93d1d0cde622a1f8e1c04877d8463912d04d973331ad4851f04de6915a"
   }
  }
 },
 "nbformat": 4,
 "nbformat_minor": 2
}
