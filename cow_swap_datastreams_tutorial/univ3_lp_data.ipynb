{
 "cells": [
  {
   "cell_type": "markdown",
   "metadata": {},
   "source": [
    "## Test notebook, looking to streamline some logic around token addresses and liquidity pool information such as name, decimal places, and the pools the tokens belong to"
   ]
  },
  {
   "cell_type": "code",
   "execution_count": 1,
   "metadata": {},
   "outputs": [],
   "source": [
    "from datastreams.datastream import Streamer\n",
    "\n",
    "import os\n",
    "import pandas as pd\n",
    "import polars as pl\n",
    "\n",
    "# These commands enlarge the column size of the dataframe so things like 0x... are not truncated\n",
    "pd.set_option('display.max_columns', None)\n",
    "pd.set_option('display.expand_frame_repr', False)\n",
    "pd.set_option('max_colwidth', None)"
   ]
  },
  {
   "cell_type": "code",
   "execution_count": 4,
   "metadata": {},
   "outputs": [],
   "source": [
    "weth_usdc_list = [\n",
    "    \"0x88e6a0c2ddd26feeb64f039a2c41296fcb3f5640\", # usdc/weth .05%\n",
    "    \"0x8ad599c3a0ff1de082011efddc58f1908eb6e6d8\" #usdc/weth .3%\n",
    "]"
   ]
  },
  {
   "cell_type": "code",
   "execution_count": 2,
   "metadata": {},
   "outputs": [],
   "source": [
    "univ3_ds = Streamer('https://api.thegraph.com/subgraphs/name/messari/uniswap-v3-ethereum')"
   ]
  },
  {
   "cell_type": "code",
   "execution_count": 6,
   "metadata": {},
   "outputs": [
    {
     "data": {
      "text/plain": [
       "dict_keys(['tokens', 'rewardTokens', 'liquidityPoolFees', 'dexAmmProtocols', 'usageMetricsDailySnapshots', 'usageMetricsHourlySnapshots', 'financialsDailySnapshots', 'liquidityPools', 'liquidityPoolDailySnapshots', 'liquidityPoolHourlySnapshots', 'deposits', 'withdraws', 'swaps', 'accounts', 'activeAccounts', 'liquidityPoolAmounts', 'helperStores', 'tokenWhitelists', 'protocols', 'events'])"
      ]
     },
     "execution_count": 6,
     "metadata": {},
     "output_type": "execute_result"
    }
   ],
   "source": [
    "univ3_ds.queryDict.keys()"
   ]
  },
  {
   "cell_type": "code",
   "execution_count": 12,
   "metadata": {},
   "outputs": [],
   "source": [
    "# call the field path stored in the univ3 schema\n",
    "univ3_lp_fp = univ3_ds.queryDict['liquidityPools']"
   ]
  },
  {
   "cell_type": "code",
   "execution_count": 13,
   "metadata": {},
   "outputs": [],
   "source": [
    "# define a custom query path based off of the field path\n",
    "swaps_qp = univ3_lp_fp(\n",
    "    first=10,\n",
    "    where ={\"id_in\": weth_usdc_list},\n",
    "\n",
    ")"
   ]
  },
  {
   "cell_type": "code",
   "execution_count": 19,
   "metadata": {},
   "outputs": [
    {
     "name": "stdout",
     "output_type": "stream",
     "text": [
      "FIELD - liquidityPools\n"
     ]
    }
   ],
   "source": [
    "univ3_lp_df = univ3_ds.runQuery(swaps_qp) # note that this data seems to save over the original queryDict 'pools' key"
   ]
  },
  {
   "cell_type": "code",
   "execution_count": 20,
   "metadata": {},
   "outputs": [
    {
     "data": {
      "text/html": [
       "<div>\n",
       "<style scoped>\n",
       "    .dataframe tbody tr th:only-of-type {\n",
       "        vertical-align: middle;\n",
       "    }\n",
       "\n",
       "    .dataframe tbody tr th {\n",
       "        vertical-align: top;\n",
       "    }\n",
       "\n",
       "    .dataframe thead th {\n",
       "        text-align: right;\n",
       "    }\n",
       "</style>\n",
       "<table border=\"1\" class=\"dataframe\">\n",
       "  <thead>\n",
       "    <tr style=\"text-align: right;\">\n",
       "      <th></th>\n",
       "      <th>liquidityPools_id</th>\n",
       "      <th>liquidityPools_protocol_id</th>\n",
       "      <th>liquidityPools_name</th>\n",
       "      <th>liquidityPools_symbol</th>\n",
       "      <th>liquidityPools_outputToken_id</th>\n",
       "      <th>liquidityPools_isSingleSided</th>\n",
       "      <th>liquidityPools_createdTimestamp</th>\n",
       "      <th>liquidityPools_createdBlockNumber</th>\n",
       "      <th>liquidityPools_totalValueLockedUSD</th>\n",
       "      <th>liquidityPools_cumulativeSupplySideRevenueUSD</th>\n",
       "      <th>liquidityPools_cumulativeProtocolSideRevenueUSD</th>\n",
       "      <th>liquidityPools_cumulativeTotalRevenueUSD</th>\n",
       "      <th>liquidityPools_cumulativeVolumeUSD</th>\n",
       "      <th>liquidityPools_outputTokenSupply</th>\n",
       "      <th>liquidityPools_outputTokenPriceUSD</th>\n",
       "      <th>liquidityPools_stakedOutputTokenAmount</th>\n",
       "      <th>endpoint</th>\n",
       "    </tr>\n",
       "  </thead>\n",
       "  <tbody>\n",
       "    <tr>\n",
       "      <th>0</th>\n",
       "      <td>0x88e6a0c2ddd26feeb64f039a2c41296fcb3f5640</td>\n",
       "      <td>0x1f98431c8ad98523631ae4a59f267346ea31f984</td>\n",
       "      <td>Uniswap V3 USD Coin/Wrapped Ether 0.05%</td>\n",
       "      <td>USD Coin/Wrapped Ether</td>\n",
       "      <td>None</td>\n",
       "      <td>False</td>\n",
       "      <td>1620250931</td>\n",
       "      <td>12376729</td>\n",
       "      <td>1.980760e+08</td>\n",
       "      <td>1.691806e+08</td>\n",
       "      <td>0.0</td>\n",
       "      <td>1.691806e+08</td>\n",
       "      <td>3.383611e+11</td>\n",
       "      <td>None</td>\n",
       "      <td>None</td>\n",
       "      <td>None</td>\n",
       "      <td>uniswap-v3-ethereum</td>\n",
       "    </tr>\n",
       "    <tr>\n",
       "      <th>1</th>\n",
       "      <td>0x8ad599c3a0ff1de082011efddc58f1908eb6e6d8</td>\n",
       "      <td>0x1f98431c8ad98523631ae4a59f267346ea31f984</td>\n",
       "      <td>Uniswap V3 USD Coin/Wrapped Ether 0.3%</td>\n",
       "      <td>USD Coin/Wrapped Ether</td>\n",
       "      <td>None</td>\n",
       "      <td>False</td>\n",
       "      <td>1620169800</td>\n",
       "      <td>12370624</td>\n",
       "      <td>1.756591e+08</td>\n",
       "      <td>2.054916e+08</td>\n",
       "      <td>0.0</td>\n",
       "      <td>2.054916e+08</td>\n",
       "      <td>6.849719e+10</td>\n",
       "      <td>None</td>\n",
       "      <td>None</td>\n",
       "      <td>None</td>\n",
       "      <td>uniswap-v3-ethereum</td>\n",
       "    </tr>\n",
       "  </tbody>\n",
       "</table>\n",
       "</div>"
      ],
      "text/plain": [
       "                            liquidityPools_id                  liquidityPools_protocol_id                      liquidityPools_name   liquidityPools_symbol liquidityPools_outputToken_id  liquidityPools_isSingleSided  liquidityPools_createdTimestamp  liquidityPools_createdBlockNumber  liquidityPools_totalValueLockedUSD  liquidityPools_cumulativeSupplySideRevenueUSD  liquidityPools_cumulativeProtocolSideRevenueUSD  liquidityPools_cumulativeTotalRevenueUSD  liquidityPools_cumulativeVolumeUSD liquidityPools_outputTokenSupply liquidityPools_outputTokenPriceUSD liquidityPools_stakedOutputTokenAmount             endpoint\n",
       "0  0x88e6a0c2ddd26feeb64f039a2c41296fcb3f5640  0x1f98431c8ad98523631ae4a59f267346ea31f984  Uniswap V3 USD Coin/Wrapped Ether 0.05%  USD Coin/Wrapped Ether                          None                         False                       1620250931                           12376729                        1.980760e+08                                   1.691806e+08                                              0.0                              1.691806e+08                        3.383611e+11                             None                               None                                   None  uniswap-v3-ethereum\n",
       "1  0x8ad599c3a0ff1de082011efddc58f1908eb6e6d8  0x1f98431c8ad98523631ae4a59f267346ea31f984   Uniswap V3 USD Coin/Wrapped Ether 0.3%  USD Coin/Wrapped Ether                          None                         False                       1620169800                           12370624                        1.756591e+08                                   2.054916e+08                                              0.0                              2.054916e+08                        6.849719e+10                             None                               None                                   None  uniswap-v3-ethereum"
      ]
     },
     "execution_count": 20,
     "metadata": {},
     "output_type": "execute_result"
    }
   ],
   "source": [
    "univ3_lp_df"
   ]
  },
  {
   "cell_type": "code",
   "execution_count": 26,
   "metadata": {},
   "outputs": [],
   "source": [
    "# create a token_names list from liquidityPools_symbol values separated by / and drop duplicates\n",
    "token_names = univ3_lp_df['liquidityPools_symbol'].str.split('/', expand=True).stack().unique()"
   ]
  },
  {
   "cell_type": "code",
   "execution_count": 27,
   "metadata": {},
   "outputs": [
    {
     "data": {
      "text/plain": [
       "array(['USD Coin', 'Wrapped Ether'], dtype=object)"
      ]
     },
     "execution_count": 27,
     "metadata": {},
     "output_type": "execute_result"
    }
   ],
   "source": [
    "token_names"
   ]
  },
  {
   "cell_type": "code",
   "execution_count": 28,
   "metadata": {},
   "outputs": [
    {
     "data": {
      "text/plain": [
       "dict_keys(['tokens', 'rewardTokens', 'liquidityPoolFees', 'dexAmmProtocols', 'usageMetricsDailySnapshots', 'usageMetricsHourlySnapshots', 'financialsDailySnapshots', 'liquidityPools', 'liquidityPoolDailySnapshots', 'liquidityPoolHourlySnapshots', 'deposits', 'withdraws', 'swaps', 'accounts', 'activeAccounts', 'liquidityPoolAmounts', 'helperStores', 'tokenWhitelists', 'protocols', 'events'])"
      ]
     },
     "execution_count": 28,
     "metadata": {},
     "output_type": "execute_result"
    }
   ],
   "source": [
    "univ3_ds.queryDict.keys()"
   ]
  },
  {
   "cell_type": "code",
   "execution_count": 30,
   "metadata": {},
   "outputs": [],
   "source": [
    "univ3_tokens_fp = univ3_ds.queryDict['tokens']"
   ]
  },
  {
   "cell_type": "code",
   "execution_count": 40,
   "metadata": {},
   "outputs": [],
   "source": [
    "univ3_tokens_qp = univ3_tokens_fp(\n",
    "    first=10,\n",
    "    where ={\"symbol_in\": token_names[0]},\n",
    ")"
   ]
  },
  {
   "cell_type": "code",
   "execution_count": 41,
   "metadata": {},
   "outputs": [
    {
     "name": "stdout",
     "output_type": "stream",
     "text": [
      "FIELD - tokens\n"
     ]
    },
    {
     "ename": "TypeError",
     "evalue": "mk_input_value(inner=NonNull(inner=Named(name_='String', kind='SCALAR'), kind='NON_NULL') kind='LIST', name='String' description=None kind='SCALAR', USD Coin)",
     "output_type": "error",
     "traceback": [
      "\u001b[0;31m---------------------------------------------------------------------------\u001b[0m",
      "\u001b[0;31mTypeError\u001b[0m                                 Traceback (most recent call last)",
      "\u001b[1;32m/home/evan/Documents/github/Feedlot/cow_swap_datastreams_tutorial/univ3_lp_data.ipynb Cell 14\u001b[0m in \u001b[0;36m<cell line: 1>\u001b[0;34m()\u001b[0m\n\u001b[0;32m----> <a href='vscode-notebook-cell:/home/evan/Documents/github/Feedlot/cow_swap_datastreams_tutorial/univ3_lp_data.ipynb#X22sZmlsZQ%3D%3D?line=0'>1</a>\u001b[0m univ3_ds\u001b[39m.\u001b[39;49mrunQuery(univ3_tokens_qp)\n",
      "File \u001b[0;32m~/.local/lib/python3.10/site-packages/datastreams/streamer.py:209\u001b[0m, in \u001b[0;36mStreamer.runQuery\u001b[0;34m(self, query_field)\u001b[0m\n\u001b[1;32m    200\u001b[0m \u001b[39m\"\"\"\u001b[39;00m\n\u001b[1;32m    201\u001b[0m \u001b[39mrunQuery() executes the Subgrounds query_df() function to query the Subgraph and return a DataFrame.\u001b[39;00m\n\u001b[1;32m    202\u001b[0m \n\u001b[0;32m   (...)\u001b[0m\n\u001b[1;32m    205\u001b[0m \u001b[39m:return: DataFrame object\u001b[39;00m\n\u001b[1;32m    206\u001b[0m \u001b[39m\"\"\"\u001b[39;00m\n\u001b[1;32m    207\u001b[0m \u001b[39mprint\u001b[39m(\u001b[39mf\u001b[39m\u001b[39m'\u001b[39m\u001b[39mFIELD - \u001b[39m\u001b[39m{\u001b[39;00mquery_field\u001b[39m}\u001b[39;00m\u001b[39m'\u001b[39m)\n\u001b[0;32m--> 209\u001b[0m df \u001b[39m=\u001b[39m \u001b[39mself\u001b[39;49m\u001b[39m.\u001b[39;49msub\u001b[39m.\u001b[39;49mquery_df(query_field)\n\u001b[1;32m    210\u001b[0m \u001b[39m# add endpoint column to df\u001b[39;00m\n\u001b[1;32m    211\u001b[0m \u001b[39m# get the values to the right of the last / in the self.endpoint\u001b[39;00m\n\u001b[1;32m    212\u001b[0m endpoint \u001b[39m=\u001b[39m \u001b[39mself\u001b[39m\u001b[39m.\u001b[39mendpoint\u001b[39m.\u001b[39msplit(\u001b[39m'\u001b[39m\u001b[39m/\u001b[39m\u001b[39m'\u001b[39m)[\u001b[39m-\u001b[39m\u001b[39m1\u001b[39m]\n",
      "File \u001b[0;32m~/.local/lib/python3.10/site-packages/subgrounds/subgrounds.py:380\u001b[0m, in \u001b[0;36mSubgrounds.query_df\u001b[0;34m(self, fpaths, columns, concat, pagination_strategy)\u001b[0m\n\u001b[1;32m    309\u001b[0m \u001b[39m\"\"\"Same as :func:`Subgrounds.query` but formats the response data into a\u001b[39;00m\n\u001b[1;32m    310\u001b[0m \u001b[39mPandas DataFrame. If the response data cannot be flattened to a single query\u001b[39;00m\n\u001b[1;32m    311\u001b[0m \u001b[39m(e.g.: when querying multiple list fields that return different entities),\u001b[39;00m\n\u001b[0;32m   (...)\u001b[0m\n\u001b[1;32m    372\u001b[0m \u001b[39m    9       1643213196  2610.686563\u001b[39;00m\n\u001b[1;32m    373\u001b[0m \u001b[39m\"\"\"\u001b[39;00m\n\u001b[1;32m    374\u001b[0m fpaths \u001b[39m=\u001b[39m \u001b[39mlist\u001b[39m(\n\u001b[1;32m    375\u001b[0m   [fpaths]\n\u001b[1;32m    376\u001b[0m   \u001b[39m|\u001b[39m traverse\n\u001b[1;32m    377\u001b[0m   \u001b[39m|\u001b[39m \u001b[39mmap\u001b[39m(FieldPath\u001b[39m.\u001b[39m_auto_select)\n\u001b[1;32m    378\u001b[0m   \u001b[39m|\u001b[39m traverse\n\u001b[1;32m    379\u001b[0m )\n\u001b[0;32m--> 380\u001b[0m json_data \u001b[39m=\u001b[39m \u001b[39mself\u001b[39;49m\u001b[39m.\u001b[39;49mquery_json(fpaths, pagination_strategy\u001b[39m=\u001b[39;49mpagination_strategy)\n\u001b[1;32m    381\u001b[0m \u001b[39mreturn\u001b[39;00m df_of_json(json_data, fpaths, columns, concat)\n",
      "File \u001b[0;32m~/.local/lib/python3.10/site-packages/subgrounds/subgrounds.py:273\u001b[0m, in \u001b[0;36mSubgrounds.query_json\u001b[0;34m(self, fpaths, pagination_strategy)\u001b[0m\n\u001b[1;32m    255\u001b[0m \u001b[39m\"\"\"Equivalent to ``Subgrounds.execute(Subgrounds.mk_request(fpaths), pagination_strategy)``.\u001b[39;00m\n\u001b[1;32m    256\u001b[0m \n\u001b[1;32m    257\u001b[0m \u001b[39mArgs:\u001b[39;00m\n\u001b[0;32m   (...)\u001b[0m\n\u001b[1;32m    265\u001b[0m \u001b[39m  list[dict[str, Any]]: The reponse data\u001b[39;00m\n\u001b[1;32m    266\u001b[0m \u001b[39m\"\"\"\u001b[39;00m\n\u001b[1;32m    267\u001b[0m fpaths \u001b[39m=\u001b[39m \u001b[39mlist\u001b[39m(\n\u001b[1;32m    268\u001b[0m   [fpaths]\n\u001b[1;32m    269\u001b[0m   \u001b[39m|\u001b[39m traverse\n\u001b[1;32m    270\u001b[0m   \u001b[39m|\u001b[39m \u001b[39mmap\u001b[39m(FieldPath\u001b[39m.\u001b[39m_auto_select)\n\u001b[1;32m    271\u001b[0m   \u001b[39m|\u001b[39m traverse\n\u001b[1;32m    272\u001b[0m )\n\u001b[0;32m--> 273\u001b[0m req \u001b[39m=\u001b[39m \u001b[39mself\u001b[39;49m\u001b[39m.\u001b[39;49mmk_request(fpaths)\n\u001b[1;32m    274\u001b[0m \u001b[39mreturn\u001b[39;00m \u001b[39mself\u001b[39m\u001b[39m.\u001b[39mexecute(req, pagination_strategy\u001b[39m=\u001b[39mpagination_strategy)\n",
      "File \u001b[0;32m~/.local/lib/python3.10/site-packages/subgrounds/subgrounds.py:139\u001b[0m, in \u001b[0;36mSubgrounds.mk_request\u001b[0;34m(self, fpaths)\u001b[0m\n\u001b[1;32m    122\u001b[0m \u001b[39m\"\"\"Creates a :class:`DataRequest` object by combining one or more\u001b[39;00m\n\u001b[1;32m    123\u001b[0m \u001b[39m:class:`FieldPath` objects.\u001b[39;00m\n\u001b[1;32m    124\u001b[0m \n\u001b[0;32m   (...)\u001b[0m\n\u001b[1;32m    130\u001b[0m \u001b[39m  DataRequest: A new :class:`DataRequest` object\u001b[39;00m\n\u001b[1;32m    131\u001b[0m \u001b[39m\"\"\"\u001b[39;00m\n\u001b[1;32m    132\u001b[0m fpaths \u001b[39m=\u001b[39m \u001b[39mlist\u001b[39m(\n\u001b[1;32m    133\u001b[0m   [fpaths]\n\u001b[1;32m    134\u001b[0m   \u001b[39m|\u001b[39m traverse\n\u001b[1;32m    135\u001b[0m   \u001b[39m|\u001b[39m \u001b[39mmap\u001b[39m(FieldPath\u001b[39m.\u001b[39m_auto_select)\n\u001b[1;32m    136\u001b[0m   \u001b[39m|\u001b[39m traverse\n\u001b[1;32m    137\u001b[0m )\n\u001b[0;32m--> 139\u001b[0m \u001b[39mreturn\u001b[39;00m DataRequest(documents\u001b[39m=\u001b[39m\u001b[39mlist\u001b[39;49m(\n\u001b[1;32m    140\u001b[0m   fpaths\n\u001b[1;32m    141\u001b[0m   \u001b[39m|\u001b[39;49m groupby(\u001b[39mlambda\u001b[39;49;00m fpath: fpath\u001b[39m.\u001b[39;49m_subgraph\u001b[39m.\u001b[39;49m_url)\n\u001b[1;32m    142\u001b[0m   \u001b[39m|\u001b[39;49m \u001b[39mmap\u001b[39;49m(\u001b[39mlambda\u001b[39;49;00m group: Document(\n\u001b[1;32m    143\u001b[0m     url\u001b[39m=\u001b[39;49mgroup[\u001b[39m0\u001b[39;49m],\n\u001b[1;32m    144\u001b[0m     query\u001b[39m=\u001b[39;49mreduce(Query\u001b[39m.\u001b[39;49madd, group[\u001b[39m1\u001b[39;49m] \u001b[39m|\u001b[39;49m \u001b[39mmap\u001b[39;49m(FieldPath\u001b[39m.\u001b[39;49m_selection), Query())\n\u001b[1;32m    145\u001b[0m   ))\n\u001b[1;32m    146\u001b[0m ))\n",
      "File \u001b[0;32m~/.local/lib/python3.10/site-packages/subgrounds/subgrounds.py:144\u001b[0m, in \u001b[0;36mSubgrounds.mk_request.<locals>.<lambda>\u001b[0;34m(group)\u001b[0m\n\u001b[1;32m    122\u001b[0m \u001b[39m\"\"\"Creates a :class:`DataRequest` object by combining one or more\u001b[39;00m\n\u001b[1;32m    123\u001b[0m \u001b[39m:class:`FieldPath` objects.\u001b[39;00m\n\u001b[1;32m    124\u001b[0m \n\u001b[0;32m   (...)\u001b[0m\n\u001b[1;32m    130\u001b[0m \u001b[39m  DataRequest: A new :class:`DataRequest` object\u001b[39;00m\n\u001b[1;32m    131\u001b[0m \u001b[39m\"\"\"\u001b[39;00m\n\u001b[1;32m    132\u001b[0m fpaths \u001b[39m=\u001b[39m \u001b[39mlist\u001b[39m(\n\u001b[1;32m    133\u001b[0m   [fpaths]\n\u001b[1;32m    134\u001b[0m   \u001b[39m|\u001b[39m traverse\n\u001b[1;32m    135\u001b[0m   \u001b[39m|\u001b[39m \u001b[39mmap\u001b[39m(FieldPath\u001b[39m.\u001b[39m_auto_select)\n\u001b[1;32m    136\u001b[0m   \u001b[39m|\u001b[39m traverse\n\u001b[1;32m    137\u001b[0m )\n\u001b[1;32m    139\u001b[0m \u001b[39mreturn\u001b[39;00m DataRequest(documents\u001b[39m=\u001b[39m\u001b[39mlist\u001b[39m(\n\u001b[1;32m    140\u001b[0m   fpaths\n\u001b[1;32m    141\u001b[0m   \u001b[39m|\u001b[39m groupby(\u001b[39mlambda\u001b[39;00m fpath: fpath\u001b[39m.\u001b[39m_subgraph\u001b[39m.\u001b[39m_url)\n\u001b[1;32m    142\u001b[0m   \u001b[39m|\u001b[39m \u001b[39mmap\u001b[39m(\u001b[39mlambda\u001b[39;00m group: Document(\n\u001b[1;32m    143\u001b[0m     url\u001b[39m=\u001b[39mgroup[\u001b[39m0\u001b[39m],\n\u001b[0;32m--> 144\u001b[0m     query\u001b[39m=\u001b[39mreduce(Query\u001b[39m.\u001b[39;49madd, group[\u001b[39m1\u001b[39;49m] \u001b[39m|\u001b[39;49m \u001b[39mmap\u001b[39;49m(FieldPath\u001b[39m.\u001b[39;49m_selection), Query())\n\u001b[1;32m    145\u001b[0m   ))\n\u001b[1;32m    146\u001b[0m ))\n",
      "File \u001b[0;32m~/.local/lib/python3.10/site-packages/subgrounds/subgraph/fieldpath.py:340\u001b[0m, in \u001b[0;36mFieldPath._selection\u001b[0;34m(self)\u001b[0m\n\u001b[1;32m    322\u001b[0m   \u001b[39mmatch\u001b[39;00m path:\n\u001b[1;32m    323\u001b[0m     \u001b[39mcase\u001b[39;00m [(args, TypeMeta\u001b[39m.\u001b[39mFieldMeta() \u001b[39mas\u001b[39;00m fmeta), \u001b[39m*\u001b[39mrest] \u001b[39mif\u001b[39;00m args \u001b[39m==\u001b[39m {} \u001b[39mor\u001b[39;00m args \u001b[39mis\u001b[39;00m \u001b[39mNone\u001b[39;00m:\n\u001b[1;32m    324\u001b[0m       \u001b[39mreturn\u001b[39;00m [Selection(fmeta, selection\u001b[39m=\u001b[39mf(rest))]\n\u001b[0;32m   (...)\u001b[0m\n\u001b[1;32m    335\u001b[0m     \u001b[39mcase\u001b[39;00m []:\n\u001b[1;32m    336\u001b[0m       \u001b[39mreturn\u001b[39;00m []\n\u001b[1;32m    338\u001b[0m   \u001b[39massert\u001b[39;00m \u001b[39mFalse\u001b[39;00m  \u001b[39m# Suppress mypy missing return statement warning\u001b[39;00m\n\u001b[0;32m--> 340\u001b[0m \u001b[39mreturn\u001b[39;00m f(\u001b[39mself\u001b[39;49m\u001b[39m.\u001b[39;49m_path)[\u001b[39m0\u001b[39m]\n",
      "File \u001b[0;32m~/.local/lib/python3.10/site-packages/subgrounds/subgraph/fieldpath.py:331\u001b[0m, in \u001b[0;36mFieldPath._selection.<locals>.f\u001b[0;34m(path)\u001b[0m\n\u001b[1;32m    321\u001b[0m \u001b[39mdef\u001b[39;00m \u001b[39mf\u001b[39m(path: \u001b[39mlist\u001b[39m[Tuple[Optional[\u001b[39mdict\u001b[39m[\u001b[39mstr\u001b[39m, Any]], TypeMeta\u001b[39m.\u001b[39mFieldMeta]]) \u001b[39m-\u001b[39m\u001b[39m>\u001b[39m \u001b[39mlist\u001b[39m[Selection]:\n\u001b[1;32m    322\u001b[0m   \u001b[39mmatch\u001b[39;00m path:\n\u001b[1;32m    323\u001b[0m     \u001b[39mcase\u001b[39;00m [(args, TypeMeta\u001b[39m.\u001b[39mFieldMeta() \u001b[39mas\u001b[39;00m fmeta), \u001b[39m*\u001b[39mrest] \u001b[39mif\u001b[39;00m args \u001b[39m==\u001b[39m {} \u001b[39mor\u001b[39;00m args \u001b[39mis\u001b[39;00m \u001b[39mNone\u001b[39;00m:\n\u001b[1;32m    324\u001b[0m       \u001b[39mreturn\u001b[39;00m [Selection(fmeta, selection\u001b[39m=\u001b[39mf(rest))]\n\u001b[1;32m    325\u001b[0m \n\u001b[1;32m    326\u001b[0m     \u001b[39mcase\u001b[39;00m [(args, TypeMeta\u001b[39m.\u001b[39mFieldMeta() \u001b[39mas\u001b[39;00m fmeta), \u001b[39m*\u001b[39mrest]:\n\u001b[1;32m    327\u001b[0m       \u001b[39mreturn\u001b[39;00m [Selection(\n\u001b[1;32m    328\u001b[0m         fmeta,\n\u001b[1;32m    329\u001b[0m         \u001b[39m# TODO: Revisit this\u001b[39;00m\n\u001b[1;32m    330\u001b[0m         alias\u001b[39m=\u001b[39mFieldPath\u001b[39m.\u001b[39m_hash(fmeta\u001b[39m.\u001b[39mname \u001b[39m+\u001b[39m \u001b[39mstr\u001b[39m(args)),\n\u001b[0;32m--> 331\u001b[0m         arguments\u001b[39m=\u001b[39marguments_of_field_args(\u001b[39mself\u001b[39;49m\u001b[39m.\u001b[39;49m_subgraph\u001b[39m.\u001b[39;49m_schema, fmeta, args),\n\u001b[1;32m    332\u001b[0m         selection\u001b[39m=\u001b[39mf(rest)\n\u001b[1;32m    333\u001b[0m       )]\n\u001b[1;32m    334\u001b[0m \n\u001b[1;32m    335\u001b[0m     \u001b[39mcase\u001b[39;00m []:\n\u001b[1;32m    336\u001b[0m       \u001b[39mreturn\u001b[39;00m []\n\u001b[1;32m    338\u001b[0m   \u001b[39massert\u001b[39;00m \u001b[39mFalse\u001b[39;00m\n",
      "File \u001b[0;32m~/.local/lib/python3.10/site-packages/subgrounds/query.py:1800\u001b[0m, in \u001b[0;36marguments_of_field_args\u001b[0;34m(schema, field, args)\u001b[0m\n\u001b[1;32m   1794\u001b[0m       \u001b[39mraise\u001b[39;00m \u001b[39mTypeError\u001b[39;00m(\u001b[39mf\u001b[39m\u001b[39m\"\u001b[39m\u001b[39marguments_of_field_args: Argument \u001b[39m\u001b[39m{\u001b[39;00marg_meta\u001b[39m.\u001b[39mname\u001b[39m}\u001b[39;00m\u001b[39m of field \u001b[39m\u001b[39m{\u001b[39;00mfield\u001b[39m.\u001b[39mname\u001b[39m}\u001b[39;00m\u001b[39m is required but not provided!\u001b[39m\u001b[39m\"\u001b[39m)\n\u001b[1;32m   1796\u001b[0m \u001b[39m# TODO: Add warnings if arguments are not used\u001b[39;00m\n\u001b[1;32m   1798\u001b[0m \u001b[39mmatch\u001b[39;00m field:\n\u001b[1;32m   1799\u001b[0m   \u001b[39mcase\u001b[39;00m TypeMeta\u001b[39m.\u001b[39mFieldMeta() \u001b[39mas\u001b[39;00m field:\n\u001b[0;32m-> 1800\u001b[0m     args \u001b[39m=\u001b[39m [f(arg_meta) \u001b[39mfor\u001b[39;00m arg_meta \u001b[39min\u001b[39;00m field\u001b[39m.\u001b[39marguments]\n\u001b[1;32m   1801\u001b[0m     \u001b[39mreturn\u001b[39;00m \u001b[39mlist\u001b[39m(\u001b[39mfilter\u001b[39m(\u001b[39mlambda\u001b[39;00m arg: arg \u001b[39mis\u001b[39;00m \u001b[39mnot\u001b[39;00m \u001b[39mNone\u001b[39;00m, args))\n\u001b[1;32m   1802\u001b[0m   \u001b[39mcase\u001b[39;00m \u001b[39m_\u001b[39;00m:\n\u001b[1;32m   1803\u001b[0m     \u001b[39mraise\u001b[39;00m \u001b[39mTypeError\u001b[39;00m(\u001b[39mf\u001b[39m\u001b[39m\"\u001b[39m\u001b[39marguments_of_field_args: TypeMeta \u001b[39m\u001b[39m{\u001b[39;00mfield\u001b[39m.\u001b[39mname\u001b[39m}\u001b[39;00m\u001b[39m is not of type FieldMeta\u001b[39m\u001b[39m\"\u001b[39m)\n",
      "File \u001b[0;32m~/.local/lib/python3.10/site-packages/subgrounds/query.py:1800\u001b[0m, in \u001b[0;36m<listcomp>\u001b[0;34m(.0)\u001b[0m\n\u001b[1;32m   1794\u001b[0m       \u001b[39mraise\u001b[39;00m \u001b[39mTypeError\u001b[39;00m(\u001b[39mf\u001b[39m\u001b[39m\"\u001b[39m\u001b[39marguments_of_field_args: Argument \u001b[39m\u001b[39m{\u001b[39;00marg_meta\u001b[39m.\u001b[39mname\u001b[39m}\u001b[39;00m\u001b[39m of field \u001b[39m\u001b[39m{\u001b[39;00mfield\u001b[39m.\u001b[39mname\u001b[39m}\u001b[39;00m\u001b[39m is required but not provided!\u001b[39m\u001b[39m\"\u001b[39m)\n\u001b[1;32m   1796\u001b[0m \u001b[39m# TODO: Add warnings if arguments are not used\u001b[39;00m\n\u001b[1;32m   1798\u001b[0m \u001b[39mmatch\u001b[39;00m field:\n\u001b[1;32m   1799\u001b[0m   \u001b[39mcase\u001b[39;00m TypeMeta\u001b[39m.\u001b[39mFieldMeta() \u001b[39mas\u001b[39;00m field:\n\u001b[0;32m-> 1800\u001b[0m     args \u001b[39m=\u001b[39m [f(arg_meta) \u001b[39mfor\u001b[39;00m arg_meta \u001b[39min\u001b[39;00m field\u001b[39m.\u001b[39marguments]\n\u001b[1;32m   1801\u001b[0m     \u001b[39mreturn\u001b[39;00m \u001b[39mlist\u001b[39m(\u001b[39mfilter\u001b[39m(\u001b[39mlambda\u001b[39;00m arg: arg \u001b[39mis\u001b[39;00m \u001b[39mnot\u001b[39;00m \u001b[39mNone\u001b[39;00m, args))\n\u001b[1;32m   1802\u001b[0m   \u001b[39mcase\u001b[39;00m \u001b[39m_\u001b[39;00m:\n\u001b[1;32m   1803\u001b[0m     \u001b[39mraise\u001b[39;00m \u001b[39mTypeError\u001b[39;00m(\u001b[39mf\u001b[39m\u001b[39m\"\u001b[39m\u001b[39marguments_of_field_args: TypeMeta \u001b[39m\u001b[39m{\u001b[39;00mfield\u001b[39m.\u001b[39mname\u001b[39m}\u001b[39;00m\u001b[39m is not of type FieldMeta\u001b[39m\u001b[39m\"\u001b[39m)\n",
      "File \u001b[0;32m~/.local/lib/python3.10/site-packages/subgrounds/query.py:1788\u001b[0m, in \u001b[0;36marguments_of_field_args.<locals>.f\u001b[0;34m(arg_meta)\u001b[0m\n\u001b[1;32m   1784\u001b[0m \u001b[39mdef\u001b[39;00m \u001b[39mf\u001b[39m(arg_meta: TypeMeta\u001b[39m.\u001b[39mArgumentMeta) \u001b[39m-\u001b[39m\u001b[39m>\u001b[39m Optional[Argument]:\n\u001b[1;32m   1785\u001b[0m   \u001b[39mif\u001b[39;00m arg_meta\u001b[39m.\u001b[39mname \u001b[39min\u001b[39;00m args:\n\u001b[1;32m   1786\u001b[0m     \u001b[39mreturn\u001b[39;00m Argument(\n\u001b[1;32m   1787\u001b[0m       arg_meta\u001b[39m.\u001b[39mname,\n\u001b[0;32m-> 1788\u001b[0m       input_value_of_argument(schema, arg_meta, args[arg_meta\u001b[39m.\u001b[39;49mname])\n\u001b[1;32m   1789\u001b[0m     )\n\u001b[1;32m   1790\u001b[0m   \u001b[39melse\u001b[39;00m:\n\u001b[1;32m   1791\u001b[0m     \u001b[39mif\u001b[39;00m (arg_meta\u001b[39m.\u001b[39mdefault_value) \u001b[39mor\u001b[39;00m (\u001b[39mnot\u001b[39;00m TypeRef\u001b[39m.\u001b[39mis_non_null(arg_meta\u001b[39m.\u001b[39mtype_)):\n",
      "File \u001b[0;32m~/.local/lib/python3.10/site-packages/subgrounds/query.py:1773\u001b[0m, in \u001b[0;36minput_value_of_argument\u001b[0;34m(schema, argmeta, value)\u001b[0m\n\u001b[1;32m   1730\u001b[0m \u001b[39mdef\u001b[39;00m \u001b[39mfmt_value\u001b[39m(type_ref: TypeRef\u001b[39m.\u001b[39mT, value: Any, non_null\u001b[39m=\u001b[39m\u001b[39mFalse\u001b[39;00m):\n\u001b[1;32m   1731\u001b[0m   \u001b[39mmatch\u001b[39;00m (type_ref, schema\u001b[39m.\u001b[39mtype_map[TypeRef\u001b[39m.\u001b[39mroot_type_name(type_ref)], value):\n\u001b[1;32m   1732\u001b[0m     \u001b[39m# Only allow Null values when non_null=True\u001b[39;00m\n\u001b[1;32m   1733\u001b[0m     \u001b[39mcase\u001b[39;00m (\u001b[39m_\u001b[39;00m, _, \u001b[39mNone\u001b[39;00m):\n\u001b[0;32m   (...)\u001b[0m\n\u001b[1;32m   1770\u001b[0m     \u001b[39mcase\u001b[39;00m (value, typ, non_null):\n\u001b[1;32m   1771\u001b[0m       \u001b[39mraise\u001b[39;00m \u001b[39mTypeError\u001b[39;00m(\u001b[39mf\u001b[39m\u001b[39m\"\u001b[39m\u001b[39mmk_input_value(\u001b[39m\u001b[39m{\u001b[39;00mvalue\u001b[39m}\u001b[39;00m\u001b[39m, \u001b[39m\u001b[39m{\u001b[39;00mtyp\u001b[39m}\u001b[39;00m\u001b[39m, \u001b[39m\u001b[39m{\u001b[39;00mnon_null\u001b[39m}\u001b[39;00m\u001b[39m)\u001b[39m\u001b[39m\"\u001b[39m)\n\u001b[0;32m-> 1773\u001b[0m \u001b[39mreturn\u001b[39;00m fmt_value(argmeta\u001b[39m.\u001b[39;49mtype_, value)\n",
      "File \u001b[0;32m~/.local/lib/python3.10/site-packages/subgrounds/query.py:1768\u001b[0m, in \u001b[0;36minput_value_of_argument.<locals>.fmt_value\u001b[0;34m(type_ref, value, non_null)\u001b[0m\n\u001b[1;32m   1730\u001b[0m \u001b[39mdef\u001b[39;00m \u001b[39mfmt_value\u001b[39m(type_ref: TypeRef\u001b[39m.\u001b[39mT, value: Any, non_null\u001b[39m=\u001b[39m\u001b[39mFalse\u001b[39;00m):\n\u001b[1;32m   1731\u001b[0m   \u001b[39mmatch\u001b[39;00m (type_ref, schema\u001b[39m.\u001b[39mtype_map[TypeRef\u001b[39m.\u001b[39mroot_type_name(type_ref)], value):\n\u001b[1;32m   1732\u001b[0m     \u001b[39m# Only allow Null values when non_null=True\u001b[39;00m\n\u001b[1;32m   1733\u001b[0m     \u001b[39mcase\u001b[39;00m (\u001b[39m_\u001b[39;00m, _, \u001b[39mNone\u001b[39;00m):\n\u001b[1;32m   1734\u001b[0m       \u001b[39mif\u001b[39;00m \u001b[39mnot\u001b[39;00m non_null:\n\u001b[1;32m   1735\u001b[0m         \u001b[39mreturn\u001b[39;00m InputValue\u001b[39m.\u001b[39mNull()\n\u001b[1;32m   1736\u001b[0m       \u001b[39melse\u001b[39;00m:\n\u001b[1;32m   1737\u001b[0m         \u001b[39mraise\u001b[39;00m \u001b[39mTypeError\u001b[39;00m(\u001b[39mf\u001b[39m\u001b[39m\"\u001b[39m\u001b[39mArgument \u001b[39m\u001b[39m{\u001b[39;00margmeta\u001b[39m.\u001b[39mname\u001b[39m}\u001b[39;00m\u001b[39m cannot be None!\u001b[39m\u001b[39m\"\u001b[39m)\n\u001b[1;32m   1738\u001b[0m \n\u001b[1;32m   1739\u001b[0m     \u001b[39m# If type is non_null, recurse with non_null=True\u001b[39;00m\n\u001b[1;32m   1740\u001b[0m     \u001b[39mcase\u001b[39;00m (TypeRef\u001b[39m.\u001b[39mNonNull(inner\u001b[39m=\u001b[39mt), \u001b[39m_\u001b[39;00m, _):\n\u001b[1;32m   1741\u001b[0m       \u001b[39mreturn\u001b[39;00m fmt_value(t, value, non_null\u001b[39m=\u001b[39m\u001b[39mTrue\u001b[39;00m)\n\u001b[1;32m   1742\u001b[0m \n\u001b[1;32m   1743\u001b[0m     \u001b[39mcase\u001b[39;00m (TypeRef\u001b[39m.\u001b[39mNamed(name\u001b[39m=\u001b[39m\u001b[39m\"\u001b[39m\u001b[39mID\u001b[39m\u001b[39m\"\u001b[39m), \u001b[39m_\u001b[39;00m, \u001b[39mstr\u001b[39m()):\n\u001b[1;32m   1744\u001b[0m       \u001b[39mreturn\u001b[39;00m InputValue\u001b[39m.\u001b[39mString(value)\n\u001b[1;32m   1745\u001b[0m \n\u001b[1;32m   1746\u001b[0m     \u001b[39mcase\u001b[39;00m (TypeRef\u001b[39m.\u001b[39mNamed(name\u001b[39m=\u001b[39m\u001b[39m\"\u001b[39m\u001b[39mInt\u001b[39m\u001b[39m\"\u001b[39m), \u001b[39m_\u001b[39;00m, \u001b[39mint\u001b[39m()):\n\u001b[1;32m   1747\u001b[0m       \u001b[39mreturn\u001b[39;00m InputValue\u001b[39m.\u001b[39mInt(value)\n\u001b[1;32m   1748\u001b[0m     \u001b[39mcase\u001b[39;00m (TypeRef\u001b[39m.\u001b[39mNamed(name\u001b[39m=\u001b[39m\u001b[39m\"\u001b[39m\u001b[39mBigInt\u001b[39m\u001b[39m\"\u001b[39m), \u001b[39m_\u001b[39;00m, \u001b[39mint\u001b[39m()):\n\u001b[1;32m   1749\u001b[0m       \u001b[39mreturn\u001b[39;00m InputValue\u001b[39m.\u001b[39mString(\u001b[39mstr\u001b[39m(value))\n\u001b[1;32m   1750\u001b[0m \n\u001b[1;32m   1751\u001b[0m     \u001b[39mcase\u001b[39;00m (TypeRef\u001b[39m.\u001b[39mNamed(name\u001b[39m=\u001b[39m\u001b[39m\"\u001b[39m\u001b[39mFloat\u001b[39m\u001b[39m\"\u001b[39m), \u001b[39m_\u001b[39;00m, \u001b[39mint\u001b[39m() \u001b[39m|\u001b[39m \u001b[39mfloat\u001b[39m()):\n\u001b[1;32m   1752\u001b[0m       \u001b[39mreturn\u001b[39;00m InputValue\u001b[39m.\u001b[39mFloat(\u001b[39mfloat\u001b[39m(value))\n\u001b[1;32m   1753\u001b[0m     \u001b[39mcase\u001b[39;00m (TypeRef\u001b[39m.\u001b[39mNamed(name\u001b[39m=\u001b[39m\u001b[39m\"\u001b[39m\u001b[39mBigDecimal\u001b[39m\u001b[39m\"\u001b[39m), \u001b[39m_\u001b[39;00m, \u001b[39mint\u001b[39m() \u001b[39m|\u001b[39m \u001b[39mfloat\u001b[39m()):\n\u001b[1;32m   1754\u001b[0m       \u001b[39mreturn\u001b[39;00m InputValue\u001b[39m.\u001b[39mString(\u001b[39mstr\u001b[39m(\u001b[39mfloat\u001b[39m(value)))\n\u001b[1;32m   1755\u001b[0m \n\u001b[1;32m   1756\u001b[0m     \u001b[39mcase\u001b[39;00m (TypeRef\u001b[39m.\u001b[39mNamed(name\u001b[39m=\u001b[39m\u001b[39m\"\u001b[39m\u001b[39mString\u001b[39m\u001b[39m\"\u001b[39m \u001b[39m|\u001b[39m \u001b[39m\"\u001b[39m\u001b[39mBytes\u001b[39m\u001b[39m\"\u001b[39m), \u001b[39m_\u001b[39;00m, \u001b[39mstr\u001b[39m()):\n\u001b[1;32m   1757\u001b[0m       \u001b[39mreturn\u001b[39;00m InputValue\u001b[39m.\u001b[39mString(value)\n\u001b[1;32m   1758\u001b[0m     \u001b[39mcase\u001b[39;00m (TypeRef\u001b[39m.\u001b[39mNamed(), TypeMeta\u001b[39m.\u001b[39mEnumMeta(), \u001b[39mstr\u001b[39m()):\n\u001b[1;32m   1759\u001b[0m       \u001b[39mreturn\u001b[39;00m InputValue\u001b[39m.\u001b[39mEnum(value)\n\u001b[1;32m   1760\u001b[0m \n\u001b[1;32m   1761\u001b[0m     \u001b[39mcase\u001b[39;00m (TypeRef\u001b[39m.\u001b[39mNamed(name\u001b[39m=\u001b[39m\u001b[39m\"\u001b[39m\u001b[39mBoolean\u001b[39m\u001b[39m\"\u001b[39m), \u001b[39m_\u001b[39;00m, \u001b[39mbool\u001b[39m()):\n\u001b[1;32m   1762\u001b[0m       \u001b[39mreturn\u001b[39;00m InputValue\u001b[39m.\u001b[39mBoolean(value)\n\u001b[1;32m   1763\u001b[0m \n\u001b[1;32m   1764\u001b[0m     \u001b[39mcase\u001b[39;00m (TypeRef\u001b[39m.\u001b[39mList(inner\u001b[39m=\u001b[39mt), \u001b[39m_\u001b[39;00m, \u001b[39mlist\u001b[39m()):\n\u001b[1;32m   1765\u001b[0m       \u001b[39mreturn\u001b[39;00m InputValue\u001b[39m.\u001b[39mList([fmt_value(t, val, non_null) \u001b[39mfor\u001b[39;00m val \u001b[39min\u001b[39;00m value])\n\u001b[1;32m   1766\u001b[0m \n\u001b[1;32m   1767\u001b[0m     \u001b[39mcase\u001b[39;00m (TypeRef\u001b[39m.\u001b[39mNamed(), TypeMeta\u001b[39m.\u001b[39mInputObjectMeta() \u001b[39mas\u001b[39;00m input_object, \u001b[39mdict\u001b[39m()):\n\u001b[0;32m-> 1768\u001b[0m       \u001b[39mreturn\u001b[39;00m InputValue\u001b[39m.\u001b[39mObject({key: fmt_value(input_object\u001b[39m.\u001b[39mtype_of_input_field(key), val, non_null) \u001b[39mfor\u001b[39;00m key, val \u001b[39min\u001b[39;00m value\u001b[39m.\u001b[39mitems()})\n\u001b[1;32m   1769\u001b[0m \n\u001b[1;32m   1770\u001b[0m     \u001b[39mcase\u001b[39;00m (value, typ, non_null):\n\u001b[1;32m   1771\u001b[0m       \u001b[39mraise\u001b[39;00m \u001b[39mTypeError\u001b[39;00m(\u001b[39mf\u001b[39m\u001b[39m\"\u001b[39m\u001b[39mmk_input_value(\u001b[39m\u001b[39m{\u001b[39;00mvalue\u001b[39m}\u001b[39;00m\u001b[39m, \u001b[39m\u001b[39m{\u001b[39;00mtyp\u001b[39m}\u001b[39;00m\u001b[39m, \u001b[39m\u001b[39m{\u001b[39;00mnon_null\u001b[39m}\u001b[39;00m\u001b[39m)\u001b[39m\u001b[39m\"\u001b[39m)\n",
      "File \u001b[0;32m~/.local/lib/python3.10/site-packages/subgrounds/query.py:1768\u001b[0m, in \u001b[0;36m<dictcomp>\u001b[0;34m(.0)\u001b[0m\n\u001b[1;32m   1730\u001b[0m \u001b[39mdef\u001b[39;00m \u001b[39mfmt_value\u001b[39m(type_ref: TypeRef\u001b[39m.\u001b[39mT, value: Any, non_null\u001b[39m=\u001b[39m\u001b[39mFalse\u001b[39;00m):\n\u001b[1;32m   1731\u001b[0m   \u001b[39mmatch\u001b[39;00m (type_ref, schema\u001b[39m.\u001b[39mtype_map[TypeRef\u001b[39m.\u001b[39mroot_type_name(type_ref)], value):\n\u001b[1;32m   1732\u001b[0m     \u001b[39m# Only allow Null values when non_null=True\u001b[39;00m\n\u001b[1;32m   1733\u001b[0m     \u001b[39mcase\u001b[39;00m (\u001b[39m_\u001b[39;00m, _, \u001b[39mNone\u001b[39;00m):\n\u001b[1;32m   1734\u001b[0m       \u001b[39mif\u001b[39;00m \u001b[39mnot\u001b[39;00m non_null:\n\u001b[1;32m   1735\u001b[0m         \u001b[39mreturn\u001b[39;00m InputValue\u001b[39m.\u001b[39mNull()\n\u001b[1;32m   1736\u001b[0m       \u001b[39melse\u001b[39;00m:\n\u001b[1;32m   1737\u001b[0m         \u001b[39mraise\u001b[39;00m \u001b[39mTypeError\u001b[39;00m(\u001b[39mf\u001b[39m\u001b[39m\"\u001b[39m\u001b[39mArgument \u001b[39m\u001b[39m{\u001b[39;00margmeta\u001b[39m.\u001b[39mname\u001b[39m}\u001b[39;00m\u001b[39m cannot be None!\u001b[39m\u001b[39m\"\u001b[39m)\n\u001b[1;32m   1738\u001b[0m \n\u001b[1;32m   1739\u001b[0m     \u001b[39m# If type is non_null, recurse with non_null=True\u001b[39;00m\n\u001b[1;32m   1740\u001b[0m     \u001b[39mcase\u001b[39;00m (TypeRef\u001b[39m.\u001b[39mNonNull(inner\u001b[39m=\u001b[39mt), \u001b[39m_\u001b[39;00m, _):\n\u001b[1;32m   1741\u001b[0m       \u001b[39mreturn\u001b[39;00m fmt_value(t, value, non_null\u001b[39m=\u001b[39m\u001b[39mTrue\u001b[39;00m)\n\u001b[1;32m   1742\u001b[0m \n\u001b[1;32m   1743\u001b[0m     \u001b[39mcase\u001b[39;00m (TypeRef\u001b[39m.\u001b[39mNamed(name\u001b[39m=\u001b[39m\u001b[39m\"\u001b[39m\u001b[39mID\u001b[39m\u001b[39m\"\u001b[39m), \u001b[39m_\u001b[39;00m, \u001b[39mstr\u001b[39m()):\n\u001b[1;32m   1744\u001b[0m       \u001b[39mreturn\u001b[39;00m InputValue\u001b[39m.\u001b[39mString(value)\n\u001b[1;32m   1745\u001b[0m \n\u001b[1;32m   1746\u001b[0m     \u001b[39mcase\u001b[39;00m (TypeRef\u001b[39m.\u001b[39mNamed(name\u001b[39m=\u001b[39m\u001b[39m\"\u001b[39m\u001b[39mInt\u001b[39m\u001b[39m\"\u001b[39m), \u001b[39m_\u001b[39;00m, \u001b[39mint\u001b[39m()):\n\u001b[1;32m   1747\u001b[0m       \u001b[39mreturn\u001b[39;00m InputValue\u001b[39m.\u001b[39mInt(value)\n\u001b[1;32m   1748\u001b[0m     \u001b[39mcase\u001b[39;00m (TypeRef\u001b[39m.\u001b[39mNamed(name\u001b[39m=\u001b[39m\u001b[39m\"\u001b[39m\u001b[39mBigInt\u001b[39m\u001b[39m\"\u001b[39m), \u001b[39m_\u001b[39;00m, \u001b[39mint\u001b[39m()):\n\u001b[1;32m   1749\u001b[0m       \u001b[39mreturn\u001b[39;00m InputValue\u001b[39m.\u001b[39mString(\u001b[39mstr\u001b[39m(value))\n\u001b[1;32m   1750\u001b[0m \n\u001b[1;32m   1751\u001b[0m     \u001b[39mcase\u001b[39;00m (TypeRef\u001b[39m.\u001b[39mNamed(name\u001b[39m=\u001b[39m\u001b[39m\"\u001b[39m\u001b[39mFloat\u001b[39m\u001b[39m\"\u001b[39m), \u001b[39m_\u001b[39;00m, \u001b[39mint\u001b[39m() \u001b[39m|\u001b[39m \u001b[39mfloat\u001b[39m()):\n\u001b[1;32m   1752\u001b[0m       \u001b[39mreturn\u001b[39;00m InputValue\u001b[39m.\u001b[39mFloat(\u001b[39mfloat\u001b[39m(value))\n\u001b[1;32m   1753\u001b[0m     \u001b[39mcase\u001b[39;00m (TypeRef\u001b[39m.\u001b[39mNamed(name\u001b[39m=\u001b[39m\u001b[39m\"\u001b[39m\u001b[39mBigDecimal\u001b[39m\u001b[39m\"\u001b[39m), \u001b[39m_\u001b[39;00m, \u001b[39mint\u001b[39m() \u001b[39m|\u001b[39m \u001b[39mfloat\u001b[39m()):\n\u001b[1;32m   1754\u001b[0m       \u001b[39mreturn\u001b[39;00m InputValue\u001b[39m.\u001b[39mString(\u001b[39mstr\u001b[39m(\u001b[39mfloat\u001b[39m(value)))\n\u001b[1;32m   1755\u001b[0m \n\u001b[1;32m   1756\u001b[0m     \u001b[39mcase\u001b[39;00m (TypeRef\u001b[39m.\u001b[39mNamed(name\u001b[39m=\u001b[39m\u001b[39m\"\u001b[39m\u001b[39mString\u001b[39m\u001b[39m\"\u001b[39m \u001b[39m|\u001b[39m \u001b[39m\"\u001b[39m\u001b[39mBytes\u001b[39m\u001b[39m\"\u001b[39m), \u001b[39m_\u001b[39;00m, \u001b[39mstr\u001b[39m()):\n\u001b[1;32m   1757\u001b[0m       \u001b[39mreturn\u001b[39;00m InputValue\u001b[39m.\u001b[39mString(value)\n\u001b[1;32m   1758\u001b[0m     \u001b[39mcase\u001b[39;00m (TypeRef\u001b[39m.\u001b[39mNamed(), TypeMeta\u001b[39m.\u001b[39mEnumMeta(), \u001b[39mstr\u001b[39m()):\n\u001b[1;32m   1759\u001b[0m       \u001b[39mreturn\u001b[39;00m InputValue\u001b[39m.\u001b[39mEnum(value)\n\u001b[1;32m   1760\u001b[0m \n\u001b[1;32m   1761\u001b[0m     \u001b[39mcase\u001b[39;00m (TypeRef\u001b[39m.\u001b[39mNamed(name\u001b[39m=\u001b[39m\u001b[39m\"\u001b[39m\u001b[39mBoolean\u001b[39m\u001b[39m\"\u001b[39m), \u001b[39m_\u001b[39;00m, \u001b[39mbool\u001b[39m()):\n\u001b[1;32m   1762\u001b[0m       \u001b[39mreturn\u001b[39;00m InputValue\u001b[39m.\u001b[39mBoolean(value)\n\u001b[1;32m   1763\u001b[0m \n\u001b[1;32m   1764\u001b[0m     \u001b[39mcase\u001b[39;00m (TypeRef\u001b[39m.\u001b[39mList(inner\u001b[39m=\u001b[39mt), \u001b[39m_\u001b[39;00m, \u001b[39mlist\u001b[39m()):\n\u001b[1;32m   1765\u001b[0m       \u001b[39mreturn\u001b[39;00m InputValue\u001b[39m.\u001b[39mList([fmt_value(t, val, non_null) \u001b[39mfor\u001b[39;00m val \u001b[39min\u001b[39;00m value])\n\u001b[1;32m   1766\u001b[0m \n\u001b[1;32m   1767\u001b[0m     \u001b[39mcase\u001b[39;00m (TypeRef\u001b[39m.\u001b[39mNamed(), TypeMeta\u001b[39m.\u001b[39mInputObjectMeta() \u001b[39mas\u001b[39;00m input_object, \u001b[39mdict\u001b[39m()):\n\u001b[0;32m-> 1768\u001b[0m       \u001b[39mreturn\u001b[39;00m InputValue\u001b[39m.\u001b[39mObject({key: fmt_value(input_object\u001b[39m.\u001b[39;49mtype_of_input_field(key), val, non_null) \u001b[39mfor\u001b[39;00m key, val \u001b[39min\u001b[39;00m value\u001b[39m.\u001b[39mitems()})\n\u001b[1;32m   1769\u001b[0m \n\u001b[1;32m   1770\u001b[0m     \u001b[39mcase\u001b[39;00m (value, typ, non_null):\n\u001b[1;32m   1771\u001b[0m       \u001b[39mraise\u001b[39;00m \u001b[39mTypeError\u001b[39;00m(\u001b[39mf\u001b[39m\u001b[39m\"\u001b[39m\u001b[39mmk_input_value(\u001b[39m\u001b[39m{\u001b[39;00mvalue\u001b[39m}\u001b[39;00m\u001b[39m, \u001b[39m\u001b[39m{\u001b[39;00mtyp\u001b[39m}\u001b[39;00m\u001b[39m, \u001b[39m\u001b[39m{\u001b[39;00mnon_null\u001b[39m}\u001b[39;00m\u001b[39m)\u001b[39m\u001b[39m\"\u001b[39m)\n",
      "File \u001b[0;32m~/.local/lib/python3.10/site-packages/subgrounds/query.py:1771\u001b[0m, in \u001b[0;36minput_value_of_argument.<locals>.fmt_value\u001b[0;34m(type_ref, value, non_null)\u001b[0m\n\u001b[1;32m   1730\u001b[0m \u001b[39mdef\u001b[39;00m \u001b[39mfmt_value\u001b[39m(type_ref: TypeRef\u001b[39m.\u001b[39mT, value: Any, non_null\u001b[39m=\u001b[39m\u001b[39mFalse\u001b[39;00m):\n\u001b[1;32m   1731\u001b[0m   \u001b[39mmatch\u001b[39;00m (type_ref, schema\u001b[39m.\u001b[39mtype_map[TypeRef\u001b[39m.\u001b[39mroot_type_name(type_ref)], value):\n\u001b[1;32m   1732\u001b[0m     \u001b[39m# Only allow Null values when non_null=True\u001b[39;00m\n\u001b[1;32m   1733\u001b[0m     \u001b[39mcase\u001b[39;00m (\u001b[39m_\u001b[39;00m, _, \u001b[39mNone\u001b[39;00m):\n\u001b[1;32m   1734\u001b[0m       \u001b[39mif\u001b[39;00m \u001b[39mnot\u001b[39;00m non_null:\n\u001b[1;32m   1735\u001b[0m         \u001b[39mreturn\u001b[39;00m InputValue\u001b[39m.\u001b[39mNull()\n\u001b[1;32m   1736\u001b[0m       \u001b[39melse\u001b[39;00m:\n\u001b[1;32m   1737\u001b[0m         \u001b[39mraise\u001b[39;00m \u001b[39mTypeError\u001b[39;00m(\u001b[39mf\u001b[39m\u001b[39m\"\u001b[39m\u001b[39mArgument \u001b[39m\u001b[39m{\u001b[39;00margmeta\u001b[39m.\u001b[39mname\u001b[39m}\u001b[39;00m\u001b[39m cannot be None!\u001b[39m\u001b[39m\"\u001b[39m)\n\u001b[1;32m   1738\u001b[0m \n\u001b[1;32m   1739\u001b[0m     \u001b[39m# If type is non_null, recurse with non_null=True\u001b[39;00m\n\u001b[1;32m   1740\u001b[0m     \u001b[39mcase\u001b[39;00m (TypeRef\u001b[39m.\u001b[39mNonNull(inner\u001b[39m=\u001b[39mt), \u001b[39m_\u001b[39;00m, _):\n\u001b[1;32m   1741\u001b[0m       \u001b[39mreturn\u001b[39;00m fmt_value(t, value, non_null\u001b[39m=\u001b[39m\u001b[39mTrue\u001b[39;00m)\n\u001b[1;32m   1742\u001b[0m \n\u001b[1;32m   1743\u001b[0m     \u001b[39mcase\u001b[39;00m (TypeRef\u001b[39m.\u001b[39mNamed(name\u001b[39m=\u001b[39m\u001b[39m\"\u001b[39m\u001b[39mID\u001b[39m\u001b[39m\"\u001b[39m), \u001b[39m_\u001b[39;00m, \u001b[39mstr\u001b[39m()):\n\u001b[1;32m   1744\u001b[0m       \u001b[39mreturn\u001b[39;00m InputValue\u001b[39m.\u001b[39mString(value)\n\u001b[1;32m   1745\u001b[0m \n\u001b[1;32m   1746\u001b[0m     \u001b[39mcase\u001b[39;00m (TypeRef\u001b[39m.\u001b[39mNamed(name\u001b[39m=\u001b[39m\u001b[39m\"\u001b[39m\u001b[39mInt\u001b[39m\u001b[39m\"\u001b[39m), \u001b[39m_\u001b[39;00m, \u001b[39mint\u001b[39m()):\n\u001b[1;32m   1747\u001b[0m       \u001b[39mreturn\u001b[39;00m InputValue\u001b[39m.\u001b[39mInt(value)\n\u001b[1;32m   1748\u001b[0m     \u001b[39mcase\u001b[39;00m (TypeRef\u001b[39m.\u001b[39mNamed(name\u001b[39m=\u001b[39m\u001b[39m\"\u001b[39m\u001b[39mBigInt\u001b[39m\u001b[39m\"\u001b[39m), \u001b[39m_\u001b[39;00m, \u001b[39mint\u001b[39m()):\n\u001b[1;32m   1749\u001b[0m       \u001b[39mreturn\u001b[39;00m InputValue\u001b[39m.\u001b[39mString(\u001b[39mstr\u001b[39m(value))\n\u001b[1;32m   1750\u001b[0m \n\u001b[1;32m   1751\u001b[0m     \u001b[39mcase\u001b[39;00m (TypeRef\u001b[39m.\u001b[39mNamed(name\u001b[39m=\u001b[39m\u001b[39m\"\u001b[39m\u001b[39mFloat\u001b[39m\u001b[39m\"\u001b[39m), \u001b[39m_\u001b[39;00m, \u001b[39mint\u001b[39m() \u001b[39m|\u001b[39m \u001b[39mfloat\u001b[39m()):\n\u001b[1;32m   1752\u001b[0m       \u001b[39mreturn\u001b[39;00m InputValue\u001b[39m.\u001b[39mFloat(\u001b[39mfloat\u001b[39m(value))\n\u001b[1;32m   1753\u001b[0m     \u001b[39mcase\u001b[39;00m (TypeRef\u001b[39m.\u001b[39mNamed(name\u001b[39m=\u001b[39m\u001b[39m\"\u001b[39m\u001b[39mBigDecimal\u001b[39m\u001b[39m\"\u001b[39m), \u001b[39m_\u001b[39;00m, \u001b[39mint\u001b[39m() \u001b[39m|\u001b[39m \u001b[39mfloat\u001b[39m()):\n\u001b[1;32m   1754\u001b[0m       \u001b[39mreturn\u001b[39;00m InputValue\u001b[39m.\u001b[39mString(\u001b[39mstr\u001b[39m(\u001b[39mfloat\u001b[39m(value)))\n\u001b[1;32m   1755\u001b[0m \n\u001b[1;32m   1756\u001b[0m     \u001b[39mcase\u001b[39;00m (TypeRef\u001b[39m.\u001b[39mNamed(name\u001b[39m=\u001b[39m\u001b[39m\"\u001b[39m\u001b[39mString\u001b[39m\u001b[39m\"\u001b[39m \u001b[39m|\u001b[39m \u001b[39m\"\u001b[39m\u001b[39mBytes\u001b[39m\u001b[39m\"\u001b[39m), \u001b[39m_\u001b[39;00m, \u001b[39mstr\u001b[39m()):\n\u001b[1;32m   1757\u001b[0m       \u001b[39mreturn\u001b[39;00m InputValue\u001b[39m.\u001b[39mString(value)\n\u001b[1;32m   1758\u001b[0m     \u001b[39mcase\u001b[39;00m (TypeRef\u001b[39m.\u001b[39mNamed(), TypeMeta\u001b[39m.\u001b[39mEnumMeta(), \u001b[39mstr\u001b[39m()):\n\u001b[1;32m   1759\u001b[0m       \u001b[39mreturn\u001b[39;00m InputValue\u001b[39m.\u001b[39mEnum(value)\n\u001b[1;32m   1760\u001b[0m \n\u001b[1;32m   1761\u001b[0m     \u001b[39mcase\u001b[39;00m (TypeRef\u001b[39m.\u001b[39mNamed(name\u001b[39m=\u001b[39m\u001b[39m\"\u001b[39m\u001b[39mBoolean\u001b[39m\u001b[39m\"\u001b[39m), \u001b[39m_\u001b[39;00m, \u001b[39mbool\u001b[39m()):\n\u001b[1;32m   1762\u001b[0m       \u001b[39mreturn\u001b[39;00m InputValue\u001b[39m.\u001b[39mBoolean(value)\n\u001b[1;32m   1763\u001b[0m \n\u001b[1;32m   1764\u001b[0m     \u001b[39mcase\u001b[39;00m (TypeRef\u001b[39m.\u001b[39mList(inner\u001b[39m=\u001b[39mt), \u001b[39m_\u001b[39;00m, \u001b[39mlist\u001b[39m()):\n\u001b[1;32m   1765\u001b[0m       \u001b[39mreturn\u001b[39;00m InputValue\u001b[39m.\u001b[39mList([fmt_value(t, val, non_null) \u001b[39mfor\u001b[39;00m val \u001b[39min\u001b[39;00m value])\n\u001b[1;32m   1766\u001b[0m \n\u001b[1;32m   1767\u001b[0m     \u001b[39mcase\u001b[39;00m (TypeRef\u001b[39m.\u001b[39mNamed(), TypeMeta\u001b[39m.\u001b[39mInputObjectMeta() \u001b[39mas\u001b[39;00m input_object, \u001b[39mdict\u001b[39m()):\n\u001b[1;32m   1768\u001b[0m       \u001b[39mreturn\u001b[39;00m InputValue\u001b[39m.\u001b[39mObject({key: fmt_value(input_object\u001b[39m.\u001b[39mtype_of_input_field(key), val, non_null) \u001b[39mfor\u001b[39;00m key, val \u001b[39min\u001b[39;00m value\u001b[39m.\u001b[39mitems()})\n\u001b[1;32m   1769\u001b[0m \n\u001b[1;32m   1770\u001b[0m     \u001b[39mcase\u001b[39;00m (value, typ, non_null):\n\u001b[0;32m-> 1771\u001b[0m       \u001b[39mraise\u001b[39;00m \u001b[39mTypeError\u001b[39;00m(\u001b[39mf\u001b[39m\u001b[39m\"\u001b[39m\u001b[39mmk_input_value(\u001b[39m\u001b[39m{\u001b[39;00mvalue\u001b[39m}\u001b[39;00m\u001b[39m, \u001b[39m\u001b[39m{\u001b[39;00mtyp\u001b[39m}\u001b[39;00m\u001b[39m, \u001b[39m\u001b[39m{\u001b[39;00mnon_null\u001b[39m}\u001b[39;00m\u001b[39m)\u001b[39m\u001b[39m\"\u001b[39m)\n",
      "\u001b[0;31mTypeError\u001b[0m: mk_input_value(inner=NonNull(inner=Named(name_='String', kind='SCALAR'), kind='NON_NULL') kind='LIST', name='String' description=None kind='SCALAR', USD Coin)"
     ]
    }
   ],
   "source": [
    "univ3_ds.runQuery(univ3_tokens_qp)"
   ]
  },
  {
   "cell_type": "code",
   "execution_count": null,
   "metadata": {},
   "outputs": [],
   "source": []
  }
 ],
 "metadata": {
  "kernelspec": {
   "display_name": "Python 3",
   "language": "python",
   "name": "python3"
  },
  "language_info": {
   "codemirror_mode": {
    "name": "ipython",
    "version": 3
   },
   "file_extension": ".py",
   "mimetype": "text/x-python",
   "name": "python",
   "nbconvert_exporter": "python",
   "pygments_lexer": "ipython3",
   "version": "3.9.4"
  },
  "vscode": {
   "interpreter": {
    "hash": "e7370f93d1d0cde622a1f8e1c04877d8463912d04d973331ad4851f04de6915a"
   }
  }
 },
 "nbformat": 4,
 "nbformat_minor": 2
}
