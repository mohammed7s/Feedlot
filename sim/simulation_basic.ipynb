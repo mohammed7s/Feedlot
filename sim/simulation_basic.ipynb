{
 "cells": [
  {
   "cell_type": "code",
   "execution_count": 1,
   "id": "d93f3a9b",
   "metadata": {},
   "outputs": [],
   "source": [
    "import pandas as pd \n",
    "from datastreams.datastream import Streamer\n",
    "from pool import AMMPool, AMMPoolHistory, CPMM, AMMWithBaulking\n",
    "import matplotlib as mpl\n",
    "from matplotlib import pyplot as plt\n",
    "import sysconfig"
   ]
  },
  {
   "cell_type": "code",
   "execution_count": 2,
   "id": "b9044b11",
   "metadata": {},
   "outputs": [
    {
     "name": "stdout",
     "output_type": "stream",
     "text": [
      "3.10\n"
     ]
    }
   ],
   "source": [
    "print(sysconfig.get_python_version())"
   ]
  },
  {
   "cell_type": "markdown",
   "id": "32474122",
   "metadata": {},
   "source": [
    "**Get Uni trades stream**  "
   ]
  },
  {
   "cell_type": "code",
   "execution_count": 4,
   "id": "1b5ada93",
   "metadata": {},
   "outputs": [
    {
     "name": "stdout",
     "output_type": "stream",
     "text": [
      "FIELD - swaps\n"
     ]
    }
   ],
   "source": [
    "query_size = 10000\n",
    "\n",
    "# instantiate Streamer object. \n",
    "# Note - unlike the cow queries, univ3 does not require multiple streamer instantations because the swaps field path is reset each iteration. \n",
    "# If the Cow queries were updated to use the same method, we could use the same streamer object for all queries.\n",
    "univ3_ds = Streamer('https://api.thegraph.com/subgraphs/name/messari/uniswap-v3-ethereum')\n",
    "\n",
    "# get a query field path from the query dictionary which is automatically populated in the Streamer object\n",
    "uni_swaps_fp = univ3_ds.queryDict.get('swaps')\n",
    "\n",
    "# define query path and parameters \n",
    "uni_swaps_qp = uni_swaps_fp(\n",
    "        first=query_size, \n",
    "        orderBy='timestamp',\n",
    "        orderDirection='asc',\n",
    "        where = {'timestamp_gt':1643673600, 'pool': '0x8ad599c3a0ff1de082011efddc58f1908eb6e6d8', 'amountInUSD_gt': 100, 'amountOutUSD_gt': 100,} \n",
    "        )\n",
    "\n",
    "# run query\n",
    "uni_swaps_df = univ3_ds.runQuery(uni_swaps_qp)"
   ]
  },
  {
   "cell_type": "code",
   "execution_count": 3,
   "id": "fe409d1a",
   "metadata": {},
   "outputs": [],
   "source": [
    "# save df to csv\n",
    "# uni_swaps_df.to_csv('uni_swaps_df.csv')\n",
    "\n",
    "uni_swaps_df = pd.read_csv('uni_swaps_df.csv')"
   ]
  },
  {
   "cell_type": "code",
   "execution_count": 4,
   "id": "e646361c",
   "metadata": {},
   "outputs": [
    {
     "name": "stdout",
     "output_type": "stream",
     "text": [
      "first timestamp: 1643673723 \n",
      "last timestamp: 1645734304\n"
     ]
    }
   ],
   "source": [
    "# Find the first and last value in the timestamp column\n",
    "first_timestamp_uni = uni_swaps_df['swaps_timestamp'].min()\n",
    "last_timestamp_uni = uni_swaps_df['swaps_timestamp'].max()\n",
    "print(f'first timestamp: {first_timestamp_uni} \\nlast timestamp: {last_timestamp_uni}')"
   ]
  },
  {
   "cell_type": "markdown",
   "id": "11e78b58",
   "metadata": {},
   "source": [
    "**get chainlink pricing to value pools**"
   ]
  },
  {
   "cell_type": "code",
   "execution_count": 5,
   "id": "1d786c15",
   "metadata": {},
   "outputs": [],
   "source": [
    "# load streamer class\n",
    "chain_ds = Streamer('https://api.thegraph.com/subgraphs/name/openpredict/chainlink-prices-subgraph')\n",
    "chain_price_feed = \"ETH/USD\""
   ]
  },
  {
   "cell_type": "code",
   "execution_count": 6,
   "id": "b92113b8",
   "metadata": {},
   "outputs": [
    {
     "name": "stdout",
     "output_type": "stream",
     "text": [
      "FIELD - prices\n"
     ]
    }
   ],
   "source": [
    "# get a query field path from the query dictionary which is automatically populated in the Streamer object\n",
    "chain_fp = chain_ds.queryDict.get('prices')\n",
    "\n",
    "# add parameters to the settlements_qp.\n",
    "chain_qp = chain_fp(\n",
    "    first= 10000,\n",
    "    orderBy='timestamp',\n",
    "    orderDirection='asc',\n",
    "    where = {'timestamp_gt':1643673600, 'assetPair': chain_price_feed}\n",
    "    )\n",
    "\n",
    "# run query\n",
    "chain_df = chain_ds.runQuery(chain_qp)"
   ]
  },
  {
   "cell_type": "code",
   "execution_count": 7,
   "id": "bb20f44c",
   "metadata": {},
   "outputs": [],
   "source": [
    "# drop prices_id, endpoint. \n",
    "chain_df = chain_df.drop(['prices_id', 'endpoint'], axis=1)\n",
    "# divide prices_price by 1e8 to get the price in USD\n",
    "chain_df['prices_price'] = chain_df['prices_price'] / 10 ** 8"
   ]
  },
  {
   "cell_type": "code",
   "execution_count": 8,
   "id": "6e6ef086",
   "metadata": {},
   "outputs": [
    {
     "name": "stdout",
     "output_type": "stream",
     "text": [
      "first timestamp: 1643676926 \n",
      "last timestamp: 1657307781\n"
     ]
    }
   ],
   "source": [
    "# Find the first and last value in the timestamp column\n",
    "first_timestamp_chain = chain_df['prices_timestamp'].min()\n",
    "last_timestamp_chain = chain_df['prices_timestamp'].max()\n",
    "print(f'first timestamp: {first_timestamp_chain} \\nlast timestamp: {last_timestamp_chain}')"
   ]
  },
  {
   "cell_type": "code",
   "execution_count": 9,
   "id": "081989f7",
   "metadata": {},
   "outputs": [],
   "source": [
    "timestamps = pd.DataFrame({'prices_timestamp': range(first_timestamp_chain, last_timestamp_chain + 1)})"
   ]
  },
  {
   "cell_type": "code",
   "execution_count": 10,
   "id": "abb6c997",
   "metadata": {},
   "outputs": [],
   "source": [
    "# left merge chain_df with empty timestamps_df\n",
    "chain_df = pd.merge(timestamps, chain_df, on='prices_timestamp', how='left')"
   ]
  },
  {
   "cell_type": "code",
   "execution_count": 11,
   "id": "c1b75672",
   "metadata": {},
   "outputs": [],
   "source": [
    "# Forward-fill missing values\n",
    "chain_df.fillna(method='ffill', inplace=True)\n",
    "# reset index\n",
    "price_s = chain_df.set_index(\"prices_timestamp\")[\"prices_price\"]  # small chainlink prices?"
   ]
  },
  {
   "cell_type": "markdown",
   "id": "5551c4b6",
   "metadata": {},
   "source": [
    "**get initialization price**"
   ]
  },
  {
   "cell_type": "code",
   "execution_count": 12,
   "id": "5048ee5c",
   "metadata": {
    "scrolled": false
   },
   "outputs": [],
   "source": [
    "# chainlink at first_timestamp of uni trades:\n",
    "initialization_df = chain_df[chain_df[\"prices_timestamp\"] == first_timestamp_chain]\n",
    "initilizatioin_price = initialization_df.iloc[0,2]\n",
    "\n",
    "# initialize 100m USDC supply reserve amount\n",
    "USDC_reserves_USD = 100000000"
   ]
  },
  {
   "cell_type": "code",
   "execution_count": 13,
   "id": "819116e9",
   "metadata": {},
   "outputs": [
    {
     "name": "stdout",
     "output_type": "stream",
     "text": [
      "Token 0 WETH initial reserves: \t37156\n",
      "Token 1 USDC initial reserves :\t100000000\n"
     ]
    }
   ],
   "source": [
    "token0_start = int(USDC_reserves_USD/initilizatioin_price)\n",
    "print(f\"Token 0 WETH initial reserves: \\t{token0_start}\")\n",
    "\n",
    "token1_start = USDC_reserves_USD\n",
    "print(f\"Token 1 USDC initial reserves :\\t{token1_start}\")"
   ]
  },
  {
   "cell_type": "markdown",
   "id": "a5a217d7",
   "metadata": {},
   "source": [
    "**1.Simple AMM. SWAP ALL** "
   ]
  },
  {
   "cell_type": "code",
   "execution_count": 14,
   "id": "4be0c1bc",
   "metadata": {},
   "outputs": [],
   "source": [
    "# Create an instance of AMMPoolHistory \n",
    "feedlot1 = AMMPoolHistory(token0_start, token1_start)"
   ]
  },
  {
   "cell_type": "code",
   "execution_count": 15,
   "id": "88d0b21a",
   "metadata": {},
   "outputs": [],
   "source": [
    "# Instantiate the CPMM object with the AMMPool object\n",
    "cpmm = CPMM(pool=feedlot1)\n",
    "cpmm_SI_flow = AMMWithBaulking(cpmm, price_s)"
   ]
  },
  {
   "cell_type": "code",
   "execution_count": 16,
   "id": "08f624ea",
   "metadata": {},
   "outputs": [
    {
     "name": "stdout",
     "output_type": "stream",
     "text": [
      "price initialized by chainilnk: 2691.31586673\n",
      "feedlot initialized price: 2691.355366562601\n",
      "cpmm initialized price: 2691.355366562601\n"
     ]
    }
   ],
   "source": [
    "# check that the price sources all start the same\n",
    "print(f'price initialized by chainilnk: {initilizatioin_price}')\n",
    "print(f'feedlot initialized price: {feedlot1.reserves[1] / feedlot1.reserves[0]}')\n",
    "print(f'cpmm initialized price: {cpmm_SI_flow.amm.pool.reserves[1] / cpmm_SI_flow.amm.pool.reserves[0]}')"
   ]
  },
  {
   "cell_type": "code",
   "execution_count": 17,
   "id": "16b609a7",
   "metadata": {},
   "outputs": [],
   "source": [
    "# TODO - 3/22/23 STOP HERE - Filter amount_in for WETH only swaps\n",
    "uni_swaps_amount_in_df = uni_swaps_df[uni_swaps_df['swaps_tokenIn_id'] == '0xc02aaa39b223fe8d0a0e5c4f27ead9083c756cc2']"
   ]
  },
  {
   "cell_type": "code",
   "execution_count": 20,
   "id": "10e07f64",
   "metadata": {},
   "outputs": [
    {
     "name": "stderr",
     "output_type": "stream",
     "text": [
      "/tmp/ipykernel_21805/1596781305.py:1: SettingWithCopyWarning: \n",
      "A value is trying to be set on a copy of a slice from a DataFrame.\n",
      "Try using .loc[row_indexer,col_indexer] = value instead\n",
      "\n",
      "See the caveats in the documentation: https://pandas.pydata.org/pandas-docs/stable/user_guide/indexing.html#returning-a-view-versus-a-copy\n",
      "  uni_swaps_amount_in_df['swaps_amountIn'] = uni_swaps_amount_in_df['swaps_amountIn'].astype('float64')\n"
     ]
    }
   ],
   "source": [
    "uni_swaps_amount_in_df['swaps_amountIn'] = uni_swaps_amount_in_df['swaps_amountIn'].astype('float64')"
   ]
  },
  {
   "cell_type": "code",
   "execution_count": 21,
   "id": "8e91954b",
   "metadata": {},
   "outputs": [
    {
     "name": "stderr",
     "output_type": "stream",
     "text": [
      "/tmp/ipykernel_21805/967561088.py:2: SettingWithCopyWarning: \n",
      "A value is trying to be set on a copy of a slice from a DataFrame.\n",
      "Try using .loc[row_indexer,col_indexer] = value instead\n",
      "\n",
      "See the caveats in the documentation: https://pandas.pydata.org/pandas-docs/stable/user_guide/indexing.html#returning-a-view-versus-a-copy\n",
      "  uni_swaps_amount_in_df['swaps_amountIn'] = uni_swaps_amount_in_df['swaps_amountIn'] / 10 ** 18\n"
     ]
    }
   ],
   "source": [
    "# divide swaps_amountIn by 1e18 to get the amount in ETH.\n",
    "uni_swaps_amount_in_df['swaps_amountIn'] = uni_swaps_amount_in_df['swaps_amountIn'] / 10 ** 18"
   ]
  },
  {
   "cell_type": "code",
   "execution_count": 22,
   "id": "62c23b55",
   "metadata": {
    "scrolled": true
   },
   "outputs": [],
   "source": [
    "# Iterate through the rows of the dataframe\n",
    "for index, row in uni_swaps_amount_in_df.iterrows():\n",
    "    if row['swaps_timestamp'] < 1643676926: continue # wait until we have chainlink prices\n",
    "    # Determine if the swap is a buy or a sell\n",
    "    is_buy = row['swaps_tokenIn_id'] == '0xc02aaa39b223fe8d0a0e5c4f27ead9083c756cc2' #check if tokenIn is WETH\n",
    "\n",
    "    # swap amount in WETH\n",
    "    amt = row['swaps_amountIn']\n",
    "    \n",
    "    # Extract the amountIn, amountOut, and timestamp\n",
    "    if is_buy:\n",
    "        token = 0\n",
    "    else:\n",
    "        token = 1 \n",
    "     \n",
    "    # Run the swap function on the AMM pool\n",
    "    amt0, amt1 = cpmm_SI_flow.maybe_market_order_sell(amt,token,row['swaps_timestamp'])\n",
    "    # print(f\"Traded {amt0} for {amt1}\\tat time {row['swaps_timestamp']}.\")\n",
    "    #print(f\"Pool reserves: ({feedlot1.reserves[0], feedlot1.reserves[1]})\")"
   ]
  },
  {
   "cell_type": "code",
   "execution_count": 37,
   "id": "4d8bee88",
   "metadata": {},
   "outputs": [],
   "source": [
    "results1_df = pd.DataFrame(feedlot1.history)"
   ]
  },
  {
   "cell_type": "code",
   "execution_count": 38,
   "id": "41077084",
   "metadata": {},
   "outputs": [],
   "source": [
    "price_s = price_s * 1000"
   ]
  },
  {
   "cell_type": "code",
   "execution_count": 39,
   "id": "13d1436f",
   "metadata": {},
   "outputs": [
    {
     "data": {
      "text/html": [
       "<div>\n",
       "<style scoped>\n",
       "    .dataframe tbody tr th:only-of-type {\n",
       "        vertical-align: middle;\n",
       "    }\n",
       "\n",
       "    .dataframe tbody tr th {\n",
       "        vertical-align: top;\n",
       "    }\n",
       "\n",
       "    .dataframe thead th {\n",
       "        text-align: right;\n",
       "    }\n",
       "</style>\n",
       "<table border=\"1\" class=\"dataframe\">\n",
       "  <thead>\n",
       "    <tr style=\"text-align: right;\">\n",
       "      <th></th>\n",
       "      <th>ts</th>\n",
       "      <th>reserve0</th>\n",
       "      <th>reserve1</th>\n",
       "    </tr>\n",
       "  </thead>\n",
       "  <tbody>\n",
       "    <tr>\n",
       "      <th>0</th>\n",
       "      <td>0</td>\n",
       "      <td>37156.000000</td>\n",
       "      <td>100000000</td>\n",
       "    </tr>\n",
       "    <tr>\n",
       "      <th>1</th>\n",
       "      <td>1643677886</td>\n",
       "      <td>37160.981790</td>\n",
       "      <td>99986595</td>\n",
       "    </tr>\n",
       "    <tr>\n",
       "      <th>2</th>\n",
       "      <td>1643678003</td>\n",
       "      <td>37168.325801</td>\n",
       "      <td>99966839</td>\n",
       "    </tr>\n",
       "    <tr>\n",
       "      <th>3</th>\n",
       "      <td>1643680005</td>\n",
       "      <td>37211.027767</td>\n",
       "      <td>99852121</td>\n",
       "    </tr>\n",
       "    <tr>\n",
       "      <th>4</th>\n",
       "      <td>1643680094</td>\n",
       "      <td>37341.235098</td>\n",
       "      <td>99503941</td>\n",
       "    </tr>\n",
       "    <tr>\n",
       "      <th>...</th>\n",
       "      <td>...</td>\n",
       "      <td>...</td>\n",
       "      <td>...</td>\n",
       "    </tr>\n",
       "    <tr>\n",
       "      <th>5189</th>\n",
       "      <td>1645734144</td>\n",
       "      <td>414268.935102</td>\n",
       "      <td>8970539</td>\n",
       "    </tr>\n",
       "    <tr>\n",
       "      <th>5190</th>\n",
       "      <td>1645734294</td>\n",
       "      <td>414395.994690</td>\n",
       "      <td>8967789</td>\n",
       "    </tr>\n",
       "    <tr>\n",
       "      <th>5191</th>\n",
       "      <td>1645734304</td>\n",
       "      <td>414396.224690</td>\n",
       "      <td>8967785</td>\n",
       "    </tr>\n",
       "    <tr>\n",
       "      <th>5192</th>\n",
       "      <td>1645734304</td>\n",
       "      <td>414512.647697</td>\n",
       "      <td>8965267</td>\n",
       "    </tr>\n",
       "    <tr>\n",
       "      <th>5193</th>\n",
       "      <td>1645734304</td>\n",
       "      <td>414527.251529</td>\n",
       "      <td>8964952</td>\n",
       "    </tr>\n",
       "  </tbody>\n",
       "</table>\n",
       "<p>5194 rows × 3 columns</p>\n",
       "</div>"
      ],
      "text/plain": [
       "              ts       reserve0   reserve1\n",
       "0              0   37156.000000  100000000\n",
       "1     1643677886   37160.981790   99986595\n",
       "2     1643678003   37168.325801   99966839\n",
       "3     1643680005   37211.027767   99852121\n",
       "4     1643680094   37341.235098   99503941\n",
       "...          ...            ...        ...\n",
       "5189  1645734144  414268.935102    8970539\n",
       "5190  1645734294  414395.994690    8967789\n",
       "5191  1645734304  414396.224690    8967785\n",
       "5192  1645734304  414512.647697    8965267\n",
       "5193  1645734304  414527.251529    8964952\n",
       "\n",
       "[5194 rows x 3 columns]"
      ]
     },
     "execution_count": 39,
     "metadata": {},
     "output_type": "execute_result"
    }
   ],
   "source": [
    "results1_df"
   ]
  },
  {
   "cell_type": "code",
   "execution_count": 41,
   "id": "45711763",
   "metadata": {},
   "outputs": [],
   "source": [
    "# merge results1_df with chain_df on timestamp\n",
    "results1_merged_df = pd.merge(results1_df, chain_df, left_on='ts', right_on='prices_timestamp', how='inner')"
   ]
  },
  {
   "cell_type": "code",
   "execution_count": 43,
   "id": "46a0bc60",
   "metadata": {},
   "outputs": [],
   "source": [
    "results1_merged_df['reserve0_usd'] = results1_merged_df['reserve0'] * results1_merged_df['prices_price']"
   ]
  },
  {
   "cell_type": "code",
   "execution_count": 46,
   "id": "5fbed79d",
   "metadata": {},
   "outputs": [],
   "source": [
    "results1_merged_df['tvl'] = results1_merged_df['reserve0_usd'] + results1_merged_df['reserve1']"
   ]
  },
  {
   "cell_type": "code",
   "execution_count": 49,
   "id": "a19b76fa",
   "metadata": {},
   "outputs": [
    {
     "data": {
      "image/png": "[encoded data removed]",
      "text/plain": [
       "<Figure size 640x480 with 1 Axes>"
      ]
     },
     "metadata": {},
     "output_type": "display_data"
    }
   ],
   "source": [
    "results1_merged_df[['reserve1', 'reserve0_usd']].plot()\n",
    "plt.title('feedlot reserve value in USD')\n",
    "plt.show();"
   ]
  },
  {
   "cell_type": "code",
   "execution_count": 51,
   "id": "98d93220",
   "metadata": {},
   "outputs": [
    {
     "data": {
      "image/png": "[encoded data removed]",
      "text/plain": [
       "<Figure size 640x480 with 2 Axes>"
      ]
     },
     "metadata": {},
     "output_type": "display_data"
    }
   ],
   "source": [
    "ax0 =results1_merged_df[\"reserve0\"].plot()\n",
    "ax1 = ax0.twinx()\n",
    "ax1 =results1_merged_df[\"reserve1\"].plot()\n",
    "plt.title('feedlot reserve composition')\n",
    "plt.show();"
   ]
  },
  {
   "cell_type": "code",
   "execution_count": 34,
   "id": "a93c2058",
   "metadata": {},
   "outputs": [],
   "source": [
    "# merge feedlot history with chainlink price\n",
    "merged1_df = pd.merge(results1_df, chain_df, left_on='ts', right_on='prices_timestamp')\n",
    "merged1_df.rename(columns={'prices_price': 'chainlink_price'}, inplace=True)\n",
    "# calculate tvl value of the pool with chainlink prices\n",
    "merged1_df['value'] = (merged1_df['reserve1']*merged1_df['chainlink_price']/(10**18)) + merged1_df['reserve0']/(10**18)"
   ]
  },
  {
   "cell_type": "code",
   "execution_count": 35,
   "id": "e779133d",
   "metadata": {
    "scrolled": true
   },
   "outputs": [
    {
     "data": {
      "text/plain": [
       "ts                     0\n",
       "reserve0               0\n",
       "reserve1               0\n",
       "prices_timestamp       0\n",
       "prices_assetPair_id    0\n",
       "chainlink_price        0\n",
       "value                  0\n",
       "dtype: int64"
      ]
     },
     "execution_count": 35,
     "metadata": {},
     "output_type": "execute_result"
    }
   ],
   "source": [
    "# check how many null values there are\n",
    "merged1_df.isna().sum()"
   ]
  },
  {
   "cell_type": "code",
   "execution_count": 38,
   "id": "2206a529",
   "metadata": {},
   "outputs": [
    {
     "data": {
      "text/html": [
       "<div>\n",
       "<style scoped>\n",
       "    .dataframe tbody tr th:only-of-type {\n",
       "        vertical-align: middle;\n",
       "    }\n",
       "\n",
       "    .dataframe tbody tr th {\n",
       "        vertical-align: top;\n",
       "    }\n",
       "\n",
       "    .dataframe thead th {\n",
       "        text-align: right;\n",
       "    }\n",
       "</style>\n",
       "<table border=\"1\" class=\"dataframe\">\n",
       "  <thead>\n",
       "    <tr style=\"text-align: right;\">\n",
       "      <th></th>\n",
       "      <th>ts</th>\n",
       "      <th>reserve0</th>\n",
       "      <th>reserve1</th>\n",
       "      <th>prices_timestamp</th>\n",
       "      <th>prices_assetPair_id</th>\n",
       "      <th>chainlink_price</th>\n",
       "      <th>value</th>\n",
       "    </tr>\n",
       "  </thead>\n",
       "  <tbody>\n",
       "    <tr>\n",
       "      <th>0</th>\n",
       "      <td>1643677266</td>\n",
       "      <td>3.714731e+13</td>\n",
       "      <td>100023400000000</td>\n",
       "      <td>1643677266</td>\n",
       "      <td>ETH/USD</td>\n",
       "      <td>2691.315867</td>\n",
       "      <td>0.269232</td>\n",
       "    </tr>\n",
       "    <tr>\n",
       "      <th>1</th>\n",
       "      <td>1643677640</td>\n",
       "      <td>3.705478e+13</td>\n",
       "      <td>100273155238047</td>\n",
       "      <td>1643677640</td>\n",
       "      <td>ETH/USD</td>\n",
       "      <td>2691.315867</td>\n",
       "      <td>0.269904</td>\n",
       "    </tr>\n",
       "    <tr>\n",
       "      <th>2</th>\n",
       "      <td>1643677829</td>\n",
       "      <td>3.700865e+13</td>\n",
       "      <td>100398155238047</td>\n",
       "      <td>1643677829</td>\n",
       "      <td>ETH/USD</td>\n",
       "      <td>2691.315867</td>\n",
       "      <td>0.270240</td>\n",
       "    </tr>\n",
       "    <tr>\n",
       "      <th>3</th>\n",
       "      <td>1643677886</td>\n",
       "      <td>3.701363e+13</td>\n",
       "      <td>100384642310735</td>\n",
       "      <td>1643677886</td>\n",
       "      <td>ETH/USD</td>\n",
       "      <td>2691.315867</td>\n",
       "      <td>0.270204</td>\n",
       "    </tr>\n",
       "    <tr>\n",
       "      <th>4</th>\n",
       "      <td>1643678003</td>\n",
       "      <td>3.702097e+13</td>\n",
       "      <td>100364728573895</td>\n",
       "      <td>1643678003</td>\n",
       "      <td>ETH/USD</td>\n",
       "      <td>2691.315867</td>\n",
       "      <td>0.270150</td>\n",
       "    </tr>\n",
       "    <tr>\n",
       "      <th>...</th>\n",
       "      <td>...</td>\n",
       "      <td>...</td>\n",
       "      <td>...</td>\n",
       "      <td>...</td>\n",
       "      <td>...</td>\n",
       "      <td>...</td>\n",
       "      <td>...</td>\n",
       "    </tr>\n",
       "    <tr>\n",
       "      <th>12264</th>\n",
       "      <td>1645731605</td>\n",
       "      <td>3.763817e+13</td>\n",
       "      <td>98718924061503</td>\n",
       "      <td>1645731605</td>\n",
       "      <td>ETH/USD</td>\n",
       "      <td>2554.168141</td>\n",
       "      <td>0.252182</td>\n",
       "    </tr>\n",
       "    <tr>\n",
       "      <th>12265</th>\n",
       "      <td>1645731622</td>\n",
       "      <td>3.759533e+13</td>\n",
       "      <td>98831424061503</td>\n",
       "      <td>1645731622</td>\n",
       "      <td>ETH/USD</td>\n",
       "      <td>2554.168141</td>\n",
       "      <td>0.252470</td>\n",
       "    </tr>\n",
       "    <tr>\n",
       "      <th>12266</th>\n",
       "      <td>1645732198</td>\n",
       "      <td>3.755734e+13</td>\n",
       "      <td>98931390810383</td>\n",
       "      <td>1645732198</td>\n",
       "      <td>ETH/USD</td>\n",
       "      <td>2567.478087</td>\n",
       "      <td>0.254042</td>\n",
       "    </tr>\n",
       "    <tr>\n",
       "      <th>12267</th>\n",
       "      <td>1645732198</td>\n",
       "      <td>3.754090e+13</td>\n",
       "      <td>98974708863489</td>\n",
       "      <td>1645732198</td>\n",
       "      <td>ETH/USD</td>\n",
       "      <td>2567.478087</td>\n",
       "      <td>0.254153</td>\n",
       "    </tr>\n",
       "    <tr>\n",
       "      <th>12268</th>\n",
       "      <td>1645732238</td>\n",
       "      <td>3.746520e+13</td>\n",
       "      <td>99174708863489</td>\n",
       "      <td>1645732238</td>\n",
       "      <td>ETH/USD</td>\n",
       "      <td>2567.478087</td>\n",
       "      <td>0.254666</td>\n",
       "    </tr>\n",
       "  </tbody>\n",
       "</table>\n",
       "<p>12269 rows × 7 columns</p>\n",
       "</div>"
      ],
      "text/plain": [
       "               ts      reserve0         reserve1  prices_timestamp  \\\n",
       "0      1643677266  3.714731e+13  100023400000000        1643677266   \n",
       "1      1643677640  3.705478e+13  100273155238047        1643677640   \n",
       "2      1643677829  3.700865e+13  100398155238047        1643677829   \n",
       "3      1643677886  3.701363e+13  100384642310735        1643677886   \n",
       "4      1643678003  3.702097e+13  100364728573895        1643678003   \n",
       "...           ...           ...              ...               ...   \n",
       "12264  1645731605  3.763817e+13   98718924061503        1645731605   \n",
       "12265  1645731622  3.759533e+13   98831424061503        1645731622   \n",
       "12266  1645732198  3.755734e+13   98931390810383        1645732198   \n",
       "12267  1645732198  3.754090e+13   98974708863489        1645732198   \n",
       "12268  1645732238  3.746520e+13   99174708863489        1645732238   \n",
       "\n",
       "      prices_assetPair_id  chainlink_price     value  \n",
       "0                 ETH/USD      2691.315867  0.269232  \n",
       "1                 ETH/USD      2691.315867  0.269904  \n",
       "2                 ETH/USD      2691.315867  0.270240  \n",
       "3                 ETH/USD      2691.315867  0.270204  \n",
       "4                 ETH/USD      2691.315867  0.270150  \n",
       "...                   ...              ...       ...  \n",
       "12264             ETH/USD      2554.168141  0.252182  \n",
       "12265             ETH/USD      2554.168141  0.252470  \n",
       "12266             ETH/USD      2567.478087  0.254042  \n",
       "12267             ETH/USD      2567.478087  0.254153  \n",
       "12268             ETH/USD      2567.478087  0.254666  \n",
       "\n",
       "[12269 rows x 7 columns]"
      ]
     },
     "execution_count": 38,
     "metadata": {},
     "output_type": "execute_result"
    }
   ],
   "source": [
    "merged1_df"
   ]
  },
  {
   "cell_type": "code",
   "execution_count": 37,
   "id": "28bf57b8",
   "metadata": {
    "scrolled": true
   },
   "outputs": [
    {
     "data": {
      "image/png": "[encoded data removed]",
      "text/plain": [
       "<Figure size 640x480 with 1 Axes>"
      ]
     },
     "metadata": {},
     "output_type": "display_data"
    }
   ],
   "source": [
    "fig, ax = plt.subplots()\n",
    "ax.plot(merged1_df['ts'], merged1_df['value'])\n",
    "ax.set_title('Feedlot TVL over Time')\n",
    "ax.set_xlabel('Timestamp')\n",
    "ax.set_ylabel('TVL (USD)')\n",
    "plt.show();\n",
    "#fig.savefig('value_vs_timestamp.png', dpi=300)"
   ]
  },
  {
   "cell_type": "code",
   "execution_count": null,
   "id": "8f40cc43",
   "metadata": {},
   "outputs": [],
   "source": [
    "fig, ax = plt.subplots()\n",
    "ax.plot(merged1_df['ts'], merged1_df['reserve0'])\n",
    "ax.set_title('CPMM reserves0')\n",
    "ax.set_xlabel('Timestamp')\n",
    "ax.set_ylabel('Value')\n",
    "#fig.savefig('value_vs_timestamp.png', dpi=300)"
   ]
  },
  {
   "cell_type": "code",
   "execution_count": null,
   "id": "569a6260",
   "metadata": {},
   "outputs": [],
   "source": [
    "fig, ax = plt.subplots()\n",
    "ax.plot(merged1_df['ts'], merged1_df['reserve1'])\n",
    "ax.set_title('CPMM reserves1')\n",
    "ax.set_xlabel('Timestamp')\n",
    "ax.set_ylabel('Value')\n",
    "#fig.savefig('value_vs_timestamp.png', dpi=300)"
   ]
  },
  {
   "cell_type": "code",
   "execution_count": null,
   "id": "dad34293",
   "metadata": {},
   "outputs": [],
   "source": [
    "import matplotlib.pyplot as plt\n",
    "\n",
    "# Assume that df is your dataframe with three columns: time, col1, and col2\n",
    "\n",
    "# Create a new figure and axis\n",
    "fig, ax = plt.subplots()\n",
    "\n",
    "# Plot col1 on the first y-axis\n",
    "ax.plot(merged1_df[\"ts\"], merged1_df[\"reserve0\"], label=\"reserve0\")\n",
    "\n",
    "# Create a second y-axis on the right-hand side\n",
    "ax2 = ax.twinx()\n",
    "\n",
    "# Plot col2 on the second y-axis\n",
    "ax2.plot(merged1_df[\"ts\"], merged1_df[\"reserve1\"], color=\"orange\", label=\"col2\")\n",
    "\n",
    "# Add legends and axis labels\n",
    "ax.set_xlabel(\"Timestamp\")\n",
    "ax.set_ylabel(\"reserve0\")\n",
    "ax2.set_ylabel(\"reserve1\")\n",
    "ax.legend(loc=\"upper left\")\n",
    "ax2.legend(loc=\"upper right\")\n",
    "\n",
    "# Show the plot\n",
    "plt.show()\n"
   ]
  },
  {
   "cell_type": "code",
   "execution_count": null,
   "id": "4c776f00",
   "metadata": {},
   "outputs": [],
   "source": []
  },
  {
   "cell_type": "code",
   "execution_count": null,
   "id": "778a2525",
   "metadata": {},
   "outputs": [],
   "source": []
  },
  {
   "cell_type": "markdown",
   "id": "b74bf192",
   "metadata": {},
   "source": [
    "**OraclePool AMM**"
   ]
  },
  {
   "cell_type": "markdown",
   "id": "fda967d0",
   "metadata": {},
   "source": [
    "**get cow trades for oracle pricing** "
   ]
  },
  {
   "cell_type": "code",
   "execution_count": null,
   "id": "644aed11",
   "metadata": {},
   "outputs": [],
   "source": [
    "cow_ds = Streamer('https://api.thegraph.com/subgraphs/name/cowprotocol/cow')\n",
    "\n",
    "# get COW trades \n",
    "\n",
    "trades_fp = cow_ds.queryDict.get('trades')\n",
    "\n",
    "# trades query path that gets token a -> token b trades\n",
    "trades_qp = trades_fp(\n",
    "    first=10000,\n",
    "    orderBy='timestamp',\n",
    "    orderDirection='asc',\n",
    "    where={'timestamp_gt':1643673600, 'sellToken':'0xa0b86991c6218b36c1d19d4a2e9eb0ce3606eb48',\n",
    "           'buyToken':'0xc02aaa39b223fe8d0a0e5c4f27ead9083c756cc2'\n",
    "    }\n",
    ")\n",
    "\n",
    "# run query\n",
    "trades_df = cow_ds.runQuery(trades_qp)"
   ]
  },
  {
   "cell_type": "code",
   "execution_count": null,
   "id": "508ba36c",
   "metadata": {},
   "outputs": [],
   "source": [
    "trades_df.shape"
   ]
  },
  {
   "cell_type": "code",
   "execution_count": null,
   "id": "5ddae420",
   "metadata": {},
   "outputs": [],
   "source": [
    "trades_df.head(5)"
   ]
  },
  {
   "cell_type": "code",
   "execution_count": null,
   "id": "40fb401e",
   "metadata": {},
   "outputs": [],
   "source": [
    "# Set query size large enough to retrieve all tokens in the graph\n",
    "query_size = 10000\n",
    "\n",
    "token_fp = cow_ds.queryDict.get('tokens')\n",
    "\n",
    "# add parameters to the settlements_qp.\n",
    "token_qp = token_fp(\n",
    "    first=query_size,\n",
    ")\n",
    "\n",
    "# run query\n",
    "token_df = cow_ds.runQuery(token_qp)\n"
   ]
  },
  {
   "cell_type": "code",
   "execution_count": null,
   "id": "aa19a2f4",
   "metadata": {},
   "outputs": [],
   "source": [
    "token_df.shape"
   ]
  },
  {
   "cell_type": "code",
   "execution_count": null,
   "id": "27518058",
   "metadata": {},
   "outputs": [],
   "source": [
    "# Merge1 on sell token address.  x = sell token \n",
    "\n",
    "merged_df = pd.merge(trades_df, token_df, left_on='trades_sellToken_id', right_on='tokens_address')\n",
    "\n",
    "merged_df.shape"
   ]
  },
  {
   "cell_type": "code",
   "execution_count": null,
   "id": "79d1b0e0",
   "metadata": {},
   "outputs": [],
   "source": [
    "# Merge2 on buy token address.  y = buy token \n",
    "cow_df = pd.merge(merged_df, token_df, left_on='trades_buyToken_id', right_on='tokens_address')\n",
    "\n",
    "cow_df.shape"
   ]
  },
  {
   "cell_type": "code",
   "execution_count": null,
   "id": "dda2c7fc",
   "metadata": {},
   "outputs": [],
   "source": [
    "cow_df.dtypes"
   ]
  },
  {
   "cell_type": "code",
   "execution_count": null,
   "id": "6a1c12fb",
   "metadata": {},
   "outputs": [],
   "source": [
    "# calculate buy and sell amounts from the correct decimal \n",
    "cow_df['sell_amount'] = cow_df.apply(lambda x: x['trades_sellAmount'] / (10**x['tokens_decimals_x']), axis=1)\n",
    "cow_df['buy_amount'] = cow_df.apply(lambda x: x['trades_buyAmount'] / (10**x['tokens_decimals_y']), axis=1)"
   ]
  },
  {
   "cell_type": "code",
   "execution_count": null,
   "id": "24316c4e",
   "metadata": {},
   "outputs": [],
   "source": [
    "# calculate COW price defined sell amount / buy amount\n",
    "cow_df['cow_price'] = cow_df['sell_amount'] / cow_df['buy_amount']"
   ]
  },
  {
   "cell_type": "code",
   "execution_count": null,
   "id": "4330122c",
   "metadata": {},
   "outputs": [],
   "source": [
    "cow_df"
   ]
  },
  {
   "cell_type": "code",
   "execution_count": null,
   "id": "5b0be4b4",
   "metadata": {},
   "outputs": [],
   "source": [
    "# Find the first and last value in the timestamp column\n",
    "first_timestamp_cow = chain_df['prices_timestamp'].min()\n",
    "last_timestamp_cow = chain_df['prices_timestamp'].max()"
   ]
  },
  {
   "cell_type": "code",
   "execution_count": null,
   "id": "df8dcbf1",
   "metadata": {},
   "outputs": [],
   "source": [
    "first_timestamp_cow"
   ]
  },
  {
   "cell_type": "code",
   "execution_count": null,
   "id": "8e90b0ba",
   "metadata": {},
   "outputs": [],
   "source": [
    "last_timestamp_cow"
   ]
  },
  {
   "cell_type": "code",
   "execution_count": null,
   "id": "50ada1e2",
   "metadata": {},
   "outputs": [],
   "source": [
    "oracle_dict = [{\"ts\": row[\"trades_timestamp\"], \"p\": row[\"cow_price\"]} for _, row in cow_df.iterrows()]"
   ]
  },
  {
   "cell_type": "code",
   "execution_count": null,
   "id": "4d338955",
   "metadata": {},
   "outputs": [],
   "source": [
    "oracle_dict"
   ]
  },
  {
   "cell_type": "raw",
   "id": "9e8e3cb0",
   "metadata": {},
   "source": []
  },
  {
   "cell_type": "code",
   "execution_count": null,
   "id": "4c2afdb8",
   "metadata": {},
   "outputs": [],
   "source": []
  },
  {
   "cell_type": "code",
   "execution_count": null,
   "id": "5d7de58a",
   "metadata": {},
   "outputs": [],
   "source": []
  },
  {
   "cell_type": "markdown",
   "id": "a7b3490b",
   "metadata": {},
   "source": [
    "**Oracle pool simulation**"
   ]
  },
  {
   "cell_type": "code",
   "execution_count": null,
   "id": "11797cac",
   "metadata": {},
   "outputs": [],
   "source": [
    "from pool import CPMM, AMMPool, SwapRejectedError, OraclePool"
   ]
  },
  {
   "cell_type": "code",
   "execution_count": null,
   "id": "69761b1f",
   "metadata": {},
   "outputs": [],
   "source": [
    "# Create an instance of AMMPoolHistory \n",
    "feedlot2 = AMMPoolHistory(token0_start, token1_start)"
   ]
  },
  {
   "cell_type": "code",
   "execution_count": null,
   "id": "774ffb47",
   "metadata": {
    "scrolled": true
   },
   "outputs": [],
   "source": [
    "feedlot3 = OraclePool(feedlot2, oracle_dict)"
   ]
  },
  {
   "cell_type": "code",
   "execution_count": null,
   "id": "9a737f0e",
   "metadata": {},
   "outputs": [],
   "source": [
    " # Iterate through the rows of the dataframe\n",
    "for index, row in uni_swaps_df.iterrows():\n",
    "    # Determine if the swap is a buy or a sell\n",
    "    token_in = row['swaps_tokenIn_id']\n",
    "    token_out = row['swaps_tokenOut_id']\n",
    "    is_buy = token_in == token0 and token_out == token1\n",
    "    amt = row['swaps_amountIn']\n",
    "    \n",
    "    # Extract the amountIn, amountOut, and timestamp\n",
    "    if is_buy:\n",
    "        token = 0\n",
    "    else:\n",
    "        token = 1 \n",
    "    ts = row['swaps_timestamp']\n",
    "    \n",
    "    print('token', token)\n",
    "    print('amt', amt)\n",
    "    print('amt',amt/10**18)\n",
    "    print('token_in', token_in)\n",
    "    print('ts', ts)\n",
    "    \n",
    "    # Run the swap function on the AMM pool\n",
    "    feedlot3.market_order_sell(amt,token,ts)"
   ]
  },
  {
   "cell_type": "code",
   "execution_count": null,
   "id": "2c2ca9a7",
   "metadata": {},
   "outputs": [],
   "source": [
    "results2 = pd.DataFrame(feedlot2.history)"
   ]
  },
  {
   "cell_type": "code",
   "execution_count": null,
   "id": "3aca02d4",
   "metadata": {},
   "outputs": [],
   "source": [
    "results2.shape"
   ]
  },
  {
   "cell_type": "code",
   "execution_count": null,
   "id": "eef78304",
   "metadata": {
    "scrolled": true
   },
   "outputs": [],
   "source": [
    "results2.head(5)"
   ]
  },
  {
   "cell_type": "code",
   "execution_count": null,
   "id": "576f4690",
   "metadata": {},
   "outputs": [],
   "source": [
    "merged2_df = pd.merge(results2, chain_df, left_on='ts', right_on='prices_timestamp')\n",
    "merged2_df.rename(columns={'prices_price': 'chainlink_price'}, inplace=True)"
   ]
  },
  {
   "cell_type": "code",
   "execution_count": null,
   "id": "42b9e6d1",
   "metadata": {},
   "outputs": [],
   "source": [
    "merged2_df['value'] = merged2_df['reserve1']*merged2_df['chainlink_price']/10**18 + merged2_df['reserve0']/10**18"
   ]
  },
  {
   "cell_type": "code",
   "execution_count": null,
   "id": "1b314d3b",
   "metadata": {},
   "outputs": [],
   "source": [
    "import matplotlib.pyplot as plt\n",
    "\n",
    "fig, ax = plt.subplots()\n",
    "ax.plot(merged2_df['ts'], merged2_df['value'])\n",
    "ax.set_title('Value vs. Timestamp')\n",
    "ax.set_xlabel('Timestamp')\n",
    "ax.set_ylabel('Value')\n",
    "#fig.savefig('value_vs_timestamp.png', dpi=300)"
   ]
  },
  {
   "cell_type": "code",
   "execution_count": null,
   "id": "6c498411",
   "metadata": {},
   "outputs": [],
   "source": [
    "# Assume that df is your dataframe with three columns: time, col1, and col2\n",
    "\n",
    "# Create a new figure and axis\n",
    "fig, ax = plt.subplots()\n",
    "\n",
    "# Plot col1 on the first y-axis\n",
    "ax.plot(merged2_df[\"ts\"], merged2_df[\"reserve0\"], label=\"reserve0\")\n",
    "\n",
    "# Create a second y-axis on the right-hand side\n",
    "ax2 = ax.twinx()\n",
    "\n",
    "# Plot col2 on the second y-axis\n",
    "ax2.plot(merged2_df[\"ts\"], merged2_df[\"reserve1\"], color=\"orange\", label=\"reserves1\")\n",
    "\n",
    "# Add legends and axis labels\n",
    "ax.set_xlabel(\"Timestamp\")\n",
    "ax.set_ylabel(\"reserve0\")\n",
    "ax2.set_ylabel(\"reserve1\")\n",
    "ax.legend(loc=\"upper left\")\n",
    "ax2.legend(loc=\"upper right\")\n",
    "\n",
    "# Show the plot\n",
    "plt.show()"
   ]
  }
 ],
 "metadata": {
  "kernelspec": {
   "display_name": "Python 3",
   "language": "python",
   "name": "python3"
  },
  "language_info": {
   "codemirror_mode": {
    "name": "ipython",
    "version": 3
   },
   "file_extension": ".py",
   "mimetype": "text/x-python",
   "name": "python",
   "nbconvert_exporter": "python",
   "pygments_lexer": "ipython3",
   "version": "3.10.6"
  }
 },
 "nbformat": 4,
 "nbformat_minor": 5
}
