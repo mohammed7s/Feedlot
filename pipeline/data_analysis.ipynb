{
 "cells": [
  {
   "attachments": {},
   "cell_type": "markdown",
   "metadata": {},
   "source": [
    "# Cow + Univ3 DataPipeline"
   ]
  },
  {
   "attachments": {},
   "cell_type": "markdown",
   "metadata": {},
   "source": [
    "### Setup Jupyter Environment"
   ]
  },
  {
   "cell_type": "code",
   "execution_count": null,
   "metadata": {},
   "outputs": [],
   "source": [
    "import matplotlib.pyplot as plt\n",
    "import pandas as pd\n",
    "import polars as pl\n",
    "\n",
    "# These commands enlarge the column size of the dataframe so things like 0x... are not truncated\n",
    "pd.set_option('display.max_columns', None)\n",
    "pd.set_option('display.expand_frame_repr', False)\n",
    "pd.set_option('max_colwidth', None)"
   ]
  },
  {
   "cell_type": "code",
   "execution_count": null,
   "metadata": {},
   "outputs": [],
   "source": [
    "# load parquet file into polars dataframe polars dataframe\n",
    "cow_uni_chain_outer_pl = pl.read_parquet('data/cow_uni_chain_outer_pl_historical.parquet')"
   ]
  },
  {
   "cell_type": "code",
   "execution_count": null,
   "metadata": {},
   "outputs": [],
   "source": [
    "cow_uni_chain_outer_pl.shape"
   ]
  },
  {
   "cell_type": "code",
   "execution_count": null,
   "metadata": {},
   "outputs": [],
   "source": [
    "# Replace null values with 0. In this case we are using the string \"0\"\n",
    "# trades_swaps_converted_trunc_pl = cow_uni_chain_outer_pl.fill_null(\"0\")"
   ]
  },
  {
   "cell_type": "code",
   "execution_count": null,
   "metadata": {},
   "outputs": [],
   "source": [
    "# return the larger value between trades_buy_sell_ratio and trades_sell_buy_ratio in a lambda function. This serves as a column equalization function for trades_buy_sell_ratio and trades_sell_buy_ratio\n",
    "execution_prices_pl = cow_uni_chain_outer_pl.with_columns([\n",
    "    (pl.col(\"trades_buy_sell_ratio\").apply(lambda x: x if x > 1 else 1/x)).alias('trades_buy_sell_ratio'),\n",
    "    (pl.col(\"trades_sell_buy_ratio\").apply(lambda x: x if x > 1 else 1/x)).alias('trades_sell_buy_ratio'),\n",
    "    (pl.col(\"swaps_amountIn_amountOut_ratio\").apply(lambda x: x if x > 1 else 1/x)).alias('swaps_amountIn_amountOut_ratio'),\n",
    "    (pl.col(\"swaps_amountOut_amountIn_ratio\").apply(lambda x: x if x > 1 else 1/x)).alias('swaps_amountOut_amountIn_ratio'),\n",
    "])"
   ]
  },
  {
   "cell_type": "code",
   "execution_count": null,
   "metadata": {},
   "outputs": [],
   "source": [
    "# add columns that tell us the trade directionality for the trades and swaps. \n",
    "# we label the trade direction WETH -> USDC when WETH is in the CoW buy column and the UniV3 amountOut column. \n",
    "# Conversely, the USDC -> WETH direction is when USDC is in the CoW sell column and the Univ3 amountIn column.\n",
    "execution_prices_pl = execution_prices_pl.with_columns([\n",
    "    (pl.col(\"trades_buyToken_id\").apply(lambda x: True if x == 'WETH' else False)).alias('trades_buy_WETH'),\n",
    "    (pl.col(\"swaps_tokenOut_id\").apply(lambda x: True if x == 'WETH' else False)).alias('swaps_buy_WETH'),\n",
    "])"
   ]
  },
  {
   "cell_type": "code",
   "execution_count": null,
   "metadata": {},
   "outputs": [],
   "source": [
    "execution_prices_pl = execution_prices_pl.with_columns([\n",
    "    (pl.col(\"trades_buy_WETH\") & pl.col(\"swaps_buy_WETH\")).alias('buy_WETH'), # buy WETH\n",
    "    (~pl.col(\"trades_buy_WETH\") & ~pl.col(\"swaps_buy_WETH\")).alias('sell_WETH'), # sell WETH\n",
    "])\n"
   ]
  },
  {
   "attachments": {},
   "cell_type": "markdown",
   "metadata": {},
   "source": [
    "### Plotting"
   ]
  },
  {
   "cell_type": "code",
   "execution_count": null,
   "metadata": {},
   "outputs": [],
   "source": [
    "# convert execution_prices_pl to pandas dataframe for easier plotting.\n",
    "execution_prices_pd = execution_prices_pl.to_pandas()\n",
    "\n",
    "# set trades_timestamp as index and order by trades_timestamp\n",
    "execution_prices_pd = execution_prices_pd.set_index('trades_timestamp').sort_index()\n",
    "\n",
    "# create a new dataframe with a unique integer index. make the current timestamp index a column\n",
    "reindexed_df = execution_prices_pd.reset_index()"
   ]
  },
  {
   "cell_type": "code",
   "execution_count": null,
   "metadata": {},
   "outputs": [],
   "source": [
    "# reindex execution_prices_pd. We take the mean over multiple timestamps of the same value.\n",
    "# reindexed_df = execution_prices_pd.groupby(execution_prices_pd.index).mean(numeric_only=True)"
   ]
  },
  {
   "cell_type": "code",
   "execution_count": null,
   "metadata": {},
   "outputs": [],
   "source": [
    "# # The reindex value converts booleans into 0s and 1s. Thus we convert buy_WETH 0 values to False boolean\n",
    "# reindexed_df['buy_WETH'] = reindexed_df['buy_WETH'].apply(lambda x: False if x == 0 else True)\n",
    "\n",
    "# # do same for WETH sel\n",
    "# reindexed_df['sell_WETH'] = reindexed_df['sell_WETH'].apply(lambda x: False if x == 0 else True)"
   ]
  },
  {
   "cell_type": "code",
   "execution_count": null,
   "metadata": {},
   "outputs": [],
   "source": [
    "reindexed_price_df = reindexed_df[[\n",
    "    'timestamp',                            # timestamp\n",
    "    'trades_sell_buy_ratio',                # cow price\n",
    "    'swaps_amountOut_amountIn_ratio',       # univ3 price\n",
    "    'prices_price',                         # chain price\n",
    "    'transaction_gas_fee_one_hop',          # univ3 single hop swap\n",
    "    'transaction_gas_fee_median',           # univ3 median swap transaction cost\n",
    "    'buy_WETH'                              # trade direction.\n",
    "    ]]\n",
    "\n",
    "# rename columns\n",
    "reindexed_price_df.columns = [\n",
    "    'timestamp',                            # timestamp\n",
    "    'cow_price',                            # cow price\n",
    "    'univ3_price',                          # univ3 price\n",
    "    'chain_price',                          # chain price\n",
    "    'transaction_gas_fee_one_hop',          # univ3 single hop swap\n",
    "    'transaction_gas_fee_median',           # univ3 median swap transaction cost\n",
    "    'buy_WETH'                              # trade direction.\n",
    "]"
   ]
  },
  {
   "cell_type": "code",
   "execution_count": null,
   "metadata": {},
   "outputs": [],
   "source": [
    "# forward fill reindexed_price_df\n",
    "reindexed_price_df = reindexed_price_df.fillna(method='ffill')"
   ]
  },
  {
   "cell_type": "code",
   "execution_count": null,
   "metadata": {},
   "outputs": [],
   "source": [
    "# convert transaction_gas_fee into usd amount\n",
    "reindexed_price_df['transaction_gas_fee_one_hop_usd'] = reindexed_price_df['transaction_gas_fee_one_hop'] * reindexed_price_df['univ3_price']\n",
    "reindexed_price_df['transaction_gas_fee_median_usd'] = reindexed_price_df['transaction_gas_fee_median'] * reindexed_price_df['univ3_price']"
   ]
  },
  {
   "cell_type": "code",
   "execution_count": null,
   "metadata": {},
   "outputs": [],
   "source": [
    "# filter trade directions\n",
    "buy_WETH_df = reindexed_price_df[reindexed_price_df['buy_WETH'] == True]\n",
    "sell_WETH_df = reindexed_price_df[reindexed_price_df['buy_WETH'] == False]"
   ]
  },
  {
   "cell_type": "code",
   "execution_count": null,
   "metadata": {},
   "outputs": [],
   "source": [
    "# single hop gas adjusted prices\n",
    "buy_WETH_df.loc[:, 'univ3_gas_single_hop_price'] = buy_WETH_df.loc[:, 'univ3_price'] + buy_WETH_df.loc[:, 'transaction_gas_fee_one_hop_usd']\n",
    "sell_WETH_df.loc[:, 'univ3_gas_single_hop_price'] = sell_WETH_df.loc[:, 'univ3_price'] - sell_WETH_df.loc[:, 'transaction_gas_fee_one_hop_usd']\n",
    "\n",
    "# add new price values that add the gas cost\n",
    "buy_WETH_df.loc[:, 'univ3_gas_median_price'] = buy_WETH_df.loc[:, 'univ3_price'] + buy_WETH_df.loc[:, 'transaction_gas_fee_median_usd']\n",
    "sell_WETH_df.loc[:, 'univ3_gas_median_price'] = sell_WETH_df.loc[:, 'univ3_price'] - sell_WETH_df.loc[:, 'transaction_gas_fee_median_usd']"
   ]
  },
  {
   "cell_type": "code",
   "execution_count": null,
   "metadata": {},
   "outputs": [],
   "source": [
    "# do a heuristic filter to remove some incorectly calculated outlier data. If transaction_gas_fee_one_hop_usd is greater than 250, then remove it\n",
    "buy_WETH_df = buy_WETH_df[buy_WETH_df['transaction_gas_fee_median_usd'] < 200]\n",
    "sell_WETH_df = sell_WETH_df[sell_WETH_df['transaction_gas_fee_median_usd'] < 200]"
   ]
  },
  {
   "cell_type": "code",
   "execution_count": null,
   "metadata": {},
   "outputs": [],
   "source": [
    "sell_WETH_df"
   ]
  },
  {
   "cell_type": "code",
   "execution_count": null,
   "metadata": {},
   "outputs": [],
   "source": [
    "# convert index to datetime format\n",
    "sell_WETH_df.timestamp = pd.to_datetime(sell_WETH_df.timestamp, utc=True, unit='s')\n",
    "buy_WETH_df.timestamp = pd.to_datetime(buy_WETH_df.timestamp, utc=True, unit='s')"
   ]
  },
  {
   "cell_type": "code",
   "execution_count": null,
   "metadata": {},
   "outputs": [],
   "source": [
    "buy_WETH_df"
   ]
  },
  {
   "cell_type": "code",
   "execution_count": null,
   "metadata": {},
   "outputs": [],
   "source": [
    "STOP"
   ]
  },
  {
   "cell_type": "code",
   "execution_count": null,
   "metadata": {},
   "outputs": [],
   "source": [
    "# first non nan value in sell_WETH_df['cow_price']\n",
    "first_valid_index_buy = sell_WETH_df['cow_price'].first_valid_index()\n",
    "print(f'first valid index is: {first_valid_index_buy}')"
   ]
  },
  {
   "cell_type": "code",
   "execution_count": null,
   "metadata": {},
   "outputs": [],
   "source": [
    "# plot cow price vs univ3 and chain gas adjusted prices against timestamp\n",
    "# buy_WETH_df.loc[first_valid_index_buy:][['cow_price', 'univ3_gas_median_price', 'chain_price']].plot(figsize=(10,5))\n",
    "# plt.title(\"WETH Buy Surplus Discount (median gas fee adj.)\")\n",
    "# plt.xlabel('date')\n",
    "# plt.ylabel('WETH Price')\n",
    "# plt.show();"
   ]
  },
  {
   "cell_type": "code",
   "execution_count": null,
   "metadata": {},
   "outputs": [],
   "source": [
    "# first non nan value in sell_WETH_df['cow_price']\n",
    "first_valid_index_sell = sell_WETH_df['cow_price'].first_valid_index()\n",
    "print(f'first valid index is: {first_valid_index_sell}')"
   ]
  },
  {
   "cell_type": "code",
   "execution_count": null,
   "metadata": {},
   "outputs": [],
   "source": [
    "# plot cow price vs univ3 and chain gas adjusted prices after first valid index 1676258543\n",
    "sell_WETH_df.loc[first_valid_index_sell:][['cow_price', 'univ3_gas_median_price', 'chain_price']].plot(figsize=(10,5))\n",
    "plt.title(\"WETH Sell Surplus Premium (median gas fee adj.)\")\n",
    "plt.xlabel('date')\n",
    "plt.ylabel('WETH Price')\n",
    "plt.show();"
   ]
  },
  {
   "attachments": {},
   "cell_type": "markdown",
   "metadata": {},
   "source": [
    "### Price Differences"
   ]
  },
  {
   "cell_type": "code",
   "execution_count": null,
   "metadata": {},
   "outputs": [],
   "source": [
    "# get the price price difference percent between cow and univ3 gas adjusted price in buy_WETH_df\n",
    "buy_WETH_df['cow_univ3_gas_adj_price_diff_percent_single'] = (buy_WETH_df['cow_price'] - buy_WETH_df['univ3_gas_single_hop_price']) / buy_WETH_df['cow_price'] * 100\n",
    "buy_WETH_df['cow_univ3_gas_adj_price_diff_percent_median'] = (buy_WETH_df['cow_price'] - buy_WETH_df['univ3_gas_median_price']) / buy_WETH_df['cow_price'] * 100"
   ]
  },
  {
   "cell_type": "code",
   "execution_count": null,
   "metadata": {},
   "outputs": [],
   "source": [
    "# plot scatterplot\n",
    "buy_WETH_df.loc[first_valid_index_buy:].plot(figsize=(10,5), kind='scatter', x='cow_univ3_gas_adj_price_diff_percent_single', y='cow_price')\n",
    "\n",
    "plt.xlabel(\"CoW Surplus Discount Percent vs Univ3\")\n",
    "plt.ylabel(\"WETH Price\")\n",
    "plt.title(\"WETH Buy Surplus Discount (single hop gas adj.)\")\n",
    "plt.show();"
   ]
  },
  {
   "cell_type": "code",
   "execution_count": null,
   "metadata": {},
   "outputs": [],
   "source": [
    "# plot scatterplot\n",
    "buy_WETH_df.loc[first_valid_index_buy:].plot(figsize=(10,5), kind='scatter', x='cow_univ3_gas_adj_price_diff_percent_median', y='cow_price')\n",
    "\n",
    "plt.xlabel(\"CoW Surplus Discount Percent vs Univ3\")\n",
    "plt.ylabel(\"WETH Price\")\n",
    "plt.title(\"WETH Buy Surplus Discount (median gas fee adj.)\")\n",
    "plt.show();"
   ]
  },
  {
   "cell_type": "code",
   "execution_count": null,
   "metadata": {},
   "outputs": [],
   "source": [
    "# get the price price difference percent between cow and univ3 gas adjusted price in sell_WETH_df\n",
    "sell_WETH_df['cow_univ3_gas_adj_price_diff_percent_single'] = (sell_WETH_df['cow_price'] - sell_WETH_df['univ3_gas_single_hop_price']) / sell_WETH_df['cow_price'] * 100\n",
    "sell_WETH_df['cow_univ3_gas_adj_price_diff_percent_median'] = (sell_WETH_df['cow_price'] - sell_WETH_df['univ3_gas_median_price']) / sell_WETH_df['cow_price'] * 100"
   ]
  },
  {
   "cell_type": "code",
   "execution_count": null,
   "metadata": {},
   "outputs": [],
   "source": [
    "# plot scatterplot\n",
    "sell_WETH_df.loc[first_valid_index_sell:].plot(figsize=(10,5), kind='scatter', x='cow_univ3_gas_adj_price_diff_percent_single', y='cow_price')\n",
    "\n",
    "\n",
    "plt.xlabel(\"CoW Surplus Premium Percent vs Univ3\")\n",
    "plt.ylabel(\"WETH Price\")\n",
    "plt.title(\"WETH Sell Surplus Premium (single hop gas adj.)\")\n",
    "plt.show();"
   ]
  },
  {
   "cell_type": "code",
   "execution_count": null,
   "metadata": {},
   "outputs": [],
   "source": [
    "# plot scatterplot\n",
    "sell_WETH_df.loc[first_valid_index_sell:].plot(figsize=(10,5), kind='scatter', x='cow_univ3_gas_adj_price_diff_percent_median', y='cow_price')\n",
    "\n",
    "plt.xlabel(\"CoW Surplus Premium Percent vs Univ3\")\n",
    "plt.ylabel(\"WETH Price\")\n",
    "plt.title(\"WETH Sell Surplus Premium (median gas fee adj.)\")\n",
    "plt.show();"
   ]
  },
  {
   "cell_type": "code",
   "execution_count": null,
   "metadata": {},
   "outputs": [],
   "source": [
    "# statistics for buy_WETH_df single hop price difference\n",
    "buy_WETH_df[['cow_univ3_gas_adj_price_diff_percent_single', 'cow_univ3_gas_adj_price_diff_percent_median']].describe()"
   ]
  },
  {
   "cell_type": "code",
   "execution_count": null,
   "metadata": {},
   "outputs": [],
   "source": [
    "sell_WETH_df[['cow_univ3_gas_adj_price_diff_percent_single', 'cow_univ3_gas_adj_price_diff_percent_median']].describe()"
   ]
  },
  {
   "cell_type": "code",
   "execution_count": null,
   "metadata": {},
   "outputs": [],
   "source": []
  }
 ],
 "metadata": {
  "kernelspec": {
   "display_name": "Python 3",
   "language": "python",
   "name": "python3"
  },
  "language_info": {
   "codemirror_mode": {
    "name": "ipython",
    "version": 3
   },
   "file_extension": ".py",
   "mimetype": "text/x-python",
   "name": "python",
   "nbconvert_exporter": "python",
   "pygments_lexer": "ipython3",
   "version": "3.10.6"
  },
  "orig_nbformat": 4,
  "vscode": {
   "interpreter": {
    "hash": "e7370f93d1d0cde622a1f8e1c04877d8463912d04d973331ad4851f04de6915a"
   }
  }
 },
 "nbformat": 4,
 "nbformat_minor": 2
}
