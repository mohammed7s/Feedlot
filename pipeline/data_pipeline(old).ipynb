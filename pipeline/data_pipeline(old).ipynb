{
 "cells": [
  {
   "attachments": {},
   "cell_type": "markdown",
   "metadata": {},
   "source": [
    "# Cow + Univ3 DataPipeline"
   ]
  },
  {
   "attachments": {},
   "cell_type": "markdown",
   "metadata": {},
   "source": [
    "The goal of this notebook is to show and explain how to create a decentralized data pipeline powered by Cow Subgraphs with DataStreams. DataStreams functions as a GraphQL query manager for Subgraphs and allows one to compose queries together into a fully replicatable data pipeline. Data comes from the following sources:\n",
    "CoW Subgraph - https://thegraph.com/hosted-service/subgraph/cowprotocol/cow\n",
    "Univ3 Subgraph - https://api.thegraph.com/subgraphs/name/messari/uniswap-v3-ethereum\n",
    "Dune Solver Names Query link - https://dune.com/queries/1941061\n",
    "\n",
    "\n",
    "### Installation Notes\n",
    "If you haven't already, you can install DataStreams with the command `!pip install git+https://github.com/Evan-Kim2028/DataStreams.git` in a new cell. Exclude the `!` if you are installing in a virtual environment or terminal. DataStreams requires Python 3.10 or greater too. Finally we use polars to perform merges and column mutations. You can install polars with `!pip install polars`.\n",
    "\n",
    "### Process\n",
    "First we query the CoW trade schemas twice for WETH/USDC. Then we query the CoW schema for settlement info. Finally we download the Dune Solver names query and merge it with the CoW data. We then perform some column mutations with polars to get the final data.\n",
    "\n",
    "For Univ3 data, we query the swaps schema for the USDC/WETH .05% and .3% fee pools. Then we merge the CoW trades data and Univ3 Swaps data for transactions that occur at the same timestamp. We add decimal places for the amounts and calculate marginal swap execution prices for comparison."
   ]
  },
  {
   "attachments": {},
   "cell_type": "markdown",
   "metadata": {},
   "source": [
    "### Setup Jupyter Environment"
   ]
  },
  {
   "cell_type": "code",
   "execution_count": 1,
   "metadata": {},
   "outputs": [],
   "source": [
    "from datastreams.datastream import Streamer\n",
    "\n",
    "import pandas as pd\n",
    "import polars as pl\n",
    "\n",
    "# These commands enlarge the column size of the dataframe so things like 0x... are not truncated\n",
    "pd.set_option('display.max_columns', None)\n",
    "pd.set_option('display.expand_frame_repr', False)\n",
    "pd.set_option('max_colwidth', None)"
   ]
  },
  {
   "attachments": {},
   "cell_type": "markdown",
   "metadata": {},
   "source": [
    "### Cowswap Trades"
   ]
  },
  {
   "cell_type": "code",
   "execution_count": 2,
   "metadata": {},
   "outputs": [],
   "source": [
    "# instantiate Streamer class. Note that we need two separate streamer classes, otherwise the queries will be overwritten. \n",
    "cow_ds1 = Streamer('https://api.thegraph.com/subgraphs/name/cowprotocol/cow')\n",
    "cow_ds2 = Streamer('https://api.thegraph.com/subgraphs/name/cowprotocol/cow')"
   ]
  },
  {
   "cell_type": "code",
   "execution_count": 3,
   "metadata": {},
   "outputs": [],
   "source": [
    "# DEFINE TIMESTAMP HERE. Timstamp is used for replication quality assurance purposes.\n",
    "timestamp = 1677891498 # current block timestamp is around 1677891498 on March 3rd, 2023 8:06PM\n",
    "\n",
    "# define ethereum token addresses here to be used in cowswap trades query filter\n",
    "weth_addr = \"0xc02aaa39b223fe8d0a0e5c4f27ead9083c756cc2\"\n",
    "usdc_addr = \"0xa0b86991c6218b36c1d19d4a2e9eb0ce3606eb48\"\n",
    "\n",
    "# we set a fixed query size number. The Cow settlements and Uniswap swaps query are multiples larger than this initial query size.\n",
    "query_size = 100000000\n",
    "\n",
    "#Filter size - We filter trades out that are smaller than $1000 USD size\n",
    "filter_usd = 1000"
   ]
  },
  {
   "cell_type": "code",
   "execution_count": 4,
   "metadata": {},
   "outputs": [],
   "source": [
    "token_addr_list = [weth_addr, usdc_addr]"
   ]
  },
  {
   "cell_type": "code",
   "execution_count": 5,
   "metadata": {},
   "outputs": [
    {
     "name": "stdout",
     "output_type": "stream",
     "text": [
      "FIELD - trades\n",
      "FIELD - trades\n"
     ]
    }
   ],
   "source": [
    "# We need to make two queries to the cow schema to get all the trades that match weth/usdc and usdc/weth.\n",
    "trades_weth_usdc_fp = cow_ds1.queryDict.get('trades')\n",
    "trades_usdc_weth_fp = cow_ds2.queryDict.get('trades')\n",
    "\n",
    "# trades query path that gets token a -> token b trades\n",
    "trades_weth_usdc_qp = trades_weth_usdc_fp(\n",
    "    first=query_size,\n",
    "    orderBy='timestamp',\n",
    "    orderDirection='desc',\n",
    "    where = {\n",
    "    'timestamp_lt': timestamp, \n",
    "    'buyAmountUsd_gt': filter_usd, \n",
    "    'sellAmountUsd_gt': filter_usd, \n",
    "    \"sellToken_in\": token_addr_list, \n",
    "    \"buyToken_in\": token_addr_list\n",
    "    }\n",
    ")\n",
    "\n",
    "# trades query path that gets token b -> token a trades\n",
    "trades_usdc_weth_qp = trades_usdc_weth_fp(\n",
    "    first=query_size,\n",
    "    orderBy='timestamp',\n",
    "    orderDirection='desc',\n",
    "    where = {\n",
    "    'timestamp_lt': timestamp, \n",
    "    'buyAmountUsd_gt': filter_usd, \n",
    "    'sellAmountUsd_gt': filter_usd, \n",
    "    \"sellToken_in\": token_addr_list, \n",
    "    \"buyToken_in\": token_addr_list\n",
    "    }\n",
    ")\n",
    "\n",
    "# run query\n",
    "trades_weth_usdc_df = cow_ds1.runQuery(trades_weth_usdc_qp)\n",
    "trades_usdc_weth_df = cow_ds2.runQuery(trades_usdc_weth_qp)"
   ]
  },
  {
   "cell_type": "code",
   "execution_count": 6,
   "metadata": {},
   "outputs": [],
   "source": [
    "# combine the trades queries together\n",
    "trades_df = pd.concat([trades_weth_usdc_df, trades_usdc_weth_df])"
   ]
  },
  {
   "cell_type": "code",
   "execution_count": 7,
   "metadata": {},
   "outputs": [
    {
     "name": "stdout",
     "output_type": "stream",
     "text": [
      "query returned 43696 rows\n"
     ]
    }
   ],
   "source": [
    "print(f'query returned {len(trades_df)} rows')"
   ]
  },
  {
   "cell_type": "code",
   "execution_count": 8,
   "metadata": {},
   "outputs": [
    {
     "data": {
      "text/plain": [
       "array(['0xc02aaa39b223fe8d0a0e5c4f27ead9083c756cc2',\n",
       "       '0xa0b86991c6218b36c1d19d4a2e9eb0ce3606eb48'], dtype=object)"
      ]
     },
     "execution_count": 8,
     "metadata": {},
     "output_type": "execute_result"
    }
   ],
   "source": [
    "# get unique values in trades_df column to verify the query results.\n",
    "trades_df['trades_buyToken_id'].unique()"
   ]
  },
  {
   "cell_type": "code",
   "execution_count": 9,
   "metadata": {},
   "outputs": [],
   "source": [
    "# replace the above values with symbols\n",
    "trades_df['trades_buyToken_id'] = trades_df['trades_buyToken_id'].replace(weth_addr, 'WETH')\n",
    "trades_df['trades_buyToken_id'] = trades_df['trades_buyToken_id'].replace(usdc_addr, 'USDC')\n",
    "\n",
    "trades_df['trades_sellToken_id'] = trades_df['trades_sellToken_id'].replace(weth_addr, 'WETH')\n",
    "trades_df['trades_sellToken_id'] = trades_df['trades_sellToken_id'].replace(usdc_addr, 'USDC')"
   ]
  },
  {
   "attachments": {},
   "cell_type": "markdown",
   "metadata": {},
   "source": [
    "### Cowswap Trades-Settlement Merge"
   ]
  },
  {
   "cell_type": "code",
   "execution_count": 10,
   "metadata": {},
   "outputs": [
    {
     "name": "stdout",
     "output_type": "stream",
     "text": [
      "FIELD - settlements\n"
     ]
    }
   ],
   "source": [
    "# get a query field path from the query dictionary which is automatically populated in the Streamer object\n",
    "settlements_fp = cow_ds1.queryDict.get('settlements')\n",
    "\n",
    "# add parameters to the settlements_qp.\n",
    "settlements_qp = settlements_fp(\n",
    "    first=query_size * 5,\n",
    "    orderBy='firstTradeTimestamp',\n",
    "    orderDirection='desc',\n",
    "    where = {'firstTradeTimestamp_lt': timestamp} \n",
    "    )\n",
    "\n",
    "# run query\n",
    "settlements_df = cow_ds1.runQuery(settlements_qp)"
   ]
  },
  {
   "cell_type": "code",
   "execution_count": 11,
   "metadata": {},
   "outputs": [
    {
     "data": {
      "text/plain": [
       "1876815"
      ]
     },
     "execution_count": 11,
     "metadata": {},
     "output_type": "execute_result"
    }
   ],
   "source": [
    "settlements_df.size"
   ]
  },
  {
   "cell_type": "code",
   "execution_count": 12,
   "metadata": {},
   "outputs": [
    {
     "data": {
      "text/plain": [
       "trades_id                object\n",
       "trades_timestamp          int64\n",
       "trades_gasPrice           int64\n",
       "trades_feeAmount          int64\n",
       "trades_txHash            object\n",
       "trades_settlement_id     object\n",
       "trades_buyAmount         object\n",
       "trades_sellAmount        object\n",
       "trades_sellToken_id      object\n",
       "trades_buyToken_id       object\n",
       "trades_order_id          object\n",
       "trades_buyAmountEth     float64\n",
       "trades_sellAmountEth    float64\n",
       "trades_buyAmountUsd     float64\n",
       "trades_sellAmountUsd    float64\n",
       "endpoint                 object\n",
       "dtype: object"
      ]
     },
     "execution_count": 12,
     "metadata": {},
     "output_type": "execute_result"
    }
   ],
   "source": [
    "trades_df.dtypes"
   ]
  },
  {
   "cell_type": "code",
   "execution_count": 13,
   "metadata": {},
   "outputs": [],
   "source": [
    "# enforce trades_df column types. This is necessary because the data types are not enforced by pandas dataframes. Types are enforced as a Polars dataframe because of the columnar storage method.\n",
    "trades_df['trades_buyAmount'] = trades_df['trades_buyAmount'].astype('float64')\n",
    "trades_df['trades_sellAmount'] = trades_df['trades_sellAmount'].astype('float64')\n",
    "trades_df['trades_buyAmountUsd'] = trades_df['trades_buyAmountUsd'].astype('float64')\n",
    "trades_df['trades_sellAmountUsd'] = trades_df['trades_sellAmountUsd'].astype('float64')\n",
    "trades_df['trades_timestamp'] = trades_df['trades_timestamp'].astype('int64')\n",
    "trades_df['trades_buyToken_id'] = trades_df['trades_buyToken_id'].astype('str')\n",
    "trades_df['trades_sellToken_id'] = trades_df['trades_sellToken_id'].astype('str')"
   ]
  },
  {
   "cell_type": "code",
   "execution_count": 14,
   "metadata": {},
   "outputs": [],
   "source": [
    "# convert dfs into a dictionaries\n",
    "settlement_dict = settlements_df.to_dict('records')\n",
    "trades_dict = trades_df.to_dict('records')"
   ]
  },
  {
   "cell_type": "code",
   "execution_count": 15,
   "metadata": {},
   "outputs": [],
   "source": [
    "# convert dictionaries into polars dataframes\n",
    "settlement_pl = pl.from_dicts(settlement_dict)\n",
    "trades_pl = pl.from_dicts(trades_dict)"
   ]
  },
  {
   "cell_type": "code",
   "execution_count": 16,
   "metadata": {},
   "outputs": [],
   "source": [
    "# merge trades and settlement dataframes on the settlement transaction hash\n",
    "cow_trades_pl = trades_pl.join(other=settlement_pl, left_on='trades_settlement_id', right_on='settlements_txHash', how='inner')"
   ]
  },
  {
   "cell_type": "code",
   "execution_count": 17,
   "metadata": {},
   "outputs": [
    {
     "data": {
      "text/plain": [
       "(43694, 20)"
      ]
     },
     "execution_count": 17,
     "metadata": {},
     "output_type": "execute_result"
    }
   ],
   "source": [
    "cow_trades_pl.shape"
   ]
  },
  {
   "cell_type": "code",
   "execution_count": 18,
   "metadata": {},
   "outputs": [
    {
     "data": {
      "text/html": [
       "<div>\n",
       "<style>\n",
       ".pl-dataframe > thead > tr > th {\n",
       "  text-align: right;\n",
       "}\n",
       "</style>\n",
       "\n",
       "<table border=\"1\" class=\"pl-dataframe\">\n",
       "<small>shape: (5, 20)</small>\n",
       "<thead>\n",
       "<tr>\n",
       "<th>\n",
       "trades_id\n",
       "</th>\n",
       "<th>\n",
       "trades_timestamp\n",
       "</th>\n",
       "<th>\n",
       "trades_gasPrice\n",
       "</th>\n",
       "<th>\n",
       "trades_feeAmount\n",
       "</th>\n",
       "<th>\n",
       "trades_txHash\n",
       "</th>\n",
       "<th>\n",
       "trades_settlement_id\n",
       "</th>\n",
       "<th>\n",
       "trades_buyAmount\n",
       "</th>\n",
       "<th>\n",
       "trades_sellAmount\n",
       "</th>\n",
       "<th>\n",
       "trades_sellToken_id\n",
       "</th>\n",
       "<th>\n",
       "trades_buyToken_id\n",
       "</th>\n",
       "<th>\n",
       "trades_order_id\n",
       "</th>\n",
       "<th>\n",
       "trades_buyAmountEth\n",
       "</th>\n",
       "<th>\n",
       "trades_sellAmountEth\n",
       "</th>\n",
       "<th>\n",
       "trades_buyAmountUsd\n",
       "</th>\n",
       "<th>\n",
       "trades_sellAmountUsd\n",
       "</th>\n",
       "<th>\n",
       "endpoint\n",
       "</th>\n",
       "<th>\n",
       "settlements_id\n",
       "</th>\n",
       "<th>\n",
       "settlements_firstTradeTimestamp\n",
       "</th>\n",
       "<th>\n",
       "settlements_solver_id\n",
       "</th>\n",
       "<th>\n",
       "endpoint_right\n",
       "</th>\n",
       "</tr>\n",
       "<tr>\n",
       "<td>\n",
       "str\n",
       "</td>\n",
       "<td>\n",
       "i64\n",
       "</td>\n",
       "<td>\n",
       "i64\n",
       "</td>\n",
       "<td>\n",
       "i64\n",
       "</td>\n",
       "<td>\n",
       "str\n",
       "</td>\n",
       "<td>\n",
       "str\n",
       "</td>\n",
       "<td>\n",
       "f64\n",
       "</td>\n",
       "<td>\n",
       "f64\n",
       "</td>\n",
       "<td>\n",
       "str\n",
       "</td>\n",
       "<td>\n",
       "str\n",
       "</td>\n",
       "<td>\n",
       "str\n",
       "</td>\n",
       "<td>\n",
       "f64\n",
       "</td>\n",
       "<td>\n",
       "f64\n",
       "</td>\n",
       "<td>\n",
       "f64\n",
       "</td>\n",
       "<td>\n",
       "f64\n",
       "</td>\n",
       "<td>\n",
       "str\n",
       "</td>\n",
       "<td>\n",
       "str\n",
       "</td>\n",
       "<td>\n",
       "i64\n",
       "</td>\n",
       "<td>\n",
       "str\n",
       "</td>\n",
       "<td>\n",
       "str\n",
       "</td>\n",
       "</tr>\n",
       "</thead>\n",
       "<tbody>\n",
       "<tr>\n",
       "<td>\n",
       "&quot;0x2d177cbcc3e2...\n",
       "</td>\n",
       "<td>\n",
       "1677890687\n",
       "</td>\n",
       "<td>\n",
       "34031938581\n",
       "</td>\n",
       "<td>\n",
       "11504283\n",
       "</td>\n",
       "<td>\n",
       "&quot;0xdbeb3db4bf01...\n",
       "</td>\n",
       "<td>\n",
       "&quot;0xdbeb3db4bf01...\n",
       "</td>\n",
       "<td>\n",
       "6.3506e19\n",
       "</td>\n",
       "<td>\n",
       "1.0000e11\n",
       "</td>\n",
       "<td>\n",
       "&quot;USDC&quot;\n",
       "</td>\n",
       "<td>\n",
       "&quot;WETH&quot;\n",
       "</td>\n",
       "<td>\n",
       "&quot;0x2d177cbcc3e2...\n",
       "</td>\n",
       "<td>\n",
       "63.506413\n",
       "</td>\n",
       "<td>\n",
       "63.678801\n",
       "</td>\n",
       "<td>\n",
       "99729.286519\n",
       "</td>\n",
       "<td>\n",
       "100000.0\n",
       "</td>\n",
       "<td>\n",
       "&quot;cow&quot;\n",
       "</td>\n",
       "<td>\n",
       "&quot;0xdbeb3db4bf01...\n",
       "</td>\n",
       "<td>\n",
       "1677890687\n",
       "</td>\n",
       "<td>\n",
       "&quot;0x149d0f928233...\n",
       "</td>\n",
       "<td>\n",
       "&quot;cow&quot;\n",
       "</td>\n",
       "</tr>\n",
       "<tr>\n",
       "<td>\n",
       "&quot;0x2d177cbcc3e2...\n",
       "</td>\n",
       "<td>\n",
       "1677890687\n",
       "</td>\n",
       "<td>\n",
       "34031938581\n",
       "</td>\n",
       "<td>\n",
       "11504283\n",
       "</td>\n",
       "<td>\n",
       "&quot;0xdbeb3db4bf01...\n",
       "</td>\n",
       "<td>\n",
       "&quot;0xdbeb3db4bf01...\n",
       "</td>\n",
       "<td>\n",
       "6.3506e19\n",
       "</td>\n",
       "<td>\n",
       "1.0000e11\n",
       "</td>\n",
       "<td>\n",
       "&quot;USDC&quot;\n",
       "</td>\n",
       "<td>\n",
       "&quot;WETH&quot;\n",
       "</td>\n",
       "<td>\n",
       "&quot;0x2d177cbcc3e2...\n",
       "</td>\n",
       "<td>\n",
       "63.506413\n",
       "</td>\n",
       "<td>\n",
       "63.678801\n",
       "</td>\n",
       "<td>\n",
       "99729.286519\n",
       "</td>\n",
       "<td>\n",
       "100000.0\n",
       "</td>\n",
       "<td>\n",
       "&quot;cow&quot;\n",
       "</td>\n",
       "<td>\n",
       "&quot;0xdbeb3db4bf01...\n",
       "</td>\n",
       "<td>\n",
       "1677890687\n",
       "</td>\n",
       "<td>\n",
       "&quot;0x149d0f928233...\n",
       "</td>\n",
       "<td>\n",
       "&quot;cow&quot;\n",
       "</td>\n",
       "</tr>\n",
       "<tr>\n",
       "<td>\n",
       "&quot;0x47ece80491bf...\n",
       "</td>\n",
       "<td>\n",
       "1677887663\n",
       "</td>\n",
       "<td>\n",
       "30096110884\n",
       "</td>\n",
       "<td>\n",
       "39337855\n",
       "</td>\n",
       "<td>\n",
       "&quot;0x8810dcd24713...\n",
       "</td>\n",
       "<td>\n",
       "&quot;0x8810dcd24713...\n",
       "</td>\n",
       "<td>\n",
       "9.5578e19\n",
       "</td>\n",
       "<td>\n",
       "1.5000e11\n",
       "</td>\n",
       "<td>\n",
       "&quot;USDC&quot;\n",
       "</td>\n",
       "<td>\n",
       "&quot;WETH&quot;\n",
       "</td>\n",
       "<td>\n",
       "&quot;0x47ece80491bf...\n",
       "</td>\n",
       "<td>\n",
       "95.578018\n",
       "</td>\n",
       "<td>\n",
       "95.778401\n",
       "</td>\n",
       "<td>\n",
       "149686.177736\n",
       "</td>\n",
       "<td>\n",
       "150000.0\n",
       "</td>\n",
       "<td>\n",
       "&quot;cow&quot;\n",
       "</td>\n",
       "<td>\n",
       "&quot;0x8810dcd24713...\n",
       "</td>\n",
       "<td>\n",
       "1677887663\n",
       "</td>\n",
       "<td>\n",
       "&quot;0x149d0f928233...\n",
       "</td>\n",
       "<td>\n",
       "&quot;cow&quot;\n",
       "</td>\n",
       "</tr>\n",
       "<tr>\n",
       "<td>\n",
       "&quot;0x47ece80491bf...\n",
       "</td>\n",
       "<td>\n",
       "1677887663\n",
       "</td>\n",
       "<td>\n",
       "30096110884\n",
       "</td>\n",
       "<td>\n",
       "39337855\n",
       "</td>\n",
       "<td>\n",
       "&quot;0x8810dcd24713...\n",
       "</td>\n",
       "<td>\n",
       "&quot;0x8810dcd24713...\n",
       "</td>\n",
       "<td>\n",
       "9.5578e19\n",
       "</td>\n",
       "<td>\n",
       "1.5000e11\n",
       "</td>\n",
       "<td>\n",
       "&quot;USDC&quot;\n",
       "</td>\n",
       "<td>\n",
       "&quot;WETH&quot;\n",
       "</td>\n",
       "<td>\n",
       "&quot;0x47ece80491bf...\n",
       "</td>\n",
       "<td>\n",
       "95.578018\n",
       "</td>\n",
       "<td>\n",
       "95.778401\n",
       "</td>\n",
       "<td>\n",
       "149686.177736\n",
       "</td>\n",
       "<td>\n",
       "150000.0\n",
       "</td>\n",
       "<td>\n",
       "&quot;cow&quot;\n",
       "</td>\n",
       "<td>\n",
       "&quot;0x8810dcd24713...\n",
       "</td>\n",
       "<td>\n",
       "1677887663\n",
       "</td>\n",
       "<td>\n",
       "&quot;0x149d0f928233...\n",
       "</td>\n",
       "<td>\n",
       "&quot;cow&quot;\n",
       "</td>\n",
       "</tr>\n",
       "<tr>\n",
       "<td>\n",
       "&quot;0x8c129381cf3e...\n",
       "</td>\n",
       "<td>\n",
       "1677885323\n",
       "</td>\n",
       "<td>\n",
       "19689355198\n",
       "</td>\n",
       "<td>\n",
       "27018672\n",
       "</td>\n",
       "<td>\n",
       "&quot;0xf8e2a0e1ae13...\n",
       "</td>\n",
       "<td>\n",
       "&quot;0xf8e2a0e1ae13...\n",
       "</td>\n",
       "<td>\n",
       "9.5518e19\n",
       "</td>\n",
       "<td>\n",
       "1.5000e11\n",
       "</td>\n",
       "<td>\n",
       "&quot;USDC&quot;\n",
       "</td>\n",
       "<td>\n",
       "&quot;WETH&quot;\n",
       "</td>\n",
       "<td>\n",
       "&quot;0x8c129381cf3e...\n",
       "</td>\n",
       "<td>\n",
       "95.518272\n",
       "</td>\n",
       "<td>\n",
       "95.806942\n",
       "</td>\n",
       "<td>\n",
       "149548.044201\n",
       "</td>\n",
       "<td>\n",
       "150000.0\n",
       "</td>\n",
       "<td>\n",
       "&quot;cow&quot;\n",
       "</td>\n",
       "<td>\n",
       "&quot;0xf8e2a0e1ae13...\n",
       "</td>\n",
       "<td>\n",
       "1677885323\n",
       "</td>\n",
       "<td>\n",
       "&quot;0xb20b86c4e6de...\n",
       "</td>\n",
       "<td>\n",
       "&quot;cow&quot;\n",
       "</td>\n",
       "</tr>\n",
       "</tbody>\n",
       "</table>\n",
       "</div>"
      ],
      "text/plain": [
       "shape: (5, 20)\n",
       "┌─────────┬────────────┬────────────┬────────────┬─────┬────────────┬────────────┬────────────┬────────────┐\n",
       "│ trades_ ┆ trades_tim ┆ trades_gas ┆ trades_fee ┆ ... ┆ settlement ┆ settlement ┆ settlement ┆ endpoint_r │\n",
       "│ id      ┆ estamp     ┆ Price      ┆ Amount     ┆     ┆ s_id       ┆ s_firstTra ┆ s_solver_i ┆ ight       │\n",
       "│ ---     ┆ ---        ┆ ---        ┆ ---        ┆     ┆ ---        ┆ deTimestam ┆ d          ┆ ---        │\n",
       "│ str     ┆ i64        ┆ i64        ┆ i64        ┆     ┆ str        ┆ p          ┆ ---        ┆ str        │\n",
       "│         ┆            ┆            ┆            ┆     ┆            ┆ ---        ┆ str        ┆            │\n",
       "│         ┆            ┆            ┆            ┆     ┆            ┆ i64        ┆            ┆            │\n",
       "╞═════════╪════════════╪════════════╪════════════╪═════╪════════════╪════════════╪════════════╪════════════╡\n",
       "│ 0x2d177 ┆ 1677890687 ┆ 3403193858 ┆ 11504283   ┆ ... ┆ 0xdbeb3db4 ┆ 1677890687 ┆ 0x149d0f92 ┆ cow        │\n",
       "│ cbcc3e2 ┆            ┆ 1          ┆            ┆     ┆ bf019dac72 ┆            ┆ 82333681ee ┆            │\n",
       "│ 66aa322 ┆            ┆            ┆            ┆     ┆ 1970e0eed1 ┆            ┆ 41d3058982 ┆            │\n",
       "│ fff7f41 ┆            ┆            ┆            ┆     ┆ 75...      ┆            ┆ 4b...      ┆            │\n",
       "│ 2305... ┆            ┆            ┆            ┆     ┆            ┆            ┆            ┆            │\n",
       "│ 0x2d177 ┆ 1677890687 ┆ 3403193858 ┆ 11504283   ┆ ... ┆ 0xdbeb3db4 ┆ 1677890687 ┆ 0x149d0f92 ┆ cow        │\n",
       "│ cbcc3e2 ┆            ┆ 1          ┆            ┆     ┆ bf019dac72 ┆            ┆ 82333681ee ┆            │\n",
       "│ 66aa322 ┆            ┆            ┆            ┆     ┆ 1970e0eed1 ┆            ┆ 41d3058982 ┆            │\n",
       "│ fff7f41 ┆            ┆            ┆            ┆     ┆ 75...      ┆            ┆ 4b...      ┆            │\n",
       "│ 2305... ┆            ┆            ┆            ┆     ┆            ┆            ┆            ┆            │\n",
       "│ 0x47ece ┆ 1677887663 ┆ 3009611088 ┆ 39337855   ┆ ... ┆ 0x8810dcd2 ┆ 1677887663 ┆ 0x149d0f92 ┆ cow        │\n",
       "│ 80491bf ┆            ┆ 4          ┆            ┆     ┆ 471391d3c6 ┆            ┆ 82333681ee ┆            │\n",
       "│ 75fd702 ┆            ┆            ┆            ┆     ┆ cc430a8080 ┆            ┆ 41d3058982 ┆            │\n",
       "│ 5549f9e ┆            ┆            ┆            ┆     ┆ a1...      ┆            ┆ 4b...      ┆            │\n",
       "│ 88c7... ┆            ┆            ┆            ┆     ┆            ┆            ┆            ┆            │\n",
       "│ 0x47ece ┆ 1677887663 ┆ 3009611088 ┆ 39337855   ┆ ... ┆ 0x8810dcd2 ┆ 1677887663 ┆ 0x149d0f92 ┆ cow        │\n",
       "│ 80491bf ┆            ┆ 4          ┆            ┆     ┆ 471391d3c6 ┆            ┆ 82333681ee ┆            │\n",
       "│ 75fd702 ┆            ┆            ┆            ┆     ┆ cc430a8080 ┆            ┆ 41d3058982 ┆            │\n",
       "│ 5549f9e ┆            ┆            ┆            ┆     ┆ a1...      ┆            ┆ 4b...      ┆            │\n",
       "│ 88c7... ┆            ┆            ┆            ┆     ┆            ┆            ┆            ┆            │\n",
       "│ 0x8c129 ┆ 1677885323 ┆ 1968935519 ┆ 27018672   ┆ ... ┆ 0xf8e2a0e1 ┆ 1677885323 ┆ 0xb20b86c4 ┆ cow        │\n",
       "│ 381cf3e ┆            ┆ 8          ┆            ┆     ┆ ae139b4b4a ┆            ┆ e6deeb432a ┆            │\n",
       "│ a5e26a1 ┆            ┆            ┆            ┆     ┆ f587b97058 ┆            ┆ 22d773a221 ┆            │\n",
       "│ ccdec20 ┆            ┆            ┆            ┆     ┆ 95...      ┆            ┆ 89...      ┆            │\n",
       "│ b070... ┆            ┆            ┆            ┆     ┆            ┆            ┆            ┆            │\n",
       "└─────────┴────────────┴────────────┴────────────┴─────┴────────────┴────────────┴────────────┴────────────┘"
      ]
     },
     "execution_count": 18,
     "metadata": {},
     "output_type": "execute_result"
    }
   ],
   "source": [
    "cow_trades_pl.head(5)"
   ]
  },
  {
   "cell_type": "code",
   "execution_count": 19,
   "metadata": {},
   "outputs": [
    {
     "data": {
      "text/html": [
       "<div>\n",
       "<style>\n",
       ".pl-dataframe > thead > tr > th {\n",
       "  text-align: right;\n",
       "}\n",
       "</style>\n",
       "\n",
       "<table border=\"1\" class=\"pl-dataframe\">\n",
       "<small>shape: (2,)</small>\n",
       "<thead>\n",
       "<tr>\n",
       "<th>\n",
       "trades_sellToken_id\n",
       "</th>\n",
       "</tr>\n",
       "<tr>\n",
       "<td>\n",
       "str\n",
       "</td>\n",
       "</tr>\n",
       "</thead>\n",
       "<tbody>\n",
       "<tr>\n",
       "<td>\n",
       "&quot;USDC&quot;\n",
       "</td>\n",
       "</tr>\n",
       "<tr>\n",
       "<td>\n",
       "&quot;WETH&quot;\n",
       "</td>\n",
       "</tr>\n",
       "</tbody>\n",
       "</table>\n",
       "</div>"
      ],
      "text/plain": [
       "shape: (2,)\n",
       "Series: 'trades_sellToken_id' [str]\n",
       "[\n",
       "\t\"USDC\"\n",
       "\t\"WETH\"\n",
       "]"
      ]
     },
     "execution_count": 19,
     "metadata": {},
     "output_type": "execute_result"
    }
   ],
   "source": [
    "# get unique values in cow_trades_pl trades_sellToken_id column\n",
    "cow_trades_pl['trades_sellToken_id'].unique()"
   ]
  },
  {
   "attachments": {},
   "cell_type": "markdown",
   "metadata": {},
   "source": [
    "### Cowswap Trades-Solver Merge"
   ]
  },
  {
   "cell_type": "code",
   "execution_count": 20,
   "metadata": {},
   "outputs": [],
   "source": [
    "solvers = pd.read_csv('data/cowv2_solvers.csv') # load in pandas instead of polars. Having trouble replacing \\ symbol in polars"
   ]
  },
  {
   "cell_type": "code",
   "execution_count": 21,
   "metadata": {},
   "outputs": [],
   "source": [
    "# rename address to settlements_solver_id in pandas\n",
    "solvers = solvers.rename(columns={\"address\": \"settlements_solver_id\"})"
   ]
  },
  {
   "cell_type": "code",
   "execution_count": 22,
   "metadata": {},
   "outputs": [],
   "source": [
    "# NOTE - dune formats addresses as /x... need to convert '/' to '0'\n",
    "solvers['settlements_solver_id'] = solvers['settlements_solver_id'].str.replace('\\\\', '0', regex=False)"
   ]
  },
  {
   "cell_type": "code",
   "execution_count": 23,
   "metadata": {},
   "outputs": [],
   "source": [
    "# turn solvers into a dictionary\n",
    "solvers_dict = solvers.to_dict('records')\n",
    "\n",
    "# convert dict to polars\n",
    "solvers_pl = pl.from_dicts(solvers_dict)"
   ]
  },
  {
   "cell_type": "code",
   "execution_count": 24,
   "metadata": {},
   "outputs": [],
   "source": [
    "# inner join solvers_pl on total_settlement_tokens_pl\n",
    "cow_complete_pl = cow_trades_pl.join(solvers_pl, on=\"settlements_solver_id\", how=\"inner\")"
   ]
  },
  {
   "cell_type": "code",
   "execution_count": 25,
   "metadata": {},
   "outputs": [],
   "source": [
    "# drop endpoint_right column from total_settlement_tokens_solvers\n",
    "cow_complete_pl = cow_complete_pl.drop('endpoint_right')"
   ]
  },
  {
   "cell_type": "code",
   "execution_count": 26,
   "metadata": {},
   "outputs": [
    {
     "data": {
      "text/plain": [
       "(43512, 22)"
      ]
     },
     "execution_count": 26,
     "metadata": {},
     "output_type": "execute_result"
    }
   ],
   "source": [
    "cow_complete_pl.shape"
   ]
  },
  {
   "cell_type": "code",
   "execution_count": 27,
   "metadata": {},
   "outputs": [],
   "source": [
    "# save polars to parquet\n",
    "cow_complete_pl.write_parquet('data/cow_complete_pl.parquet')"
   ]
  },
  {
   "attachments": {},
   "cell_type": "markdown",
   "metadata": {},
   "source": [
    "#### Basic Agg"
   ]
  },
  {
   "cell_type": "code",
   "execution_count": 28,
   "metadata": {},
   "outputs": [],
   "source": [
    "# filter by \"prod\" environments\n",
    "filter_df = cow_complete_pl.filter(pl.col(\"environment\") == \"prod\")"
   ]
  },
  {
   "cell_type": "code",
   "execution_count": 29,
   "metadata": {},
   "outputs": [],
   "source": [
    "# filter by \"prod\" environments\n",
    "filter_df = cow_complete_pl.filter(pl.col(\"environment\") == \"prod\")"
   ]
  },
  {
   "cell_type": "code",
   "execution_count": 30,
   "metadata": {},
   "outputs": [
    {
     "data": {
      "text/plain": [
       "(42310, 22)"
      ]
     },
     "execution_count": 30,
     "metadata": {},
     "output_type": "execute_result"
    }
   ],
   "source": [
    "filter_df.shape"
   ]
  },
  {
   "cell_type": "code",
   "execution_count": 31,
   "metadata": {},
   "outputs": [],
   "source": [
    "# group filter_df by solver name. Check solver count\n",
    "grouped_df = filter_df.groupby(\"name\").agg(\n",
    "    pl.count(\"trades_id\").alias(\"total_trades\")).sort(\"total_trades\", reverse=True)\n"
   ]
  },
  {
   "cell_type": "code",
   "execution_count": 32,
   "metadata": {},
   "outputs": [
    {
     "data": {
      "text/html": [
       "<div>\n",
       "<style>\n",
       ".pl-dataframe > thead > tr > th {\n",
       "  text-align: right;\n",
       "}\n",
       "</style>\n",
       "\n",
       "<table border=\"1\" class=\"pl-dataframe\">\n",
       "<small>shape: (16, 2)</small>\n",
       "<thead>\n",
       "<tr>\n",
       "<th>\n",
       "name\n",
       "</th>\n",
       "<th>\n",
       "total_trades\n",
       "</th>\n",
       "</tr>\n",
       "<tr>\n",
       "<td>\n",
       "str\n",
       "</td>\n",
       "<td>\n",
       "u32\n",
       "</td>\n",
       "</tr>\n",
       "</thead>\n",
       "<tbody>\n",
       "<tr>\n",
       "<td>\n",
       "&quot;Otex&quot;\n",
       "</td>\n",
       "<td>\n",
       "6510\n",
       "</td>\n",
       "</tr>\n",
       "<tr>\n",
       "<td>\n",
       "&quot;PLM&quot;\n",
       "</td>\n",
       "<td>\n",
       "6020\n",
       "</td>\n",
       "</tr>\n",
       "<tr>\n",
       "<td>\n",
       "&quot;Gnosis_0x&quot;\n",
       "</td>\n",
       "<td>\n",
       "5866\n",
       "</td>\n",
       "</tr>\n",
       "<tr>\n",
       "<td>\n",
       "&quot;Gnosis_1inch&quot;\n",
       "</td>\n",
       "<td>\n",
       "4568\n",
       "</td>\n",
       "</tr>\n",
       "<tr>\n",
       "<td>\n",
       "&quot;QuasiModo&quot;\n",
       "</td>\n",
       "<td>\n",
       "4556\n",
       "</td>\n",
       "</tr>\n",
       "<tr>\n",
       "<td>\n",
       "&quot;Legacy&quot;\n",
       "</td>\n",
       "<td>\n",
       "4358\n",
       "</td>\n",
       "</tr>\n",
       "<tr>\n",
       "<td>\n",
       "&quot;Laertes&quot;\n",
       "</td>\n",
       "<td>\n",
       "1914\n",
       "</td>\n",
       "</tr>\n",
       "<tr>\n",
       "<td>\n",
       "&quot;DexCowAgg&quot;\n",
       "</td>\n",
       "<td>\n",
       "1774\n",
       "</td>\n",
       "</tr>\n",
       "<tr>\n",
       "<td>\n",
       "&quot;MIP&quot;\n",
       "</td>\n",
       "<td>\n",
       "1706\n",
       "</td>\n",
       "</tr>\n",
       "<tr>\n",
       "<td>\n",
       "&quot;Gnosis_ParaSwa...\n",
       "</td>\n",
       "<td>\n",
       "1504\n",
       "</td>\n",
       "</tr>\n",
       "<tr>\n",
       "<td>\n",
       "&quot;Naive&quot;\n",
       "</td>\n",
       "<td>\n",
       "1010\n",
       "</td>\n",
       "</tr>\n",
       "<tr>\n",
       "<td>\n",
       "&quot;Baseline&quot;\n",
       "</td>\n",
       "<td>\n",
       "994\n",
       "</td>\n",
       "</tr>\n",
       "<tr>\n",
       "<td>\n",
       "&quot;Quasilabs&quot;\n",
       "</td>\n",
       "<td>\n",
       "956\n",
       "</td>\n",
       "</tr>\n",
       "<tr>\n",
       "<td>\n",
       "&quot;Atlas&quot;\n",
       "</td>\n",
       "<td>\n",
       "210\n",
       "</td>\n",
       "</tr>\n",
       "<tr>\n",
       "<td>\n",
       "&quot;Gnosis_Balance...\n",
       "</td>\n",
       "<td>\n",
       "200\n",
       "</td>\n",
       "</tr>\n",
       "<tr>\n",
       "<td>\n",
       "&quot;Seasolver&quot;\n",
       "</td>\n",
       "<td>\n",
       "164\n",
       "</td>\n",
       "</tr>\n",
       "</tbody>\n",
       "</table>\n",
       "</div>"
      ],
      "text/plain": [
       "shape: (16, 2)\n",
       "┌────────────────────┬──────────────┐\n",
       "│ name               ┆ total_trades │\n",
       "│ ---                ┆ ---          │\n",
       "│ str                ┆ u32          │\n",
       "╞════════════════════╪══════════════╡\n",
       "│ Otex               ┆ 6510         │\n",
       "│ PLM                ┆ 6020         │\n",
       "│ Gnosis_0x          ┆ 5866         │\n",
       "│ Gnosis_1inch       ┆ 4568         │\n",
       "│ ...                ┆ ...          │\n",
       "│ Quasilabs          ┆ 956          │\n",
       "│ Atlas              ┆ 210          │\n",
       "│ Gnosis_BalancerSOR ┆ 200          │\n",
       "│ Seasolver          ┆ 164          │\n",
       "└────────────────────┴──────────────┘"
      ]
     },
     "execution_count": 32,
     "metadata": {},
     "output_type": "execute_result"
    }
   ],
   "source": [
    "grouped_df"
   ]
  },
  {
   "attachments": {},
   "cell_type": "markdown",
   "metadata": {},
   "source": [
    "### Uniswap V3 Swaps"
   ]
  },
  {
   "cell_type": "code",
   "execution_count": 33,
   "metadata": {},
   "outputs": [],
   "source": [
    "# instantiate Streamer object. \n",
    "# Note - unlike the cow queries, univ3 does not require multiple streamer instantations because the swaps field path is reset each iteration. \n",
    "# If the Cow queries were updated to use the same method, we could use the same streamer object for all queries.\n",
    "univ3_ds = Streamer('https://api.thegraph.com/subgraphs/name/messari/uniswap-v3-ethereum')"
   ]
  },
  {
   "cell_type": "code",
   "execution_count": 34,
   "metadata": {},
   "outputs": [],
   "source": [
    "# get a query field path from the query dictionary which is automatically populated in the Streamer object\n",
    "swaps_fp = univ3_ds.queryDict.get('swaps')"
   ]
  },
  {
   "cell_type": "code",
   "execution_count": 35,
   "metadata": {},
   "outputs": [],
   "source": [
    "weth_usdc_list = [\n",
    "    \"0x88e6a0c2ddd26feeb64f039a2c41296fcb3f5640\", # usdc/weth .05%\n",
    "    \"0x8ad599c3a0ff1de082011efddc58f1908eb6e6d8\" #usdc/weth .3%\n",
    "]"
   ]
  },
  {
   "cell_type": "code",
   "execution_count": 36,
   "metadata": {},
   "outputs": [],
   "source": [
    "swaps_df_list = []"
   ]
  },
  {
   "cell_type": "code",
   "execution_count": 37,
   "metadata": {},
   "outputs": [
    {
     "name": "stdout",
     "output_type": "stream",
     "text": [
      "FIELD - swaps\n"
     ]
    }
   ],
   "source": [
    "# for loop over the LP list to get the swap data\n",
    "for lp in weth_usdc_list:\n",
    "    # add parameters to the query_path\n",
    "    swaps_qp = swaps_fp(\n",
    "        first=query_size,\n",
    "        orderBy='timestamp',\n",
    "        orderDirection='desc',\n",
    "        where = {'timestamp_lt': timestamp, 'amountInUSD_gt': filter_usd, 'amountOutUSD_gt': filter_usd, 'pool': lp} \n",
    "        )\n",
    "\n",
    "    # run query\n",
    "    swaps_df = univ3_ds.runQuery(swaps_qp)\n",
    "    swaps_df_list.append(swaps_df)"
   ]
  },
  {
   "cell_type": "code",
   "execution_count": null,
   "metadata": {},
   "outputs": [],
   "source": [
    "# concat swaps_df_list into a single dataframe.\n",
    "swaps_df = pd.concat(swaps_df_list)"
   ]
  },
  {
   "cell_type": "code",
   "execution_count": null,
   "metadata": {},
   "outputs": [],
   "source": [
    "swaps_df.head(5)"
   ]
  },
  {
   "cell_type": "code",
   "execution_count": null,
   "metadata": {},
   "outputs": [],
   "source": [
    "# replace the pool addresses with LP pool names with fees\n",
    "swaps_df['swaps_pool_id'] = swaps_df['swaps_pool_id'].replace(weth_usdc_list[0], 'USDC_WETH .05%')\n",
    "swaps_df['swaps_pool_id'] = swaps_df['swaps_pool_id'].replace(weth_usdc_list[1], 'USDC_WETH .3%')\n",
    "\n",
    "# replace token addresses with symbols\n",
    "swaps_df['swaps_tokenIn_id'] = swaps_df['swaps_tokenIn_id'].replace(usdc_addr, 'USDC')\n",
    "swaps_df['swaps_tokenIn_id'] = swaps_df['swaps_tokenIn_id'].replace(weth_addr, 'WETH')\n",
    "swaps_df['swaps_tokenOut_id'] = swaps_df['swaps_tokenOut_id'].replace(usdc_addr, 'USDC')\n",
    "swaps_df['swaps_tokenOut_id'] = swaps_df['swaps_tokenOut_id'].replace(weth_addr, 'WETH')"
   ]
  },
  {
   "cell_type": "code",
   "execution_count": null,
   "metadata": {},
   "outputs": [],
   "source": [
    "print(f'query returned {len(swaps_df)} rows\\n swaps_df columns are {swaps_df.columns}')"
   ]
  },
  {
   "cell_type": "code",
   "execution_count": null,
   "metadata": {},
   "outputs": [],
   "source": [
    "# convert swaps_df to pl\n",
    "swaps_dict = swaps_df.to_dict('records')\n",
    "swaps_pl = pl.from_dicts(swaps_dict)"
   ]
  },
  {
   "attachments": {},
   "cell_type": "markdown",
   "metadata": {},
   "source": [
    "### This is a checkpoint to save the data incase there are crashes"
   ]
  },
  {
   "cell_type": "code",
   "execution_count": null,
   "metadata": {},
   "outputs": [],
   "source": [
    "# save polars to parquet\n",
    "swaps_pl.write_parquet('data/swaps_pl.parquet')"
   ]
  },
  {
   "attachments": {},
   "cell_type": "markdown",
   "metadata": {},
   "source": [
    "### Get the Uniswap Gas Data"
   ]
  },
  {
   "cell_type": "code",
   "execution_count": null,
   "metadata": {},
   "outputs": [],
   "source": [
    "univ3_no_messari_ds = Streamer('https://api.thegraph.com/subgraphs/name/uniswap/uniswap-v3')"
   ]
  },
  {
   "cell_type": "code",
   "execution_count": null,
   "metadata": {},
   "outputs": [],
   "source": [
    "transactions_fp = univ3_no_messari_ds.queryDict.get('transactions')"
   ]
  },
  {
   "cell_type": "code",
   "execution_count": null,
   "metadata": {},
   "outputs": [],
   "source": [
    "transactions_df_list = []"
   ]
  },
  {
   "cell_type": "code",
   "execution_count": null,
   "metadata": {},
   "outputs": [],
   "source": [
    "weth_txs_qp = transactions_fp(\n",
    "    first=query_size,\n",
    "    orderBy='timestamp',\n",
    "    orderDirection='desc',\n",
    "    where = {\"swaps_\": {'timestamp_lt': timestamp, 'pool': weth_usdc_list[0]}}\n",
    "    )\n",
    "\n",
    "usdc_txs_qp = transactions_fp(\n",
    "    first=query_size,\n",
    "    orderBy='timestamp',\n",
    "    orderDirection='desc',\n",
    "    where = {\"swaps_\": {'timestamp_lt': timestamp, 'pool': weth_usdc_list[1]}}\n",
    "    )"
   ]
  },
  {
   "cell_type": "code",
   "execution_count": null,
   "metadata": {},
   "outputs": [],
   "source": [
    "txs1_df = univ3_no_messari_ds.runQuery(weth_txs_qp)"
   ]
  },
  {
   "cell_type": "code",
   "execution_count": null,
   "metadata": {},
   "outputs": [],
   "source": [
    "txs2_df = univ3_no_messari_ds.runQuery(usdc_txs_qp)"
   ]
  },
  {
   "cell_type": "code",
   "execution_count": null,
   "metadata": {},
   "outputs": [],
   "source": [
    "# concat txs1 and txs2\n",
    "transactions_df = pd.concat([txs1_df, txs2_df])"
   ]
  },
  {
   "cell_type": "code",
   "execution_count": null,
   "metadata": {},
   "outputs": [],
   "source": [
    "transactions_df.shape"
   ]
  },
  {
   "cell_type": "code",
   "execution_count": null,
   "metadata": {},
   "outputs": [],
   "source": [
    "swaps_pl.shape"
   ]
  },
  {
   "cell_type": "code",
   "execution_count": null,
   "metadata": {},
   "outputs": [],
   "source": [
    "# convert swaps_df to pl\n",
    "transactions_dict = transactions_df.to_dict('records')\n",
    "transactions_pl = pl.from_dicts(transactions_dict)"
   ]
  },
  {
   "cell_type": "code",
   "execution_count": null,
   "metadata": {},
   "outputs": [],
   "source": [
    "# save polars to parquet\n",
    "transactions_pl.write_parquet('data/transactions_pl.parquet')"
   ]
  },
  {
   "attachments": {},
   "cell_type": "markdown",
   "metadata": {},
   "source": [
    "### Merge Swaps and Transactions for Gas"
   ]
  },
  {
   "cell_type": "code",
   "execution_count": null,
   "metadata": {},
   "outputs": [],
   "source": [
    "# merge swaps_pl and transactions_pl polars\n",
    "uni_complete_pl = swaps_pl.join(transactions_pl, left_on=\"swaps_hash\", right_on=\"transactions_id\", how=\"inner\")"
   ]
  },
  {
   "cell_type": "code",
   "execution_count": null,
   "metadata": {},
   "outputs": [],
   "source": [
    "# drop duplicate rows\n",
    "uni_complete_pl = uni_complete_pl.unique()"
   ]
  },
  {
   "cell_type": "code",
   "execution_count": null,
   "metadata": {},
   "outputs": [],
   "source": [
    "# drop endpoint column from uni_complete_pl\n",
    "uni_complete_pl = uni_complete_pl.drop('endpoint')"
   ]
  },
  {
   "cell_type": "code",
   "execution_count": null,
   "metadata": {},
   "outputs": [],
   "source": [
    "# to get transaction gas used, we do gasUsed * gasPrice / 10^9\n",
    "uni_complete_pl = uni_complete_pl.with_columns(\n",
    "    (pl.col(\"transactions_gasUsed\") * pl.col(\"transactions_gasPrice\")).alias('transaction_gas_fee')\n",
    ")"
   ]
  },
  {
   "cell_type": "code",
   "execution_count": null,
   "metadata": {},
   "outputs": [],
   "source": [
    "uni_complete_pl = uni_complete_pl.with_columns(\n",
    "    (pl.col(\"transaction_gas_fee\") / 10**18).alias('transaction_gas_fee') # wei is 10^9, but eth is 10^18\n",
    ")"
   ]
  },
  {
   "cell_type": "code",
   "execution_count": null,
   "metadata": {},
   "outputs": [],
   "source": [
    "# sort by largest transaction_gas_fee\n",
    "uni_complete_pl.sort(\"transaction_gas_fee\", reverse=True).head(5)"
   ]
  },
  {
   "attachments": {},
   "cell_type": "markdown",
   "metadata": {},
   "source": [
    "### Merge Cow and Univ3"
   ]
  },
  {
   "cell_type": "code",
   "execution_count": null,
   "metadata": {},
   "outputs": [],
   "source": [
    "# merge trades and swaps on timestamp value. We use outer join because we want to keep all trades and swaps data and backfill swap values\n",
    "cow_uni_outer_pl = cow_complete_pl.join(other=uni_complete_pl, left_on='trades_timestamp', right_on='swaps_timestamp', how='outer')"
   ]
  },
  {
   "cell_type": "code",
   "execution_count": null,
   "metadata": {},
   "outputs": [],
   "source": [
    "cow_uni_outer_pl.columns"
   ]
  },
  {
   "cell_type": "code",
   "execution_count": null,
   "metadata": {},
   "outputs": [],
   "source": [
    "# This truncated dataframe isn't being used right now\n",
    "cow_uni_trunc_pl = cow_uni_outer_pl[[\n",
    "    'trades_timestamp', \n",
    "    'trades_txHash',\n",
    "    'trades_feeAmount',\n",
    "    'trades_sellToken_id', \n",
    "    'trades_buyToken_id', \n",
    "    'trades_buyAmount',\n",
    "    'trades_sellAmount',\n",
    "    # 'trades_sellAmountUsd', \n",
    "    # 'trades_buyAmountUsd', \n",
    "    'name',\n",
    "    'environment',\n",
    "    'swaps_pool_id', \n",
    "    'swaps_tokenIn_id', \n",
    "    'swaps_tokenOut_id',\n",
    "    'swaps_amountIn',\n",
    "    'swaps_amountOut',  \n",
    "    # 'swaps_amountInUSD',\n",
    "    # 'swaps_amountOutUSD',\n",
    "    'swaps_blockNumber',\n",
    "    # 'transactions_timestamp',\n",
    "    # 'transactions_gasUsed',\n",
    "    # 'transactions_gasPrice',\n",
    "    'transaction_gas_fee'\n",
    "    ]]"
   ]
  },
  {
   "cell_type": "code",
   "execution_count": null,
   "metadata": {},
   "outputs": [],
   "source": [
    "#check pl dataframe size\n",
    "cow_uni_trunc_pl.shape"
   ]
  },
  {
   "cell_type": "code",
   "execution_count": null,
   "metadata": {},
   "outputs": [],
   "source": [
    "# sort by largest transaction_gas_fee\n",
    "cow_uni_trunc_pl.sort(\"transaction_gas_fee\", reverse=True).head(5)"
   ]
  },
  {
   "attachments": {},
   "cell_type": "markdown",
   "metadata": {},
   "source": [
    "### Chainlink"
   ]
  },
  {
   "cell_type": "code",
   "execution_count": null,
   "metadata": {},
   "outputs": [],
   "source": [
    "# load streamer class\n",
    "chain_ds = Streamer('https://api.thegraph.com/subgraphs/name/openpredict/chainlink-prices-subgraph')"
   ]
  },
  {
   "cell_type": "code",
   "execution_count": null,
   "metadata": {},
   "outputs": [],
   "source": [
    "chain_price_feed = \"ETH/USD\""
   ]
  },
  {
   "cell_type": "code",
   "execution_count": null,
   "metadata": {},
   "outputs": [],
   "source": [
    "# get a query field path from the query dictionary which is automatically populated in the Streamer object\n",
    "chain_fp = chain_ds.queryDict.get('prices')\n",
    "\n",
    "# add parameters to the settlements_qp.\n",
    "chain_qp = chain_fp(\n",
    "    first=query_size * 5,\n",
    "    orderBy='timestamp',\n",
    "    orderDirection='desc',\n",
    "    where = {'timestamp_lt': timestamp, 'assetPair': chain_price_feed}\n",
    "    )\n",
    "\n",
    "# run query\n",
    "chain_df = chain_ds.runQuery(chain_qp)"
   ]
  },
  {
   "cell_type": "code",
   "execution_count": null,
   "metadata": {},
   "outputs": [],
   "source": [
    "# drop prices_id, endpoint. \n",
    "chain_df = chain_df.drop(['prices_id', 'endpoint'], axis=1)\n",
    "# divide prices_price by 1e8 to get the price in USD\n",
    "chain_df['prices_price'] = chain_df['prices_price'] / 10 ** 8"
   ]
  },
  {
   "cell_type": "code",
   "execution_count": null,
   "metadata": {},
   "outputs": [],
   "source": [
    "chain_df.shape"
   ]
  },
  {
   "cell_type": "code",
   "execution_count": null,
   "metadata": {},
   "outputs": [],
   "source": [
    "# save polars to parquet\n",
    "chain_df.write_parquet('data/chain_df.parquet')"
   ]
  },
  {
   "attachments": {},
   "cell_type": "markdown",
   "metadata": {},
   "source": [
    "### Merge chain_df with cow_uni_outer_pl"
   ]
  },
  {
   "cell_type": "code",
   "execution_count": null,
   "metadata": {},
   "outputs": [],
   "source": [
    "# convert chain_df to dictionary and then polars datarame\n",
    "chain_dict = chain_df.to_dict('records')\n",
    "chain_pl = pl.from_dicts(chain_dict)"
   ]
  },
  {
   "cell_type": "code",
   "execution_count": null,
   "metadata": {},
   "outputs": [],
   "source": [
    "# merge chain_df with cow_uni_outer_pl on timestamp\n",
    "cow_uni_chain_outer_pl = cow_uni_trunc_pl.join(other=chain_pl, left_on='trades_timestamp', right_on='prices_timestamp', how='outer')"
   ]
  },
  {
   "cell_type": "code",
   "execution_count": null,
   "metadata": {},
   "outputs": [],
   "source": [
    "cow_uni_chain_outer_pl.shape"
   ]
  },
  {
   "attachments": {},
   "cell_type": "markdown",
   "metadata": {},
   "source": [
    "### Calculate and Plot Prices"
   ]
  },
  {
   "attachments": {},
   "cell_type": "markdown",
   "metadata": {},
   "source": [
    "#### Decimal Calculations"
   ]
  },
  {
   "cell_type": "code",
   "execution_count": null,
   "metadata": {},
   "outputs": [],
   "source": [
    "# add decimals to cow trades sell tokens\n",
    "cow_uni_chain_outer_pl = cow_uni_chain_outer_pl.with_columns(\n",
    "    [\n",
    "        pl.col('trades_sellToken_id'),\n",
    "        (\n",
    "            pl.when(pl.col('trades_sellToken_id') == 'WETH')\n",
    "            .then(18)\n",
    "            .otherwise(6)\n",
    "            .cast(pl.UInt8)\n",
    "        ).alias('trades_sellToken_decimals'),\n",
    "    ]\n",
    ")\n",
    "\n",
    "# add decimals to cow trades buy tokens\n",
    "cow_uni_chain_outer_pl = cow_uni_chain_outer_pl.with_columns(\n",
    "    [\n",
    "        pl.col('trades_buyToken_id'),\n",
    "        (\n",
    "            pl.when(pl.col('trades_buyToken_id') == 'WETH')\n",
    "            .then(18)\n",
    "            .otherwise(6)\n",
    "            .cast(pl.UInt8)\n",
    "        ).alias('trades_buyToken_decimals'),\n",
    "    ]\n",
    ")\n",
    "\n",
    "# add decimals to cow trades sell tokens\n",
    "cow_uni_chain_outer_pl = cow_uni_chain_outer_pl.with_columns(\n",
    "    [\n",
    "        pl.col('swaps_tokenIn_id'),\n",
    "        (\n",
    "            pl.when(pl.col('swaps_tokenIn_id') == 'WETH')\n",
    "            .then(18)\n",
    "            .otherwise(6)\n",
    "            .cast(pl.UInt8)\n",
    "        ).alias('swaps_tokenIn_decimals'),\n",
    "    ]\n",
    ")\n",
    "\n",
    "# add decimals to cow trades buy tokens\n",
    "cow_uni_chain_outer_pl = cow_uni_chain_outer_pl.with_columns(\n",
    "    [\n",
    "        pl.col('swaps_tokenOut_id'),\n",
    "        (\n",
    "            pl.when(pl.col('swaps_tokenOut_id') == 'WETH')\n",
    "            .then(18)\n",
    "            .otherwise(6)\n",
    "            .cast(pl.UInt8)\n",
    "        ).alias('swaps_tokenOut_decimals'),\n",
    "    ]\n",
    ")"
   ]
  },
  {
   "cell_type": "code",
   "execution_count": null,
   "metadata": {},
   "outputs": [],
   "source": [
    "cow_uni_chain_outer_pl.columns # has transaction cols"
   ]
  },
  {
   "attachments": {},
   "cell_type": "markdown",
   "metadata": {},
   "source": [
    "#### Execution Price Calculations"
   ]
  },
  {
   "cell_type": "code",
   "execution_count": null,
   "metadata": {},
   "outputs": [],
   "source": [
    "# note that polars can perform these calculations in-column. This means it can convert the values in place without creating a new column. The new column created here is more verbose, but is a good sanity check to see before/after results.\n",
    "trades_swaps_converted_pl = cow_uni_chain_outer_pl.with_columns([\n",
    "    (pl.col(\"trades_buyAmount\") / (10**pl.col(\"trades_buyToken_decimals\"))).alias('trades_buyAmount_converted'),\n",
    "    (pl.col(\"trades_sellAmount\") / (10**pl.col(\"trades_sellToken_decimals\"))).alias('trades_sellAmount_converted'),\n",
    "    (pl.col(\"swaps_amountIn\") / (10**pl.col(\"swaps_tokenIn_decimals\"))).alias('swaps_amountIn_converted'),\n",
    "    (pl.col(\"swaps_amountOut\") / (10**pl.col(\"swaps_tokenOut_decimals\"))).alias('swaps_amountOut_converted'),\n",
    "])"
   ]
  },
  {
   "cell_type": "code",
   "execution_count": null,
   "metadata": {},
   "outputs": [],
   "source": [
    "trades_swaps_converted_trunc_pl = trades_swaps_converted_pl.with_columns([\n",
    "    (pl.col(\"trades_buyAmount_converted\") / pl.col(\"trades_sellAmount_converted\")).alias('trades_buy_sell_ratio'),\n",
    "    (pl.col(\"trades_sellAmount_converted\") / pl.col(\"trades_buyAmount_converted\")).alias('trades_sell_buy_ratio'),\n",
    "    (pl.col(\"swaps_amountIn_converted\") / pl.col(\"swaps_amountOut_converted\")).alias('swaps_amountIn_amountOut_ratio'),\n",
    "    (pl.col(\"swaps_amountOut_converted\") / pl.col(\"swaps_amountIn_converted\")).alias('swaps_amountOut_amountIn_ratio'),\n",
    "])"
   ]
  },
  {
   "cell_type": "code",
   "execution_count": null,
   "metadata": {},
   "outputs": [],
   "source": [
    "trades_swaps_converted_trunc_pl = trades_swaps_converted_trunc_pl[\n",
    "    'trades_timestamp',\n",
    "    'swaps_blockNumber',\n",
    "    'trades_txHash',\n",
    "    'trades_feeAmount',\n",
    "    'trades_sellToken_id',\n",
    "    'trades_buyToken_id',\n",
    "    'trades_sellAmount_converted',\n",
    "    'trades_buyAmount_converted',\n",
    "    'name',\n",
    "    'environment',\n",
    "    'swaps_pool_id',\n",
    "    'swaps_tokenIn_id',\n",
    "    'swaps_tokenOut_id',\n",
    "    'swaps_amountIn_converted',\n",
    "    'swaps_amountOut_converted',\n",
    "    'transaction_gas_fee',\n",
    "    'trades_buy_sell_ratio',\n",
    "    'trades_sell_buy_ratio',\n",
    "    'swaps_amountIn_amountOut_ratio',\n",
    "    'swaps_amountOut_amountIn_ratio',\n",
    "    'prices_assetPair_id',\n",
    "    'prices_price'\n",
    "]"
   ]
  },
  {
   "cell_type": "code",
   "execution_count": null,
   "metadata": {},
   "outputs": [],
   "source": [
    "trades_swaps_converted_trunc_pl.shape"
   ]
  },
  {
   "cell_type": "code",
   "execution_count": null,
   "metadata": {},
   "outputs": [],
   "source": [
    "trades_swaps_converted_trunc_pl.head(10)"
   ]
  },
  {
   "cell_type": "code",
   "execution_count": null,
   "metadata": {},
   "outputs": [],
   "source": [
    "# replace null values with a small number, 0.0001 in non-str cols. Reason why we can't use 0 is we will get a divide by zero error otherwise.\n",
    "trades_swaps_converted_trunc_pl = trades_swaps_converted_trunc_pl.fill_null(0.0001)"
   ]
  },
  {
   "cell_type": "code",
   "execution_count": null,
   "metadata": {},
   "outputs": [],
   "source": [
    "trades_swaps_converted_trunc_pl.head(5)"
   ]
  },
  {
   "cell_type": "code",
   "execution_count": null,
   "metadata": {},
   "outputs": [],
   "source": [
    "# return the larger value between trades_buy_sell_ratio and trades_sell_buy_ratio in a lambda function\n",
    "execution_prices_pl = trades_swaps_converted_trunc_pl.with_columns([\n",
    "    (pl.col(\"trades_buy_sell_ratio\").apply(lambda x: x if x > 1 else 1/x)).alias('trades_buy_sell_ratio'),\n",
    "    (pl.col(\"trades_sell_buy_ratio\").apply(lambda x: x if x > 1 else 1/x)).alias('trades_sell_buy_ratio'),\n",
    "    (pl.col(\"swaps_amountIn_amountOut_ratio\").apply(lambda x: x if x > 1 else 1/x)).alias('swaps_amountIn_amountOut_ratio'),\n",
    "    (pl.col(\"swaps_amountOut_amountIn_ratio\").apply(lambda x: x if x > 1 else 1/x)).alias('swaps_amountOut_amountIn_ratio'),\n",
    "])"
   ]
  },
  {
   "cell_type": "code",
   "execution_count": null,
   "metadata": {},
   "outputs": [],
   "source": [
    "execution_prices_pl.columns"
   ]
  },
  {
   "cell_type": "code",
   "execution_count": null,
   "metadata": {},
   "outputs": [],
   "source": [
    "# convert execution_prices_pl to pandas dataframe for easier plotting.\n",
    "execution_prices_pd = execution_prices_pl.to_pandas()\n",
    "\n",
    "# set trades_timestamp as index and order by trades_timestamp\n",
    "execution_prices_pd = execution_prices_pd.set_index('trades_timestamp').sort_index()"
   ]
  },
  {
   "cell_type": "code",
   "execution_count": null,
   "metadata": {},
   "outputs": [],
   "source": [
    "# get rows with highest trades_buy_sell_ratio values. We see here some 10,000 values. This is due to the fact that we use a dust amount .0001 to replace null values which is done to avoid division by zero errors.\n",
    "execution_prices_pd['trades_buy_sell_ratio'].head(5)"
   ]
  },
  {
   "cell_type": "code",
   "execution_count": null,
   "metadata": {},
   "outputs": [],
   "source": [
    "execution_prices_pd['name'].unique()"
   ]
  },
  {
   "cell_type": "code",
   "execution_count": null,
   "metadata": {},
   "outputs": [],
   "source": [
    "# filter out trades_buy_sell_ratio values that are 10000. These are outlier mistakes as a result from calculating prices with dust amounts.\n",
    "\n",
    "# cow\n",
    "cow_execution_prices_pd = execution_prices_pd[execution_prices_pd['trades_buy_sell_ratio'] < 10000]\n",
    "cow_execution_prices_pd = execution_prices_pd[execution_prices_pd['trades_sell_buy_ratio'] < 10000]\n",
    "\n",
    "#univ3 \n",
    "univ3_execution_prices_pd = execution_prices_pd[execution_prices_pd['swaps_amountIn_amountOut_ratio'] < 10000]\n",
    "univ3_execution_prices_pd = execution_prices_pd[execution_prices_pd['swaps_amountOut_amountIn_ratio'] < 10000]\n",
    "\n",
    "# filter out chainlink prices if it less than 1\n",
    "chain_execution_prices_pd = execution_prices_pd[execution_prices_pd['prices_price'] > 1]"
   ]
  },
  {
   "cell_type": "code",
   "execution_count": null,
   "metadata": {},
   "outputs": [],
   "source": [
    "# print the shapes in a single f string\n",
    "print(f\"cow_execution_prices_pd shape: {cow_execution_prices_pd.shape}\")\n",
    "print(f\"univ3_execution_prices_pd shape: {univ3_execution_prices_pd.shape}\")\n",
    "print(f\"chain_execution_prices_pd shape: {chain_execution_prices_pd.shape}\")"
   ]
  },
  {
   "attachments": {},
   "cell_type": "markdown",
   "metadata": {},
   "source": [
    "#### FFILL prices to the timestamp range and plot"
   ]
  },
  {
   "cell_type": "code",
   "execution_count": null,
   "metadata": {},
   "outputs": [],
   "source": [
    "start_index = int(cow_execution_prices_pd.index.min())\n",
    "end_index = int(cow_execution_prices_pd.index.max())"
   ]
  },
  {
   "cell_type": "code",
   "execution_count": null,
   "metadata": {},
   "outputs": [],
   "source": [
    "start_index"
   ]
  },
  {
   "cell_type": "code",
   "execution_count": null,
   "metadata": {},
   "outputs": [],
   "source": [
    "# create an empty dataframe with index from start_index to end_index\n",
    "price_diff_df = pd.DataFrame(index=range(start_index, end_index))"
   ]
  },
  {
   "cell_type": "code",
   "execution_count": null,
   "metadata": {},
   "outputs": [],
   "source": [
    "price_diff_df.head(5)"
   ]
  },
  {
   "cell_type": "code",
   "execution_count": null,
   "metadata": {},
   "outputs": [],
   "source": [
    "# merge univ3 duplicate index values by taking the mean of the values\n",
    "univ3_execution_prices_pd = univ3_execution_prices_pd.groupby(univ3_execution_prices_pd.index).mean(numeric_only=True)"
   ]
  },
  {
   "cell_type": "code",
   "execution_count": null,
   "metadata": {},
   "outputs": [],
   "source": [
    "# do same for cow and chainlink\n",
    "cow_execution_prices_pd = cow_execution_prices_pd.groupby(cow_execution_prices_pd.index).mean(numeric_only=True)\n",
    "chain_execution_prices_pd = chain_execution_prices_pd.groupby(chain_execution_prices_pd.index).mean(numeric_only=True)"
   ]
  },
  {
   "cell_type": "code",
   "execution_count": null,
   "metadata": {},
   "outputs": [],
   "source": [
    "univ3_execution_prices_pd"
   ]
  },
  {
   "cell_type": "code",
   "execution_count": null,
   "metadata": {},
   "outputs": [],
   "source": [
    "# add univ3 priices to price_diff_df. If there is no price for a given timestamp, give it the most recent price value.\n",
    "price_diff_df['univ3'] = univ3_execution_prices_pd['swaps_amountIn_amountOut_ratio'].reindex(price_diff_df.index, method='ffill')\n",
    "# add univ3 transaction gas fee\n",
    "price_diff_df['univ3_gas_fee'] = univ3_execution_prices_pd['transaction_gas_fee'].reindex(price_diff_df.index, method='ffill')\n",
    "# add cow\n",
    "price_diff_df['cow'] = cow_execution_prices_pd['trades_buy_sell_ratio'].reindex(price_diff_df.index, method='ffill')\n",
    "# add chain\n",
    "price_diff_df['chain'] = chain_execution_prices_pd['prices_price'].reindex(price_diff_df.index, method='ffill')"
   ]
  },
  {
   "cell_type": "code",
   "execution_count": null,
   "metadata": {},
   "outputs": [],
   "source": [
    "# add a column of (cow - univ3) prices\n",
    "price_diff_df['cow_univ3_diff'] = price_diff_df['cow'] - price_diff_df['univ3']\n",
    "# add a column of (cow - chain) prices\n",
    "price_diff_df['cow_chain_diff'] = price_diff_df['cow'] - price_diff_df['chain']"
   ]
  },
  {
   "cell_type": "code",
   "execution_count": null,
   "metadata": {},
   "outputs": [],
   "source": [
    "# get the percentages\n",
    "price_diff_df['cow_univ3_diff_percent'] = price_diff_df['cow_univ3_diff'] / price_diff_df['univ3']\n",
    "price_diff_df['cow_chain_diff_percent'] = price_diff_df['cow_chain_diff'] / price_diff_df['chain']"
   ]
  },
  {
   "cell_type": "code",
   "execution_count": null,
   "metadata": {},
   "outputs": [],
   "source": [
    "# add gas tx adjustment to univ3\n",
    "price_diff_df['univ3_gas_adj_price'] = price_diff_df['univ3'] - (price_diff_df['univ3'] * price_diff_df['univ3_gas_fee'])"
   ]
  },
  {
   "cell_type": "code",
   "execution_count": null,
   "metadata": {},
   "outputs": [],
   "source": [
    "# add gas tx adjustment to chain (calculated using univ3 transaction fee)\n",
    "price_diff_df['chain_gas_adj_price'] = price_diff_df['chain'] - (price_diff_df['chain'] * price_diff_df['univ3_gas_fee'])"
   ]
  },
  {
   "cell_type": "code",
   "execution_count": null,
   "metadata": {},
   "outputs": [],
   "source": [
    "# add a column of (cow - univ3) prices\n",
    "price_diff_df['cow_univ3_gas_diff'] = price_diff_df['cow'] - price_diff_df['univ3_gas_adj_price']\n",
    "# add a column of (cow - chain) prices\n",
    "price_diff_df['cow_chain_gas_diff'] = price_diff_df['cow'] - price_diff_df['chain_gas_adj_price']"
   ]
  },
  {
   "cell_type": "code",
   "execution_count": null,
   "metadata": {},
   "outputs": [],
   "source": [
    "# get the percentages\n",
    "price_diff_df['cow_univ3_gas_diff_percent'] = price_diff_df['cow_univ3_gas_diff'] / price_diff_df['univ3_gas_adj_price']\n",
    "price_diff_df['cow_chain_gas_diff_percent'] = price_diff_df['cow_chain_gas_diff'] / price_diff_df['chain_gas_adj_price']"
   ]
  },
  {
   "cell_type": "code",
   "execution_count": null,
   "metadata": {},
   "outputs": [],
   "source": [
    "# filter price_diff_df based on cow_execution_price timestamp\n",
    "price_diff_df_filtered = price_diff_df[price_diff_df.index.isin(cow_execution_prices_pd.index)]"
   ]
  },
  {
   "cell_type": "code",
   "execution_count": null,
   "metadata": {},
   "outputs": [],
   "source": [
    "price_diff_df_filtered.shape"
   ]
  },
  {
   "cell_type": "code",
   "execution_count": null,
   "metadata": {},
   "outputs": [],
   "source": [
    "price_diff_df_filtered.head(5)"
   ]
  },
  {
   "cell_type": "code",
   "execution_count": null,
   "metadata": {},
   "outputs": [],
   "source": [
    "# plot the univ3, cow, and chain prices as histogram distributions with  matplotlib all on the same axis\n",
    "fig, ax = plt.subplots()\n",
    "# price_diff_df_filtered_usdc_pos['cow'].plot(kind='hist', bins=50, ax=ax, alpha=0.45, label='univ3')\n",
    "price_diff_df_filtered['cow_univ3_diff_percent'].plot(kind='hist', bins=50, ax=ax, alpha=0.6, label='univ3')\n",
    "price_diff_df_filtered['cow_chain_diff_percent'].plot(kind='hist', bins=50, ax=ax, alpha=0.45, label='chain')\n",
    "ax.legend()\n",
    "\n",
    "plt.title('CoW Price Diff')"
   ]
  },
  {
   "cell_type": "code",
   "execution_count": null,
   "metadata": {},
   "outputs": [],
   "source": [
    "# remove outliers from gas diff percent and plot histograms\n",
    "price_diff_df_filtered_gas = price_diff_df_filtered[price_diff_df_filtered['cow_univ3_gas_diff_percent'] < 0.1]\n",
    "price_diff_df_filtered_gas = price_diff_df_filtered_gas[price_diff_df_filtered_gas['cow_chain_gas_diff_percent'] < 0.1]\n",
    "\n",
    "# plot the univ3, cow, and chain prices as histogram distributions with  matplotlib all on the same axis\n",
    "fig, ax = plt.subplots()\n",
    "# price_diff_df_filtered_usdc_pos['cow'].plot(kind='hist', bins=50, ax=ax, alpha=0.45, label='univ3')\n",
    "price_diff_df_filtered_gas['cow_univ3_gas_diff_percent'].plot(kind='hist', bins=50, ax=ax, alpha=0.6, label='univ3')\n",
    "price_diff_df_filtered_gas['cow_chain_gas_diff_percent'].plot(kind='hist', bins=50, ax=ax, alpha=0.45, label='chain')\n",
    "ax.legend()\n",
    "\n",
    "plt.title('CoW Price Diff (Gas Adjusted)')"
   ]
  },
  {
   "cell_type": "code",
   "execution_count": null,
   "metadata": {},
   "outputs": [],
   "source": [
    "# plot the univ3, cow, and chain prices as histogram distributions with  matplotlib all on the same axis\n",
    "fig, ax = plt.subplots()\n",
    "# price_diff_df_filtered_usdc_pos['cow'].plot(kind='hist', bins=50, ax=ax, alpha=0.45, label='univ3')\n",
    "price_diff_df_filtered['cow_univ3_gas_diff_percent'].plot(kind='hist', bins=50, ax=ax, alpha=0.6, label='univ3')\n",
    "price_diff_df_filtered['cow_chain_gas_diff_percent'].plot(kind='hist', bins=50, ax=ax, alpha=0.45, label='chain')\n",
    "ax.legend()\n",
    "\n",
    "plt.title('CoW Price Diff (gas adj)')"
   ]
  },
  {
   "cell_type": "code",
   "execution_count": null,
   "metadata": {},
   "outputs": [],
   "source": []
  },
  {
   "cell_type": "code",
   "execution_count": null,
   "metadata": {},
   "outputs": [],
   "source": []
  },
  {
   "cell_type": "code",
   "execution_count": null,
   "metadata": {},
   "outputs": [],
   "source": []
  },
  {
   "cell_type": "code",
   "execution_count": null,
   "metadata": {},
   "outputs": [],
   "source": []
  },
  {
   "cell_type": "code",
   "execution_count": null,
   "metadata": {},
   "outputs": [],
   "source": [
    "# split dataframe into cow trades based on buy or sell\n",
    "cow_buy_trades = cow_execution_prices_pd[cow_execution_prices_pd['trades_buy_sell_ratio'] > 1]"
   ]
  },
  {
   "cell_type": "code",
   "execution_count": null,
   "metadata": {},
   "outputs": [],
   "source": [
    "execution_prices_pd['trades_buyToken_id'].unique()"
   ]
  },
  {
   "cell_type": "code",
   "execution_count": null,
   "metadata": {},
   "outputs": [],
   "source": [
    "# get an array of timestamps where trades_buyToken_id = USDC\n",
    "usdc_trades_filter = execution_prices_pd[execution_prices_pd['trades_buyToken_id'] == 'USDC']\n",
    "usdc_trades_filter = usdc_trades_filter.index\n",
    "\n",
    "# get an array of timestamps where trades_buyToken_id = WETH\n",
    "weth_trades_filter = execution_prices_pd[execution_prices_pd['trades_buyToken_id'] == 'WETH']\n",
    "weth_trades_filter = weth_trades_filter.index"
   ]
  },
  {
   "cell_type": "code",
   "execution_count": null,
   "metadata": {},
   "outputs": [],
   "source": [
    "# convert values in filter to integer\n",
    "usdc_trades_filter = usdc_trades_filter.astype(int)\n",
    "weth_trades_filter = weth_trades_filter.astype(int)"
   ]
  },
  {
   "cell_type": "code",
   "execution_count": null,
   "metadata": {},
   "outputs": [],
   "source": [
    "# filter price_diff_df_filtered based on the usdc trades filter\n",
    "price_diff_df_filtered_usdc = price_diff_df_filtered[price_diff_df_filtered.index.isin(usdc_trades_filter)]"
   ]
  },
  {
   "cell_type": "code",
   "execution_count": null,
   "metadata": {},
   "outputs": [],
   "source": [
    "price_diff_df_filtered_usdc.head(5)"
   ]
  },
  {
   "cell_type": "code",
   "execution_count": null,
   "metadata": {},
   "outputs": [],
   "source": [
    "# do same for weth\n",
    "price_diff_df_filtered_weth = price_diff_df_filtered[price_diff_df_filtered.index.isin(weth_trades_filter)]"
   ]
  },
  {
   "cell_type": "code",
   "execution_count": null,
   "metadata": {},
   "outputs": [],
   "source": [
    "# print f string for filtered df sizes\n",
    "print(f\"price_diff_df_filtered_usdc shape: {price_diff_df_filtered_usdc.shape}\")\n",
    "print(f\"price_diff_df_filtered_weth shape: {price_diff_df_filtered_weth.shape}\")"
   ]
  },
  {
   "cell_type": "code",
   "execution_count": null,
   "metadata": {},
   "outputs": [],
   "source": [
    "# merge duplicate index values on execution_prices_pd to get the names\n",
    "solver_name_filter = execution_prices_pd['name'].groupby(execution_prices_pd.index).first()"
   ]
  },
  {
   "cell_type": "code",
   "execution_count": null,
   "metadata": {},
   "outputs": [],
   "source": [
    "# add a second filter that adds 'names' column to the filtered dfs\n",
    "price_diff_df_filtered_usdc.loc[:, 'name'] = solver_name_filter"
   ]
  },
  {
   "cell_type": "code",
   "execution_count": null,
   "metadata": {},
   "outputs": [],
   "source": [
    "# do the same for weth\n",
    "price_diff_df_filtered_weth.loc[:, 'name'] = solver_name_filter"
   ]
  },
  {
   "cell_type": "code",
   "execution_count": null,
   "metadata": {},
   "outputs": [],
   "source": [
    "# plot histogram grouped by names showing the sum of the price diff\n",
    "# price_diff_df_filtered_usdc.groupby('name')['cow_univ3_diff_percent'].sum().plot(kind='bar', title='cow_univ3_diff_percent')\n",
    "\n",
    "# Create a Matplotlib figure and axis object\n",
    "fig, ax = plt.subplots()\n",
    "\n",
    "# Create two sets of data using the groupby method\n",
    "pos_counts = price_diff_df_filtered_usdc.groupby('name')['cow_univ3_diff_percent'].sum()\n",
    "neg_counts = -price_diff_df_filtered_usdc.groupby('name')['cow_univ3_diff_percent'].sum()\n",
    "\n",
    "# Plot the first bar chart on the axis\n",
    "pos_counts.plot(kind='bar', ax=ax, color='b', alpha=0.5, label='Positive Price Diff Sum')\n",
    "\n",
    "# Plot the second bar chart on the same axis\n",
    "neg_counts.plot(kind='bar', ax=ax, color='r', alpha=0.5, label='Negative Price Diff Sum')\n",
    "\n",
    "# Add a legend to the plot\n",
    "ax.legend()\n",
    "\n",
    "# Set the title for the plot\n",
    "ax.set_title('cow_univ3_diff_percent_sum (USDC)')\n",
    "\n",
    "# Show the plot\n",
    "plt.show()"
   ]
  },
  {
   "cell_type": "code",
   "execution_count": null,
   "metadata": {},
   "outputs": [],
   "source": [
    "# Create a Matplotlib figure and axis object\n",
    "fig, ax = plt.subplots()\n",
    "\n",
    "# Create two sets of data using the groupby method\n",
    "pos_counts = price_diff_df_filtered_usdc.groupby('name')['cow_univ3_diff_percent'].apply(lambda x: (x > 0).sum())\n",
    "neg_counts = -price_diff_df_filtered_usdc.groupby('name')['cow_univ3_diff_percent'].apply(lambda x: (x < 0).sum())\n",
    "\n",
    "# Plot the first bar chart on the axis\n",
    "pos_counts.plot(kind='bar', ax=ax, color='b', alpha=0.5, label='Positive Price Diff')\n",
    "\n",
    "# Plot the second bar chart on the same axis\n",
    "neg_counts.plot(kind='bar', ax=ax, color='r', alpha=0.5, label='Negative Price Diff')\n",
    "\n",
    "# Add a legend to the plot\n",
    "ax.legend()\n",
    "\n",
    "# Set the title for the plot\n",
    "ax.set_title('cow_univ3 Price Diff Count (USDC)')\n",
    "\n",
    "# Show the plot\n",
    "plt.show()"
   ]
  },
  {
   "cell_type": "code",
   "execution_count": null,
   "metadata": {},
   "outputs": [],
   "source": [
    "# get new dataframe with only positive cow_univ3_diff_pct values\n",
    "price_diff_df_filtered_usdc_pos = price_diff_df_filtered_usdc[price_diff_df_filtered_usdc['cow_univ3_diff_percent'] > 0]"
   ]
  },
  {
   "cell_type": "code",
   "execution_count": null,
   "metadata": {},
   "outputs": [],
   "source": [
    "# plot the univ3, cow, and chain prices as histogram distributions with  matplotlib all on the same axis\n",
    "fig, ax = plt.subplots()\n",
    "# price_diff_df_filtered_usdc_pos['cow'].plot(kind='hist', bins=50, ax=ax, alpha=0.45, label='univ3')\n",
    "price_diff_df_filtered_usdc['cow_univ3_gas_diff_percent'].plot(kind='hist', bins=50, ax=ax, alpha=0.6, label='cow')\n",
    "price_diff_df_filtered_usdc['cow_chain_gas_diff_percent'].plot(kind='hist', bins=50, ax=ax, alpha=0.45, label='chain')\n",
    "ax.legend()\n",
    "\n",
    "plt.title('USDC Price Diff')"
   ]
  },
  {
   "cell_type": "code",
   "execution_count": null,
   "metadata": {},
   "outputs": [],
   "source": [
    "# plot the univ3, cow, and chain prices as histogram distributions with  matplotlib all on the same axis\n",
    "fig, ax = plt.subplots()\n",
    "# price_diff_df_filtered_weth_pos['cow'].plot(kind='hist', bins=50, ax=ax, alpha=0.45, label='univ3')\n",
    "price_diff_df_filtered_weth['cow_univ3_gas_diff_percent'].plot(kind='hist', bins=50, ax=ax, alpha=0.6, label='cow')\n",
    "price_diff_df_filtered_weth['cow_chain_gas_diff_percent'].plot(kind='hist', bins=50, ax=ax, alpha=0.45, label='chain')\n",
    "ax.legend()\n",
    "\n",
    "plt.title('weth Price Diff')"
   ]
  },
  {
   "cell_type": "code",
   "execution_count": null,
   "metadata": {},
   "outputs": [],
   "source": [
    "# take the price_diff_df_filtered_usdc_pos dataframe and use it as a filter on execution_prices timestamp to get trade amount\n",
    "sample = execution_prices_pd[execution_prices_pd.index.isin(price_diff_df_filtered_usdc_neg.index)]"
   ]
  },
  {
   "cell_type": "code",
   "execution_count": null,
   "metadata": {},
   "outputs": [],
   "source": [
    "# plot the trades_buyAmount_converted, swaps_amountOut_converted to get a sense of the distribution. Cut off values greater than 1e6\n",
    "sample[sample['trades_buyAmount_converted'] < 2e5]['trades_buyAmount_converted'].plot(kind='hist', bins=50, alpha=0.5, label='trades_buyAmount_converted')\n",
    "sample[sample['swaps_amountOut_converted'] < 2e5]['swaps_amountOut_converted'].plot(kind='hist', bins=50, alpha=0.5, label='swaps_amountOut_converted')\n",
    "plt.legend()\n",
    "\n",
    "plt.title(\"buyToken=USDC, swaps_amountOut=USDC\")"
   ]
  },
  {
   "cell_type": "code",
   "execution_count": null,
   "metadata": {},
   "outputs": [],
   "source": []
  },
  {
   "cell_type": "code",
   "execution_count": null,
   "metadata": {},
   "outputs": [],
   "source": []
  },
  {
   "cell_type": "code",
   "execution_count": null,
   "metadata": {},
   "outputs": [],
   "source": []
  },
  {
   "attachments": {},
   "cell_type": "markdown",
   "metadata": {},
   "source": [
    "#### Aggregate Price Diff Stats"
   ]
  },
  {
   "cell_type": "code",
   "execution_count": null,
   "metadata": {},
   "outputs": [],
   "source": [
    "# sum the percent rows\n",
    "usdc_univ3_sum = price_diff_df_filtered_usdc['cow_univ3_diff_percent'].sum()\n",
    "usdc_chain_sum = price_diff_df_filtered_usdc['cow_chain_diff_percent'].sum()\n",
    "\n",
    "# print the sums\n",
    "print(f\"usdc_univ3_sum: {usdc_univ3_sum}\")\n",
    "print(f\"usdc_chain_sum: {usdc_chain_sum}\")"
   ]
  },
  {
   "cell_type": "code",
   "execution_count": null,
   "metadata": {},
   "outputs": [],
   "source": [
    "# plot histograms of the percent differences\n",
    "price_diff_df_filtered_usdc['cow_univ3_diff_percent'].hist(bins=100, label='cow_univ3_diff_percent', alpha=.5)\n",
    "price_diff_df_filtered_usdc['cow_chain_diff_percent'].hist(bins=100, label='cow_chain_diff_pct', alpha=.5)\n",
    "\n",
    "plt.title('cow price diffs (USDC)')\n",
    "plt.legend()\n",
    "plt.show();"
   ]
  },
  {
   "cell_type": "code",
   "execution_count": null,
   "metadata": {},
   "outputs": [],
   "source": [
    "# sum the percent rows\n",
    "weth_univ3_sum = price_diff_df_filtered_weth['cow_univ3_diff_percent'].sum()\n",
    "weth_chain_sum = price_diff_df_filtered_weth['cow_chain_diff_percent'].sum()\n",
    "\n",
    "# print the sums\n",
    "print(f\"weth_univ3_sum: {weth_univ3_sum}\")\n",
    "print(f\"weth_chain_sum: {weth_chain_sum}\")"
   ]
  },
  {
   "cell_type": "code",
   "execution_count": null,
   "metadata": {},
   "outputs": [],
   "source": [
    "# plot histograms of the percent differences\n",
    "price_diff_df_filtered_weth['cow_univ3_diff_percent'].hist(bins=100, label='cow_univ3_diff_percent', alpha=.5)\n",
    "price_diff_df_filtered_weth['cow_chain_diff_percent'].hist(bins=100, label='cow_chain_diff_pct', alpha=.5)\n",
    "\n",
    "plt.title('cow price diffs (WETH)')\n",
    "plt.legend()\n",
    "plt.show();"
   ]
  },
  {
   "cell_type": "code",
   "execution_count": null,
   "metadata": {},
   "outputs": [],
   "source": [
    "# plot the percent columns filtered data in same plot axis, add horizontal line at 0\n",
    "price_diff_df_filtered_usdc[['cow_univ3_diff_percent', 'cow_chain_diff_percent']].plot(figsize=(13,8), title='Cow vs Chainlink vs Uniswap V3 (buyToken=USDC)')\n",
    "plt.axhline(y=0, color='r', linestyle='-')\n",
    "price_diff_df_filtered_weth[['cow_univ3_diff_percent', 'cow_chain_diff_percent']].plot(figsize=(13,8), title='Cow vs Chainlink vs Uniswap V3 (buyToken=WETH)')\n",
    "plt.axhline(y=0, color='r', linestyle='-')"
   ]
  },
  {
   "cell_type": "code",
   "execution_count": null,
   "metadata": {},
   "outputs": [],
   "source": [
    "STOP"
   ]
  },
  {
   "cell_type": "code",
   "execution_count": null,
   "metadata": {},
   "outputs": [],
   "source": []
  },
  {
   "cell_type": "code",
   "execution_count": null,
   "metadata": {},
   "outputs": [],
   "source": []
  },
  {
   "cell_type": "code",
   "execution_count": null,
   "metadata": {},
   "outputs": [],
   "source": []
  },
  {
   "cell_type": "code",
   "execution_count": null,
   "metadata": {},
   "outputs": [],
   "source": []
  },
  {
   "attachments": {},
   "cell_type": "markdown",
   "metadata": {},
   "source": [
    "#### Plot Prices side by side (without ffill)"
   ]
  },
  {
   "cell_type": "code",
   "execution_count": null,
   "metadata": {},
   "outputs": [],
   "source": [
    "# cut the univ3_execution_prices_pd to begin when CoW Data begins\n",
    "univ3_execution_prices_pd = univ3_execution_prices_pd[univ3_execution_prices_pd.index >= cow_execution_prices_pd.index[0]]"
   ]
  },
  {
   "cell_type": "code",
   "execution_count": null,
   "metadata": {},
   "outputs": [],
   "source": [
    "# get the minimum index value for the Univ3 data as a sanity check. This is the starting block.\n",
    "univ3_execution_prices_pd[univ3_execution_prices_pd.index > cow_execution_prices_pd.index.min()]['swaps_amountIn_amountOut_ratio'].index.min()"
   ]
  },
  {
   "cell_type": "code",
   "execution_count": null,
   "metadata": {},
   "outputs": [],
   "source": [
    "# merge cow and univ3\n",
    "cow_univ3_execution_prices_pd = cow_execution_prices_pd.merge(univ3_execution_prices_pd, left_index=True, right_index=True, how='inner')\n",
    "cow_univ3_chain_execution_prices_pd = cow_univ3_execution_prices_pd.merge(chain_execution_prices_pd, left_index=True, right_index=True, how='inner')"
   ]
  },
  {
   "cell_type": "code",
   "execution_count": null,
   "metadata": {},
   "outputs": [],
   "source": [
    "cow_color = '#ff7f0e'\n",
    "univ3_color = '#1f77b4'\n",
    "chain_color = '#2ca02c'"
   ]
  },
  {
   "cell_type": "code",
   "execution_count": null,
   "metadata": {},
   "outputs": [],
   "source": [
    "plt.figure(figsize=(13,7))\n",
    "\n",
    "# emphasize CoW price points\n",
    "plt.scatter(cow_execution_prices_pd.index, cow_execution_prices_pd['trades_buy_sell_ratio'], color='blue', label='COW Data Points', marker=\"v\", s=10)\n",
    "\n",
    "# plot step prices of cow, univ3, and chain\n",
    "plt.step(univ3_execution_prices_pd.index, univ3_execution_prices_pd['swaps_amountIn_amountOut_ratio'], label='Univ3 ETH Price', color=univ3_color, linestyle='dashed', alpha=.5)\n",
    "plt.step(chain_execution_prices_pd.index, chain_execution_prices_pd['prices_price'], label='Chainlink ETH Price', color=chain_color, linestyle='dashed', linewidth=2, alpha=.5)\n",
    "\n",
    "\n",
    "plt.title('Cow vs Univ3 vs Chain ETH Price Comparisons')\n",
    "plt.xlabel('Timestamp')\n",
    "plt.ylabel('ETH Price')\n",
    "plt.legend(loc='best')\n",
    "plt.show();\n",
    "\n",
    "# print the shapes as f strings\n",
    "print(f\"cow_execution_prices_pd shape: {cow_execution_prices_pd.shape}\")\n",
    "print(f\"univ3_execution_prices_pd shape: {univ3_execution_prices_pd.shape}\")\n",
    "print(f\"chain_execution_prices_pd shape: {chain_execution_prices_pd.shape}\")"
   ]
  },
  {
   "cell_type": "code",
   "execution_count": null,
   "metadata": {},
   "outputs": [],
   "source": [
    "plt.figure(figsize=(13,7))\n",
    "\n",
    "# emphasize CoW price points\n",
    "plt.scatter(cow_univ3_execution_prices_pd.index, cow_univ3_execution_prices_pd['trades_buy_sell_ratio_x'], color='blue', label='COW Data Points', marker=\"v\", s=10)\n",
    "\n",
    "# plot step prices of cow, univ3, and chain\n",
    "plt.step(cow_univ3_execution_prices_pd.index, cow_univ3_execution_prices_pd['swaps_amountIn_amountOut_ratio_y'], label='Univ3 ETH Price', color=univ3_color, linestyle='dashed', alpha=.5)\n",
    "plt.step(cow_univ3_chain_execution_prices_pd.index, cow_univ3_chain_execution_prices_pd['prices_price_x'], label='Chainlink ETH Price', color=chain_color, linestyle='dashed', linewidth=2, alpha=.5)\n",
    "\n",
    "\n",
    "plt.title('Cow vs Univ3 vs Chain ETH Price Comparisons')\n",
    "plt.xlabel('Timestamp')\n",
    "plt.ylabel('ETH Price')\n",
    "plt.legend(loc='best')\n",
    "plt.show();\n",
    "\n",
    "\n",
    "# print the shapes as f strings\n",
    "print(f\"cow_univ3_execution_prices_pd shape: {cow_univ3_execution_prices_pd.shape}\")\n",
    "print(f\"cow_univ3_chain_execution_prices_pd shape: {cow_univ3_chain_execution_prices_pd.shape}\")"
   ]
  },
  {
   "cell_type": "code",
   "execution_count": null,
   "metadata": {},
   "outputs": [],
   "source": [
    "plt.figure(figsize=(13,7))\n",
    "\n",
    "# emphasize CoW price points\n",
    "plt.scatter(cow_execution_prices_pd.index, cow_execution_prices_pd['trades_buy_sell_ratio'], color='blue', label='COW Data Points', marker=\"v\", s=10)\n",
    "plt.step(cow_execution_prices_pd.index, cow_execution_prices_pd['trades_buy_sell_ratio'], color=cow_color, label='COW ETH Price', linewidth=2)\n",
    "plt.step(univ3_execution_prices_pd.index, univ3_execution_prices_pd['swaps_amountIn_amountOut_ratio'], label='Univ3 ETH Price', color=univ3_color, linestyle='dashed', alpha=.5)\n",
    "# plt.step(chain_execution_prices_pd.index, chain_execution_prices_pd['prices_price'], label='Chainlink ETH Price', color='green', linestyle='dashed', linewidth=2, alpha=.5)\n",
    "\n",
    "\n",
    "plt.title('Cow vs Univ3 ETH Price Comparisons')\n",
    "plt.xlabel('Timestamp')\n",
    "plt.ylabel('ETH Price')\n",
    "plt.legend(loc='best')\n",
    "plt.show();"
   ]
  },
  {
   "cell_type": "code",
   "execution_count": null,
   "metadata": {},
   "outputs": [],
   "source": [
    "plt.figure(figsize=(13,7))\n",
    "\n",
    "# emphasize CoW price points\n",
    "plt.scatter(cow_execution_prices_pd.index, cow_execution_prices_pd['trades_buy_sell_ratio'], color='blue', label='COW Data Points', marker=\"v\", s=10)\n",
    "plt.step(cow_execution_prices_pd.index, cow_execution_prices_pd['trades_buy_sell_ratio'], color=cow_color, label='COW ETH Price', linewidth=2)\n",
    "plt.step(chain_execution_prices_pd.index, chain_execution_prices_pd['prices_price'], label='Chainlink ETH Price', color=chain_color, linestyle='dashed', linewidth=2, alpha=.9)\n",
    "\n",
    "\n",
    "plt.title('Cow vs Chain ETH Price Comparisons')\n",
    "plt.xlabel('Timestamp')\n",
    "plt.ylabel('ETH Price')\n",
    "plt.legend(loc='best')\n",
    "plt.show();"
   ]
  },
  {
   "cell_type": "code",
   "execution_count": null,
   "metadata": {},
   "outputs": [],
   "source": [
    "plt.figure(figsize=(13,5))\n",
    "# plot the above as a step plot and specify the colors 003664, 00203B\n",
    "plt.step(cow_univ3_execution_prices_pd.index, cow_univ3_execution_prices_pd['trades_buy_sell_ratio_x'], label='CoW ETH Price', color='#003664', linewidth=2, alpha=0.4)\n",
    "plt.step(cow_univ3_execution_prices_pd.index, cow_univ3_execution_prices_pd['swaps_amountIn_amountOut_ratio_y'], label='Univ3 ETH Price', color='#a34d4d', linestyle='dashed')\n",
    "\n",
    "plt.scatter(cow_univ3_execution_prices_pd.index, cow_univ3_execution_prices_pd['trades_buy_sell_ratio_x'], color='blue', label='COW Data Points', marker=\"v\", s=10)\n",
    "# plt.scatter(cow_univ3_execution_prices_pd.index, cow_univ3_execution_prices_pd['swaps_amountIn_amountOut_ratio_y'], color='blue', marker=\"^\", s=5)\n",
    "\n",
    "\n",
    "plt.title('Cow ETH vs Uniswap V3 ETH')\n",
    "plt.legend()\n",
    "plt.show();"
   ]
  },
  {
   "cell_type": "code",
   "execution_count": null,
   "metadata": {},
   "outputs": [],
   "source": [
    "# plot histogram distributions of the above and normalize the values\n",
    "plt.figure(figsize=(13,5))\n",
    "plt.hist(cow_execution_prices_pd['trades_buy_sell_ratio'], bins=100, label='CoW ETH Price', color=cow_color, alpha=0.7)\n",
    "plt.hist(univ3_execution_prices_pd['swaps_amountIn_amountOut_ratio'], bins=100, label='Univ3 ETH Price', color=univ3_color, alpha=0.6)\n",
    "plt.hist(chain_execution_prices_pd['prices_price'], bins=100, label='Chainlink ETH Price', color=chain_color, alpha=0.6)\n",
    "\n",
    "plt.title('Cow vs Univ3 vs Chain ETH Price')\n",
    "plt.xlabel('ETH Price')\n",
    "plt.ylabel('Count')\n",
    "plt.legend()\n",
    "plt.show();"
   ]
  },
  {
   "cell_type": "code",
   "execution_count": null,
   "metadata": {},
   "outputs": [],
   "source": [
    "# count how many points are plotted\n",
    "cow_univ3_execution_prices_pd['trades_buy_sell_ratio_x'].count()"
   ]
  },
  {
   "cell_type": "code",
   "execution_count": null,
   "metadata": {},
   "outputs": [],
   "source": []
  },
  {
   "cell_type": "code",
   "execution_count": null,
   "metadata": {},
   "outputs": [],
   "source": []
  },
  {
   "cell_type": "code",
   "execution_count": null,
   "metadata": {},
   "outputs": [],
   "source": []
  },
  {
   "cell_type": "code",
   "execution_count": null,
   "metadata": {},
   "outputs": [],
   "source": []
  },
  {
   "cell_type": "code",
   "execution_count": null,
   "metadata": {},
   "outputs": [],
   "source": []
  },
  {
   "cell_type": "code",
   "execution_count": null,
   "metadata": {},
   "outputs": [],
   "source": []
  },
  {
   "cell_type": "code",
   "execution_count": null,
   "metadata": {},
   "outputs": [],
   "source": []
  },
  {
   "cell_type": "code",
   "execution_count": null,
   "metadata": {},
   "outputs": [],
   "source": []
  },
  {
   "attachments": {},
   "cell_type": "markdown",
   "metadata": {},
   "source": [
    "### OLD"
   ]
  },
  {
   "cell_type": "code",
   "execution_count": null,
   "metadata": {},
   "outputs": [],
   "source": [
    "# get the rows that have 0 null values. This leaves us with the cow/univ3 trades that were executed on the same timestamp.\n",
    "cow_uni_trunc_no_nulls_pl = cow_uni_trunc_pl.drop_nulls()"
   ]
  },
  {
   "cell_type": "code",
   "execution_count": null,
   "metadata": {},
   "outputs": [],
   "source": [
    "# check shape.\n",
    "cow_uni_trunc_no_nulls_pl.shape"
   ]
  },
  {
   "cell_type": "code",
   "execution_count": null,
   "metadata": {},
   "outputs": [],
   "source": [
    "# drop duplicate row values polars dataframe. Note - Unsure why duplicates get inserted into the dataframe during the transformation\n",
    "cow_uni_trunc_no_nulls_pl = cow_uni_trunc_no_nulls_pl.unique()"
   ]
  },
  {
   "cell_type": "code",
   "execution_count": null,
   "metadata": {},
   "outputs": [],
   "source": [
    "cow_uni_trunc_no_nulls_pl.shape"
   ]
  },
  {
   "cell_type": "code",
   "execution_count": null,
   "metadata": {},
   "outputs": [],
   "source": [
    "# how many values in trades_feeAmount are 0 polars series\n",
    "cow_uni_trunc_no_nulls_pl['trades_feeAmount'].eq(0).sum()"
   ]
  },
  {
   "cell_type": "code",
   "execution_count": null,
   "metadata": {},
   "outputs": [],
   "source": [
    "cow_uni_trunc_no_nulls_pl.head(15)"
   ]
  },
  {
   "attachments": {},
   "cell_type": "markdown",
   "metadata": {},
   "source": [
    "#### Add Decimal Values to data"
   ]
  },
  {
   "cell_type": "code",
   "execution_count": null,
   "metadata": {},
   "outputs": [],
   "source": [
    "# add decimals to cow trades sell tokens\n",
    "cow_uni_trunc_no_nulls_pl = cow_uni_trunc_no_nulls_pl.with_columns(\n",
    "    [\n",
    "        pl.col('trades_sellToken_id'),\n",
    "        (\n",
    "            pl.when(pl.col('trades_sellToken_id') == 'WETH')\n",
    "            .then(18)\n",
    "            .otherwise(6)\n",
    "            .cast(pl.UInt8)\n",
    "        ).alias('trades_sellToken_decimals'),\n",
    "    ]\n",
    ")\n",
    "\n",
    "# add decimals to cow trades buy tokens\n",
    "cow_uni_trunc_no_nulls_pl = cow_uni_trunc_no_nulls_pl.with_columns(\n",
    "    [\n",
    "        pl.col('trades_buyToken_id'),\n",
    "        (\n",
    "            pl.when(pl.col('trades_buyToken_id') == 'WETH')\n",
    "            .then(18)\n",
    "            .otherwise(6)\n",
    "            .cast(pl.UInt8)\n",
    "        ).alias('trades_buyToken_decimals'),\n",
    "    ]\n",
    ")"
   ]
  },
  {
   "cell_type": "code",
   "execution_count": null,
   "metadata": {},
   "outputs": [],
   "source": [
    "# add decimals to cow trades sell tokens\n",
    "cow_uni_trunc_no_nulls_pl = cow_uni_trunc_no_nulls_pl.with_columns(\n",
    "    [\n",
    "        pl.col('swaps_tokenIn_id'),\n",
    "        (\n",
    "            pl.when(pl.col('swaps_tokenIn_id') == 'WETH')\n",
    "            .then(18)\n",
    "            .otherwise(6)\n",
    "            .cast(pl.UInt8)\n",
    "        ).alias('swaps_tokenIn_decimals'),\n",
    "    ]\n",
    ")\n",
    "\n",
    "# add decimals to cow trades buy tokens\n",
    "cow_uni_trunc_no_nulls_pl = cow_uni_trunc_no_nulls_pl.with_columns(\n",
    "    [\n",
    "        pl.col('swaps_tokenOut_id'),\n",
    "        (\n",
    "            pl.when(pl.col('swaps_tokenOut_id') == 'WETH')\n",
    "            .then(18)\n",
    "            .otherwise(6)\n",
    "            .cast(pl.UInt8)\n",
    "        ).alias('swaps_tokenOut_decimals'),\n",
    "    ]\n",
    ")"
   ]
  },
  {
   "cell_type": "code",
   "execution_count": null,
   "metadata": {},
   "outputs": [],
   "source": [
    "# note that polars can perform these calculations in-column. This means it can convert the values in place without creating a new column. The new column created here is more verbose, but is a good sanity check to see before/after results.\n",
    "trades_swaps_converted_pl = cow_uni_trunc_no_nulls_pl.with_columns([\n",
    "    (pl.col(\"trades_buyAmount\") / (10**pl.col(\"trades_buyToken_decimals\"))).alias('trades_buyAmount_converted'),\n",
    "    (pl.col(\"trades_sellAmount\") / (10**pl.col(\"trades_sellToken_decimals\"))).alias('trades_sellAmount_converted'),\n",
    "    (pl.col(\"swaps_amountIn\") / (10**pl.col(\"swaps_tokenIn_decimals\"))).alias('swaps_amountIn_converted'),\n",
    "    (pl.col(\"swaps_amountOut\") / (10**pl.col(\"swaps_tokenOut_decimals\"))).alias('swaps_amountOut_converted'),\n",
    "])"
   ]
  },
  {
   "cell_type": "code",
   "execution_count": null,
   "metadata": {},
   "outputs": [],
   "source": [
    "# check that the decimal columns and conversion columns were added\n",
    "trades_swaps_converted_pl.columns"
   ]
  },
  {
   "cell_type": "code",
   "execution_count": null,
   "metadata": {},
   "outputs": [],
   "source": [
    "trades_swaps_converted_trunc_pl = trades_swaps_converted_pl[\n",
    "    'trades_timestamp',\n",
    "    'swaps_blockNumber',\n",
    "    'trades_sellToken_id',\n",
    "    'trades_buyToken_id',\n",
    "    'trades_sellAmount_converted',\n",
    "    'trades_buyAmount_converted',\n",
    "    'name',\n",
    "    'environment',\n",
    "    'swaps_pool_id',\n",
    "    'swaps_tokenIn_id',\n",
    "    'swaps_tokenOut_id',\n",
    "    'swaps_amountIn_converted',\n",
    "    'swaps_amountOut_converted',\n",
    "]"
   ]
  },
  {
   "attachments": {},
   "cell_type": "markdown",
   "metadata": {},
   "source": [
    "### Add Execution Price Columns \"x/y\" and \"y/x\""
   ]
  },
  {
   "attachments": {},
   "cell_type": "markdown",
   "metadata": {},
   "source": [
    "We calculate execution prices for cow trades and univ3 swaps. Then we take the timestamp with the most number of executions and compare the execution prices."
   ]
  },
  {
   "cell_type": "code",
   "execution_count": null,
   "metadata": {},
   "outputs": [],
   "source": [
    "trades_swaps_converted_trunc_pl = trades_swaps_converted_trunc_pl.with_columns([\n",
    "    (pl.col(\"trades_buyAmount_converted\") / pl.col(\"trades_sellAmount_converted\")).alias('trades_buy_sell_ratio'),\n",
    "    (pl.col(\"trades_sellAmount_converted\") / pl.col(\"trades_buyAmount_converted\")).alias('trades_sell_buy_ratio'),\n",
    "    (pl.col(\"swaps_amountIn_converted\") / pl.col(\"swaps_amountOut_converted\")).alias('swaps_amountIn_amountOut_ratio'),\n",
    "    (pl.col(\"swaps_amountOut_converted\") / pl.col(\"swaps_amountIn_converted\")).alias('swaps_amountOut_amountIn_ratio'),\n",
    "])"
   ]
  },
  {
   "cell_type": "code",
   "execution_count": null,
   "metadata": {},
   "outputs": [],
   "source": [
    "# plot Cow ETH price vs Univ3 ETH price\n",
    "trades_swaps_converted_trunc_pl.head(5)\n"
   ]
  },
  {
   "cell_type": "code",
   "execution_count": null,
   "metadata": {},
   "outputs": [],
   "source": [
    "# filter for the columns trades_timestamp, swaps_blockNumber, trades_buy_sell_ratio, trades_sell_buy_ratio, swaps_amountIn_amountOut_ratio, swaps_amountOut_amountIn_ratio\n",
    "execution_prices_pl = trades_swaps_converted_trunc_pl[\n",
    "    'trades_timestamp',\n",
    "    'swaps_blockNumber',\n",
    "    'trades_buy_sell_ratio',\n",
    "    'trades_sell_buy_ratio',\n",
    "    'swaps_amountIn_amountOut_ratio',\n",
    "    'swaps_amountOut_amountIn_ratio',\n",
    "]"
   ]
  },
  {
   "cell_type": "code",
   "execution_count": null,
   "metadata": {},
   "outputs": [],
   "source": [
    "# return the larger value between trades_buy_sell_ratio and trades_sell_buy_ratio in a lambda function\n",
    "execution_prices_pl = execution_prices_pl.with_columns([\n",
    "    (pl.col(\"trades_buy_sell_ratio\").apply(lambda x: x if x > 1 else 1/x)).alias('trades_buy_sell_ratio'),\n",
    "    (pl.col(\"trades_sell_buy_ratio\").apply(lambda x: x if x > 1 else 1/x)).alias('trades_sell_buy_ratio'),\n",
    "    (pl.col(\"swaps_amountIn_amountOut_ratio\").apply(lambda x: x if x > 1 else 1/x)).alias('swaps_amountIn_amountOut_ratio'),\n",
    "    (pl.col(\"swaps_amountOut_amountIn_ratio\").apply(lambda x: x if x > 1 else 1/x)).alias('swaps_amountOut_amountIn_ratio'),\n",
    "])"
   ]
  },
  {
   "cell_type": "code",
   "execution_count": null,
   "metadata": {},
   "outputs": [],
   "source": [
    "# convert execution_prices_pl to pandas dataframe\n",
    "execution_prices_pd = execution_prices_pl.to_pandas()"
   ]
  },
  {
   "cell_type": "code",
   "execution_count": null,
   "metadata": {},
   "outputs": [],
   "source": [
    "execution_prices_pd.head(5)"
   ]
  },
  {
   "cell_type": "code",
   "execution_count": null,
   "metadata": {},
   "outputs": [],
   "source": [
    "# set trades_timestamp as index and order by trades_timestamp\n",
    "execution_prices_pd = execution_prices_pd.set_index('trades_timestamp').sort_index()"
   ]
  },
  {
   "cell_type": "code",
   "execution_count": null,
   "metadata": {},
   "outputs": [],
   "source": [
    "import matplotlib.pyplot as plt"
   ]
  },
  {
   "cell_type": "code",
   "execution_count": null,
   "metadata": {},
   "outputs": [],
   "source": [
    "# plot trades_buy_sell_ratio and swaps_amountIn_amountOut_ratio and change legend labels\n",
    "execution_prices_pd[['trades_buy_sell_ratio', 'swaps_amountIn_amountOut_ratio']].plot()\n",
    "\n",
    "# change legend labels\n",
    "plt.legend(['Cow ETH price', 'Univ3 ETH price'])"
   ]
  },
  {
   "attachments": {},
   "cell_type": "markdown",
   "metadata": {},
   "source": [
    "#### Largest Block Activity Analysis"
   ]
  },
  {
   "cell_type": "code",
   "execution_count": null,
   "metadata": {},
   "outputs": [],
   "source": [
    "# find the juiciest timestamp with the most amount of activity\n",
    "trades_swaps_converted_trunc_pl['trades_timestamp'].value_counts().sort('counts', reverse=True)"
   ]
  },
  {
   "cell_type": "code",
   "execution_count": null,
   "metadata": {},
   "outputs": [],
   "source": [
    "# get timestamp value with highest count\n",
    "biggest_timestamp_count = trades_swaps_converted_trunc_pl['trades_timestamp'].value_counts().sort('counts', reverse=True).head(1)"
   ]
  },
  {
   "cell_type": "code",
   "execution_count": null,
   "metadata": {},
   "outputs": [],
   "source": [
    "biggest_timestamp_count"
   ]
  },
  {
   "cell_type": "code",
   "execution_count": null,
   "metadata": {},
   "outputs": [],
   "source": [
    "biggest_timestamp_count_int = biggest_timestamp_count['trades_timestamp'].head(1).to_numpy()[0]"
   ]
  },
  {
   "cell_type": "code",
   "execution_count": null,
   "metadata": {},
   "outputs": [],
   "source": [
    "# filter poalrs dataframe by 1676823287 timestamp value\n",
    "filter_trades_swaps_pl = trades_swaps_converted_trunc_pl.filter(pl.col('trades_timestamp') == biggest_timestamp_count_int)"
   ]
  },
  {
   "cell_type": "code",
   "execution_count": null,
   "metadata": {},
   "outputs": [],
   "source": [
    "filter_trades_swaps_pl"
   ]
  },
  {
   "cell_type": "code",
   "execution_count": null,
   "metadata": {},
   "outputs": [],
   "source": [
    "print(f'At timestamp {biggest_timestamp_count_int}, there were {filter_trades_swaps_pl.shape[0]} trades and swaps.')\n",
    "\n",
    "print(f'\\\n",
    "Cow mean execution prices were {filter_trades_swaps_pl[\"trades_buy_sell_ratio\"].mean()} \\\n",
    "and {filter_trades_swaps_pl[\"trades_sell_buy_ratio\"].mean()} \\\n",
    "completed by solver {filter_trades_swaps_pl[\"name\"].head(1).to_numpy()[0]}')\n",
    "\n",
    "print(f'\\\n",
    "The Univ3 pool {filter_trades_swaps_pl[\"swaps_pool_id\"].head(1).to_numpy()[0]} mean execution price during this time was {filter_trades_swaps_pl[\"swaps_amountOut_amountIn_ratio\"].mean()} \\\n",
    "and {filter_trades_swaps_pl[\"swaps_amountIn_amountOut_ratio\"].mean()}')\n"
   ]
  },
  {
   "attachments": {},
   "cell_type": "markdown",
   "metadata": {},
   "source": [
    "### Save Dataset to Csv"
   ]
  },
  {
   "cell_type": "code",
   "execution_count": null,
   "metadata": {},
   "outputs": [],
   "source": [
    "# save cow_complete_pl to csv\n",
    "trades_swaps_converted_trunc_pl.write_csv('data/trades_swaps_converted_trunc_pl.csv')"
   ]
  }
 ],
 "metadata": {
  "kernelspec": {
   "display_name": "Python 3",
   "language": "python",
   "name": "python3"
  },
  "language_info": {
   "codemirror_mode": {
    "name": "ipython",
    "version": 3
   },
   "file_extension": ".py",
   "mimetype": "text/x-python",
   "name": "python",
   "nbconvert_exporter": "python",
   "pygments_lexer": "ipython3",
   "version": "3.10.6"
  },
  "orig_nbformat": 4,
  "vscode": {
   "interpreter": {
    "hash": "e7370f93d1d0cde622a1f8e1c04877d8463912d04d973331ad4851f04de6915a"
   }
  }
 },
 "nbformat": 4,
 "nbformat_minor": 2
}
