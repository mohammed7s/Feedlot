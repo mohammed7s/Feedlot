{
 "cells": [
  {
   "cell_type": "code",
   "execution_count": null,
   "id": "3bcdd455",
   "metadata": {},
   "outputs": [],
   "source": [
    "from pool import AMMPool, AMMPoolHistory, CPMM"
   ]
  },
  {
   "cell_type": "code",
   "execution_count": null,
   "id": "d93f3a9b",
   "metadata": {},
   "outputs": [],
   "source": [
    "import pandas as pd \n",
    "import matplotlib as mpl\n",
    "from matplotlib import pyplot as plt"
   ]
  },
  {
   "cell_type": "code",
   "execution_count": null,
   "id": "b9044b11",
   "metadata": {},
   "outputs": [],
   "source": [
    "import sysconfig\n",
    "print(sysconfig.get_python_version())"
   ]
  },
  {
   "cell_type": "markdown",
   "id": "03bf027c",
   "metadata": {},
   "source": [
    "**Define Pools to study and initialize**"
   ]
  },
  {
   "cell_type": "code",
   "execution_count": null,
   "id": "ae1530f1",
   "metadata": {},
   "outputs": [],
   "source": [
    "# Define token0=USDC and token1=WETH\n",
    "token0 = '0xa0b86991c6218b36c1d19d4a2e9eb0ce3606eb48'\n",
    "token1 = '0xc02aaa39b223fe8d0a0e5c4f27ead9083c756cc2'"
   ]
  },
  {
   "cell_type": "markdown",
   "id": "32474122",
   "metadata": {},
   "source": [
    "**Get Uni trades stream**  "
   ]
  },
  {
   "cell_type": "code",
   "execution_count": null,
   "id": "1b5ada93",
   "metadata": {},
   "outputs": [],
   "source": [
    "from datastreams.datastream import Streamer\n",
    "\n",
    "query_size = 10000\n",
    "\n",
    "# instantiate Streamer object. \n",
    "# Note - unlike the cow queries, univ3 does not require multiple streamer instantations because the swaps field path is reset each iteration. \n",
    "# If the Cow queries were updated to use the same method, we could use the same streamer object for all queries.\n",
    "univ3_ds = Streamer('https://api.thegraph.com/subgraphs/name/messari/uniswap-v3-ethereum')\n",
    "\n",
    "# get a query field path from the query dictionary which is automatically populated in the Streamer object\n",
    "uni_swaps_fp = univ3_ds.queryDict.get('swaps')\n",
    "\n",
    "# define query path and parameters \n",
    "uni_swaps_qp = uni_swaps_fp(\n",
    "        first=query_size, \n",
    "        orderBy='timestamp',\n",
    "        orderDirection='asc',\n",
    "        where = {'timestamp_gt':1643673600, 'pool': '0x8ad599c3a0ff1de082011efddc58f1908eb6e6d8'} \n",
    "        )\n",
    "\n",
    "# run query\n",
    "uni_swaps_df = univ3_ds.runQuery(uni_swaps_qp)"
   ]
  },
  {
   "cell_type": "code",
   "execution_count": null,
   "id": "c9803b1e",
   "metadata": {},
   "outputs": [],
   "source": [
    "uni_swaps_df.dtypes"
   ]
  },
  {
   "cell_type": "code",
   "execution_count": null,
   "id": "9e0c61f5",
   "metadata": {
    "scrolled": true
   },
   "outputs": [],
   "source": [
    "uni_swaps_df.head(5)"
   ]
  },
  {
   "cell_type": "code",
   "execution_count": null,
   "id": "e646361c",
   "metadata": {},
   "outputs": [],
   "source": [
    "# Find the first and last value in the timestamp column\n",
    "first_timestamp_uni = uni_swaps_df['swaps_timestamp'].min()\n",
    "last_timestamp_uni = uni_swaps_df['swaps_timestamp'].max()\n",
    "print(first_timestamp_uni, last_timestamp_uni)"
   ]
  },
  {
   "cell_type": "markdown",
   "id": "11e78b58",
   "metadata": {},
   "source": [
    "**get chainlink pricing to value pools**"
   ]
  },
  {
   "cell_type": "code",
   "execution_count": null,
   "id": "1d786c15",
   "metadata": {},
   "outputs": [],
   "source": [
    "# load streamer class\n",
    "chain_ds = Streamer('https://api.thegraph.com/subgraphs/name/openpredict/chainlink-prices-subgraph')\n",
    "chain_price_feed = \"ETH/USD\"\n",
    "chain_dfs_list = []"
   ]
  },
  {
   "cell_type": "code",
   "execution_count": null,
   "id": "b92113b8",
   "metadata": {},
   "outputs": [],
   "source": [
    "# get a query field path from the query dictionary which is automatically populated in the Streamer object\n",
    "chain_fp = chain_ds.queryDict.get('prices')\n",
    "\n",
    "# add parameters to the settlements_qp.\n",
    "chain_qp = chain_fp(\n",
    "    first= 10000,\n",
    "    orderBy='timestamp',\n",
    "    orderDirection='asc',\n",
    "    where = {'timestamp_gt':1643673600, 'assetPair': chain_price_feed}\n",
    "    )\n",
    "\n",
    "# run query\n",
    "chain_df = chain_ds.runQuery(chain_qp)"
   ]
  },
  {
   "cell_type": "code",
   "execution_count": null,
   "id": "bb20f44c",
   "metadata": {},
   "outputs": [],
   "source": [
    "# drop prices_id, endpoint. \n",
    "chain_df = chain_df.drop(['prices_id', 'endpoint'], axis=1)\n",
    "# divide prices_price by 1e8 to get the price in USD\n",
    "chain_df['prices_price'] = chain_df['prices_price'] / 10 ** 8"
   ]
  },
  {
   "cell_type": "code",
   "execution_count": null,
   "id": "99961793",
   "metadata": {},
   "outputs": [],
   "source": [
    "chain_df.shape"
   ]
  },
  {
   "cell_type": "code",
   "execution_count": null,
   "id": "8610213e",
   "metadata": {},
   "outputs": [],
   "source": [
    "chain_df.head(5)"
   ]
  },
  {
   "cell_type": "code",
   "execution_count": null,
   "id": "0ac0992e",
   "metadata": {},
   "outputs": [],
   "source": [
    "print(chain_df.columns) "
   ]
  },
  {
   "cell_type": "code",
   "execution_count": null,
   "id": "6e6ef086",
   "metadata": {},
   "outputs": [],
   "source": [
    "# Find the first and last value in the timestamp column\n",
    "first_timestamp = chain_df['prices_timestamp'].min()\n",
    "last_timestamp = chain_df['prices_timestamp'].max()\n",
    "print(first_timestamp, last_timestamp)"
   ]
  },
  {
   "cell_type": "code",
   "execution_count": null,
   "id": "081989f7",
   "metadata": {},
   "outputs": [],
   "source": [
    "timestamps = pd.DataFrame({'prices_timestamp': range(first_timestamp, last_timestamp + 1)})"
   ]
  },
  {
   "cell_type": "code",
   "execution_count": null,
   "id": "fc49c3d1",
   "metadata": {},
   "outputs": [],
   "source": [
    "timestamps.shape"
   ]
  },
  {
   "cell_type": "code",
   "execution_count": null,
   "id": "abb6c997",
   "metadata": {},
   "outputs": [],
   "source": [
    "chain_df = pd.merge(timestamps, chain_df, on='prices_timestamp', how='left')"
   ]
  },
  {
   "cell_type": "code",
   "execution_count": null,
   "id": "cb2ee23d",
   "metadata": {},
   "outputs": [],
   "source": [
    "chain_df.head(5)"
   ]
  },
  {
   "cell_type": "code",
   "execution_count": null,
   "id": "c1b75672",
   "metadata": {},
   "outputs": [],
   "source": [
    "# Forward-fill missing values\n",
    "chain_df.fillna(method='ffill', inplace=True)\n",
    "print(chain_df.shape)\n",
    "chain_df"
   ]
  },
  {
   "cell_type": "markdown",
   "id": "5551c4b6",
   "metadata": {},
   "source": [
    "**get initialization price**"
   ]
  },
  {
   "cell_type": "code",
   "execution_count": null,
   "id": "b926e9ac",
   "metadata": {},
   "outputs": [],
   "source": [
    "first_timestamp_uni"
   ]
  },
  {
   "cell_type": "code",
   "execution_count": null,
   "id": "5048ee5c",
   "metadata": {
    "scrolled": false
   },
   "outputs": [],
   "source": [
    "# chainlink at first_timestamp of uni trades:\n",
    "initialization_df = chain_df[chain_df[\"prices_timestamp\"] == first_timestamp]\n",
    "initilizatioin_price = initialization_df.iloc[0,2]\n",
    "initilizatioin_price"
   ]
  },
  {
   "cell_type": "code",
   "execution_count": null,
   "id": "819116e9",
   "metadata": {},
   "outputs": [],
   "source": [
    "USDC_reserves_USD = 10000000000\n",
    "\n",
    "\n",
    "token0_start = USDC_reserves_USD*10**6\n",
    "print(token0_start)\n",
    "token1_start = int(USDC_reserves_USD/initilizatioin_price)*(10**9)\n",
    "print(token1_start)"
   ]
  },
  {
   "cell_type": "markdown",
   "id": "a5a217d7",
   "metadata": {},
   "source": [
    "**1.Simple AMM. SWAP ALL** "
   ]
  },
  {
   "cell_type": "code",
   "execution_count": null,
   "id": "4be0c1bc",
   "metadata": {},
   "outputs": [],
   "source": [
    "# Create an instance of AMMPoolHistory \n",
    "feedlot1 = AMMPoolHistory(token0_start, token1_start)\n",
    "# sanity check: should be USDC/WETH price\n",
    "print(feedlot1.reserves[0] / feedlot1.reserves[1] * (10**3) )"
   ]
  },
  {
   "cell_type": "code",
   "execution_count": null,
   "id": "88d0b21a",
   "metadata": {},
   "outputs": [],
   "source": [
    "# Instantiate the CPMM object with the AMMPool object\n",
    "cpmm = CPMM(pool=feedlot1)"
   ]
  },
  {
   "cell_type": "code",
   "execution_count": null,
   "id": "62c23b55",
   "metadata": {
    "scrolled": true
   },
   "outputs": [],
   "source": [
    "# Iterate through the rows of the dataframe\n",
    "for index, row in uni_swaps_df.iterrows():\n",
    "    # Determine if the swap is a buy or a sell\n",
    "    token_in = row['swaps_tokenIn_id']\n",
    "    token_out = row['swaps_tokenOut_id']\n",
    "    is_buy = token_in == token0 and token_out == token1\n",
    "    amt = row['swaps_amountIn']\n",
    "    \n",
    "    # Extract the amountIn, amountOut, and timestamp\n",
    "    if is_buy:\n",
    "        token = 0\n",
    "    else:\n",
    "        token = 1 \n",
    "        amt /= 1000000000 # adjust because we shaved off 9 decimals\n",
    "    ts = row['swaps_timestamp']\n",
    "    \n",
    "    # Run the swap function on the AMM pool\n",
    "    cpmm.market_order_sell(amt,token,ts)"
   ]
  },
  {
   "cell_type": "code",
   "execution_count": null,
   "id": "68c99f9e",
   "metadata": {},
   "outputs": [],
   "source": [
    "results1 = pd.DataFrame(feedlot1.history)"
   ]
  },
  {
   "cell_type": "code",
   "execution_count": null,
   "id": "a19b76fa",
   "metadata": {},
   "outputs": [],
   "source": [
    "prices=(results1[\"reserve0\"] / results1[\"reserve1\"]) * 1000\n",
    "prices"
   ]
  },
  {
   "cell_type": "code",
   "execution_count": null,
   "id": "98d93220",
   "metadata": {},
   "outputs": [],
   "source": [
    "ax0 =results1[\"reserve0\"].plot()\n",
    "ax1 = ax0.twinx()\n",
    "ax1 =results1[\"reserve1\"].plot()"
   ]
  },
  {
   "cell_type": "code",
   "execution_count": null,
   "id": "a93c2058",
   "metadata": {},
   "outputs": [],
   "source": [
    "merged1_df = pd.merge(results1, chain_df, left_on='ts', right_on='prices_timestamp')\n",
    "merged1_df.rename(columns={'prices_price': 'chainlink_price'}, inplace=True)"
   ]
  },
  {
   "cell_type": "code",
   "execution_count": null,
   "id": "4a139ea2",
   "metadata": {},
   "outputs": [],
   "source": [
    "merged1_df"
   ]
  },
  {
   "cell_type": "code",
   "execution_count": null,
   "id": "7cfd70a0",
   "metadata": {},
   "outputs": [],
   "source": [
    "merged1_df['value'] = (merged1_df['reserve1']*merged1_df['chainlink_price']/(10**18)) + merged1_df['reserve0']/(10**18)"
   ]
  },
  {
   "cell_type": "code",
   "execution_count": null,
   "id": "864e4b30",
   "metadata": {
    "scrolled": true
   },
   "outputs": [],
   "source": [
    "merged1_df"
   ]
  },
  {
   "cell_type": "code",
   "execution_count": null,
   "id": "e779133d",
   "metadata": {
    "scrolled": true
   },
   "outputs": [],
   "source": [
    "merged1_df.isna().sum()"
   ]
  },
  {
   "cell_type": "code",
   "execution_count": null,
   "id": "28bf57b8",
   "metadata": {
    "scrolled": true
   },
   "outputs": [],
   "source": [
    "import matplotlib.pyplot as plt\n",
    "\n",
    "fig, ax = plt.subplots()\n",
    "ax.plot(merged1_df['ts'], merged1_df['value'])\n",
    "ax.set_title('Value vs. Timestamp')\n",
    "ax.set_xlabel('Timestamp')\n",
    "ax.set_ylabel('Value')\n",
    "#fig.savefig('value_vs_timestamp.png', dpi=300)\n"
   ]
  },
  {
   "cell_type": "code",
   "execution_count": null,
   "id": "8f40cc43",
   "metadata": {},
   "outputs": [],
   "source": [
    "fig, ax = plt.subplots()\n",
    "ax.plot(merged1_df['ts'], merged1_df['reserve0'])\n",
    "ax.set_title('CPMM reserves0')\n",
    "ax.set_xlabel('Timestamp')\n",
    "ax.set_ylabel('Value')\n",
    "#fig.savefig('value_vs_timestamp.png', dpi=300)"
   ]
  },
  {
   "cell_type": "code",
   "execution_count": null,
   "id": "569a6260",
   "metadata": {},
   "outputs": [],
   "source": [
    "fig, ax = plt.subplots()\n",
    "ax.plot(merged1_df['ts'], merged1_df['reserve1'])\n",
    "ax.set_title('CPMM reserves1')\n",
    "ax.set_xlabel('Timestamp')\n",
    "ax.set_ylabel('Value')\n",
    "#fig.savefig('value_vs_timestamp.png', dpi=300)"
   ]
  },
  {
   "cell_type": "code",
   "execution_count": null,
   "id": "dad34293",
   "metadata": {},
   "outputs": [],
   "source": [
    "import matplotlib.pyplot as plt\n",
    "\n",
    "# Assume that df is your dataframe with three columns: time, col1, and col2\n",
    "\n",
    "# Create a new figure and axis\n",
    "fig, ax = plt.subplots()\n",
    "\n",
    "# Plot col1 on the first y-axis\n",
    "ax.plot(merged1_df[\"ts\"], merged1_df[\"reserve0\"], label=\"reserve0\")\n",
    "\n",
    "# Create a second y-axis on the right-hand side\n",
    "ax2 = ax.twinx()\n",
    "\n",
    "# Plot col2 on the second y-axis\n",
    "ax2.plot(merged1_df[\"ts\"], merged1_df[\"reserve1\"], color=\"orange\", label=\"col2\")\n",
    "\n",
    "# Add legends and axis labels\n",
    "ax.set_xlabel(\"Timestamp\")\n",
    "ax.set_ylabel(\"reserve0\")\n",
    "ax2.set_ylabel(\"reserve1\")\n",
    "ax.legend(loc=\"upper left\")\n",
    "ax2.legend(loc=\"upper right\")\n",
    "\n",
    "# Show the plot\n",
    "plt.show()\n"
   ]
  },
  {
   "cell_type": "code",
   "execution_count": null,
   "id": "4c776f00",
   "metadata": {},
   "outputs": [],
   "source": []
  },
  {
   "cell_type": "code",
   "execution_count": null,
   "id": "778a2525",
   "metadata": {},
   "outputs": [],
   "source": []
  },
  {
   "cell_type": "markdown",
   "id": "b74bf192",
   "metadata": {},
   "source": [
    "**OraclePool AMM**"
   ]
  },
  {
   "cell_type": "markdown",
   "id": "fda967d0",
   "metadata": {},
   "source": [
    "**get cow trades for oracle pricing** "
   ]
  },
  {
   "cell_type": "code",
   "execution_count": null,
   "id": "644aed11",
   "metadata": {},
   "outputs": [],
   "source": [
    "cow_ds = Streamer('https://api.thegraph.com/subgraphs/name/cowprotocol/cow')\n",
    "\n",
    "# get COW trades \n",
    "\n",
    "trades_fp = cow_ds.queryDict.get('trades')\n",
    "\n",
    "# trades query path that gets token a -> token b trades\n",
    "trades_qp = trades_fp(\n",
    "    first=10000,\n",
    "    orderBy='timestamp',\n",
    "    orderDirection='asc',\n",
    "    where={'timestamp_gt':1643673600, 'sellToken':'0xa0b86991c6218b36c1d19d4a2e9eb0ce3606eb48',\n",
    "           'buyToken':'0xc02aaa39b223fe8d0a0e5c4f27ead9083c756cc2'\n",
    "    }\n",
    ")\n",
    "\n",
    "# run query\n",
    "trades_df = cow_ds.runQuery(trades_qp)"
   ]
  },
  {
   "cell_type": "code",
   "execution_count": null,
   "id": "508ba36c",
   "metadata": {},
   "outputs": [],
   "source": [
    "trades_df.shape"
   ]
  },
  {
   "cell_type": "code",
   "execution_count": null,
   "id": "5ddae420",
   "metadata": {},
   "outputs": [],
   "source": [
    "trades_df.head(5)"
   ]
  },
  {
   "cell_type": "code",
   "execution_count": null,
   "id": "40fb401e",
   "metadata": {},
   "outputs": [],
   "source": [
    "# Set query size large enough to retrieve all tokens in the graph\n",
    "query_size = 10000\n",
    "\n",
    "token_fp = cow_ds.queryDict.get('tokens')\n",
    "\n",
    "# add parameters to the settlements_qp.\n",
    "token_qp = token_fp(\n",
    "    first=query_size,\n",
    ")\n",
    "\n",
    "# run query\n",
    "token_df = cow_ds.runQuery(token_qp)\n"
   ]
  },
  {
   "cell_type": "code",
   "execution_count": null,
   "id": "aa19a2f4",
   "metadata": {},
   "outputs": [],
   "source": [
    "token_df.shape"
   ]
  },
  {
   "cell_type": "code",
   "execution_count": null,
   "id": "27518058",
   "metadata": {},
   "outputs": [],
   "source": [
    "# Merge1 on sell token address.  x = sell token \n",
    "\n",
    "merged_df = pd.merge(trades_df, token_df, left_on='trades_sellToken_id', right_on='tokens_address')\n",
    "\n",
    "merged_df.shape"
   ]
  },
  {
   "cell_type": "code",
   "execution_count": null,
   "id": "79d1b0e0",
   "metadata": {},
   "outputs": [],
   "source": [
    "# Merge2 on buy token address.  y = buy token \n",
    "cow_df = pd.merge(merged_df, token_df, left_on='trades_buyToken_id', right_on='tokens_address')\n",
    "\n",
    "cow_df.shape"
   ]
  },
  {
   "cell_type": "code",
   "execution_count": null,
   "id": "dda2c7fc",
   "metadata": {},
   "outputs": [],
   "source": [
    "cow_df.dtypes"
   ]
  },
  {
   "cell_type": "code",
   "execution_count": null,
   "id": "6a1c12fb",
   "metadata": {},
   "outputs": [],
   "source": [
    "# calculate buy and sell amounts from the correct decimal \n",
    "cow_df['sell_amount'] = cow_df.apply(lambda x: x['trades_sellAmount'] / (10**x['tokens_decimals_x']), axis=1)\n",
    "cow_df['buy_amount'] = cow_df.apply(lambda x: x['trades_buyAmount'] / (10**x['tokens_decimals_y']), axis=1)"
   ]
  },
  {
   "cell_type": "code",
   "execution_count": null,
   "id": "24316c4e",
   "metadata": {},
   "outputs": [],
   "source": [
    "# calculate COW price defined sell amount / buy amount\n",
    "cow_df['cow_price'] = cow_df['sell_amount'] / cow_df['buy_amount']"
   ]
  },
  {
   "cell_type": "code",
   "execution_count": null,
   "id": "4330122c",
   "metadata": {},
   "outputs": [],
   "source": [
    "cow_df"
   ]
  },
  {
   "cell_type": "code",
   "execution_count": null,
   "id": "5b0be4b4",
   "metadata": {},
   "outputs": [],
   "source": [
    "# Find the first and last value in the timestamp column\n",
    "first_timestamp_cow = chain_df['prices_timestamp'].min()\n",
    "last_timestamp_cow = chain_df['prices_timestamp'].max()"
   ]
  },
  {
   "cell_type": "code",
   "execution_count": null,
   "id": "df8dcbf1",
   "metadata": {},
   "outputs": [],
   "source": [
    "first_timestamp_cow"
   ]
  },
  {
   "cell_type": "code",
   "execution_count": null,
   "id": "8e90b0ba",
   "metadata": {},
   "outputs": [],
   "source": [
    "last_timestamp_cow"
   ]
  },
  {
   "cell_type": "code",
   "execution_count": null,
   "id": "50ada1e2",
   "metadata": {},
   "outputs": [],
   "source": [
    "oracle_dict = [{\"ts\": row[\"trades_timestamp\"], \"p\": row[\"cow_price\"]} for _, row in cow_df.iterrows()]"
   ]
  },
  {
   "cell_type": "code",
   "execution_count": null,
   "id": "4d338955",
   "metadata": {},
   "outputs": [],
   "source": [
    "oracle_dict"
   ]
  },
  {
   "cell_type": "raw",
   "id": "9e8e3cb0",
   "metadata": {},
   "source": []
  },
  {
   "cell_type": "code",
   "execution_count": null,
   "id": "4c2afdb8",
   "metadata": {},
   "outputs": [],
   "source": []
  },
  {
   "cell_type": "code",
   "execution_count": null,
   "id": "5d7de58a",
   "metadata": {},
   "outputs": [],
   "source": []
  },
  {
   "cell_type": "markdown",
   "id": "a7b3490b",
   "metadata": {},
   "source": [
    "**Oracle pool simulation**"
   ]
  },
  {
   "cell_type": "code",
   "execution_count": null,
   "id": "11797cac",
   "metadata": {},
   "outputs": [],
   "source": [
    "from pool import CPMM, AMMPool, SwapRejectedError, OraclePool"
   ]
  },
  {
   "cell_type": "code",
   "execution_count": null,
   "id": "69761b1f",
   "metadata": {},
   "outputs": [],
   "source": [
    "# Create an instance of AMMPoolHistory \n",
    "feedlot2 = AMMPoolHistory(token0_start, token1_start)"
   ]
  },
  {
   "cell_type": "code",
   "execution_count": null,
   "id": "774ffb47",
   "metadata": {
    "scrolled": true
   },
   "outputs": [],
   "source": [
    "feedlot3 = OraclePool(feedlot2, oracle_dict)"
   ]
  },
  {
   "cell_type": "code",
   "execution_count": null,
   "id": "9a737f0e",
   "metadata": {},
   "outputs": [],
   "source": [
    " # Iterate through the rows of the dataframe\n",
    "for index, row in uni_swaps_df.iterrows():\n",
    "    # Determine if the swap is a buy or a sell\n",
    "    token_in = row['swaps_tokenIn_id']\n",
    "    token_out = row['swaps_tokenOut_id']\n",
    "    is_buy = token_in == token0 and token_out == token1\n",
    "    amt = row['swaps_amountIn']\n",
    "    \n",
    "    # Extract the amountIn, amountOut, and timestamp\n",
    "    if is_buy:\n",
    "        token = 0\n",
    "    else:\n",
    "        token = 1 \n",
    "    ts = row['swaps_timestamp']\n",
    "    \n",
    "    print('token', token)\n",
    "    print('amt', amt)\n",
    "    print('amt',amt/10**18)\n",
    "    print('token_in', token_in)\n",
    "    print('ts', ts)\n",
    "    \n",
    "    # Run the swap function on the AMM pool\n",
    "    feedlot3.market_order_sell(amt,token,ts)"
   ]
  },
  {
   "cell_type": "code",
   "execution_count": null,
   "id": "2c2ca9a7",
   "metadata": {},
   "outputs": [],
   "source": [
    "results2 = pd.DataFrame(feedlot2.history)"
   ]
  },
  {
   "cell_type": "code",
   "execution_count": null,
   "id": "3aca02d4",
   "metadata": {},
   "outputs": [],
   "source": [
    "results2.shape"
   ]
  },
  {
   "cell_type": "code",
   "execution_count": null,
   "id": "eef78304",
   "metadata": {
    "scrolled": true
   },
   "outputs": [],
   "source": [
    "results2.head(5)"
   ]
  },
  {
   "cell_type": "code",
   "execution_count": null,
   "id": "576f4690",
   "metadata": {},
   "outputs": [],
   "source": [
    "merged2_df = pd.merge(results2, chain_df, left_on='ts', right_on='prices_timestamp')\n",
    "merged2_df.rename(columns={'prices_price': 'chainlink_price'}, inplace=True)"
   ]
  },
  {
   "cell_type": "code",
   "execution_count": null,
   "id": "42b9e6d1",
   "metadata": {},
   "outputs": [],
   "source": [
    "merged2_df['value'] = merged2_df['reserve1']*merged2_df['chainlink_price']/10**18 + merged2_df['reserve0']/10**18"
   ]
  },
  {
   "cell_type": "code",
   "execution_count": null,
   "id": "1b314d3b",
   "metadata": {},
   "outputs": [],
   "source": [
    "import matplotlib.pyplot as plt\n",
    "\n",
    "fig, ax = plt.subplots()\n",
    "ax.plot(merged2_df['ts'], merged2_df['value'])\n",
    "ax.set_title('Value vs. Timestamp')\n",
    "ax.set_xlabel('Timestamp')\n",
    "ax.set_ylabel('Value')\n",
    "#fig.savefig('value_vs_timestamp.png', dpi=300)"
   ]
  },
  {
   "cell_type": "code",
   "execution_count": null,
   "id": "6c498411",
   "metadata": {},
   "outputs": [],
   "source": [
    "# Assume that df is your dataframe with three columns: time, col1, and col2\n",
    "\n",
    "# Create a new figure and axis\n",
    "fig, ax = plt.subplots()\n",
    "\n",
    "# Plot col1 on the first y-axis\n",
    "ax.plot(merged2_df[\"ts\"], merged2_df[\"reserve0\"], label=\"reserve0\")\n",
    "\n",
    "# Create a second y-axis on the right-hand side\n",
    "ax2 = ax.twinx()\n",
    "\n",
    "# Plot col2 on the second y-axis\n",
    "ax2.plot(merged2_df[\"ts\"], merged2_df[\"reserve1\"], color=\"orange\", label=\"reserves1\")\n",
    "\n",
    "# Add legends and axis labels\n",
    "ax.set_xlabel(\"Timestamp\")\n",
    "ax.set_ylabel(\"reserve0\")\n",
    "ax2.set_ylabel(\"reserve1\")\n",
    "ax.legend(loc=\"upper left\")\n",
    "ax2.legend(loc=\"upper right\")\n",
    "\n",
    "# Show the plot\n",
    "plt.show()"
   ]
  },
  {
   "cell_type": "code",
   "execution_count": null,
   "id": "2bea677b",
   "metadata": {},
   "outputs": [],
   "source": []
  },
  {
   "cell_type": "code",
   "execution_count": null,
   "id": "72b7c185",
   "metadata": {},
   "outputs": [],
   "source": []
  },
  {
   "cell_type": "code",
   "execution_count": null,
   "id": "fa97974f",
   "metadata": {},
   "outputs": [],
   "source": []
  },
  {
   "cell_type": "code",
   "execution_count": null,
   "id": "cbd36647",
   "metadata": {},
   "outputs": [],
   "source": []
  }
 ],
 "metadata": {
  "kernelspec": {
   "display_name": "crungulus",
   "language": "python",
   "name": "crungulus"
  },
  "language_info": {
   "codemirror_mode": {
    "name": "ipython",
    "version": 3
   },
   "file_extension": ".py",
   "mimetype": "text/x-python",
   "name": "python",
   "nbconvert_exporter": "python",
   "pygments_lexer": "ipython3",
   "version": "3.10.7"
  }
 },
 "nbformat": 4,
 "nbformat_minor": 5
}
