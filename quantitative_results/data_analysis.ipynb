{
 "cells": [
  {
   "cell_type": "code",
   "execution_count": 1,
   "metadata": {},
   "outputs": [],
   "source": [
    "from datetime import datetime\n",
    "from sim.pool import AMMPoolHistory, CPMM, AMMWithBaulking, OraclePool\n",
    "import matplotlib.pyplot as plt\n",
    "\n",
    "import pandas as pd\n",
    "import polars as pl\n",
    "\n",
    "# These commands enlarge the column size of the dataframe so things like 0x... are not truncated\n",
    "pd.set_option('display.max_columns', None)\n",
    "pd.set_option('display.expand_frame_repr', False)\n",
    "pd.set_option('max_colwidth', None)"
   ]
  },
  {
   "cell_type": "markdown",
   "metadata": {},
   "source": [
    "# Data Analysis of Prices"
   ]
  },
  {
   "cell_type": "markdown",
   "metadata": {},
   "source": [
    "### Polars Preprocessing"
   ]
  },
  {
   "cell_type": "code",
   "execution_count": 2,
   "metadata": {},
   "outputs": [],
   "source": [
    "# load parquet file into polars dataframe polars dataframe\n",
    "cow_uni_chain_outer_pl = pl.read_parquet('data/cow_uni_chain_outer_pl_historical.parquet')"
   ]
  },
  {
   "cell_type": "code",
   "execution_count": 3,
   "metadata": {},
   "outputs": [
    {
     "data": {
      "text/plain": [
       "(527322, 23)"
      ]
     },
     "execution_count": 3,
     "metadata": {},
     "output_type": "execute_result"
    }
   ],
   "source": [
    "cow_uni_chain_outer_pl.shape"
   ]
  },
  {
   "cell_type": "code",
   "execution_count": null,
   "metadata": {},
   "outputs": [],
   "source": [
    "cow_uni_chain_outer_pl.select([\n",
    "    (pl.col(\"swaps_tokenOut_id\")).value_counts(),\n",
    "    (pl.col(\"trades_buyToken_id\")).value_counts(),\n",
    "]).rows()"
   ]
  },
  {
   "cell_type": "code",
   "execution_count": null,
   "metadata": {},
   "outputs": [],
   "source": [
    "# return the larger value between trades_buy_sell_ratio and trades_sell_buy_ratio in a lambda function. This serves as a column equalization function for trades_buy_sell_ratio and trades_sell_buy_ratio\n",
    "execution_prices_pl = cow_uni_chain_outer_pl.with_columns([\n",
    "    (pl.col(\"trades_buy_sell_ratio\").apply(lambda x: x if x > 1 else 1/x)).alias('trades_buy_sell_ratio'),\n",
    "    (pl.col(\"trades_sell_buy_ratio\").apply(lambda x: x if x > 1 else 1/x)).alias('trades_sell_buy_ratio'),\n",
    "    (pl.col(\"swaps_amountIn_amountOut_ratio\").apply(lambda x: x if x > 1 else 1/x)).alias('swaps_amountIn_amountOut_ratio'),\n",
    "    (pl.col(\"swaps_amountOut_amountIn_ratio\").apply(lambda x: x if x > 1 else 1/x)).alias('swaps_amountOut_amountIn_ratio'),\n",
    "])"
   ]
  },
  {
   "cell_type": "code",
   "execution_count": null,
   "metadata": {},
   "outputs": [],
   "source": [
    "# Add trade directionality flag.\n",
    "# we label the trade direction WETH -> USDC when WETH is in the CoW buy column and the UniV3 amountOut column. \n",
    "# Conversely, the USDC -> WETH direction is when USDC is in the CoW sell column and the Univ3 amountIn column.\n",
    "execution_prices_pl = execution_prices_pl.with_columns([\n",
    "    (pl.col(\"trades_buyToken_id\").apply(lambda x: True if x == 'WETH' else False)).alias('trades_buy_WETH'),\n",
    "    (pl.col(\"swaps_tokenOut_id\").apply(lambda x: True if x == 'WETH' else False)).alias('swaps_buy_WETH'),\n",
    "])"
   ]
  },
  {
   "cell_type": "code",
   "execution_count": null,
   "metadata": {},
   "outputs": [],
   "source": [
    "# match cow trades with univ3 swaps\n",
    "execution_prices_pl = execution_prices_pl.with_columns([\n",
    "    (pl.col(\"trades_buy_WETH\") & pl.col(\"swaps_buy_WETH\")).alias('buy_buy_WETH'), # cow buy/uni buy WETH\n",
    "    (~pl.col(\"trades_buy_WETH\") & ~pl.col(\"swaps_buy_WETH\")).alias('sell_sell_WETH'), # cow sell/uni sell WETH\n",
    "    (pl.col(\"trades_buy_WETH\") & ~pl.col(\"swaps_buy_WETH\")).alias('buy_sell_WETH'), # cow buy/uni sel WETH\n",
    "    (~pl.col(\"trades_buy_WETH\") & pl.col(\"swaps_buy_WETH\")).alias('sell_buy_WETH'), # cow sell/uni buy WETH\n",
    "])"
   ]
  },
  {
   "attachments": {},
   "cell_type": "markdown",
   "metadata": {},
   "source": [
    "### Pandas Preprocessing & Charts"
   ]
  },
  {
   "cell_type": "code",
   "execution_count": null,
   "metadata": {},
   "outputs": [],
   "source": [
    "# convert execution_prices_pl to pandas dataframe for easier plotting.\n",
    "execution_prices_pd = execution_prices_pl.to_pandas()\n",
    "\n",
    "# set trades_timestamp as index and order by trades_timestamp\n",
    "execution_prices_pd = execution_prices_pd.set_index('trades_timestamp').sort_index()\n",
    "\n",
    "# create a new dataframe with a unique integer index. make the current timestamp index a column\n",
    "reindexed_df = execution_prices_pd.reset_index()"
   ]
  },
  {
   "cell_type": "code",
   "execution_count": null,
   "metadata": {},
   "outputs": [],
   "source": [
    "reindexed_price_df = reindexed_df[[\n",
    "    'trades_timestamp',                     # timestamp\n",
    "    'trades_sell_buy_ratio',                # cow price\n",
    "    'swaps_amountOut_amountIn_ratio',       # univ3 price\n",
    "    'prices_price',                         # chain price\n",
    "    'transaction_gas_fee_one_hop',          # univ3 single hop swap\n",
    "    'transaction_gas_fee_median',           # univ3 median swap transaction cost\n",
    "    'buy_buy_WETH',                          # cow/uni buy direction\n",
    "    'sell_sell_WETH',                       # cow/uni sell direction\n",
    "    'buy_sell_WETH',                        # cow buy/uni sell direction\n",
    "    'sell_buy_WETH'                         # cow sell/uni buy direction\n",
    "    ]]\n",
    "\n",
    "# rename columns\n",
    "reindexed_price_df.columns = [\n",
    "    'timestamp',                            # timestamp\n",
    "    'cow_price',                            # cow price\n",
    "    'univ3_price',                          # univ3 price\n",
    "    'chain_price',                          # chain price\n",
    "    'transaction_gas_fee_one_hop',          # univ3 single hop swap\n",
    "    'transaction_gas_fee_median',           # univ3 median swap transaction cost\n",
    "    'buy_buy_WETH',                          # trade direction\n",
    "    'sell_sell_WETH',                       # trade direction\n",
    "    'buy_sell_WETH',                        # trade direction\n",
    "    'sell_buy_WETH'                         # trade direction\n",
    "]"
   ]
  },
  {
   "cell_type": "code",
   "execution_count": null,
   "metadata": {},
   "outputs": [],
   "source": [
    "# forward fill reindexed_price_df\n",
    "reindexed_price_df = reindexed_price_df.fillna(method='ffill')"
   ]
  },
  {
   "cell_type": "code",
   "execution_count": null,
   "metadata": {},
   "outputs": [],
   "source": [
    "reindexed_price_df.shape"
   ]
  },
  {
   "cell_type": "code",
   "execution_count": null,
   "metadata": {},
   "outputs": [],
   "source": [
    "# convert transaction_gas_fee into usd amount\n",
    "reindexed_price_df['transaction_gas_fee_one_hop_usd'] = reindexed_price_df['transaction_gas_fee_one_hop'] * reindexed_price_df['univ3_price']\n",
    "reindexed_price_df['transaction_gas_fee_median_usd'] = reindexed_price_df['transaction_gas_fee_median'] * reindexed_price_df['univ3_price']"
   ]
  },
  {
   "cell_type": "code",
   "execution_count": null,
   "metadata": {},
   "outputs": [],
   "source": [
    "# filter trade directions\n",
    "buy_buy_WETH_reindex_df = reindexed_price_df[reindexed_price_df['buy_buy_WETH'] == True]\n",
    "sell_sell_WETH_reindex_df = reindexed_price_df[reindexed_price_df['sell_sell_WETH'] == True]\n",
    "buy_sell_WETH_reindex_df = reindexed_price_df[reindexed_price_df['buy_sell_WETH'] == True]\n",
    "sell_buy_WETH_reindex_df = reindexed_price_df[reindexed_price_df['sell_buy_WETH'] == True]"
   ]
  },
  {
   "cell_type": "code",
   "execution_count": null,
   "metadata": {},
   "outputs": [],
   "source": [
    "# print f the df shapes\n",
    "print(buy_buy_WETH_reindex_df.shape)\n",
    "print(sell_sell_WETH_reindex_df.shape)\n",
    "print(buy_sell_WETH_reindex_df.shape)\n",
    "print(sell_buy_WETH_reindex_df.shape)"
   ]
  },
  {
   "cell_type": "code",
   "execution_count": null,
   "metadata": {},
   "outputs": [],
   "source": [
    "# get all values below the 90th percentile\n",
    "buy_buy_WETH_df = buy_buy_WETH_reindex_df[buy_buy_WETH_reindex_df['transaction_gas_fee_one_hop_usd'] < buy_buy_WETH_reindex_df['transaction_gas_fee_one_hop_usd'].quantile(0.90)]\n",
    "sell_sell_WETH_df = sell_sell_WETH_reindex_df[sell_sell_WETH_reindex_df['transaction_gas_fee_one_hop_usd'] < sell_sell_WETH_reindex_df['transaction_gas_fee_one_hop_usd'].quantile(0.90)]\n",
    "buy_sell_WETH_df = buy_sell_WETH_reindex_df[buy_sell_WETH_reindex_df['transaction_gas_fee_one_hop_usd'] < buy_sell_WETH_reindex_df['transaction_gas_fee_one_hop_usd'].quantile(0.90)]\n",
    "sell_buy_WETH_df = sell_buy_WETH_reindex_df[sell_buy_WETH_reindex_df['transaction_gas_fee_one_hop_usd'] < sell_buy_WETH_reindex_df['transaction_gas_fee_one_hop_usd'].quantile(0.90)]"
   ]
  },
  {
   "cell_type": "code",
   "execution_count": null,
   "metadata": {},
   "outputs": [],
   "source": [
    "print(f'cow and uni buy count: {buy_buy_WETH_df.shape}')\n",
    "print(f'cow and uni sell count: {sell_sell_WETH_df.shape}')\n",
    "print(f'cow buy and uni sell count: {buy_sell_WETH_df.shape}')\n",
    "print(f'uni sell and cow buy count: {sell_buy_WETH_df.shape}')"
   ]
  },
  {
   "cell_type": "code",
   "execution_count": null,
   "metadata": {},
   "outputs": [],
   "source": [
    "# single hop gas adjusted prices\n",
    "buy_buy_WETH_df.loc[:, 'univ3_gas_single_hop_price'] = buy_buy_WETH_df.loc[:, 'univ3_price'] + buy_buy_WETH_df.loc[:, 'transaction_gas_fee_one_hop_usd']\n",
    "sell_sell_WETH_df.loc[:, 'univ3_gas_single_hop_price'] = sell_sell_WETH_df.loc[:, 'univ3_price'] - sell_sell_WETH_df.loc[:, 'transaction_gas_fee_one_hop_usd']\n",
    "buy_sell_WETH_df.loc[:, 'univ3_gas_single_hop_price'] = buy_sell_WETH_df.loc[:, 'univ3_price'] - buy_sell_WETH_df.loc[:, 'transaction_gas_fee_one_hop_usd']\n",
    "sell_buy_WETH_df.loc[:, 'univ3_gas_single_hop_price'] = sell_buy_WETH_df.loc[:, 'univ3_price'] + sell_buy_WETH_df.loc[:, 'transaction_gas_fee_one_hop_usd']\n",
    "\n",
    "# add new price values that add the gas cost\n",
    "buy_buy_WETH_df.loc[:, 'univ3_gas_median_price'] = buy_buy_WETH_df.loc[:, 'univ3_price'] + buy_buy_WETH_df.loc[:, 'transaction_gas_fee_median_usd']\n",
    "sell_sell_WETH_df.loc[:, 'univ3_gas_median_price'] = sell_sell_WETH_df.loc[:, 'univ3_price'] - sell_sell_WETH_df.loc[:, 'transaction_gas_fee_median_usd']\n",
    "buy_sell_WETH_df.loc[:, 'univ3_gas_median_price'] = buy_sell_WETH_df.loc[:, 'univ3_price'] - buy_sell_WETH_df.loc[:, 'transaction_gas_fee_median_usd']\n",
    "sell_buy_WETH_df.loc[:, 'univ3_gas_median_price'] = sell_buy_WETH_df.loc[:, 'univ3_price'] + sell_buy_WETH_df.loc[:, 'transaction_gas_fee_median_usd']"
   ]
  },
  {
   "cell_type": "code",
   "execution_count": null,
   "metadata": {},
   "outputs": [],
   "source": [
    "# convert index to datetime format\n",
    "sell_sell_WETH_df.loc[:, 'timestamp'] = pd.to_datetime(sell_sell_WETH_df.timestamp, utc=True, unit='s')\n",
    "buy_buy_WETH_df.loc[:, 'timestamp'] = pd.to_datetime(buy_buy_WETH_df.timestamp, utc=True, unit='s')\n",
    "buy_sell_WETH_df.loc[:, 'timestamp'] = pd.to_datetime(buy_sell_WETH_df.timestamp, utc=True, unit='s')\n",
    "sell_buy_WETH_df.loc[:, 'timestamp'] = pd.to_datetime(sell_buy_WETH_df.timestamp, utc=True, unit='s')"
   ]
  },
  {
   "cell_type": "code",
   "execution_count": null,
   "metadata": {},
   "outputs": [],
   "source": [
    "# define color scheme\n",
    "cow_color = '#0000b3'\n",
    "univ3_color = '#993366'\n",
    "chain_color = '#004d00'"
   ]
  },
  {
   "cell_type": "code",
   "execution_count": null,
   "metadata": {},
   "outputs": [],
   "source": [
    "# what is the date at the -2000th row for sell_sell_WETH_df?\n",
    "print(sell_sell_WETH_df.iloc[-2000].timestamp)\n",
    "\n",
    "graph_chart_date = sell_sell_WETH_df.iloc[-2000].timestamp"
   ]
  },
  {
   "cell_type": "code",
   "execution_count": null,
   "metadata": {},
   "outputs": [],
   "source": [
    "# first date in the dataframe\n",
    "print(sell_sell_WETH_df.iloc[0].timestamp)\n",
    "\n",
    "graph_chart_date = sell_sell_WETH_df.iloc[0].timestamp"
   ]
  },
  {
   "cell_type": "code",
   "execution_count": null,
   "metadata": {},
   "outputs": [],
   "source": [
    "# plot prices on y axis and timestamp on x axis\n",
    "fig1, ax = plt.subplots(figsize=(10, 5))\n",
    "ax.step(\n",
    "    sell_sell_WETH_df['timestamp'].iloc[-2000:], \n",
    "    sell_sell_WETH_df['cow_price'].iloc[-2000:], \n",
    "    label='cow_price',color=cow_color, linewidth=.75)\n",
    "ax.step(\n",
    "    sell_sell_WETH_df['timestamp'].iloc[-2000:], \n",
    "    sell_sell_WETH_df['univ3_gas_single_hop_price'].iloc[-2000:], '--',\n",
    "    label='univ3_gas_single_hop_price', color=univ3_color, alpha=.6)\n",
    "ax.step(\n",
    "    sell_sell_WETH_df['timestamp'].iloc[-2000:], \n",
    "    sell_sell_WETH_df['chain_price'].iloc[-2000:], '--',\n",
    "    label='chain_price', color=chain_color, alpha=.6)\n",
    "\n",
    "plt.xlabel('Date')\n",
    "plt.ylabel('WETH Price')\n",
    "plt.legend()\n",
    "plt.show();\n",
    "\n",
    "# save figure\n",
    "fig1.savefig('../report/diagrams/weth_sell_line.eps', format='eps', bbox_inches='tight')\n",
    "fig1.savefig('../report/diagrams/weth_sell_line.pdf', format='pdf', bbox_inches='tight')"
   ]
  },
  {
   "cell_type": "code",
   "execution_count": null,
   "metadata": {},
   "outputs": [],
   "source": [
    "# plot buy_buy_WETH_df chart where the timestamp is after the graph_chart_date variable\n",
    "fig2, ax = plt.subplots(figsize=(10, 5))\n",
    "ax.step(\n",
    "    buy_buy_WETH_df[buy_buy_WETH_df['timestamp'] > graph_chart_date]['timestamp'],\n",
    "    buy_buy_WETH_df[buy_buy_WETH_df['timestamp'] > graph_chart_date]['cow_price'],\n",
    "    label='cow_price',color=cow_color, linewidth=.75)\n",
    "ax.step(\n",
    "    buy_buy_WETH_df[buy_buy_WETH_df['timestamp'] > graph_chart_date]['timestamp'],\n",
    "    buy_buy_WETH_df[buy_buy_WETH_df['timestamp'] > graph_chart_date]['univ3_gas_single_hop_price'], '--',\n",
    "    label='univ3_gas_single_hop_price', color=univ3_color, alpha=.6)\n",
    "ax.step(\n",
    "    buy_buy_WETH_df[buy_buy_WETH_df['timestamp'] > graph_chart_date]['timestamp'],\n",
    "    buy_buy_WETH_df[buy_buy_WETH_df['timestamp'] > graph_chart_date]['chain_price'], '--',\n",
    "    label='chain_price', color=chain_color, alpha=.6)\n",
    "\n",
    "plt.xlabel('Date')\n",
    "plt.ylabel('WETH Price')\n",
    "plt.legend()\n",
    "plt.show();\n",
    "\n",
    "fig2.savefig('../report/diagrams/weth_buy_line.eps', format='eps', bbox_inches='tight')\n",
    "fig2.savefig('../report/diagrams/weth_buy_line.pdf', format='pdf', bbox_inches='tight')"
   ]
  },
  {
   "cell_type": "code",
   "execution_count": null,
   "metadata": {},
   "outputs": [],
   "source": [
    "# plot prices on y axis and timestamp on x axis\n",
    "fig3, ax = plt.subplots(figsize=(10, 5))\n",
    "ax.step(\n",
    "    buy_sell_WETH_df[buy_sell_WETH_df['timestamp'] > graph_chart_date]['timestamp'],\n",
    "    buy_sell_WETH_df[buy_sell_WETH_df['timestamp'] > graph_chart_date]['cow_price'],\n",
    "    label='cow_price',color=cow_color, linewidth=.75)\n",
    "ax.step(\n",
    "    buy_sell_WETH_df[buy_sell_WETH_df['timestamp'] > graph_chart_date]['timestamp'],\n",
    "    buy_sell_WETH_df[buy_sell_WETH_df['timestamp'] > graph_chart_date]['univ3_gas_single_hop_price'], '--',\n",
    "    label='univ3_gas_single_hop_price', color=univ3_color, alpha=.6)\n",
    "ax.step(\n",
    "    buy_sell_WETH_df[buy_sell_WETH_df['timestamp'] > graph_chart_date]['timestamp'],\n",
    "    buy_sell_WETH_df[buy_sell_WETH_df['timestamp'] > graph_chart_date]['chain_price'], '--',\n",
    "    label='chain_price', color=chain_color, alpha=.6)\n",
    "\n",
    "plt.xlabel('Date')\n",
    "plt.ylabel('WETH Price')\n",
    "plt.legend()\n",
    "plt.title('CoW WETH Buy Price vs Univ3 WETH Sell Price')\n",
    "plt.show();"
   ]
  },
  {
   "cell_type": "code",
   "execution_count": null,
   "metadata": {},
   "outputs": [],
   "source": [
    "# plot prices on y axis and timestamp on x axis\n",
    "fig4, ax = plt.subplots(figsize=(10, 5))\n",
    "ax.step(\n",
    "    sell_buy_WETH_df[sell_buy_WETH_df['timestamp'] > graph_chart_date]['timestamp'],\n",
    "    sell_buy_WETH_df[sell_buy_WETH_df['timestamp'] > graph_chart_date]['cow_price'],\n",
    "    label='cow_price',color=cow_color, linewidth=.75)\n",
    "ax.step(\n",
    "    sell_buy_WETH_df[sell_buy_WETH_df['timestamp'] > graph_chart_date]['timestamp'],\n",
    "    sell_buy_WETH_df[sell_buy_WETH_df['timestamp'] > graph_chart_date]['univ3_gas_single_hop_price'], '--',\n",
    "    label='univ3_gas_single_hop_price', color=univ3_color, alpha=.6)\n",
    "ax.step(\n",
    "    sell_buy_WETH_df[sell_buy_WETH_df['timestamp'] > graph_chart_date]['timestamp'],\n",
    "    sell_buy_WETH_df[sell_buy_WETH_df['timestamp'] > graph_chart_date]['chain_price'], '--',\n",
    "    label='chain_price', color=chain_color, alpha=.6)\n",
    "\n",
    "plt.xlabel('Date')\n",
    "plt.ylabel('WETH Price')\n",
    "plt.legend()\n",
    "plt.title('CoW WETH Sell Price vs Univ3 WETH Buy Price')\n",
    "plt.show();"
   ]
  },
  {
   "attachments": {},
   "cell_type": "markdown",
   "metadata": {},
   "source": [
    "### Price Differences Charts"
   ]
  },
  {
   "cell_type": "code",
   "execution_count": null,
   "metadata": {},
   "outputs": [],
   "source": [
    "# get the price price difference percent between cow and univ3 gas adjusted price in buy_buy_WETH_df\n",
    "buy_buy_WETH_df['cow_univ3_gas_adj_price_diff_percent_single'] = (buy_buy_WETH_df['cow_price'] - buy_buy_WETH_df['univ3_gas_single_hop_price']) / buy_buy_WETH_df['cow_price'] * 100\n",
    "buy_buy_WETH_df['cow_univ3_gas_adj_price_diff_percent_median'] = (buy_buy_WETH_df['cow_price'] - buy_buy_WETH_df['univ3_gas_median_price']) / buy_buy_WETH_df['cow_price'] * 100"
   ]
  },
  {
   "cell_type": "code",
   "execution_count": null,
   "metadata": {},
   "outputs": [],
   "source": [
    "# get the price price difference percent between cow and univ3 gas adjusted price in sell_sell_WETH_df\n",
    "sell_sell_WETH_df['cow_univ3_gas_adj_price_diff_percent_single'] = (sell_sell_WETH_df['cow_price'] - sell_sell_WETH_df['univ3_gas_single_hop_price']) / sell_sell_WETH_df['cow_price'] * 100\n",
    "sell_sell_WETH_df['cow_univ3_gas_adj_price_diff_percent_median'] = (sell_sell_WETH_df['cow_price'] - sell_sell_WETH_df['univ3_gas_median_price']) / sell_sell_WETH_df['cow_price'] * 100"
   ]
  },
  {
   "cell_type": "code",
   "execution_count": null,
   "metadata": {},
   "outputs": [],
   "source": [
    "# calculate mean deviation between cow and chain prices for each row\n",
    "sell_sell_WETH_df['cow_chain_price_diff_percent'] = (sell_sell_WETH_df['chain_price'] - sell_sell_WETH_df['cow_price']) / sell_sell_WETH_df['cow_price'] * 100\n",
    "buy_buy_WETH_df['cow_chain_price_diff_percent'] = (buy_buy_WETH_df['chain_price'] - buy_buy_WETH_df['cow_price']) / buy_buy_WETH_df['cow_price'] * 100"
   ]
  },
  {
   "cell_type": "code",
   "execution_count": null,
   "metadata": {},
   "outputs": [],
   "source": [
    "# plot histogram of the price diffs\n",
    "# https://matplotlib.org/stable/gallery/misc/rasterization_demo.html\n",
    "fig3, ax = plt.subplots(figsize=(10, 5))\n",
    "ax.hist(\n",
    "    sell_sell_WETH_df['cow_univ3_gas_adj_price_diff_percent_single'],\n",
    "    bins=250,\n",
    "    label='univ3 with single hop gas adj',\n",
    "    color=univ3_color,\n",
    "    alpha=0.75)\n",
    "ax.hist(\n",
    "    sell_sell_WETH_df['cow_chain_price_diff_percent'],\n",
    "    bins=250,\n",
    "    label='chain price',\n",
    "    color=chain_color,\n",
    "    alpha=0.75)\n",
    "\n",
    "ax.set_xlim(-4, 4)\n",
    "plt.xlabel('CoW Sells Price Difference (in %)')\n",
    "plt.ylabel('Count')\n",
    "plt.legend()\n",
    "plt.show();\n",
    "\n",
    "#save as eps\n",
    "fig3.savefig('../report/diagrams/weth_sell_hist.eps', format='eps', bbox_inches='tight')\n",
    "fig3.savefig('../report/diagrams/weth_sell_hist.pdf', format='pdf', bbox_inches='tight')"
   ]
  },
  {
   "cell_type": "code",
   "execution_count": null,
   "metadata": {},
   "outputs": [],
   "source": [
    "# plot histogram of the price diffs\n",
    "fig3, ax = plt.subplots(figsize=(10, 5))\n",
    "ax.hist(\n",
    "    buy_buy_WETH_df['cow_univ3_gas_adj_price_diff_percent_single'],\n",
    "    bins=50,\n",
    "    label='univ3 with single hop gas adj',\n",
    "    color=univ3_color,\n",
    "    alpha=0.75)\n",
    "ax.hist(\n",
    "    buy_buy_WETH_df['cow_chain_price_diff_percent'],\n",
    "    bins=50,\n",
    "    label='chain price',\n",
    "    color=chain_color,\n",
    "    alpha=0.75)\n",
    "\n",
    "ax.set_xlim(-4, 4)\n",
    "plt.xlabel('CoW Buys Price Difference (in %)')\n",
    "plt.ylabel('Count')\n",
    "plt.legend()\n",
    "plt.show();\n",
    "\n",
    "#save as eps\n",
    "fig3.savefig('../report/diagrams/weth_buy_hist.eps', format='eps', bbox_inches='tight')\n",
    "fig3.savefig('../report/diagrams/weth_buy_hist.pdf', format='pdf', bbox_inches='tight')"
   ]
  },
  {
   "cell_type": "code",
   "execution_count": null,
   "metadata": {},
   "outputs": [],
   "source": [
    "# print the mean deviation of cow price from chainlink price with f strings\n",
    "print(f\"Mean deviation of cow sell price from chainlink price (90th percentile): {sell_sell_WETH_df['cow_chain_price_diff_percent'].mean():.2f}%\")\n",
    "print(f\"Mean deviation of cow buy price from chainlink price (90th percentile): {buy_buy_WETH_df['cow_chain_price_diff_percent'].mean():.2f}%\")"
   ]
  },
  {
   "cell_type": "code",
   "execution_count": null,
   "metadata": {},
   "outputs": [],
   "source": [
    "# statistics for buy_WETH_df single hop price difference\n",
    "buy_buy_WETH_df[['transaction_gas_fee_one_hop_usd', 'cow_univ3_gas_adj_price_diff_percent_median', 'cow_univ3_gas_adj_price_diff_percent_single', 'cow_chain_price_diff_percent']].describe()"
   ]
  },
  {
   "cell_type": "code",
   "execution_count": null,
   "metadata": {},
   "outputs": [],
   "source": [
    "sell_sell_WETH_df[['transaction_gas_fee_one_hop_usd', 'cow_univ3_gas_adj_price_diff_percent_median', 'cow_univ3_gas_adj_price_diff_percent_single', 'cow_chain_price_diff_percent']].describe()"
   ]
  },
  {
   "attachments": {},
   "cell_type": "markdown",
   "metadata": {},
   "source": [
    "### Simulations"
   ]
  },
  {
   "cell_type": "code",
   "execution_count": 4,
   "metadata": {},
   "outputs": [],
   "source": [
    "# divide the merged dataframe into smaller dataframes.\n",
    "uni_swaps_df = cow_uni_chain_outer_pl[\n",
    "    'trades_timestamp',  \n",
    "    'swaps_tokenIn_id',\n",
    "    'swaps_tokenOut_id',\n",
    "    'swaps_amountIn_converted',\n",
    "    'swaps_amountOut_converted'\n",
    "    ].drop_nulls()\n",
    "\n",
    "chain_df = cow_uni_chain_outer_pl[    \n",
    "    'trades_timestamp', \n",
    "    'prices_assetPair_id', \n",
    "    'prices_price'].drop_nulls()\n",
    "\n",
    "\n",
    "cow_df = cow_uni_chain_outer_pl[\n",
    "    'trades_timestamp',\n",
    "    'swaps_blockNumber',\n",
    "    'trades_txHash',\n",
    "    'trades_feeAmount',\n",
    "    'trades_sellToken_id',\n",
    "    'trades_buyToken_id',\n",
    "    'trades_sellAmount_converted',\n",
    "    'trades_buyAmount_converted',\n",
    "    'name',\n",
    "    'environment'\n",
    "].drop_nulls()"
   ]
  },
  {
   "cell_type": "code",
   "execution_count": 5,
   "metadata": {},
   "outputs": [],
   "source": [
    "# convert to pandas dataframes\n",
    "uni_swaps_df = uni_swaps_df.to_pandas()\n",
    "chain_df = chain_df.to_pandas()\n",
    "cow_df = cow_df.to_pandas()"
   ]
  },
  {
   "cell_type": "code",
   "execution_count": 6,
   "metadata": {},
   "outputs": [],
   "source": [
    "# get the latest minium timestamp\n",
    "starting_timestamp = max(\n",
    "    uni_swaps_df['trades_timestamp'].min(),\n",
    "    chain_df['trades_timestamp'].min(),\n",
    "    cow_df['trades_timestamp'].min()\n",
    ")\n",
    "\n",
    "# convert starting_timestamp to datetime and format into mm/dd/yyyy\n",
    "initialization_date = datetime.fromtimestamp(starting_timestamp).strftime('%m-%d-%Y')\n",
    "initialization_price = chain_df[chain_df['trades_timestamp'] >= starting_timestamp].min()"
   ]
  },
  {
   "cell_type": "code",
   "execution_count": 7,
   "metadata": {},
   "outputs": [
    {
     "name": "stdout",
     "output_type": "stream",
     "text": [
      "Token 0 WETH initial reserves: \t112176\n",
      "Token 1 USDC initial reserves :\t100000000\n",
      "WETH start price: 891.45473777, start date: 08-06-2021\n"
     ]
    }
   ],
   "source": [
    "initialization_price = initialization_price['prices_price']\n",
    "\n",
    "# initialize 100m USDC supply reserve amount\n",
    "USDC_reserves_USD = 100000000\n",
    "\n",
    "token0_start = int(USDC_reserves_USD/initialization_price)   # initializing prices at the chainlink starting price\n",
    "print(f\"Token 0 WETH initial reserves: \\t{token0_start}\")\n",
    "\n",
    "token1_start = USDC_reserves_USD\n",
    "print(f\"Token 1 USDC initial reserves :\\t{token1_start}\")\n",
    "\n",
    "print(f'WETH start price: {initialization_price}, start date: {initialization_date}')"
   ]
  },
  {
   "cell_type": "code",
   "execution_count": 13,
   "metadata": {},
   "outputs": [],
   "source": [
    "# Create an instance of AMMPoolHistory \n",
    "feedlot1 = AMMPoolHistory(token0_start, token1_start)\n",
    "\n",
    "# Instantiate the CPMM object with the AMMPool object\n",
    "cpmm = CPMM(pool=feedlot1)\n",
    "cpmm_SI_flow = AMMWithBaulking(cpmm, uni_swaps_df[uni_swaps_df['trades_timestamp'] >= starting_timestamp])"
   ]
  },
  {
   "cell_type": "code",
   "execution_count": 9,
   "metadata": {},
   "outputs": [
    {
     "name": "stdout",
     "output_type": "stream",
     "text": [
      "price initialized by chainilnk: 891.45473777\n",
      "feedlot initialized price: 891.4562829838825\n",
      "cpmm initialized price: 891.4562829838825\n"
     ]
    }
   ],
   "source": [
    "# check that the price sources all start the same\n",
    "print(f'price initialized by chainilnk: {initialization_price}')\n",
    "print(f'feedlot initialized price: {feedlot1.reserves[1] / feedlot1.reserves[0]}')\n",
    "print(f'cpmm initialized price: {cpmm_SI_flow.amm.pool.reserves[1] / cpmm_SI_flow.amm.pool.reserves[0]}')"
   ]
  },
  {
   "cell_type": "code",
   "execution_count": 12,
   "metadata": {},
   "outputs": [
    {
     "data": {
      "text/html": [
       "<div>\n",
       "<style scoped>\n",
       "    .dataframe tbody tr th:only-of-type {\n",
       "        vertical-align: middle;\n",
       "    }\n",
       "\n",
       "    .dataframe tbody tr th {\n",
       "        vertical-align: top;\n",
       "    }\n",
       "\n",
       "    .dataframe thead th {\n",
       "        text-align: right;\n",
       "    }\n",
       "</style>\n",
       "<table border=\"1\" class=\"dataframe\">\n",
       "  <thead>\n",
       "    <tr style=\"text-align: right;\">\n",
       "      <th></th>\n",
       "      <th>trades_timestamp</th>\n",
       "      <th>prices_assetPair_id</th>\n",
       "      <th>prices_price</th>\n",
       "    </tr>\n",
       "  </thead>\n",
       "  <tbody>\n",
       "    <tr>\n",
       "      <th>0</th>\n",
       "      <td>1648623378</td>\n",
       "      <td>ETH/USD</td>\n",
       "      <td>3404.111500</td>\n",
       "    </tr>\n",
       "    <tr>\n",
       "      <th>1</th>\n",
       "      <td>1648623378</td>\n",
       "      <td>ETH/USD</td>\n",
       "      <td>3404.111500</td>\n",
       "    </tr>\n",
       "    <tr>\n",
       "      <th>2</th>\n",
       "      <td>1648623378</td>\n",
       "      <td>ETH/USD</td>\n",
       "      <td>3404.111500</td>\n",
       "    </tr>\n",
       "    <tr>\n",
       "      <th>3</th>\n",
       "      <td>1674575735</td>\n",
       "      <td>ETH/USD</td>\n",
       "      <td>1620.770000</td>\n",
       "    </tr>\n",
       "    <tr>\n",
       "      <th>4</th>\n",
       "      <td>1674575735</td>\n",
       "      <td>ETH/USD</td>\n",
       "      <td>1620.770000</td>\n",
       "    </tr>\n",
       "    <tr>\n",
       "      <th>...</th>\n",
       "      <td>...</td>\n",
       "      <td>...</td>\n",
       "      <td>...</td>\n",
       "    </tr>\n",
       "    <tr>\n",
       "      <th>128833</th>\n",
       "      <td>1664200259</td>\n",
       "      <td>ETH/USD</td>\n",
       "      <td>1325.480826</td>\n",
       "    </tr>\n",
       "    <tr>\n",
       "      <th>128836</th>\n",
       "      <td>1655669536</td>\n",
       "      <td>ETH/USD</td>\n",
       "      <td>1108.464340</td>\n",
       "    </tr>\n",
       "    <tr>\n",
       "      <th>128840</th>\n",
       "      <td>1667735735</td>\n",
       "      <td>ETH/USD</td>\n",
       "      <td>1620.670000</td>\n",
       "    </tr>\n",
       "    <tr>\n",
       "      <th>128841</th>\n",
       "      <td>1650761725</td>\n",
       "      <td>ETH/USD</td>\n",
       "      <td>2938.990000</td>\n",
       "    </tr>\n",
       "    <tr>\n",
       "      <th>128846</th>\n",
       "      <td>1655089509</td>\n",
       "      <td>ETH/USD</td>\n",
       "      <td>1328.625000</td>\n",
       "    </tr>\n",
       "  </tbody>\n",
       "</table>\n",
       "<p>38543 rows × 3 columns</p>\n",
       "</div>"
      ],
      "text/plain": [
       "        trades_timestamp prices_assetPair_id  prices_price\n",
       "0             1648623378             ETH/USD   3404.111500\n",
       "1             1648623378             ETH/USD   3404.111500\n",
       "2             1648623378             ETH/USD   3404.111500\n",
       "3             1674575735             ETH/USD   1620.770000\n",
       "4             1674575735             ETH/USD   1620.770000\n",
       "...                  ...                 ...           ...\n",
       "128833        1664200259             ETH/USD   1325.480826\n",
       "128836        1655669536             ETH/USD   1108.464340\n",
       "128840        1667735735             ETH/USD   1620.670000\n",
       "128841        1650761725             ETH/USD   2938.990000\n",
       "128846        1655089509             ETH/USD   1328.625000\n",
       "\n",
       "[38543 rows x 3 columns]"
      ]
     },
     "execution_count": 12,
     "metadata": {},
     "output_type": "execute_result"
    }
   ],
   "source": [
    "chain_df[chain_df['trades_timestamp'] >= starting_timestamp]"
   ]
  },
  {
   "cell_type": "code",
   "execution_count": 10,
   "metadata": {},
   "outputs": [
    {
     "data": {
      "text/html": [
       "<div>\n",
       "<style scoped>\n",
       "    .dataframe tbody tr th:only-of-type {\n",
       "        vertical-align: middle;\n",
       "    }\n",
       "\n",
       "    .dataframe tbody tr th {\n",
       "        vertical-align: top;\n",
       "    }\n",
       "\n",
       "    .dataframe thead th {\n",
       "        text-align: right;\n",
       "    }\n",
       "</style>\n",
       "<table border=\"1\" class=\"dataframe\">\n",
       "  <thead>\n",
       "    <tr style=\"text-align: right;\">\n",
       "      <th></th>\n",
       "      <th>trades_timestamp</th>\n",
       "      <th>swaps_tokenIn_id</th>\n",
       "      <th>swaps_tokenOut_id</th>\n",
       "      <th>swaps_amountIn_converted</th>\n",
       "      <th>swaps_amountOut_converted</th>\n",
       "    </tr>\n",
       "  </thead>\n",
       "  <tbody>\n",
       "    <tr>\n",
       "      <th>0</th>\n",
       "      <td>1648623560</td>\n",
       "      <td>WETH</td>\n",
       "      <td>USDC</td>\n",
       "      <td>6.498000</td>\n",
       "      <td>22110.177493</td>\n",
       "    </tr>\n",
       "    <tr>\n",
       "      <th>1</th>\n",
       "      <td>1648623560</td>\n",
       "      <td>WETH</td>\n",
       "      <td>USDC</td>\n",
       "      <td>1.000000</td>\n",
       "      <td>3402.553919</td>\n",
       "    </tr>\n",
       "    <tr>\n",
       "      <th>2</th>\n",
       "      <td>1648623522</td>\n",
       "      <td>WETH</td>\n",
       "      <td>USDC</td>\n",
       "      <td>5.521051</td>\n",
       "      <td>18786.517380</td>\n",
       "    </tr>\n",
       "    <tr>\n",
       "      <th>3</th>\n",
       "      <td>1648623457</td>\n",
       "      <td>USDC</td>\n",
       "      <td>WETH</td>\n",
       "      <td>6802.812915</td>\n",
       "      <td>1.997221</td>\n",
       "    </tr>\n",
       "    <tr>\n",
       "      <th>4</th>\n",
       "      <td>1648623378</td>\n",
       "      <td>USDC</td>\n",
       "      <td>WETH</td>\n",
       "      <td>3090.700000</td>\n",
       "      <td>0.907313</td>\n",
       "    </tr>\n",
       "    <tr>\n",
       "      <th>...</th>\n",
       "      <td>...</td>\n",
       "      <td>...</td>\n",
       "      <td>...</td>\n",
       "      <td>...</td>\n",
       "      <td>...</td>\n",
       "    </tr>\n",
       "    <tr>\n",
       "      <th>368773</th>\n",
       "      <td>1654258453</td>\n",
       "      <td>USDC</td>\n",
       "      <td>WETH</td>\n",
       "      <td>86334.466250</td>\n",
       "      <td>48.746067</td>\n",
       "    </tr>\n",
       "    <tr>\n",
       "      <th>368774</th>\n",
       "      <td>1654258346</td>\n",
       "      <td>USDC</td>\n",
       "      <td>WETH</td>\n",
       "      <td>90000.000000</td>\n",
       "      <td>50.853881</td>\n",
       "    </tr>\n",
       "    <tr>\n",
       "      <th>368775</th>\n",
       "      <td>1654258313</td>\n",
       "      <td>USDC</td>\n",
       "      <td>WETH</td>\n",
       "      <td>75620.828773</td>\n",
       "      <td>42.759040</td>\n",
       "    </tr>\n",
       "    <tr>\n",
       "      <th>368776</th>\n",
       "      <td>1654258266</td>\n",
       "      <td>USDC</td>\n",
       "      <td>WETH</td>\n",
       "      <td>165720.500000</td>\n",
       "      <td>93.800968</td>\n",
       "    </tr>\n",
       "    <tr>\n",
       "      <th>368777</th>\n",
       "      <td>1654258261</td>\n",
       "      <td>USDC</td>\n",
       "      <td>WETH</td>\n",
       "      <td>95708.126436</td>\n",
       "      <td>54.232753</td>\n",
       "    </tr>\n",
       "  </tbody>\n",
       "</table>\n",
       "<p>368745 rows × 5 columns</p>\n",
       "</div>"
      ],
      "text/plain": [
       "        trades_timestamp swaps_tokenIn_id swaps_tokenOut_id  swaps_amountIn_converted  swaps_amountOut_converted\n",
       "0             1648623560             WETH              USDC                  6.498000               22110.177493\n",
       "1             1648623560             WETH              USDC                  1.000000                3402.553919\n",
       "2             1648623522             WETH              USDC                  5.521051               18786.517380\n",
       "3             1648623457             USDC              WETH               6802.812915                   1.997221\n",
       "4             1648623378             USDC              WETH               3090.700000                   0.907313\n",
       "...                  ...              ...               ...                       ...                        ...\n",
       "368773        1654258453             USDC              WETH              86334.466250                  48.746067\n",
       "368774        1654258346             USDC              WETH              90000.000000                  50.853881\n",
       "368775        1654258313             USDC              WETH              75620.828773                  42.759040\n",
       "368776        1654258266             USDC              WETH             165720.500000                  93.800968\n",
       "368777        1654258261             USDC              WETH              95708.126436                  54.232753\n",
       "\n",
       "[368745 rows x 5 columns]"
      ]
     },
     "execution_count": 10,
     "metadata": {},
     "output_type": "execute_result"
    }
   ],
   "source": [
    "uni_swaps_df[uni_swaps_df['trades_timestamp'] > starting_timestamp]"
   ]
  },
  {
   "cell_type": "code",
   "execution_count": 11,
   "metadata": {},
   "outputs": [
    {
     "ename": "KeyError",
     "evalue": "1648623560",
     "output_type": "error",
     "traceback": [
      "\u001b[0;31m---------------------------------------------------------------------------\u001b[0m",
      "\u001b[0;31mKeyError\u001b[0m                                  Traceback (most recent call last)",
      "File \u001b[0;32m~/.local/lib/python3.10/site-packages/pandas/core/indexes/base.py:3800\u001b[0m, in \u001b[0;36mIndex.get_loc\u001b[0;34m(self, key, method, tolerance)\u001b[0m\n\u001b[1;32m   3799\u001b[0m \u001b[39mtry\u001b[39;00m:\n\u001b[0;32m-> 3800\u001b[0m     \u001b[39mreturn\u001b[39;00m \u001b[39mself\u001b[39;49m\u001b[39m.\u001b[39;49m_engine\u001b[39m.\u001b[39;49mget_loc(casted_key)\n\u001b[1;32m   3801\u001b[0m \u001b[39mexcept\u001b[39;00m \u001b[39mKeyError\u001b[39;00m \u001b[39mas\u001b[39;00m err:\n",
      "File \u001b[0;32m~/.local/lib/python3.10/site-packages/pandas/_libs/index.pyx:138\u001b[0m, in \u001b[0;36mpandas._libs.index.IndexEngine.get_loc\u001b[0;34m()\u001b[0m\n",
      "File \u001b[0;32m~/.local/lib/python3.10/site-packages/pandas/_libs/index.pyx:165\u001b[0m, in \u001b[0;36mpandas._libs.index.IndexEngine.get_loc\u001b[0;34m()\u001b[0m\n",
      "File \u001b[0;32mpandas/_libs/hashtable_class_helper.pxi:5745\u001b[0m, in \u001b[0;36mpandas._libs.hashtable.PyObjectHashTable.get_item\u001b[0;34m()\u001b[0m\n",
      "File \u001b[0;32mpandas/_libs/hashtable_class_helper.pxi:5753\u001b[0m, in \u001b[0;36mpandas._libs.hashtable.PyObjectHashTable.get_item\u001b[0;34m()\u001b[0m\n",
      "\u001b[0;31mKeyError\u001b[0m: 1648623560",
      "\nThe above exception was the direct cause of the following exception:\n",
      "\u001b[0;31mKeyError\u001b[0m                                  Traceback (most recent call last)",
      "Cell \u001b[0;32mIn[11], line 13\u001b[0m\n\u001b[1;32m     10\u001b[0m         amt \u001b[39m=\u001b[39m row[\u001b[39m'\u001b[39m\u001b[39mswaps_amountOut_converted\u001b[39m\u001b[39m'\u001b[39m]\n\u001b[1;32m     12\u001b[0m \u001b[39m# Run the swap function on the AMM pool\u001b[39;00m\n\u001b[0;32m---> 13\u001b[0m amt0, amt1 \u001b[39m=\u001b[39m cpmm_SI_flow\u001b[39m.\u001b[39;49mmaybe_market_order_sell(amt,token,row[\u001b[39m'\u001b[39;49m\u001b[39mtrades_timestamp\u001b[39;49m\u001b[39m'\u001b[39;49m])\n\u001b[1;32m     14\u001b[0m \u001b[39mprint\u001b[39m(\u001b[39mf\u001b[39m\u001b[39m\"\u001b[39m\u001b[39mTraded \u001b[39m\u001b[39m{\u001b[39;00mamt0\u001b[39m}\u001b[39;00m\u001b[39m for \u001b[39m\u001b[39m{\u001b[39;00mamt1\u001b[39m}\u001b[39;00m\u001b[39m\\t\u001b[39;00m\u001b[39mat time \u001b[39m\u001b[39m{\u001b[39;00mrow[\u001b[39m'\u001b[39m\u001b[39mtrades_timestamp\u001b[39m\u001b[39m'\u001b[39m]\u001b[39m}\u001b[39;00m\u001b[39m.\u001b[39m\u001b[39m\"\u001b[39m)\n\u001b[1;32m     15\u001b[0m \u001b[39mprint\u001b[39m(\u001b[39mf\u001b[39m\u001b[39m\"\u001b[39m\u001b[39mPool reserves: (\u001b[39m\u001b[39m{\u001b[39;00mfeedlot1\u001b[39m.\u001b[39mreserves[\u001b[39m0\u001b[39m],\u001b[39m \u001b[39mfeedlot1\u001b[39m.\u001b[39mreserves[\u001b[39m1\u001b[39m]\u001b[39m}\u001b[39;00m\u001b[39m)\u001b[39m\u001b[39m\"\u001b[39m)\n",
      "File \u001b[0;32m~/Documents/github/Feedlot/quantitative_results/sim/pool.py:210\u001b[0m, in \u001b[0;36mAMMWithBaulking.maybe_market_order_sell\u001b[0;34m(self, amt, token, ts)\u001b[0m\n\u001b[1;32m    208\u001b[0m     \u001b[39mreturn\u001b[39;00m \u001b[39m0\u001b[39m,\u001b[39m0\u001b[39m\n\u001b[1;32m    209\u001b[0m \u001b[39melse\u001b[39;00m:\n\u001b[0;32m--> 210\u001b[0m     \u001b[39mif\u001b[39;00m token \u001b[39m==\u001b[39m \u001b[39m0\u001b[39m \u001b[39mand\u001b[39;00m \u001b[39m-\u001b[39m amt1 \u001b[39m/\u001b[39m amt0 \u001b[39m<\u001b[39m \u001b[39mself\u001b[39;49m\u001b[39m.\u001b[39;49mtarget_prices[ts] \u001b[39m/\u001b[39m padding:\n\u001b[1;32m    211\u001b[0m         \u001b[39mself\u001b[39m\u001b[39m.\u001b[39mamm\u001b[39m.\u001b[39mpool\u001b[39m.\u001b[39mswap(\u001b[39m-\u001b[39mamt0, \u001b[39m-\u001b[39mamt1, ts) \u001b[39m# undo the swap\u001b[39;00m\n\u001b[1;32m    212\u001b[0m         \u001b[39mreturn\u001b[39;00m \u001b[39m0\u001b[39m, \u001b[39m0\u001b[39m\n",
      "File \u001b[0;32m~/.local/lib/python3.10/site-packages/pandas/core/frame.py:3805\u001b[0m, in \u001b[0;36mDataFrame.__getitem__\u001b[0;34m(self, key)\u001b[0m\n\u001b[1;32m   3803\u001b[0m \u001b[39mif\u001b[39;00m \u001b[39mself\u001b[39m\u001b[39m.\u001b[39mcolumns\u001b[39m.\u001b[39mnlevels \u001b[39m>\u001b[39m \u001b[39m1\u001b[39m:\n\u001b[1;32m   3804\u001b[0m     \u001b[39mreturn\u001b[39;00m \u001b[39mself\u001b[39m\u001b[39m.\u001b[39m_getitem_multilevel(key)\n\u001b[0;32m-> 3805\u001b[0m indexer \u001b[39m=\u001b[39m \u001b[39mself\u001b[39;49m\u001b[39m.\u001b[39;49mcolumns\u001b[39m.\u001b[39;49mget_loc(key)\n\u001b[1;32m   3806\u001b[0m \u001b[39mif\u001b[39;00m is_integer(indexer):\n\u001b[1;32m   3807\u001b[0m     indexer \u001b[39m=\u001b[39m [indexer]\n",
      "File \u001b[0;32m~/.local/lib/python3.10/site-packages/pandas/core/indexes/base.py:3802\u001b[0m, in \u001b[0;36mIndex.get_loc\u001b[0;34m(self, key, method, tolerance)\u001b[0m\n\u001b[1;32m   3800\u001b[0m     \u001b[39mreturn\u001b[39;00m \u001b[39mself\u001b[39m\u001b[39m.\u001b[39m_engine\u001b[39m.\u001b[39mget_loc(casted_key)\n\u001b[1;32m   3801\u001b[0m \u001b[39mexcept\u001b[39;00m \u001b[39mKeyError\u001b[39;00m \u001b[39mas\u001b[39;00m err:\n\u001b[0;32m-> 3802\u001b[0m     \u001b[39mraise\u001b[39;00m \u001b[39mKeyError\u001b[39;00m(key) \u001b[39mfrom\u001b[39;00m \u001b[39merr\u001b[39;00m\n\u001b[1;32m   3803\u001b[0m \u001b[39mexcept\u001b[39;00m \u001b[39mTypeError\u001b[39;00m:\n\u001b[1;32m   3804\u001b[0m     \u001b[39m# If we have a listlike key, _check_indexing_error will raise\u001b[39;00m\n\u001b[1;32m   3805\u001b[0m     \u001b[39m#  InvalidIndexError. Otherwise we fall through and re-raise\u001b[39;00m\n\u001b[1;32m   3806\u001b[0m     \u001b[39m#  the TypeError.\u001b[39;00m\n\u001b[1;32m   3807\u001b[0m     \u001b[39mself\u001b[39m\u001b[39m.\u001b[39m_check_indexing_error(key)\n",
      "\u001b[0;31mKeyError\u001b[0m: 1648623560"
     ]
    }
   ],
   "source": [
    "# CPMM with Baulking simulation\n",
    "for index, row in uni_swaps_df[uni_swaps_df['trades_timestamp'] >= starting_timestamp].iterrows():\n",
    "    # check if tokenIn is WETH or USDC. Apply decimal conversion accordingly.\n",
    "    match row['swaps_tokenIn_id']:\n",
    "        case 'WETH':  # check if tokenIn is WETh\n",
    "            token = 0\n",
    "            amt = row['swaps_amountIn_converted']\n",
    "        case 'USDC':  # check if tokenIn is USDC\n",
    "            token = 1\n",
    "            amt = row['swaps_amountOut_converted']\n",
    "\n",
    "    # Run the swap function on the AMM pool\n",
    "    amt0, amt1 = cpmm_SI_flow.maybe_market_order_sell(amt,token,row['trades_timestamp'])\n",
    "    print(f\"Traded {amt0} for {amt1}\\tat time {row['trades_timestamp']}.\")\n",
    "    print(f\"Pool reserves: ({feedlot1.reserves[0], feedlot1.reserves[1]})\")"
   ]
  },
  {
   "cell_type": "code",
   "execution_count": null,
   "metadata": {},
   "outputs": [],
   "source": []
  }
 ],
 "metadata": {
  "kernelspec": {
   "display_name": "myenv",
   "language": "python",
   "name": "python3"
  },
  "language_info": {
   "codemirror_mode": {
    "name": "ipython",
    "version": 3
   },
   "file_extension": ".py",
   "mimetype": "text/x-python",
   "name": "python",
   "nbconvert_exporter": "python",
   "pygments_lexer": "ipython3",
   "version": "3.10.6"
  }
 },
 "nbformat": 4,
 "nbformat_minor": 2
}
