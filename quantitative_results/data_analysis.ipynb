{
 "cells": [
  {
   "cell_type": "code",
   "execution_count": null,
   "metadata": {},
   "outputs": [],
   "source": [
    "# IF JUPYTER ISN'T COOPERATING, COMMENT THIS CODE BLOCK OUT\n",
    "# Turn off autosaving of notebook. Use this to disable Jupyter notebook's default way of choosing Python executables\n",
    "%autosave 0\n",
    "\n",
    "# Print environment information\n",
    "import sysconfig\n",
    "for k,v in sysconfig.get_config_vars().items():\n",
    "    print(f\"{k:26} {v}\")"
   ]
  },
  {
   "cell_type": "code",
   "execution_count": null,
   "metadata": {},
   "outputs": [],
   "source": [
    "from datetime import datetime\n",
    "from sim.pool import AMMPoolHistory, CPMM, AMMWithBaulking, OraclePool, RebalancingPool\n",
    "import matplotlib.pyplot as plt\n",
    "import matplotlib as mpl\n",
    "import numpy as np\n",
    "\n",
    "import pandas as pd\n",
    "import polars as pl\n",
    "\n",
    "# These commands enlarge the column size of the dataframe so things like 0x... are not truncated\n",
    "pd.set_option('display.max_columns', None)\n",
    "pd.set_option('display.expand_frame_repr', False)\n",
    "pd.set_option('max_colwidth', None)"
   ]
  },
  {
   "cell_type": "markdown",
   "metadata": {},
   "source": [
    "# Data Analysis of Prices"
   ]
  },
  {
   "cell_type": "markdown",
   "metadata": {},
   "source": [
    "### Polars Preprocessing"
   ]
  },
  {
   "cell_type": "code",
   "execution_count": null,
   "metadata": {},
   "outputs": [],
   "source": [
    "# load parquet file into polars dataframe\n",
    "cow_uni_chain_outer_pl = pl.read_parquet('data/cow_uni_chain_outer_pl_historical.parquet')"
   ]
  },
  {
   "cell_type": "code",
   "execution_count": null,
   "metadata": {},
   "outputs": [],
   "source": [
    "# NOTE CAREFUL! This command was done in data_pipeline_final but appears to have reverted. Apply decimal conversion to chainlink again\n",
    "cow_uni_chain_outer_pl = cow_uni_chain_outer_pl.with_columns([\n",
    "    (pl.col(\"prices_price\")/ 10 ** 8).alias('prices_price')\n",
    "])"
   ]
  },
  {
   "cell_type": "code",
   "execution_count": null,
   "metadata": {},
   "outputs": [],
   "source": [
    "cow_uni_chain_outer_pl.shape"
   ]
  },
  {
   "cell_type": "code",
   "execution_count": null,
   "metadata": {},
   "outputs": [],
   "source": [
    "cow_uni_chain_outer_pl.select([\n",
    "    (pl.col(\"swaps_tokenOut_id\")).value_counts(),\n",
    "    (pl.col(\"trades_buyToken_id\")).value_counts(),\n",
    "]).rows()"
   ]
  },
  {
   "cell_type": "code",
   "execution_count": null,
   "metadata": {},
   "outputs": [],
   "source": [
    "# return the larger value between trades_buy_sell_ratio and trades_sell_buy_ratio in a lambda function. This serves as a column equalization function for trades_buy_sell_ratio and trades_sell_buy_ratio\n",
    "execution_prices_pl = cow_uni_chain_outer_pl.with_columns([\n",
    "    (pl.col(\"trades_buy_sell_ratio\").apply(lambda x: x if x > 1 else 1/x)).alias('trades_buy_sell_ratio'),\n",
    "    (pl.col(\"trades_sell_buy_ratio\").apply(lambda x: x if x > 1 else 1/x)).alias('trades_sell_buy_ratio'),\n",
    "    (pl.col(\"swaps_amountIn_amountOut_ratio\").apply(lambda x: x if x > 1 else 1/x)).alias('swaps_amountIn_amountOut_ratio'),\n",
    "    (pl.col(\"swaps_amountOut_amountIn_ratio\").apply(lambda x: x if x > 1 else 1/x)).alias('swaps_amountOut_amountIn_ratio'),\n",
    "])"
   ]
  },
  {
   "cell_type": "code",
   "execution_count": null,
   "metadata": {},
   "outputs": [],
   "source": [
    "# Add trade directionality flag.\n",
    "# we label the trade direction WETH -> USDC when WETH is in the CoW buy column and the UniV3 amountOut column. \n",
    "# Conversely, the USDC -> WETH direction is when USDC is in the CoW sell column and the Univ3 amountIn column.\n",
    "execution_prices_pl = execution_prices_pl.with_columns([\n",
    "    (pl.col(\"trades_buyToken_id\").apply(lambda x: True if x == 'WETH' else False)).alias('trades_buy_WETH'),\n",
    "    (pl.col(\"swaps_tokenOut_id\").apply(lambda x: True if x == 'WETH' else False)).alias('swaps_buy_WETH'),\n",
    "])"
   ]
  },
  {
   "cell_type": "code",
   "execution_count": null,
   "metadata": {},
   "outputs": [],
   "source": [
    "# match cow trades with univ3 swaps\n",
    "execution_prices_pl = execution_prices_pl.with_columns([\n",
    "    (pl.col(\"trades_buy_WETH\") & pl.col(\"swaps_buy_WETH\")).alias('buy_buy_WETH'), # cow buy/uni buy WETH\n",
    "    (~pl.col(\"trades_buy_WETH\") & ~pl.col(\"swaps_buy_WETH\")).alias('sell_sell_WETH'), # cow sell/uni sell WETH\n",
    "    (pl.col(\"trades_buy_WETH\") & ~pl.col(\"swaps_buy_WETH\")).alias('buy_sell_WETH'), # cow buy/uni sel WETH\n",
    "    (~pl.col(\"trades_buy_WETH\") & pl.col(\"swaps_buy_WETH\")).alias('sell_buy_WETH'), # cow sell/uni buy WETH\n",
    "])"
   ]
  },
  {
   "cell_type": "markdown",
   "metadata": {},
   "source": [
    "### Pandas Preprocessing"
   ]
  },
  {
   "cell_type": "code",
   "execution_count": null,
   "metadata": {},
   "outputs": [],
   "source": [
    "# convert execution_prices_pl to pandas dataframe for easier plotting.\n",
    "execution_prices_pd = execution_prices_pl.to_pandas()\n",
    "\n",
    "# set trades_timestamp as index and order by trades_timestamp\n",
    "execution_prices_pd = execution_prices_pd.set_index('trades_timestamp').sort_index()\n",
    "\n",
    "# create a new dataframe with a unique integer index. make the current timestamp index a column\n",
    "reindexed_df = execution_prices_pd.reset_index()"
   ]
  },
  {
   "cell_type": "code",
   "execution_count": null,
   "metadata": {},
   "outputs": [],
   "source": [
    "# select columns to keep\n",
    "reindexed_price_df = reindexed_df[[\n",
    "    'trades_timestamp',                     # timestamp\n",
    "    'trades_sell_buy_ratio',                # cow price\n",
    "    'swaps_amountOut_amountIn_ratio',       # univ3 price\n",
    "    'prices_price',                         # chain price\n",
    "    'transaction_gas_fee_one_hop',          # univ3 single hop swap\n",
    "    'transaction_gas_fee_median',           # univ3 median swap transaction cost\n",
    "    'buy_buy_WETH',                         # cow/uni buy direction\n",
    "    'sell_sell_WETH',                       # cow/uni sell direction\n",
    "    'buy_sell_WETH',                        # cow buy/uni sell direction\n",
    "    'sell_buy_WETH'                         # cow sell/uni buy direction\n",
    "    ]]\n",
    "\n",
    "# rename columns\n",
    "reindexed_price_df.columns = [\n",
    "    'timestamp',                            # timestamp\n",
    "    'cow_price',                            # cow price\n",
    "    'univ3_price',                          # univ3 price\n",
    "    'chain_price',                          # chain price\n",
    "    'transaction_gas_fee_one_hop',          # univ3 single hop swap\n",
    "    'transaction_gas_fee_median',           # univ3 median swap transaction cost\n",
    "    'buy_buy_WETH',                         # trade direction\n",
    "    'sell_sell_WETH',                       # trade direction\n",
    "    'buy_sell_WETH',                        # trade direction\n",
    "    'sell_buy_WETH'                         # trade direction\n",
    "]"
   ]
  },
  {
   "cell_type": "code",
   "execution_count": null,
   "metadata": {},
   "outputs": [],
   "source": [
    "# forward fill reindexed_price_df\n",
    "reindexed_price_df = reindexed_price_df.fillna(method='ffill')"
   ]
  },
  {
   "cell_type": "code",
   "execution_count": null,
   "metadata": {},
   "outputs": [],
   "source": [
    "reindexed_price_df.shape"
   ]
  },
  {
   "cell_type": "code",
   "execution_count": null,
   "metadata": {},
   "outputs": [],
   "source": [
    "# convert transaction_gas_fee into usd amount\n",
    "reindexed_price_df['transaction_gas_fee_one_hop_usd'] = reindexed_price_df['transaction_gas_fee_one_hop'] * reindexed_price_df['univ3_price']\n",
    "reindexed_price_df['transaction_gas_fee_median_usd'] = reindexed_price_df['transaction_gas_fee_median'] * reindexed_price_df['univ3_price']"
   ]
  },
  {
   "cell_type": "code",
   "execution_count": null,
   "metadata": {},
   "outputs": [],
   "source": [
    "reindexed_price_df['univ3_price_adjusted'] = reindexed_price_df['univ3_price'] + reindexed_price_df['transaction_gas_fee_one_hop_usd']"
   ]
  },
  {
   "cell_type": "code",
   "execution_count": null,
   "metadata": {},
   "outputs": [],
   "source": [
    "# calculate mean deviation between cow and chain prices for each row\n",
    "reindexed_price_df['cow_chain_diff'] = np.abs((reindexed_price_df['chain_price'] - reindexed_price_df['cow_price']) / reindexed_price_df['chain_price']) * 100\n",
    "\n",
    "# calculate mean deviation between cow and chain prices for each row\n",
    "reindexed_price_df['univ3_chain_diff'] = np.abs((reindexed_price_df['chain_price'] - reindexed_price_df['univ3_price_adjusted']) / reindexed_price_df['chain_price']) * 100"
   ]
  },
  {
   "cell_type": "code",
   "execution_count": null,
   "metadata": {},
   "outputs": [],
   "source": [
    "reindexed_price_df[['chain_price', 'cow_chain_diff', 'univ3_chain_diff']].quantile([.1, 0.25, 0.5, 0.75, .9], interpolation='nearest')"
   ]
  },
  {
   "cell_type": "code",
   "execution_count": null,
   "metadata": {},
   "outputs": [],
   "source": [
    "# filter trade directions. There are 4 total cases:\n",
    "# cow buy/uni buy WETH\n",
    "# cow sell/uni sell WETH\n",
    "# cow buy/uni sell WETH\n",
    "# cow sell/uni buy WETH\n",
    "buy_buy_WETH_reindex_df = reindexed_price_df[reindexed_price_df['buy_buy_WETH'] == True]\n",
    "sell_sell_WETH_reindex_df = reindexed_price_df[reindexed_price_df['sell_sell_WETH'] == True]\n",
    "buy_sell_WETH_reindex_df = reindexed_price_df[reindexed_price_df['buy_sell_WETH'] == True]\n",
    "sell_buy_WETH_reindex_df = reindexed_price_df[reindexed_price_df['sell_buy_WETH'] == True]"
   ]
  },
  {
   "cell_type": "code",
   "execution_count": null,
   "metadata": {},
   "outputs": [],
   "source": [
    "# print f the df shapes. Note that the dataframes have grown in size due to the forward fill method above.\n",
    "print(buy_buy_WETH_reindex_df.shape)\n",
    "print(sell_sell_WETH_reindex_df.shape)\n",
    "print(buy_sell_WETH_reindex_df.shape)\n",
    "print(sell_buy_WETH_reindex_df.shape)"
   ]
  },
  {
   "cell_type": "code",
   "execution_count": null,
   "metadata": {},
   "outputs": [],
   "source": [
    "# get all values below the 90th percentile\n",
    "buy_buy_WETH_df = buy_buy_WETH_reindex_df[buy_buy_WETH_reindex_df['transaction_gas_fee_one_hop_usd'] < buy_buy_WETH_reindex_df['transaction_gas_fee_one_hop_usd'].quantile(0.90)]\n",
    "sell_sell_WETH_df = sell_sell_WETH_reindex_df[sell_sell_WETH_reindex_df['transaction_gas_fee_one_hop_usd'] < sell_sell_WETH_reindex_df['transaction_gas_fee_one_hop_usd'].quantile(0.90)]\n",
    "buy_sell_WETH_df = buy_sell_WETH_reindex_df[buy_sell_WETH_reindex_df['transaction_gas_fee_one_hop_usd'] < buy_sell_WETH_reindex_df['transaction_gas_fee_one_hop_usd'].quantile(0.90)]\n",
    "sell_buy_WETH_df = sell_buy_WETH_reindex_df[sell_buy_WETH_reindex_df['transaction_gas_fee_one_hop_usd'] < sell_buy_WETH_reindex_df['transaction_gas_fee_one_hop_usd'].quantile(0.90)]"
   ]
  },
  {
   "cell_type": "code",
   "execution_count": null,
   "metadata": {},
   "outputs": [],
   "source": [
    "print(f'cow and uni buy count: {buy_buy_WETH_df.shape}')\n",
    "print(f'cow and uni sell count: {sell_sell_WETH_df.shape}')\n",
    "print(f'cow buy and uni sell count: {buy_sell_WETH_df.shape}')\n",
    "print(f'uni sell and cow buy count: {sell_buy_WETH_df.shape}')"
   ]
  },
  {
   "cell_type": "code",
   "execution_count": null,
   "metadata": {},
   "outputs": [],
   "source": [
    "# single hop gas adjusted prices\n",
    "buy_buy_WETH_df.loc[:, 'univ3_gas_single_hop_price'] = buy_buy_WETH_df.loc[:, 'univ3_price'] + buy_buy_WETH_df.loc[:, 'transaction_gas_fee_one_hop_usd']\n",
    "sell_sell_WETH_df.loc[:, 'univ3_gas_single_hop_price'] = sell_sell_WETH_df.loc[:, 'univ3_price'] - sell_sell_WETH_df.loc[:, 'transaction_gas_fee_one_hop_usd']\n",
    "buy_sell_WETH_df.loc[:, 'univ3_gas_single_hop_price'] = buy_sell_WETH_df.loc[:, 'univ3_price'] - buy_sell_WETH_df.loc[:, 'transaction_gas_fee_one_hop_usd']\n",
    "sell_buy_WETH_df.loc[:, 'univ3_gas_single_hop_price'] = sell_buy_WETH_df.loc[:, 'univ3_price'] + sell_buy_WETH_df.loc[:, 'transaction_gas_fee_one_hop_usd']\n",
    "\n",
    "# add new price values that add the gas cost\n",
    "buy_buy_WETH_df.loc[:, 'univ3_gas_median_price'] = buy_buy_WETH_df.loc[:, 'univ3_price'] + buy_buy_WETH_df.loc[:, 'transaction_gas_fee_median_usd']\n",
    "sell_sell_WETH_df.loc[:, 'univ3_gas_median_price'] = sell_sell_WETH_df.loc[:, 'univ3_price'] - sell_sell_WETH_df.loc[:, 'transaction_gas_fee_median_usd']\n",
    "buy_sell_WETH_df.loc[:, 'univ3_gas_median_price'] = buy_sell_WETH_df.loc[:, 'univ3_price'] - buy_sell_WETH_df.loc[:, 'transaction_gas_fee_median_usd']\n",
    "sell_buy_WETH_df.loc[:, 'univ3_gas_median_price'] = sell_buy_WETH_df.loc[:, 'univ3_price'] + sell_buy_WETH_df.loc[:, 'transaction_gas_fee_median_usd']"
   ]
  },
  {
   "cell_type": "code",
   "execution_count": null,
   "metadata": {},
   "outputs": [],
   "source": [
    "# convert index to datetime format\n",
    "sell_sell_WETH_df.loc[:, 'timestamp'] = pd.to_datetime(sell_sell_WETH_df.timestamp, utc=True, unit='s')\n",
    "buy_buy_WETH_df.loc[:, 'timestamp'] = pd.to_datetime(buy_buy_WETH_df.timestamp, utc=True, unit='s')\n",
    "buy_sell_WETH_df.loc[:, 'timestamp'] = pd.to_datetime(buy_sell_WETH_df.timestamp, utc=True, unit='s')\n",
    "sell_buy_WETH_df.loc[:, 'timestamp'] = pd.to_datetime(sell_buy_WETH_df.timestamp, utc=True, unit='s')"
   ]
  },
  {
   "cell_type": "markdown",
   "metadata": {},
   "source": [
    "### Price Charts"
   ]
  },
  {
   "cell_type": "code",
   "execution_count": null,
   "metadata": {},
   "outputs": [],
   "source": [
    "# define color scheme\n",
    "cow_color = '#0000b3'\n",
    "univ3_color = '#993366'\n",
    "chain_color = '#004d00'"
   ]
  },
  {
   "cell_type": "code",
   "execution_count": null,
   "metadata": {},
   "outputs": [],
   "source": [
    "# first date in the dataframe\n",
    "graph_chart_date = sell_sell_WETH_df.iloc[-1300].timestamp\n",
    "graph_chart_date"
   ]
  },
  {
   "cell_type": "code",
   "execution_count": null,
   "metadata": {},
   "outputs": [],
   "source": [
    "# plot prices on y axis and timestamp on x axis\n",
    "fig1, ax = plt.subplots(figsize=(10, 5))\n",
    "ax.step(\n",
    "    sell_sell_WETH_df[sell_sell_WETH_df['timestamp'] > graph_chart_date]['timestamp'],\n",
    "    sell_sell_WETH_df[sell_sell_WETH_df['timestamp'] > graph_chart_date]['cow_price'],\n",
    "    label='cow_price',color=cow_color, linewidth=.75)\n",
    "ax.step(\n",
    "    sell_sell_WETH_df[sell_sell_WETH_df['timestamp'] > graph_chart_date]['timestamp'], \n",
    "    sell_sell_WETH_df[sell_sell_WETH_df['timestamp'] > graph_chart_date]['univ3_gas_single_hop_price'], '--',\n",
    "    label='univ3_gas_single_hop_price', color=univ3_color, alpha=.6)\n",
    "ax.step(\n",
    "    sell_sell_WETH_df[sell_sell_WETH_df['timestamp'] > graph_chart_date]['timestamp'], \n",
    "    sell_sell_WETH_df[sell_sell_WETH_df['timestamp'] > graph_chart_date]['chain_price'], '--',\n",
    "    label='chain_price', color=chain_color, alpha=.6)\n",
    "\n",
    "plt.xlabel('Date')\n",
    "plt.ylabel('WETH Price')\n",
    "plt.legend()\n",
    "plt.show();\n",
    "\n",
    "# save figure\n",
    "fig1.savefig('../report/diagrams/weth_sell_line.eps', format='eps', bbox_inches='tight')\n",
    "#fig1.savefig('../report/diagrams/weth_sell_line.pdf', format='pdf', bbox_inches='tight')"
   ]
  },
  {
   "cell_type": "code",
   "execution_count": null,
   "metadata": {},
   "outputs": [],
   "source": [
    "# plot buy_buy_WETH_df chart where the timestamp is after the graph_chart_date variable\n",
    "fig2, ax = plt.subplots(figsize=(10, 5))\n",
    "ax.step(\n",
    "    buy_buy_WETH_df[buy_buy_WETH_df['timestamp'] > graph_chart_date]['timestamp'],\n",
    "    buy_buy_WETH_df[buy_buy_WETH_df['timestamp'] > graph_chart_date]['cow_price'],\n",
    "    label='cow_price',color=cow_color, linewidth=.75)\n",
    "ax.step(\n",
    "    buy_buy_WETH_df[buy_buy_WETH_df['timestamp'] > graph_chart_date]['timestamp'],\n",
    "    buy_buy_WETH_df[buy_buy_WETH_df['timestamp'] > graph_chart_date]['univ3_gas_single_hop_price'], '--',\n",
    "    label='univ3_gas_single_hop_price', color=univ3_color, alpha=.6)\n",
    "ax.step(\n",
    "    buy_buy_WETH_df[buy_buy_WETH_df['timestamp'] > graph_chart_date]['timestamp'],\n",
    "    buy_buy_WETH_df[buy_buy_WETH_df['timestamp'] > graph_chart_date]['chain_price'], '--',\n",
    "    label='chain_price', color=chain_color, alpha=.6)\n",
    "\n",
    "plt.xlabel('Date')\n",
    "plt.ylabel('WETH Price')\n",
    "plt.legend()\n",
    "plt.show();\n",
    "\n",
    "fig2.savefig('../report/diagrams/weth_buy_line.eps', format='eps', bbox_inches='tight')\n",
    "#fig2.savefig('../report/diagrams/weth_buy_line.pdf', format='pdf', bbox_inches='tight')"
   ]
  },
  {
   "cell_type": "code",
   "execution_count": null,
   "metadata": {},
   "outputs": [],
   "source": [
    "# plot prices on y axis and timestamp on x axis\n",
    "fig3, ax = plt.subplots(figsize=(10, 5))\n",
    "ax.step(\n",
    "    buy_sell_WETH_df[buy_sell_WETH_df['timestamp'] > graph_chart_date]['timestamp'],\n",
    "    buy_sell_WETH_df[buy_sell_WETH_df['timestamp'] > graph_chart_date]['cow_price'],\n",
    "    label='cow_price',color=cow_color, linewidth=.75)\n",
    "ax.step(\n",
    "    buy_sell_WETH_df[buy_sell_WETH_df['timestamp'] > graph_chart_date]['timestamp'],\n",
    "    buy_sell_WETH_df[buy_sell_WETH_df['timestamp'] > graph_chart_date]['univ3_gas_single_hop_price'], '--',\n",
    "    label='univ3_gas_single_hop_price', color=univ3_color, alpha=.6)\n",
    "ax.step(\n",
    "    buy_sell_WETH_df[buy_sell_WETH_df['timestamp'] > graph_chart_date]['timestamp'],\n",
    "    buy_sell_WETH_df[buy_sell_WETH_df['timestamp'] > graph_chart_date]['chain_price'], '--',\n",
    "    label='chain_price', color=chain_color, alpha=.6)\n",
    "\n",
    "plt.xlabel('Date')\n",
    "plt.ylabel('WETH Price')\n",
    "plt.legend()\n",
    "plt.title('CoW WETH Buy Price vs Univ3 WETH Sell Price')\n",
    "plt.show();"
   ]
  },
  {
   "cell_type": "code",
   "execution_count": null,
   "metadata": {},
   "outputs": [],
   "source": [
    "# plot prices on y axis and timestamp on x axis\n",
    "fig4, ax = plt.subplots(figsize=(10, 5))\n",
    "ax.step(\n",
    "    sell_buy_WETH_df[sell_buy_WETH_df['timestamp'] > graph_chart_date]['timestamp'],\n",
    "    sell_buy_WETH_df[sell_buy_WETH_df['timestamp'] > graph_chart_date]['cow_price'],\n",
    "    label='cow_price',color=cow_color, linewidth=.75)\n",
    "ax.step(\n",
    "    sell_buy_WETH_df[sell_buy_WETH_df['timestamp'] > graph_chart_date]['timestamp'],\n",
    "    sell_buy_WETH_df[sell_buy_WETH_df['timestamp'] > graph_chart_date]['univ3_gas_single_hop_price'], '--',\n",
    "    label='univ3_gas_single_hop_price', color=univ3_color, alpha=.6)\n",
    "ax.step(\n",
    "    sell_buy_WETH_df[sell_buy_WETH_df['timestamp'] > graph_chart_date]['timestamp'],\n",
    "    sell_buy_WETH_df[sell_buy_WETH_df['timestamp'] > graph_chart_date]['chain_price'], '--',\n",
    "    label='chain_price', color=chain_color, alpha=.6)\n",
    "\n",
    "plt.xlabel('Date')\n",
    "plt.ylabel('WETH Price')\n",
    "plt.legend()\n",
    "plt.title('CoW WETH Sell Price vs Univ3 WETH Buy Price')\n",
    "plt.show();"
   ]
  },
  {
   "cell_type": "markdown",
   "metadata": {},
   "source": [
    "### Price Differences Charts"
   ]
  },
  {
   "cell_type": "code",
   "execution_count": null,
   "metadata": {},
   "outputs": [],
   "source": [
    "# get the price price difference percent between cow and univ3 gas adjusted price in buy_buy_WETH_df\n",
    "buy_buy_WETH_df['cow_univ3_gas_adj_price_diff_percent_single'] = (buy_buy_WETH_df['cow_price'] - buy_buy_WETH_df['univ3_gas_single_hop_price']) / buy_buy_WETH_df['cow_price'] * 100\n",
    "buy_buy_WETH_df['cow_univ3_gas_adj_price_diff_percent_median'] = (buy_buy_WETH_df['cow_price'] - buy_buy_WETH_df['univ3_gas_median_price']) / buy_buy_WETH_df['cow_price'] * 100\n",
    "\n",
    "# get the price price difference percent between cow and univ3 gas adjusted price in sell_sell_WETH_df\n",
    "sell_sell_WETH_df['cow_univ3_gas_adj_price_diff_percent_single'] = (sell_sell_WETH_df['cow_price'] - sell_sell_WETH_df['univ3_gas_single_hop_price']) / sell_sell_WETH_df['chain_price'] * 100\n",
    "sell_sell_WETH_df['cow_univ3_gas_adj_price_diff_percent_median'] = (sell_sell_WETH_df['cow_price'] - sell_sell_WETH_df['univ3_gas_median_price']) / sell_sell_WETH_df['chain_price']* 100\n",
    "\n",
    "# calculate mean deviation between cow and chain prices for each row\n",
    "sell_sell_WETH_df['cow_chain_price_diff_percent'] = (sell_sell_WETH_df['chain_price'] - sell_sell_WETH_df['cow_price']) / sell_sell_WETH_df['chain_price'] * 100\n",
    "buy_buy_WETH_df['cow_chain_price_diff_percent'] = (buy_buy_WETH_df['chain_price'] - buy_buy_WETH_df['cow_price']) / buy_buy_WETH_df['chain_price'] * 100\n",
    "\n",
    "# calculate mean deviation between cow and chain prices for each row\n",
    "sell_sell_WETH_df['univ3_chain_price_diff_percent'] = (sell_sell_WETH_df['chain_price'] - sell_sell_WETH_df['univ3_price']) / sell_sell_WETH_df['chain_price'] * 100\n",
    "buy_buy_WETH_df['univ3_chain_price_diff_percent'] = (buy_buy_WETH_df['chain_price'] - buy_buy_WETH_df['univ3_price']) / buy_buy_WETH_df['chain_price'] * 100"
   ]
  },
  {
   "cell_type": "code",
   "execution_count": null,
   "metadata": {},
   "outputs": [],
   "source": [
    "buy_buy_WETH_df['spread'] = np.abs(buy_buy_WETH_df['cow_chain_price_diff_percent'] - buy_buy_WETH_df['univ3_chain_price_diff_percent'])\n",
    "sell_sell_WETH_df['spread'] = np.abs(sell_sell_WETH_df['cow_chain_price_diff_percent'] - sell_sell_WETH_df['univ3_chain_price_diff_percent'])"
   ]
  },
  {
   "cell_type": "code",
   "execution_count": null,
   "metadata": {},
   "outputs": [],
   "source": [
    "# buy deviation quartiles (with sign)\n",
    "print('buy deviation quartiles (with sign)')\n",
    "buy_buy_WETH_df[['chain_price', 'cow_chain_price_diff_percent', 'univ3_chain_price_diff_percent']].quantile([.1, .25, .5, .75, .9], interpolation='nearest')"
   ]
  },
  {
   "cell_type": "code",
   "execution_count": null,
   "metadata": {},
   "outputs": [],
   "source": [
    "# sell deviation quartiles (with sign)\n",
    "print('sell deviation quartiles (with sign)')\n",
    "sell_sell_WETH_df[['chain_price', 'cow_chain_price_diff_percent', 'univ3_chain_price_diff_percent']].quantile([.1, .25, .5, .75, .9], interpolation='nearest')"
   ]
  },
  {
   "cell_type": "code",
   "execution_count": null,
   "metadata": {},
   "outputs": [],
   "source": [
    "# print the mean deviation of cow price from chainlink price with f strings\n",
    "print(f\"Mean deviation of cow sell price from chainlink price (90th percentile): {sell_sell_WETH_df['cow_chain_price_diff_percent'].mean():.2f}%\")\n",
    "print(f\"Mean deviation of cow buy price from chainlink price (90th percentile): {buy_buy_WETH_df['cow_chain_price_diff_percent'].mean():.2f}%\")"
   ]
  },
  {
   "cell_type": "code",
   "execution_count": null,
   "metadata": {},
   "outputs": [],
   "source": [
    "# plot histogram of the price diffs\n",
    "# https://matplotlib.org/stable/gallery/misc/rasterization_demo.html\n",
    "fig3, ax = plt.subplots(figsize=(10, 5))\n",
    "ax.hist(\n",
    "    sell_sell_WETH_df['cow_chain_price_diff_percent'],\n",
    "    bins=250,\n",
    "    label='chain price',\n",
    "    color=chain_color,\n",
    "    alpha=0.75)\n",
    "ax.hist(\n",
    "    sell_sell_WETH_df['cow_univ3_gas_adj_price_diff_percent_single'],\n",
    "    bins=250,\n",
    "    label='univ3 with single hop gas adj',\n",
    "    color=univ3_color,\n",
    "    alpha=0.75)\n",
    "\n",
    "ax.set_xlim(-4, 4)\n",
    "plt.xlabel('CoW Sells Price Difference (in %)')\n",
    "plt.ylabel('Count')\n",
    "plt.legend()\n",
    "plt.show();\n",
    "\n",
    "#save as eps\n",
    "fig3.savefig('../report/diagrams/weth_sell_hist.eps', format='eps', bbox_inches='tight')\n",
    "#fig3.savefig('../report/diagrams/weth_sell_hist.pdf', format='pdf', bbox_inches='tight')"
   ]
  },
  {
   "cell_type": "code",
   "execution_count": null,
   "metadata": {},
   "outputs": [],
   "source": [
    "# plot histogram of the price diffs\n",
    "fig3, ax = plt.subplots(figsize=(10, 5))\n",
    "ax.hist(\n",
    "    buy_buy_WETH_df['cow_chain_price_diff_percent'],\n",
    "    bins=50,\n",
    "    label='chain price',\n",
    "    color=chain_color,\n",
    "    alpha=0.75)\n",
    "ax.hist(\n",
    "    buy_buy_WETH_df['cow_univ3_gas_adj_price_diff_percent_single'],\n",
    "    bins=50,\n",
    "    label='univ3 with single hop gas adj',\n",
    "    color=univ3_color,\n",
    "    alpha=0.75)\n",
    "\n",
    "ax.set_xlim(-4, 4)\n",
    "plt.xlabel('CoW Buys Price Difference (in %)')\n",
    "plt.ylabel('Count')\n",
    "plt.legend()\n",
    "plt.show();\n",
    "\n",
    "#save as eps\n",
    "fig3.savefig('../report/diagrams/weth_buy_hist.eps', format='eps', bbox_inches='tight')\n",
    "#fig3.savefig('../report/diagrams/weth_buy_hist.pdf', format='pdf', bbox_inches='tight')"
   ]
  },
  {
   "cell_type": "markdown",
   "metadata": {},
   "source": [
    "### Simulations"
   ]
  },
  {
   "cell_type": "markdown",
   "metadata": {},
   "source": [
    "#### Preprocessing"
   ]
  },
  {
   "cell_type": "code",
   "execution_count": null,
   "metadata": {},
   "outputs": [],
   "source": [
    "# divide the merged dataframe into smaller dataframes. We used an outerjoin in the data pipeline notebook which introduces null values. Now we drop the null values to recover the pre-outer join dataframes. \n",
    "# Recall the preprocessing step to forwardfill values. This makes the recovered dataframes larger in size.\n",
    "uni_swaps_df = cow_uni_chain_outer_pl[\n",
    "    'trades_timestamp',  \n",
    "    'swaps_tokenIn_id',\n",
    "    'swaps_tokenOut_id',\n",
    "    'swaps_amountIn_converted',\n",
    "    'swaps_amountOut_converted'\n",
    "    ].drop_nulls()\n",
    "\n",
    "chain_df = cow_uni_chain_outer_pl[    \n",
    "    'trades_timestamp', \n",
    "    'prices_assetPair_id', \n",
    "    'prices_price'].drop_nulls()\n",
    "\n",
    "\n",
    "cow_df = cow_uni_chain_outer_pl[\n",
    "    'trades_timestamp',\n",
    "    'swaps_blockNumber',\n",
    "    'trades_txHash',\n",
    "    'trades_feeAmount',\n",
    "    'trades_sellToken_id',\n",
    "    'trades_buyToken_id',\n",
    "    'trades_sellAmount_converted',\n",
    "    'trades_buyAmount_converted',\n",
    "    'name',\n",
    "    'environment'\n",
    "].drop_nulls()"
   ]
  },
  {
   "cell_type": "code",
   "execution_count": null,
   "metadata": {},
   "outputs": [],
   "source": [
    "# print size\n",
    "print(f\"Size of uni_swaps_df: {uni_swaps_df.shape}\")\n",
    "print(f\"Size of chain_df: {chain_df.shape}\")\n",
    "print(f\"Size of cow_df: {cow_df.shape}\")"
   ]
  },
  {
   "cell_type": "code",
   "execution_count": null,
   "metadata": {},
   "outputs": [],
   "source": [
    "# convert to pandas dataframes\n",
    "uni_swaps_df = uni_swaps_df.to_pandas()\n",
    "chain_df = chain_df.to_pandas()\n",
    "cow_df = cow_df.to_pandas()"
   ]
  },
  {
   "cell_type": "code",
   "execution_count": null,
   "metadata": {},
   "outputs": [],
   "source": [
    "# sort all by trades timestamp\n",
    "uni_swaps_df = uni_swaps_df.sort_values(by=['trades_timestamp'])\n",
    "chain_df = chain_df.sort_values(by=['trades_timestamp'])\n",
    "cow_df = cow_df.sort_values(by=['trades_timestamp'])"
   ]
  },
  {
   "cell_type": "code",
   "execution_count": null,
   "metadata": {},
   "outputs": [],
   "source": [
    "# filter based on timestamp\n",
    "uni_swaps_df = uni_swaps_df[uni_swaps_df['trades_timestamp'] >= 1643673600]\n",
    "chain_df = chain_df[chain_df['trades_timestamp'] >= 1643673600]\n",
    "cow_df = cow_df[cow_df['trades_timestamp'] >= 1643673600]"
   ]
  },
  {
   "cell_type": "code",
   "execution_count": null,
   "metadata": {},
   "outputs": [],
   "source": [
    "# Find the first and last value in the timestamp column\n",
    "first_timestamp_uni = uni_swaps_df['trades_timestamp'].min()\n",
    "last_timestamp_uni = uni_swaps_df['trades_timestamp'].max()\n",
    "print(f'uni first timestamp: {first_timestamp_uni} \\nlast timestamp: {last_timestamp_uni}')\n",
    "\n",
    "# Find the first and last value in the timestamp column\n",
    "first_timestamp_chain = chain_df['trades_timestamp'].min()\n",
    "last_timestamp_chain = chain_df['trades_timestamp'].max()\n",
    "print(f'chain first timestamp: {first_timestamp_chain} \\nlast timestamp: {last_timestamp_chain}')"
   ]
  },
  {
   "cell_type": "code",
   "execution_count": null,
   "metadata": {},
   "outputs": [],
   "source": [
    "timestamps = pd.DataFrame({'trades_timestamp': range(first_timestamp_uni, last_timestamp_uni + 1)})"
   ]
  },
  {
   "cell_type": "code",
   "execution_count": null,
   "metadata": {},
   "outputs": [],
   "source": [
    "print(len(timestamps))"
   ]
  },
  {
   "cell_type": "markdown",
   "metadata": {},
   "source": [
    "#### Create Chainlink Oracle"
   ]
  },
  {
   "cell_type": "code",
   "execution_count": null,
   "metadata": {},
   "outputs": [],
   "source": [
    "# left merge chain_df with empty timestamps_df\n",
    "chain_filled_df = pd.merge(timestamps, chain_df, on='trades_timestamp', how='left')\n",
    "# Forward-fill missing values\n",
    "chain_filled_df.fillna(method='ffill', inplace=True)\n",
    "# sort by timestamp\n",
    "chain_filled_df = chain_filled_df.sort_values('trades_timestamp', ascending=True)"
   ]
  },
  {
   "cell_type": "code",
   "execution_count": null,
   "metadata": {},
   "outputs": [],
   "source": [
    "# get first non null price row\n",
    "first_non_null_price_row = chain_filled_df[chain_filled_df['prices_price'].notnull()].iloc[0]"
   ]
  },
  {
   "cell_type": "code",
   "execution_count": null,
   "metadata": {},
   "outputs": [],
   "source": [
    "# get simulation initialization data from the first row of the chain data\n",
    "initialization_df_row = chain_filled_df[chain_filled_df[\"trades_timestamp\"] == first_non_null_price_row['trades_timestamp']]\n",
    "initilization_price = initialization_df_row['prices_price']\n",
    "\n",
    "# initialize 100m USDC supply reserve amount\n",
    "USDC_reserves_USD = 100000000\n",
    "\n",
    "token0_start = int(USDC_reserves_USD/initilization_price)\n",
    "print(f\"Token 0 WETH initial reserves: \\t{token0_start}\")\n",
    "\n",
    "token1_start = USDC_reserves_USD\n",
    "print(f\"Token 1 USDC initial reserves :\\t{token1_start}\")\n",
    "\n",
    "# convert initialization_df['trades_timestamp'][0] to datetime object\n",
    "datetime_object = datetime.fromtimestamp(initialization_df_row['trades_timestamp'].iloc[0]).strftime('%Y-%m-%d')\n",
    "\n",
    "print(f'start date: {datetime_object}, start WETH price: {initilization_price.iloc[0]}')"
   ]
  },
  {
   "cell_type": "code",
   "execution_count": null,
   "metadata": {},
   "outputs": [],
   "source": [
    "# convert into series. This data structure is required for the simulation class input\n",
    "price_s = chain_filled_df.set_index(\"trades_timestamp\")[\"prices_price\"]\n",
    "\n",
    "# drop null values\n",
    "price_s = price_s[price_s.index > first_non_null_price_row['trades_timestamp']]"
   ]
  },
  {
   "cell_type": "code",
   "execution_count": null,
   "metadata": {},
   "outputs": [],
   "source": [
    "# merge duplicated index values in price_s. This is the 'external market oracle' for the CPMM\n",
    "price_s = price_s.groupby(level=0).first()"
   ]
  },
  {
   "cell_type": "markdown",
   "metadata": {},
   "source": [
    "#### Create CoW Oracle"
   ]
  },
  {
   "cell_type": "code",
   "execution_count": null,
   "metadata": {},
   "outputs": [],
   "source": [
    "# drop NaN values in cow_price column from the earlier completed dataset.\n",
    "cow_oracle_df = reindexed_price_df[reindexed_price_df['cow_price'].notnull()]"
   ]
  },
  {
   "cell_type": "code",
   "execution_count": null,
   "metadata": {},
   "outputs": [],
   "source": [
    "# create an oracle dict which serves as a price oracle for OraclePool\n",
    "oracle_dict = [{\"ts\": row[\"timestamp\"], \"p\": row[\"cow_price\"]} for _, row in cow_oracle_df.iterrows()]"
   ]
  },
  {
   "cell_type": "markdown",
   "metadata": {},
   "source": [
    "#### Oracle Price Chart"
   ]
  },
  {
   "cell_type": "code",
   "execution_count": null,
   "metadata": {},
   "outputs": [],
   "source": [
    "# convert oracle_dict to a df\n",
    "oracle_df = pd.DataFrame(oracle_dict)"
   ]
  },
  {
   "cell_type": "code",
   "execution_count": null,
   "metadata": {},
   "outputs": [],
   "source": [
    "# plot oracle_df and price_s on same plot. UNOPTIMIZED chart rendering! Takes a few seconds.\n",
    "fig, ax = plt.subplots(figsize=(15, 5))\n",
    "ax.plot(oracle_df['ts'], oracle_df['p'], label='CowSwap Oracle Price', color='blue')\n",
    "ax.plot(price_s.index, price_s, label='Chainlink Oracle Price', color='red', alpha=0.2, linewidth=4)\n",
    "ax.set_xlabel('Timestamp')\n",
    "ax.set_ylabel('Price')\n",
    "ax.legend()\n",
    "plt.show()"
   ]
  },
  {
   "cell_type": "markdown",
   "metadata": {},
   "source": [
    "#### Simulation Execution & Preprocessing"
   ]
  },
  {
   "cell_type": "code",
   "execution_count": null,
   "metadata": {},
   "outputs": [],
   "source": [
    "# Create feedlot history objects, which store the data of the simulation.\n",
    "feedlot1 = AMMPoolHistory(token0_start, token1_start)\n",
    "feedlot2 = AMMPoolHistory(token0_start, token1_start)\n",
    "feedlot3 = AMMPoolHistory(token0_start, token1_start)"
   ]
  },
  {
   "cell_type": "code",
   "execution_count": null,
   "metadata": {},
   "outputs": [],
   "source": [
    "cow_oracle = cow_oracle_df[[\"timestamp\",\"cow_price\"]]\n",
    "cow_oracle.columns = [\"ts\", \"p\"]"
   ]
  },
  {
   "cell_type": "code",
   "execution_count": null,
   "metadata": {},
   "outputs": [],
   "source": [
    "# Instantiate the CPMM object with the AMMPool object\n",
    "cpmm = CPMM(pool=feedlot1)\n",
    "cpmm_SI_flow = AMMWithBaulking(cpmm, price_s)\n",
    "oracle_pool = OraclePool(feedlot2, (v for _,v in cow_oracle.iterrows()))\n",
    "rebalancing_pool = RebalancingPool(feedlot3, (v for _,v in cow_oracle.iterrows()))"
   ]
  },
  {
   "cell_type": "code",
   "execution_count": null,
   "metadata": {},
   "outputs": [],
   "source": [
    "# Initialize a counter for trades that deplete the reserves\n",
    "depleted_reserve_count = 0\n",
    "# Initialize empty list to store a list of transactions that trigger when reserves are depleted.\n",
    "depleted_reserve_df = []\n",
    "\n",
    "# Iterate through each row in the uni_swaps_df dataframe\n",
    "for index, row in uni_swaps_df.iterrows():\n",
    "    # Check if the trade occurred after the external market price oracle data was last updated\n",
    "    if row['trades_timestamp'] > cpmm_SI_flow.target_prices.index[0]:\n",
    "        # Determine which token is being traded (WETH or USDC) and how much is being traded\n",
    "        # using a switch statement (supported in Python 3.10+)\n",
    "        match row['swaps_tokenIn_id']:\n",
    "            case 'WETH':\n",
    "                token = 0\n",
    "                amt = row['swaps_amountIn_converted']\n",
    "            case 'USDC':\n",
    "                token = 1\n",
    "                amt = row['swaps_amountIn_converted']\n",
    "\n",
    "        # If the reserve is depleted, nullify the trade by setting the amount in and out to 0.\n",
    "        # Otherwise, execute the swap function on the AMM pool and the market order sell function\n",
    "        # on the oracle pool\n",
    "        amta, amtb = cpmm_SI_flow.maybe_market_order_sell(amt, token, row['trades_timestamp'])\n",
    "        amt0, amt1 = oracle_pool.market_order_sell(amt, token, row['trades_timestamp'])\n",
    "\n",
    "        # Count transactions that deplete the reserves and store them in a separate dataframe\n",
    "        if amt0 == 0:\n",
    "            # print(f\"Reserves depleted at time {row['trades_timestamp']}.\")\n",
    "            # print(f\"Pool reserves: ({feedlot1.reserves[0], feedlot1.reserves[1]})\")\n",
    "            depleted_reserve_count += 1\n",
    "            depleted_reserve_df.append(row)\n",
    "        # print(f\"Traded {amt0} for {amt1}\\tat time {row['trades_timestamp']}.\")\n",
    "        # print(f\"Pool reserves: ({feedlot1.reserves[0], feedlot1.reserves[1]})\")\n"
   ]
  },
  {
   "cell_type": "code",
   "execution_count": null,
   "metadata": {},
   "outputs": [],
   "source": [
    "print(f'depleted_reserve_count: {depleted_reserve_count}, total swaps going through sim: {uni_swaps_df.shape}')"
   ]
  },
  {
   "cell_type": "code",
   "execution_count": null,
   "metadata": {},
   "outputs": [],
   "source": [
    "def rolling_volatility(x: pd.Series, period='1D', window_size=30) -> pd.Series:\n",
    "    x = x.resample(period).last()\n",
    "    return (x.diff() / x).rolling(window_size, min_periods=1).std()\n",
    "\n",
    "def preprocess_history(pool: AMMPoolHistory) -> pd.DataFrame:\n",
    "    \"\"\"\n",
    "    Use this function to prepare the simulation data for plotting. Computes values in USD\n",
    "    \"\"\"\n",
    "    df = pd.merge(pd.DataFrame(pool.history[1:]), chain_df[[\"trades_timestamp\", \"prices_price\"]], left_on='ts', right_on='trades_timestamp', how='left')\n",
    "    df[\"prices_price\"] = df[\"prices_price\"].ffill()\n",
    "    df[\"reserve0_usd\"] = df[\"reserve0\"] * df[\"prices_price\"]\n",
    "    df[\"tvl\"] = df[\"reserve0_usd\"] + df[\"reserve1\"]\n",
    "#    df[\"tvl_volatility\"] = (df[\"tvl\"].diff() / df[\"tvl\"]).cumsum() # not volatility!\n",
    "    df[\"reserve_ratio\"] = df[\"reserve0_usd\"] / df[\"reserve1\"]  # USDC / WETH\n",
    "    df[\"reserve_cash\"] = df[\"reserve1\"] / df[\"tvl\"]  # USDC / WETH\n",
    "    df = df.set_index(pd.to_datetime(df['ts'], unit='s'), drop=True)\n",
    "    df = df[~df.index.duplicated(keep=\"last\")]\n",
    "    return df"
   ]
  },
  {
   "cell_type": "code",
   "execution_count": null,
   "metadata": {},
   "outputs": [],
   "source": [
    "cpmm_amm_baulking_df = preprocess_history(feedlot1)\n",
    "oracle_pool_df = preprocess_history(feedlot2)\n",
    "rebalancing_pool_df = preprocess_history(feedlot3)\n",
    "\n",
    "cpmm_amm_baulking_vol_s = rolling_volatility(cpmm_amm_baulking_df[\"tvl\"])\n",
    "oracle_pool_vol_s = rolling_volatility(oracle_pool_df[\"tvl\"])\n",
    "rebalancing_pool_vol_s = rolling_volatility(rebalancing_pool_df[\"tvl\"])\n",
    "price_vol_s = rolling_volatility(oracle_pool_df[\"prices_price\"])"
   ]
  },
  {
   "cell_type": "code",
   "execution_count": null,
   "metadata": {},
   "outputs": [],
   "source": [
    "# count the number of swaps in results1 and results 2\n",
    "print(f\"Number of swaps in the order flow historical data: {uni_swaps_df.shape}\")\n",
    "print(f\"Number of swaps accepted in CPMM: {cpmm_amm_baulking_df.shape}\")\n",
    "print(f\"Number of swaps accepted in OraclePool: {oracle_pool_df.shape}\")\n",
    "print(f\"Number of rebalances: {rebalancing_pool_df.shape}\")"
   ]
  },
  {
   "cell_type": "markdown",
   "metadata": {},
   "source": [
    "#### Simulation Charts"
   ]
  },
  {
   "cell_type": "code",
   "execution_count": null,
   "metadata": {},
   "outputs": [],
   "source": [
    "# plot subplots of merged dfs tvl\n",
    "fig4, (ax0, ax1, ax2) = plt.subplots(3, 1, figsize=(10, 10), sharex=True)\n",
    "ax0.plot(cpmm_amm_baulking_df.index, cpmm_amm_baulking_df['tvl'] / 1000000, drawstyle='steps', color='blue',   label='CPMM (with Baulking)')\n",
    "ax0.plot(oracle_pool_df.index,       oracle_pool_df['tvl']       / 1000000, drawstyle='steps', color='orange', label='OraclePool')\n",
    "ax0.plot(rebalancing_pool_df.index,  rebalancing_pool_df['tvl']  / 1000000, drawstyle='steps', color='grey',   label='Rebalancing', linewidth=0.4)\n",
    "ax0.set_title('TVL')\n",
    "ax0.set_ylabel(\"(millions of USDC)\")\n",
    "ax0.legend()\n",
    "\n",
    "ax1.plot(cpmm_amm_baulking_vol_s.index, cpmm_amm_baulking_vol_s, color='blue', label='CPMM (with Baulking)')\n",
    "ax1.plot(oracle_pool_vol_s.index, oracle_pool_vol_s, color='orange', label='OraclePool')\n",
    "ax1.plot(rebalancing_pool_vol_s.index, rebalancing_pool_vol_s, color='grey', label='Rebalancing', linewidth=0.4)\n",
    "ax1.plot(price_vol_s.index, price_vol_s, color='purple', label='WETH/USDC', linewidth=0.4)\n",
    "ax1.set_title('Daily volatility')\n",
    "ax1.legend()\n",
    "\n",
    "ax2.plot(cpmm_amm_baulking_df.index, cpmm_amm_baulking_df['reserve_cash'], color='blue', label='CPMM (with Baulking)')\n",
    "ax2.plot(oracle_pool_df.index, oracle_pool_df['reserve_cash'], color='orange', label='OraclePool')\n",
    "ax2.plot(rebalancing_pool_df.index, rebalancing_pool_df['reserve_cash'], color='grey', label='Rebalancing', linewidth=0.4)\n",
    "ax2.set_title('Cash (USDC) balance as percentage of TVL')\n",
    "ax2.yaxis.set_major_formatter(mpl.ticker.PercentFormatter(xmax=1))\n",
    "ax2.legend()\n",
    "plt.show();\n",
    "\n",
    "# save charts\n",
    "#save as eps\n",
    "fig4.savefig('../report/diagrams/pool_metrics.eps', format='eps', bbox_inches='tight')\n",
    "fig4.savefig('../report/diagrams/pool_metrics.pdf', format='pdf', bbox_inches='tight')"
   ]
  },
  {
   "cell_type": "code",
   "execution_count": null,
   "metadata": {},
   "outputs": [],
   "source": [
    "#calculate reserve0 delta\n",
    "cpmm_amm_baulking_df['reserve0_delta'] = cpmm_amm_baulking_df['reserve0'].diff()"
   ]
  },
  {
   "cell_type": "code",
   "execution_count": null,
   "metadata": {},
   "outputs": [],
   "source": [
    "# plot reserve0 delta\n",
    "cpmm_amm_baulking_df['reserve0_delta'].plot()"
   ]
  },
  {
   "cell_type": "code",
   "execution_count": null,
   "metadata": {},
   "outputs": [],
   "source": [
    "# get largest uni_swaps_df buy orders where swaps_tokenIn_id is WETH\n",
    "uni_swaps_df[uni_swaps_df['swaps_tokenIn_id'] == 'WETH'].nlargest(10, 'swaps_amountIn_converted')"
   ]
  },
  {
   "cell_type": "code",
   "execution_count": null,
   "metadata": {},
   "outputs": [],
   "source": [
    "cpmm_delta = (cpmm_amm_baulking_df[\"tvl\"].shift(1) - cpmm_amm_baulking_df[\"tvl\"]).rolling(10).mean()\n",
    "oraclepool_delta = (oracle_pool_df[\"tvl\"].shift(1) - oracle_pool_df[\"tvl\"]).rolling(10).mean()"
   ]
  },
  {
   "cell_type": "code",
   "execution_count": null,
   "metadata": {},
   "outputs": [],
   "source": [
    "fig, ax = plt.subplots()\n",
    "ax.step(cpmm_delta.index, cpmm_delta)\n",
    "ax.step(oraclepool_delta.index, oraclepool_delta)"
   ]
  },
  {
   "cell_type": "code",
   "execution_count": null,
   "metadata": {},
   "outputs": [],
   "source": [
    "print(f\"Correlation: {oraclepool_delta.corr(cpmm_delta)}\")\n",
    "beta = oraclepool_delta/cpmm_delta\n",
    "beta.rolling(10).mean().plot()"
   ]
  },
  {
   "cell_type": "code",
   "execution_count": null,
   "metadata": {},
   "outputs": [],
   "source": [
    "def reserve_balance(df) -> pd.Series:\n",
    "    return df[\"reserve0\"] * df[\"prices_price\"] / df[\"reserve1\"]"
   ]
  },
  {
   "cell_type": "code",
   "execution_count": null,
   "metadata": {},
   "outputs": [],
   "source": [
    "fig, ax = plt.subplots()\n",
    "oraclepool_balance = reserve_balance(oracle_pool_df).rolling(10).mean()\n",
    "ax.plot(oraclepool_balance.index, oraclepool_balance)\n",
    "axr = ax.twinx()\n",
    "axr.plot(oracle_pool_df[\"prices_price\"], color=\"purple\")"
   ]
  }
 ],
 "metadata": {
  "kernelspec": {
   "display_name": "Python 3 (ipykernel)",
   "language": "python",
   "name": "python3"
  },
  "language_info": {
   "codemirror_mode": {
    "name": "ipython",
    "version": 3
   },
   "file_extension": ".py",
   "mimetype": "text/x-python",
   "name": "python",
   "nbconvert_exporter": "python",
   "pygments_lexer": "ipython3",
   "version": "3.10.7"
  }
 },
 "nbformat": 4,
 "nbformat_minor": 2
}
