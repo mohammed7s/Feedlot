{
 "cells": [
  {
   "cell_type": "markdown",
   "id": "05b4d798",
   "metadata": {},
   "source": [
    "# Zero Arb Study - Binance "
   ]
  },
  {
   "cell_type": "markdown",
   "id": "6dd58f19",
   "metadata": {},
   "source": [
    "### 1. Load Data & Clean "
   ]
  },
  {
   "cell_type": "code",
   "execution_count": 66,
   "id": "7368f478",
   "metadata": {
    "scrolled": true
   },
   "outputs": [],
   "source": [
    "import pandas as pd \n",
    "df = pd.read_csv('../feedlot/data/cow_swaps.csv', dtype={'timestamo': 'int', 'buyTokenSymbol': 'str', 'sellTokenSymbol':'str'})"
   ]
  },
  {
   "cell_type": "markdown",
   "id": "0954de31",
   "metadata": {},
   "source": [
    "### 2. Get list of Binance pairs "
   ]
  },
  {
   "cell_type": "code",
   "execution_count": 67,
   "id": "ba744bfc",
   "metadata": {},
   "outputs": [
    {
     "name": "stdout",
     "output_type": "stream",
     "text": [
      "0     ETHBTC\n",
      "1     LTCBTC\n",
      "2     BNBBTC\n",
      "3     NEOBTC\n",
      "4    QTUMETH\n",
      "Name: symbol, dtype: object\n"
     ]
    }
   ],
   "source": [
    "import requests \n",
    "\n",
    "host = \"https://data.binance.com\"\n",
    "prefix = \"/api/v3/ticker/price\"\n",
    "r = requests.get(host+prefix)\n",
    "data = r.json()\n",
    "df_pairs = pd.DataFrame(data).loc[:,'symbol']\n",
    "\n",
    "print(df_pairs.head(5))"
   ]
  },
  {
   "cell_type": "markdown",
   "id": "8d398913",
   "metadata": {},
   "source": [
    "### 3. Binance query functions "
   ]
  },
  {
   "cell_type": "markdown",
   "id": "696d76c8",
   "metadata": {},
   "source": [
    "Note: \n",
    "timestamp in COW subgraph is 10 digits (seconds) \n",
    "timetamp in binance is 13 digits (milliseconds) "
   ]
  },
  {
   "cell_type": "code",
   "execution_count": 68,
   "id": "db02c03e",
   "metadata": {},
   "outputs": [],
   "source": [
    "def api_binance(symbol: str, timestamp: int):\n",
    "\n",
    "    \"\"\"Queries the binance api to retrieve the price of symbol at a timestamp.\n",
    "    Timestamp has to be within 1000seconds window ~ 16.66 mins\"\"\"\n",
    "\n",
    "    host = \"https://data.binance.com\"\n",
    "    prefix = \"/api/v3/klines\"\n",
    "    headers = {'Accept': 'application/json', 'Content-Type': 'application/json'}\n",
    "    payload = {'symbol':f'{symbol}','interval':'1s', 'limit':'1000'}\n",
    "    r = requests.get(host+prefix,  params=payload, headers=headers)\n",
    "    data = r.json()\n",
    "    df = pd.DataFrame(data).filter(items=[0,4],axis=1)\n",
    "    df.columns = ['timestamp', 'price']\n",
    "    price = float(df.loc[df['timestamp'] == timestamp*1000, 'price'].iloc[0])\n",
    "    print(price)\n",
    "    return price \n",
    "\n",
    "\n",
    "\n",
    "def pair_price_binance(sellTokenSymbol: str, buyTokenSymbol: str, timestamp: int):\n",
    "\n",
    "\t\"\"\"function to be used on the cow trades dataframe. Takes values from sellTokenSymbol \n",
    "\tand buyTokenSymbol and timestamp to check the binance price for that trade. \n",
    "\n",
    "\tDefines market_price as the price of sell token / price of buy token  \n",
    "\tGets price of sell token and price of buy token from binance seperately\n",
    "\n",
    "\tChecks if token is USDT or a token that exists in Binance. Otherwise returns False \n",
    "\tand not able to retrieve a price for that trade\"\"\"\n",
    "\n",
    "\tsell_pair = f'{sellTokenSymbol}USDT'\n",
    "\tbuy_pair = f'{buyTokenSymbol}USDT'\n",
    "\n",
    "\t# retrieve sell token price  \n",
    "\n",
    "\tif sell_pair == 'USDTUSDT':\n",
    "\t\tsell_token_price = 1 \n",
    "        \n",
    "\telif sell_pair == 'USDCUSDT':\n",
    "\t\treturn False \n",
    "    \n",
    "\telif sell_pair == 'WETHUSDT':\n",
    "\t\tsell_token_price = query_binance('ETHUSDT', timestamp)\n",
    "        \n",
    "\telif sell_pair == 'WBTCUSDT':\n",
    "\t\tsell_token_price = query_binance('BTCUSDT', timestamp)\n",
    "        \n",
    "\telif sell_pair in df_pairs:\n",
    "\t\tsell_token_price = query_binance(sell_pair, timestamp)\n",
    "        \n",
    "\telse: \n",
    "\t\treturn False \n",
    "\n",
    "\t# retrieve buy token price \n",
    "    \n",
    "\tif buy_pair =='USDTUSDT':\n",
    "\t\tbuy_token_price = 1 \n",
    "        \n",
    "\telif buy_pair == 'USDCUSDT':\n",
    "\t\treturn False\n",
    "    \n",
    "\telif buy_pair == 'WETHUSDT':\n",
    "\t\tbuy_token_price = query_binance('ETHUSDT', timestamp)\n",
    "        \n",
    "\telif buy_pair == 'WBTCUSDT':\n",
    "\t\tbuy_token_price = query_binance('BTCUSDT', timestamp)\n",
    "        \n",
    "\telif buy_pair in df_pairs:\n",
    "\t\tbuy_token_price = query_binance(buy_pair, timestamp)\n",
    "        \n",
    "\telse:\n",
    "\t\treturn False\n",
    "\n",
    "\t# calculate trade pair price \n",
    "\tmarket_price = sell_token_price / buy_token_price \n",
    "\tprint(f'{sellTokenSymbol}/{buyTokenSymbol} binance price:', market_price)\n",
    "\treturn market_price"
   ]
  },
  {
   "cell_type": "markdown",
   "id": "8437b9e4",
   "metadata": {},
   "source": [
    "### 4. Analysis: retrieve binance price for each trade and compare to COW price "
   ]
  },
  {
   "cell_type": "code",
   "execution_count": 69,
   "id": "9c42486e",
   "metadata": {
    "scrolled": true
   },
   "outputs": [
    {
     "name": "stdout",
     "output_type": "stream",
     "text": [
      "complete\n"
     ]
    }
   ],
   "source": [
    "import time \n",
    "\n",
    "def percentage_diff(col1, col2):\n",
    "    \"\"\"\n",
    "    A function that calculates the percentage difference between two columns.\n",
    "    \"\"\"\n",
    "    return ((col2.sub(col1)).div(col1)).mul(100)\n",
    "\n",
    "# Initialize a new column in the dataframe with value 0.\n",
    "df['binancePrice'] = 0\n",
    "\n",
    "# Loop through each row of the dataframe.\n",
    "for i, row in df.iterrows():\n",
    "    # Retrieve the timestamp, sell token symbol, and buy token symbol from the row.\n",
    "    timestamp = row[0]\n",
    "    sell_token_symbol = row[16]\n",
    "    buy_token_symbol = row[18]\n",
    "    timestamp_now = int(time.time())\n",
    "    # Check first if timestamp is within 1000s of now to avoid panick. If it is old, then return 'old timestamp' \n",
    "    if abs(timestamp - timestamp_now) < 1000: \n",
    "        # Use the pair_price_binance function to calculate the binance price and store it in the dataframe.\n",
    "        df.iloc[i, 20] = pair_price_binance(sell_token_symbol, buy_token_symbol, timestamp)\n",
    "    else:\n",
    "        df.iloc[i, 20] = False  \n",
    "    \n",
    "# Create a new column in the dataframe that stores the sell amount for the trade using binance price \n",
    "df['sellAmountBinance'] = df['buyAmount'] * df['binancePrice']\n",
    "\n",
    "# Create a new column in the dataframe that stores the percentage difference between the sell amount and the sell amount on Binance.\n",
    "df['percentage_diff'] = percentage_diff(df['sellAmount'], df['sellAmountBinance'])\n",
    "\n",
    "print('complete')\n",
    "\n",
    "# Save the modified dataframe to a new csv file.\n",
    "df.to_csv('binance_example_result.csv', index=False)\n"
   ]
  },
  {
   "cell_type": "code",
   "execution_count": null,
   "id": "f4d23ebf",
   "metadata": {},
   "outputs": [],
   "source": []
  }
 ],
 "metadata": {
  "kernelspec": {
   "display_name": "Python 3 (ipykernel)",
   "language": "python",
   "name": "python3"
  },
  "language_info": {
   "codemirror_mode": {
    "name": "ipython",
    "version": 3
   },
   "file_extension": ".py",
   "mimetype": "text/x-python",
   "name": "python",
   "nbconvert_exporter": "python",
   "pygments_lexer": "ipython3",
   "version": "3.10.6"
  }
 },
 "nbformat": 4,
 "nbformat_minor": 5
}
